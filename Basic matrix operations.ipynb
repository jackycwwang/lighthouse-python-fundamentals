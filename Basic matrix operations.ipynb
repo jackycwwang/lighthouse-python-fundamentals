{
 "cells": [
  {
   "cell_type": "markdown",
   "id": "1d76a2a9-7ed8-41e7-90f1-5be0b05a0bef",
   "metadata": {},
   "source": [
    "# Basic matrix operations with Numpy"
   ]
  },
  {
   "cell_type": "markdown",
   "id": "426c3244-53bf-4d2e-afff-c4cbd18eb845",
   "metadata": {},
   "source": [
    "## Creating Vectors and Matrices with Numpy"
   ]
  },
  {
   "cell_type": "code",
   "execution_count": 2,
   "id": "3d09958e-98d8-420a-b7f1-986befc895fa",
   "metadata": {},
   "outputs": [],
   "source": [
    "import numpy as np"
   ]
  },
  {
   "cell_type": "code",
   "execution_count": 23,
   "id": "c8defb60-14cd-4663-a260-7d1a04e9604a",
   "metadata": {},
   "outputs": [],
   "source": [
    "# 1-dimensional array\n",
    "x = np.array([1, 2, 3, 4])"
   ]
  },
  {
   "cell_type": "code",
   "execution_count": 8,
   "id": "c56ce733-63c0-4a89-bd52-bb6d859fc3fd",
   "metadata": {},
   "outputs": [
    {
     "data": {
      "text/plain": [
       "1"
      ]
     },
     "execution_count": 8,
     "metadata": {},
     "output_type": "execute_result"
    }
   ],
   "source": [
    "# shows number of dimensions\n",
    "x.ndim"
   ]
  },
  {
   "cell_type": "code",
   "execution_count": 9,
   "id": "de7d22d2-6bed-4c87-a717-75b729db2540",
   "metadata": {},
   "outputs": [
    {
     "data": {
      "text/plain": [
       "array([[1, 2],\n",
       "       [3, 4],\n",
       "       [5, 6]])"
      ]
     },
     "execution_count": 9,
     "metadata": {},
     "output_type": "execute_result"
    }
   ],
   "source": [
    "# 2-dimensional array\n",
    "A = np.array([[1,2], [3,4],[5,6]])\n",
    "A"
   ]
  },
  {
   "cell_type": "code",
   "execution_count": 4,
   "id": "580590e7-adc5-4662-8bb2-2026f8e19652",
   "metadata": {},
   "outputs": [
    {
     "data": {
      "text/plain": [
       "numpy.ndarray"
      ]
     },
     "execution_count": 4,
     "metadata": {},
     "output_type": "execute_result"
    }
   ],
   "source": [
    "type(A)"
   ]
  },
  {
   "cell_type": "code",
   "execution_count": 10,
   "id": "26cd68ac-439b-468b-9202-152605e8bbdd",
   "metadata": {},
   "outputs": [
    {
     "data": {
      "text/plain": [
       "2"
      ]
     },
     "execution_count": 10,
     "metadata": {},
     "output_type": "execute_result"
    }
   ],
   "source": [
    "A.ndim"
   ]
  },
  {
   "cell_type": "markdown",
   "id": "46dfaab0-146a-4a91-b057-2e898c6c7d3b",
   "metadata": {},
   "source": [
    "*ndarray* means n-dimensional array."
   ]
  },
  {
   "cell_type": "markdown",
   "id": "23ce3acb-4f07-4c66-b2b7-a1161d15cf5b",
   "metadata": {},
   "source": [
    "## Shape\n",
    "The shape of an array tells us the number of values for each dimension. For a 2-dimensional array, it will give us the number of rows and the number of columns."
   ]
  },
  {
   "cell_type": "code",
   "execution_count": 5,
   "id": "051a277a-f01f-4871-93a7-fb6f1a16b5a1",
   "metadata": {},
   "outputs": [
    {
     "data": {
      "text/plain": [
       "(3, 2)"
      ]
     },
     "execution_count": 5,
     "metadata": {},
     "output_type": "execute_result"
    }
   ],
   "source": [
    "# 2 dimensions (shown as 2-tuple), each shows the number of values for each dimension\n",
    "A.shape"
   ]
  },
  {
   "cell_type": "code",
   "execution_count": 6,
   "id": "5dd53ed2-a99a-427f-912d-31fd3db18753",
   "metadata": {},
   "outputs": [
    {
     "data": {
      "text/plain": [
       "(4,)"
      ]
     },
     "execution_count": 6,
     "metadata": {},
     "output_type": "execute_result"
    }
   ],
   "source": [
    "x.shape"
   ]
  },
  {
   "cell_type": "markdown",
   "id": "44fd3163-db90-4eb4-a29e-7ac80997de82",
   "metadata": {},
   "source": [
    "## Transposition of a Matrix"
   ]
  },
  {
   "cell_type": "code",
   "execution_count": 8,
   "id": "9ca88c09-70b1-49ae-96a9-b584d1bd1b4b",
   "metadata": {},
   "outputs": [
    {
     "data": {
      "text/plain": [
       "array([[1, 3, 5],\n",
       "       [2, 4, 6]])"
      ]
     },
     "execution_count": 8,
     "metadata": {},
     "output_type": "execute_result"
    }
   ],
   "source": [
    "A_T = A.T\n",
    "A_T"
   ]
  },
  {
   "cell_type": "code",
   "execution_count": 9,
   "id": "ef5b8114-63cb-42fd-baea-3663dbdded8e",
   "metadata": {},
   "outputs": [
    {
     "data": {
      "text/plain": [
       "array([[1, 3, 5],\n",
       "       [2, 4, 6]])"
      ]
     },
     "execution_count": 9,
     "metadata": {},
     "output_type": "execute_result"
    }
   ],
   "source": [
    "# or\n",
    "A_T = A.transpose()\n",
    "A_T"
   ]
  },
  {
   "cell_type": "code",
   "execution_count": 10,
   "id": "f19adf74-4ace-4bf7-a01b-9e110da6e39d",
   "metadata": {},
   "outputs": [
    {
     "data": {
      "text/plain": [
       "(2, 3)"
      ]
     },
     "execution_count": 10,
     "metadata": {},
     "output_type": "execute_result"
    }
   ],
   "source": [
    "A_T.shape"
   ]
  },
  {
   "cell_type": "markdown",
   "id": "31153ef8-9d7f-4a5c-b993-660420f34d53",
   "metadata": {},
   "source": [
    "## Matrix Addition"
   ]
  },
  {
   "cell_type": "code",
   "execution_count": 11,
   "id": "bfab75ee-2f44-421a-91ae-7150bb12bff0",
   "metadata": {},
   "outputs": [
    {
     "data": {
      "text/plain": [
       "array([[2, 5],\n",
       "       [7, 4],\n",
       "       [4, 3]])"
      ]
     },
     "execution_count": 11,
     "metadata": {},
     "output_type": "execute_result"
    }
   ],
   "source": [
    "B = np.array([[2, 5], [7, 4], [4, 3]])\n",
    "B"
   ]
  },
  {
   "cell_type": "code",
   "execution_count": 12,
   "id": "a3f19934-ebe9-4a3b-91c6-56a2b20d9c09",
   "metadata": {},
   "outputs": [
    {
     "data": {
      "text/plain": [
       "array([[ 3,  7],\n",
       "       [10,  8],\n",
       "       [ 9,  9]])"
      ]
     },
     "execution_count": 12,
     "metadata": {},
     "output_type": "execute_result"
    }
   ],
   "source": [
    "C = A + B\n",
    "C"
   ]
  },
  {
   "cell_type": "code",
   "execution_count": 14,
   "id": "1d2b4fa6-5aa5-4cfa-9af3-fef8d361c970",
   "metadata": {},
   "outputs": [
    {
     "data": {
      "text/plain": [
       "array([[2, 3],\n",
       "       [4, 5],\n",
       "       [6, 7]])"
      ]
     },
     "execution_count": 14,
     "metadata": {},
     "output_type": "execute_result"
    }
   ],
   "source": [
    "D = A + 1\n",
    "D"
   ]
  },
  {
   "cell_type": "markdown",
   "id": "f8df4193-f826-486a-a55e-0c648579007b",
   "metadata": {},
   "source": [
    "Numpy can handle operations on arrays of different shapes. A smaller array will be extended to match the shape of a bigger one. This is called broadcasting. The advantage is that it is done under the hood – in C (like any other vectorized operation in Numpy). Actually, we've already used broadcasting in the example above. The scalar was converted to an array of the same shape as the matrix A."
   ]
  },
  {
   "attachments": {
    "7de376ee-9f3a-4152-9f33-40296b98f55e.png": {
     "image/png": "[encoded data removed]"
    }
   },
   "cell_type": "markdown",
   "id": "839c1121-f0c7-4f9f-b2de-7b28234a8185",
   "metadata": {},
   "source": [
    "![image.png](attachment:7de376ee-9f3a-4152-9f33-40296b98f55e.png)"
   ]
  },
  {
   "cell_type": "markdown",
   "id": "6edaf1af-0c1d-4807-85ca-1226893cd9ec",
   "metadata": {},
   "source": [
    "### np.reshape():\n",
    "The new shape should be compatible with the original shape. If an integer, then the result will be a 1-D array of that length. One shape dimension can be -1. In this case, the value is inferred from the length of the array and remaining dimensions."
   ]
  },
  {
   "cell_type": "code",
   "execution_count": 17,
   "id": "37f4cb3a-07fe-4a8e-9b3a-f2dbe33ee89d",
   "metadata": {},
   "outputs": [],
   "source": [
    "E = np.array([1,1,1,1])\n",
    "F = np.array([2,2,2,2])"
   ]
  },
  {
   "cell_type": "code",
   "execution_count": 47,
   "id": "ea2cd41a-86c9-4dea-b3a0-dff9011082ec",
   "metadata": {},
   "outputs": [
    {
     "data": {
      "text/plain": [
       "array([[2],\n",
       "       [2],\n",
       "       [2],\n",
       "       [2]])"
      ]
     },
     "execution_count": 47,
     "metadata": {},
     "output_type": "execute_result"
    }
   ],
   "source": [
    "# use F.reshape(4,1) or F.reshape(-1,1), \n",
    "# the -1 means \"this dimension is unspecified and inferred by other dimensions\"\n",
    "F_T = F.reshape(-1,1)\n",
    "F_T"
   ]
  },
  {
   "cell_type": "code",
   "execution_count": 16,
   "id": "7e75a278-290c-4833-89c4-e4a2f37de239",
   "metadata": {},
   "outputs": [
    {
     "data": {
      "text/plain": [
       "array([[2, 5, 1, 2],\n",
       "       [7, 4, 1, 2],\n",
       "       [4, 3, 1, 2],\n",
       "       [5, 6, 1, 2],\n",
       "       [7, 8, 1, 2]])"
      ]
     },
     "execution_count": 16,
     "metadata": {},
     "output_type": "execute_result"
    }
   ],
   "source": [
    "# Example using .reshape()\n",
    "G = np.array([[2, 5, 1, 2], [7, 4, 1, 2], [4, 3, 1, 2], [5, 6, 1, 2], [7, 8, 1, 2]])\n",
    "G"
   ]
  },
  {
   "cell_type": "code",
   "execution_count": 43,
   "id": "e79531c8-3933-4f7a-ad35-2ac94e3640db",
   "metadata": {},
   "outputs": [
    {
     "data": {
      "text/plain": [
       "(5, 4)"
      ]
     },
     "execution_count": 43,
     "metadata": {},
     "output_type": "execute_result"
    }
   ],
   "source": [
    "G.shape"
   ]
  },
  {
   "cell_type": "code",
   "execution_count": 49,
   "id": "7f65a107-ec98-4191-b596-9007212a483c",
   "metadata": {},
   "outputs": [
    {
     "data": {
      "text/plain": [
       "array([[2, 5],\n",
       "       [1, 2],\n",
       "       [7, 4],\n",
       "       [1, 2],\n",
       "       [4, 3],\n",
       "       [1, 2],\n",
       "       [5, 6],\n",
       "       [1, 2],\n",
       "       [7, 8],\n",
       "       [1, 2]])"
      ]
     },
     "execution_count": 49,
     "metadata": {},
     "output_type": "execute_result"
    }
   ],
   "source": [
    "# in this case, -1 will be inferred by 10 since G's shape is (5,4) and there are 5*4=20 components\n",
    "G.reshape(-1, 2)"
   ]
  },
  {
   "cell_type": "code",
   "execution_count": 33,
   "id": "dff64e10-17ae-4e02-b707-d63f53dfffad",
   "metadata": {},
   "outputs": [
    {
     "data": {
      "text/plain": [
       "array([[2],\n",
       "       [2],\n",
       "       [2],\n",
       "       [2]])"
      ]
     },
     "execution_count": 33,
     "metadata": {},
     "output_type": "execute_result"
    }
   ],
   "source": [
    "F_T"
   ]
  },
  {
   "cell_type": "code",
   "execution_count": 30,
   "id": "d5323182-e7e9-4dbc-9db6-1dc1600c9797",
   "metadata": {},
   "outputs": [
    {
     "data": {
      "text/plain": [
       "array([[3, 3, 3, 3],\n",
       "       [3, 3, 3, 3],\n",
       "       [3, 3, 3, 3],\n",
       "       [3, 3, 3, 3]])"
      ]
     },
     "execution_count": 30,
     "metadata": {},
     "output_type": "execute_result"
    }
   ],
   "source": [
    "E + F_T"
   ]
  },
  {
   "cell_type": "markdown",
   "id": "a2741e05-879f-4003-a22c-b34d9bd44379",
   "metadata": {},
   "source": [
    "## Matrix Multiplication\n",
    "A matrix product is also called a dot product."
   ]
  },
  {
   "cell_type": "code",
   "execution_count": 50,
   "id": "7b41d3ee-6483-4082-a15c-aee07c7d4558",
   "metadata": {},
   "outputs": [],
   "source": [
    "A = np.array([[1, 2], [3, 4], [5, 6]])\n",
    "B = np.array([[2], [4]])"
   ]
  },
  {
   "cell_type": "code",
   "execution_count": 51,
   "id": "3ae6cdc0-c620-4d77-956b-5e501a7fe843",
   "metadata": {},
   "outputs": [
    {
     "data": {
      "text/plain": [
       "array([[10],\n",
       "       [22],\n",
       "       [34]])"
      ]
     },
     "execution_count": 51,
     "metadata": {},
     "output_type": "execute_result"
    }
   ],
   "source": [
    "C = np.dot(A, B) \n",
    "C"
   ]
  },
  {
   "cell_type": "markdown",
   "id": "446c153f-5996-43f5-9da0-f08db742eb59",
   "metadata": {},
   "source": [
    "## Identity Matrices\n",
    "An identity matrix **In** is a special square (nxn) matrix which has 1s on the main diagonal and 0s everywhere else."
   ]
  },
  {
   "cell_type": "code",
   "execution_count": 53,
   "id": "c355e55c-df99-4113-b3cb-fcba470c5f83",
   "metadata": {},
   "outputs": [
    {
     "data": {
      "text/plain": [
       "array([[1., 0., 0.],\n",
       "       [0., 1., 0.],\n",
       "       [0., 0., 1.]])"
      ]
     },
     "execution_count": 53,
     "metadata": {},
     "output_type": "execute_result"
    }
   ],
   "source": [
    "I = np.eye(3) \n",
    "I"
   ]
  },
  {
   "cell_type": "markdown",
   "id": "6849014b-e6a1-450f-b22e-7145f7d0aa52",
   "metadata": {},
   "source": [
    "## Determinant\n",
    "To compute a **determinant** of a matrix using `Numpy`, we have to use the **linalg module**. The **numpy.linalg** module specializes in linear algebra with matrices and vectors."
   ]
  },
  {
   "cell_type": "code",
   "execution_count": 54,
   "id": "3ebd0ffa-0ee7-41e3-a636-b1d6015efdcb",
   "metadata": {},
   "outputs": [
    {
     "data": {
      "text/plain": [
       "array([[1, 2],\n",
       "       [3, 4]])"
      ]
     },
     "execution_count": 54,
     "metadata": {},
     "output_type": "execute_result"
    }
   ],
   "source": [
    "M = np.array([[1,2],[3,4]])\n",
    "M"
   ]
  },
  {
   "cell_type": "code",
   "execution_count": 55,
   "id": "adea9a78-e62e-497b-bb6a-d6f362dd8477",
   "metadata": {},
   "outputs": [
    {
     "data": {
      "text/plain": [
       "-2.0000000000000004"
      ]
     },
     "execution_count": 55,
     "metadata": {},
     "output_type": "execute_result"
    }
   ],
   "source": [
    "det_M = np.linalg.det(M) \n",
    "det_M"
   ]
  },
  {
   "attachments": {
    "89bf7ba7-203d-4891-a38b-92b640c3a46f.png": {
     "image/png": "[encoded data removed]"
    }
   },
   "cell_type": "markdown",
   "id": "cb52a465-a1c0-4824-b300-1d99f237d4de",
   "metadata": {},
   "source": [
    "![image.png](attachment:89bf7ba7-203d-4891-a38b-92b640c3a46f.png)"
   ]
  },
  {
   "cell_type": "code",
   "execution_count": 56,
   "id": "a2877c66-13c0-4d7c-85fa-d0521ca36306",
   "metadata": {},
   "outputs": [
    {
     "ename": "LinAlgError",
     "evalue": "Last 2 dimensions of the array must be square",
     "output_type": "error",
     "traceback": [
      "\u001b[1;31m---------------------------------------------------------------------------\u001b[0m",
      "\u001b[1;31mLinAlgError\u001b[0m                               Traceback (most recent call last)",
      "\u001b[1;32m<ipython-input-56-62c316d549ab>\u001b[0m in \u001b[0;36m<module>\u001b[1;34m\u001b[0m\n\u001b[0;32m      1\u001b[0m \u001b[1;31m# This code shows a LinAlgError:\u001b[0m\u001b[1;33m\u001b[0m\u001b[1;33m\u001b[0m\u001b[1;33m\u001b[0m\u001b[0m\n\u001b[0;32m      2\u001b[0m \u001b[0mM\u001b[0m \u001b[1;33m=\u001b[0m \u001b[0mnp\u001b[0m\u001b[1;33m.\u001b[0m\u001b[0marray\u001b[0m\u001b[1;33m(\u001b[0m\u001b[1;33m[\u001b[0m\u001b[1;33m[\u001b[0m\u001b[1;36m1\u001b[0m\u001b[1;33m,\u001b[0m\u001b[1;36m2\u001b[0m\u001b[1;33m]\u001b[0m\u001b[1;33m,\u001b[0m\u001b[1;33m[\u001b[0m\u001b[1;36m3\u001b[0m\u001b[1;33m,\u001b[0m\u001b[1;36m4\u001b[0m\u001b[1;33m]\u001b[0m\u001b[1;33m,\u001b[0m\u001b[1;33m[\u001b[0m\u001b[1;36m5\u001b[0m\u001b[1;33m,\u001b[0m\u001b[1;36m6\u001b[0m\u001b[1;33m]\u001b[0m\u001b[1;33m]\u001b[0m\u001b[1;33m)\u001b[0m\u001b[1;33m\u001b[0m\u001b[1;33m\u001b[0m\u001b[0m\n\u001b[1;32m----> 3\u001b[1;33m \u001b[0mdet_M\u001b[0m \u001b[1;33m=\u001b[0m \u001b[0mnp\u001b[0m\u001b[1;33m.\u001b[0m\u001b[0mlinalg\u001b[0m\u001b[1;33m.\u001b[0m\u001b[0mdet\u001b[0m\u001b[1;33m(\u001b[0m\u001b[0mM\u001b[0m\u001b[1;33m)\u001b[0m\u001b[1;33m\u001b[0m\u001b[1;33m\u001b[0m\u001b[0m\n\u001b[0m\u001b[0;32m      4\u001b[0m \u001b[0mdet_M\u001b[0m\u001b[1;33m\u001b[0m\u001b[1;33m\u001b[0m\u001b[0m\n",
      "\u001b[1;32m<__array_function__ internals>\u001b[0m in \u001b[0;36mdet\u001b[1;34m(*args, **kwargs)\u001b[0m\n",
      "\u001b[1;32mC:\\ProgramData\\Anaconda3\\lib\\site-packages\\numpy\\linalg\\linalg.py\u001b[0m in \u001b[0;36mdet\u001b[1;34m(a)\u001b[0m\n\u001b[0;32m   2154\u001b[0m     \u001b[0ma\u001b[0m \u001b[1;33m=\u001b[0m \u001b[0masarray\u001b[0m\u001b[1;33m(\u001b[0m\u001b[0ma\u001b[0m\u001b[1;33m)\u001b[0m\u001b[1;33m\u001b[0m\u001b[1;33m\u001b[0m\u001b[0m\n\u001b[0;32m   2155\u001b[0m     \u001b[0m_assert_stacked_2d\u001b[0m\u001b[1;33m(\u001b[0m\u001b[0ma\u001b[0m\u001b[1;33m)\u001b[0m\u001b[1;33m\u001b[0m\u001b[1;33m\u001b[0m\u001b[0m\n\u001b[1;32m-> 2156\u001b[1;33m     \u001b[0m_assert_stacked_square\u001b[0m\u001b[1;33m(\u001b[0m\u001b[0ma\u001b[0m\u001b[1;33m)\u001b[0m\u001b[1;33m\u001b[0m\u001b[1;33m\u001b[0m\u001b[0m\n\u001b[0m\u001b[0;32m   2157\u001b[0m     \u001b[0mt\u001b[0m\u001b[1;33m,\u001b[0m \u001b[0mresult_t\u001b[0m \u001b[1;33m=\u001b[0m \u001b[0m_commonType\u001b[0m\u001b[1;33m(\u001b[0m\u001b[0ma\u001b[0m\u001b[1;33m)\u001b[0m\u001b[1;33m\u001b[0m\u001b[1;33m\u001b[0m\u001b[0m\n\u001b[0;32m   2158\u001b[0m     \u001b[0msignature\u001b[0m \u001b[1;33m=\u001b[0m \u001b[1;34m'D->D'\u001b[0m \u001b[1;32mif\u001b[0m \u001b[0misComplexType\u001b[0m\u001b[1;33m(\u001b[0m\u001b[0mt\u001b[0m\u001b[1;33m)\u001b[0m \u001b[1;32melse\u001b[0m \u001b[1;34m'd->d'\u001b[0m\u001b[1;33m\u001b[0m\u001b[1;33m\u001b[0m\u001b[0m\n",
      "\u001b[1;32mC:\\ProgramData\\Anaconda3\\lib\\site-packages\\numpy\\linalg\\linalg.py\u001b[0m in \u001b[0;36m_assert_stacked_square\u001b[1;34m(*arrays)\u001b[0m\n\u001b[0;32m    202\u001b[0m         \u001b[0mm\u001b[0m\u001b[1;33m,\u001b[0m \u001b[0mn\u001b[0m \u001b[1;33m=\u001b[0m \u001b[0ma\u001b[0m\u001b[1;33m.\u001b[0m\u001b[0mshape\u001b[0m\u001b[1;33m[\u001b[0m\u001b[1;33m-\u001b[0m\u001b[1;36m2\u001b[0m\u001b[1;33m:\u001b[0m\u001b[1;33m]\u001b[0m\u001b[1;33m\u001b[0m\u001b[1;33m\u001b[0m\u001b[0m\n\u001b[0;32m    203\u001b[0m         \u001b[1;32mif\u001b[0m \u001b[0mm\u001b[0m \u001b[1;33m!=\u001b[0m \u001b[0mn\u001b[0m\u001b[1;33m:\u001b[0m\u001b[1;33m\u001b[0m\u001b[1;33m\u001b[0m\u001b[0m\n\u001b[1;32m--> 204\u001b[1;33m             \u001b[1;32mraise\u001b[0m \u001b[0mLinAlgError\u001b[0m\u001b[1;33m(\u001b[0m\u001b[1;34m'Last 2 dimensions of the array must be square'\u001b[0m\u001b[1;33m)\u001b[0m\u001b[1;33m\u001b[0m\u001b[1;33m\u001b[0m\u001b[0m\n\u001b[0m\u001b[0;32m    205\u001b[0m \u001b[1;33m\u001b[0m\u001b[0m\n\u001b[0;32m    206\u001b[0m \u001b[1;32mdef\u001b[0m \u001b[0m_assert_finite\u001b[0m\u001b[1;33m(\u001b[0m\u001b[1;33m*\u001b[0m\u001b[0marrays\u001b[0m\u001b[1;33m)\u001b[0m\u001b[1;33m:\u001b[0m\u001b[1;33m\u001b[0m\u001b[1;33m\u001b[0m\u001b[0m\n",
      "\u001b[1;31mLinAlgError\u001b[0m: Last 2 dimensions of the array must be square"
     ]
    }
   ],
   "source": [
    "# This code shows a LinAlgError:\n",
    "M = np.array([[1,2],[3,4],[5,6]])\n",
    "det_M = np.linalg.det(M)\n",
    "det_M"
   ]
  },
  {
   "cell_type": "markdown",
   "id": "f1473c20-b05b-4eaa-881f-29b8f9921000",
   "metadata": {},
   "source": [
    "## Inverse Matrices"
   ]
  },
  {
   "cell_type": "markdown",
   "id": "a309d363-905d-4c3d-8b14-69faa8bebed7",
   "metadata": {},
   "source": [
    "The **inverse matrix** of A with shape (nxn) is denoted as $A^{-1}$. It is a matrix that results in an identity matrix when multiplied by A ($AA^{-1} = I_n$). \n",
    "\n",
    "This means that if we apply a linear transformation to the matrix with A, it is possible to go back with $A^{-1}$. This provides a way to cancel the transformation."
   ]
  },
  {
   "cell_type": "code",
   "execution_count": 58,
   "id": "96b752d8-6ee1-43d0-bb9e-dba52a85c3f5",
   "metadata": {},
   "outputs": [
    {
     "data": {
      "text/plain": [
       "array([[ 0.2,  0.2,  0. ],\n",
       "       [-0.2,  0.3,  1. ],\n",
       "       [ 0.2, -0.3, -0. ]])"
      ]
     },
     "execution_count": 58,
     "metadata": {},
     "output_type": "execute_result"
    }
   ],
   "source": [
    "A = np.array([[3, 0, 2], [2, 0, -2], [0, 1, 1]])\n",
    "A_inv = np.linalg.inv(A)\n",
    "A_inv"
   ]
  },
  {
   "cell_type": "code",
   "execution_count": 59,
   "id": "ee2c65df-884d-4bf7-995d-892f5650b83f",
   "metadata": {},
   "outputs": [
    {
     "data": {
      "text/plain": [
       "array([[ 1.00000000e+00,  0.00000000e+00, -5.55111512e-17],\n",
       "       [ 0.00000000e+00,  1.00000000e+00,  0.00000000e+00],\n",
       "       [ 0.00000000e+00,  0.00000000e+00,  1.00000000e+00]])"
      ]
     },
     "execution_count": 59,
     "metadata": {},
     "output_type": "execute_result"
    }
   ],
   "source": [
    "# We can check that A_inv is really the inverse of A:\n",
    "A_inv.dot(A)"
   ]
  },
  {
   "cell_type": "markdown",
   "id": "f799e86f-d7cb-4652-8c41-6ed43b0f1b3c",
   "metadata": {},
   "source": [
    "#### numpy.ndarray examples\n",
    "\n",
    "There are two modes of creating an array using `__new__`:\n",
    "\n",
    "If buffer is None, then only shape, dtype, and order are used.\n",
    "\n",
    "If buffer is an object exposing the buffer interface, then all keywords are interpreted.\n",
    "\n",
    "No `__init__` method is needed because the array is fully initialized after the `__new__` method.\n",
    "\n",
    "Example:"
   ]
  },
  {
   "cell_type": "code",
   "execution_count": 3,
   "id": "6ab38ab4-fbc6-434e-937e-df54559ba1d5",
   "metadata": {},
   "outputs": [
    {
     "data": {
      "text/plain": [
       "array([[2.12199579e-314, 5.21733322e-321],\n",
       "       [0.00000000e+000, 2.75859457e-313]])"
      ]
     },
     "execution_count": 3,
     "metadata": {},
     "output_type": "execute_result"
    }
   ],
   "source": [
    "# low-level ndarray constructor\n",
    "np.ndarray(shape=(2,2), dtype=float, order='F')"
   ]
  },
  {
   "attachments": {
    "5d469485-a5f4-4c95-a2a6-8c5c1f37b878.png": {
     "image/png": "[encoded data removed]"
    }
   },
   "cell_type": "markdown",
   "id": "83a0469f-8268-4766-a919-325a9041931c",
   "metadata": {},
   "source": [
    "Easier ways to construct an array:\n",
    "\n",
    "![image.png](attachment:5d469485-a5f4-4c95-a2a6-8c5c1f37b878.png)"
   ]
  },
  {
   "cell_type": "code",
   "execution_count": 4,
   "id": "d9d5bdfa-bf41-4926-9bfc-2c647b530a99",
   "metadata": {},
   "outputs": [
    {
     "data": {
      "text/plain": [
       "array([2, 3])"
      ]
     },
     "execution_count": 4,
     "metadata": {},
     "output_type": "execute_result"
    }
   ],
   "source": [
    "# Second mode:\n",
    "np.ndarray((2,), buffer=np.array([1,2,3]),\n",
    "           offset=np.int_().itemsize,\n",
    "           dtype=int)\n",
    "\n",
    "# offset = 1*itemsize, i.e. skip first element"
   ]
  },
  {
   "cell_type": "markdown",
   "id": "0d886cb0-d31c-4f46-bead-ef3627e211f4",
   "metadata": {},
   "source": [
    "### Attributes"
   ]
  },
  {
   "cell_type": "markdown",
   "id": "1dc10aba-1fa5-4b79-94cd-e28e0c701725",
   "metadata": {},
   "source": [
    "`T`: ndarray\n",
    "The transposed array.\n",
    "\n",
    "`data`: buffer\n",
    "Python buffer object pointing to the start of the array’s data.\n",
    "\n",
    "`dtype`: dtype object\n",
    "Data-type of the array’s elements.\n",
    "\n",
    "`flags`: dict\n",
    "Information about the memory layout of the array.\n",
    "\n",
    "`flat`: numpy.flatiter object\n",
    "A 1-D iterator over the array.\n",
    "\n",
    "`imag`: ndarray\n",
    "The imaginary part of the array.\n",
    "\n",
    "`real`: ndarray\n",
    "The real part of the array.\n",
    "\n",
    "`size`: int\n",
    "Number of elements in the array.\n",
    "\n",
    "`itemsize`: int\n",
    "Length of one array element in bytes.\n",
    "\n",
    "`nbytes`: int\n",
    "Total bytes consumed by the elements of the array.\n",
    "\n",
    "`ndim`: int\n",
    "Number of array dimensions.\n",
    "\n",
    "`shape`: tuple of ints\n",
    "Tuple of array dimensions.\n",
    "\n",
    "`strides`: tuple of ints\n",
    "Tuple of bytes to step in each dimension when traversing an array.\n",
    "\n",
    "`ctypes`: ctypes object\n",
    "An object to simplify the interaction of the array with the ctypes module.\n",
    "\n",
    "`base`: ndarray\n",
    "Base object if memory is from some other object."
   ]
  },
  {
   "cell_type": "code",
   "execution_count": 12,
   "id": "43f4656b-8c5f-40cd-8986-91d1febee7db",
   "metadata": {},
   "outputs": [
    {
     "data": {
      "text/plain": [
       "array([[1, 2],\n",
       "       [3, 4],\n",
       "       [5, 6]])"
      ]
     },
     "execution_count": 12,
     "metadata": {},
     "output_type": "execute_result"
    }
   ],
   "source": [
    "A"
   ]
  },
  {
   "cell_type": "code",
   "execution_count": 11,
   "id": "0011ed74-b422-4cd6-9656-88ee2c84dc49",
   "metadata": {},
   "outputs": [
    {
     "data": {
      "text/plain": [
       "(8, 4)"
      ]
     },
     "execution_count": 11,
     "metadata": {},
     "output_type": "execute_result"
    }
   ],
   "source": [
    "A.strides"
   ]
  },
  {
   "cell_type": "markdown",
   "id": "81e5c5c9-5019-4588-8a9f-8a01e2cc9fef",
   "metadata": {},
   "source": [
    "`argpartition(kth[, axis, kind, order])`\n",
    "\n",
    "Returns the indices that would partition this array.\n",
    "\n",
    "`partition(kth[, axis, kind, order])`\n",
    "\n",
    "Rearranges the elements in the array in such a way that the value of the element in kth position is in the position it would be in a sorted array."
   ]
  },
  {
   "cell_type": "markdown",
   "id": "f4661903-d23e-46cf-b664-5e12ff7418f6",
   "metadata": {},
   "source": [
    "`ptp([axis, out, keepdims])`\n",
    "\n",
    "Peak to peak (maximum - minimum) value along a given axis."
   ]
  },
  {
   "cell_type": "code",
   "execution_count": 14,
   "id": "891edd02-6445-4f15-afae-01c703af3524",
   "metadata": {},
   "outputs": [
    {
     "data": {
      "text/plain": [
       "5"
      ]
     },
     "execution_count": 14,
     "metadata": {},
     "output_type": "execute_result"
    }
   ],
   "source": [
    "# returns a range of the array (max value - min value)\n",
    "A.ptp()"
   ]
  },
  {
   "cell_type": "markdown",
   "id": "52898be6-0101-4df9-a4b9-b14f2cc27f0b",
   "metadata": {},
   "source": [
    "`ravel([order])`\n",
    "\n",
    "Return a flattened array."
   ]
  },
  {
   "cell_type": "code",
   "execution_count": 17,
   "id": "0d3e7f7f-6f0f-4e0d-8e3f-500f198a9394",
   "metadata": {},
   "outputs": [
    {
     "data": {
      "text/plain": [
       "array([1, 2, 3, 4, 5, 6])"
      ]
     },
     "execution_count": 17,
     "metadata": {},
     "output_type": "execute_result"
    }
   ],
   "source": [
    "A.ravel()"
   ]
  },
  {
   "cell_type": "markdown",
   "id": "9ceba768-480f-42a9-8cc7-c31326f75f45",
   "metadata": {},
   "source": [
    "`resize(new_shape[, refcheck])`\n",
    "\n",
    "Change shape and size of array in-place."
   ]
  },
  {
   "cell_type": "code",
   "execution_count": 18,
   "id": "4813831a-72ff-417a-b803-0c58c0e97c01",
   "metadata": {},
   "outputs": [
    {
     "data": {
      "text/plain": [
       "array([[2, 5, 1, 2],\n",
       "       [7, 4, 1, 2],\n",
       "       [4, 3, 1, 2],\n",
       "       [5, 6, 1, 2],\n",
       "       [7, 8, 1, 2]])"
      ]
     },
     "execution_count": 18,
     "metadata": {},
     "output_type": "execute_result"
    }
   ],
   "source": [
    "G"
   ]
  },
  {
   "cell_type": "code",
   "execution_count": 19,
   "id": "f4d17c2a-b977-42e9-8470-dc5e7a7a362e",
   "metadata": {},
   "outputs": [],
   "source": [
    "G.resize((2,10))"
   ]
  },
  {
   "cell_type": "code",
   "execution_count": 20,
   "id": "2fe8b621-1350-41d9-909a-ae598f5b7740",
   "metadata": {},
   "outputs": [
    {
     "data": {
      "text/plain": [
       "array([[2, 5, 1, 2, 7, 4, 1, 2, 4, 3],\n",
       "       [1, 2, 5, 6, 1, 2, 7, 8, 1, 2]])"
      ]
     },
     "execution_count": 20,
     "metadata": {},
     "output_type": "execute_result"
    }
   ],
   "source": [
    "G"
   ]
  },
  {
   "cell_type": "markdown",
   "id": "dc30de8e-e4dc-47a4-ad7f-1eb23d1a804b",
   "metadata": {},
   "source": [
    "`searchsorted(v[, side, sorter])`\n",
    "\n",
    "Find indices where elements of v should be inserted in *a* to maintain order."
   ]
  },
  {
   "cell_type": "code",
   "execution_count": 30,
   "id": "1bcc28b4-bfb2-44d4-ad95-7c730a9c0529",
   "metadata": {},
   "outputs": [
    {
     "data": {
      "text/plain": [
       "array([1, 2, 3, 4])"
      ]
     },
     "execution_count": 30,
     "metadata": {},
     "output_type": "execute_result"
    }
   ],
   "source": [
    "a = x.copy()\n",
    "a"
   ]
  },
  {
   "cell_type": "code",
   "execution_count": 31,
   "id": "359a9b62-72cb-4979-8e7d-ed6d1ec0e278",
   "metadata": {},
   "outputs": [
    {
     "data": {
      "text/plain": [
       "2"
      ]
     },
     "execution_count": 31,
     "metadata": {},
     "output_type": "execute_result"
    }
   ],
   "source": [
    "np.searchsorted(a, 2.5)"
   ]
  },
  {
   "cell_type": "markdown",
   "id": "58bde100-1056-4b35-a75f-b3a19ab66aa0",
   "metadata": {},
   "source": [
    "`sort([axis, kind, order])`\n",
    "\n",
    "Sort an array in-place."
   ]
  },
  {
   "cell_type": "markdown",
   "id": "641cb149-e4d4-45d3-95a1-9b8d7d947c84",
   "metadata": {},
   "source": [
    "`squeeze([axis])`\n",
    "\n",
    "Remove axes of length one from _a_.\n",
    "\n",
    "Returns:\n",
    "\n",
    "The input array, but with all or a subset of the dimensions of length 1 removed. This is always _a_ itself or a view into _a_. Note that if all axes are squeezed, the result is a 0d array and not a scalar."
   ]
  },
  {
   "cell_type": "code",
   "execution_count": 35,
   "id": "7d1e6728-1b8f-4e0e-9972-2371ce9b42ef",
   "metadata": {},
   "outputs": [
    {
     "data": {
      "text/plain": [
       "array([[[0],\n",
       "        [1],\n",
       "        [2]]])"
      ]
     },
     "execution_count": 35,
     "metadata": {},
     "output_type": "execute_result"
    }
   ],
   "source": [
    "x = np.array([ [[0], [1], [2]] ])\n",
    "x"
   ]
  },
  {
   "cell_type": "code",
   "execution_count": 32,
   "id": "648493e1-cde3-4213-842a-096e08d99eed",
   "metadata": {},
   "outputs": [
    {
     "data": {
      "text/plain": [
       "(1, 3, 1)"
      ]
     },
     "execution_count": 32,
     "metadata": {},
     "output_type": "execute_result"
    }
   ],
   "source": [
    "x.shape"
   ]
  },
  {
   "cell_type": "code",
   "execution_count": 36,
   "id": "91fd690d-aa56-4463-8acb-f7f343a60111",
   "metadata": {},
   "outputs": [
    {
     "data": {
      "text/plain": [
       "array([0, 1, 2])"
      ]
     },
     "execution_count": 36,
     "metadata": {},
     "output_type": "execute_result"
    }
   ],
   "source": [
    "np.squeeze(x)"
   ]
  },
  {
   "cell_type": "code",
   "execution_count": 33,
   "id": "d09e28f9-0a4a-439d-83d6-61c08fd7c491",
   "metadata": {},
   "outputs": [
    {
     "data": {
      "text/plain": [
       "(3,)"
      ]
     },
     "execution_count": 33,
     "metadata": {},
     "output_type": "execute_result"
    }
   ],
   "source": [
    "np.squeeze(x).shape"
   ]
  },
  {
   "cell_type": "code",
   "execution_count": 37,
   "id": "80818587-f4e6-4997-9853-b08281f71270",
   "metadata": {},
   "outputs": [
    {
     "data": {
      "text/plain": [
       "array([[0],\n",
       "       [1],\n",
       "       [2]])"
      ]
     },
     "execution_count": 37,
     "metadata": {},
     "output_type": "execute_result"
    }
   ],
   "source": [
    "np.squeeze(x, axis=0)"
   ]
  },
  {
   "cell_type": "code",
   "execution_count": 38,
   "id": "2e1fc255-6132-4c75-8016-3f6be4cf26b1",
   "metadata": {},
   "outputs": [
    {
     "data": {
      "text/plain": [
       "(3, 1)"
      ]
     },
     "execution_count": 38,
     "metadata": {},
     "output_type": "execute_result"
    }
   ],
   "source": [
    "np.squeeze(x, axis=0).shape"
   ]
  },
  {
   "cell_type": "code",
   "execution_count": 39,
   "id": "9571d612-82c3-4cb9-b5fa-6cc6d3cd54c6",
   "metadata": {},
   "outputs": [
    {
     "ename": "ValueError",
     "evalue": "cannot select an axis to squeeze out which has size not equal to one",
     "output_type": "error",
     "traceback": [
      "\u001b[1;31m---------------------------------------------------------------------------\u001b[0m",
      "\u001b[1;31mValueError\u001b[0m                                Traceback (most recent call last)",
      "\u001b[1;32m<ipython-input-39-487b66f66d03>\u001b[0m in \u001b[0;36m<module>\u001b[1;34m\u001b[0m\n\u001b[1;32m----> 1\u001b[1;33m \u001b[0mnp\u001b[0m\u001b[1;33m.\u001b[0m\u001b[0msqueeze\u001b[0m\u001b[1;33m(\u001b[0m\u001b[0mx\u001b[0m\u001b[1;33m,\u001b[0m \u001b[0maxis\u001b[0m\u001b[1;33m=\u001b[0m\u001b[1;36m1\u001b[0m\u001b[1;33m)\u001b[0m\u001b[1;33m\u001b[0m\u001b[1;33m\u001b[0m\u001b[0m\n\u001b[0m",
      "\u001b[1;32m<__array_function__ internals>\u001b[0m in \u001b[0;36msqueeze\u001b[1;34m(*args, **kwargs)\u001b[0m\n",
      "\u001b[1;32mC:\\ProgramData\\Anaconda3\\lib\\site-packages\\numpy\\core\\fromnumeric.py\u001b[0m in \u001b[0;36msqueeze\u001b[1;34m(a, axis)\u001b[0m\n\u001b[0;32m   1493\u001b[0m         \u001b[1;32mreturn\u001b[0m \u001b[0msqueeze\u001b[0m\u001b[1;33m(\u001b[0m\u001b[1;33m)\u001b[0m\u001b[1;33m\u001b[0m\u001b[1;33m\u001b[0m\u001b[0m\n\u001b[0;32m   1494\u001b[0m     \u001b[1;32melse\u001b[0m\u001b[1;33m:\u001b[0m\u001b[1;33m\u001b[0m\u001b[1;33m\u001b[0m\u001b[0m\n\u001b[1;32m-> 1495\u001b[1;33m         \u001b[1;32mreturn\u001b[0m \u001b[0msqueeze\u001b[0m\u001b[1;33m(\u001b[0m\u001b[0maxis\u001b[0m\u001b[1;33m=\u001b[0m\u001b[0maxis\u001b[0m\u001b[1;33m)\u001b[0m\u001b[1;33m\u001b[0m\u001b[1;33m\u001b[0m\u001b[0m\n\u001b[0m\u001b[0;32m   1496\u001b[0m \u001b[1;33m\u001b[0m\u001b[0m\n\u001b[0;32m   1497\u001b[0m \u001b[1;33m\u001b[0m\u001b[0m\n",
      "\u001b[1;31mValueError\u001b[0m: cannot select an axis to squeeze out which has size not equal to one"
     ]
    }
   ],
   "source": [
    "np.squeeze(x, axis=1)"
   ]
  },
  {
   "cell_type": "code",
   "execution_count": 42,
   "id": "df3cf866-d683-4c5d-a2c1-05db67049644",
   "metadata": {},
   "outputs": [
    {
     "data": {
      "text/plain": [
       "array([[0, 1, 2]])"
      ]
     },
     "execution_count": 42,
     "metadata": {},
     "output_type": "execute_result"
    }
   ],
   "source": [
    "np.squeeze(x, axis=2)"
   ]
  },
  {
   "cell_type": "code",
   "execution_count": 43,
   "id": "a9f61eac-b8e6-4595-8571-0d85e525c129",
   "metadata": {},
   "outputs": [
    {
     "data": {
      "text/plain": [
       "(1, 3)"
      ]
     },
     "execution_count": 43,
     "metadata": {},
     "output_type": "execute_result"
    }
   ],
   "source": [
    "np.squeeze(x, axis=2).shape"
   ]
  },
  {
   "cell_type": "code",
   "execution_count": 44,
   "id": "da3ab8fc-a643-432b-b6f8-2df8cb1f524c",
   "metadata": {},
   "outputs": [
    {
     "data": {
      "text/plain": [
       "(1, 1)"
      ]
     },
     "execution_count": 44,
     "metadata": {},
     "output_type": "execute_result"
    }
   ],
   "source": [
    "x = np.array([[1234]])\n",
    "x.shape"
   ]
  },
  {
   "cell_type": "code",
   "execution_count": 45,
   "id": "9bdb8ef0-16fa-4ed7-82d5-3cbedbf2617b",
   "metadata": {},
   "outputs": [
    {
     "data": {
      "text/plain": [
       "array(1234)"
      ]
     },
     "execution_count": 45,
     "metadata": {},
     "output_type": "execute_result"
    }
   ],
   "source": [
    "np.squeeze(x)"
   ]
  },
  {
   "cell_type": "code",
   "execution_count": 46,
   "id": "bfee6241-f4be-4e36-854b-889781c6b045",
   "metadata": {},
   "outputs": [
    {
     "data": {
      "text/plain": [
       "()"
      ]
     },
     "execution_count": 46,
     "metadata": {},
     "output_type": "execute_result"
    }
   ],
   "source": [
    "np.squeeze(x).shape"
   ]
  },
  {
   "cell_type": "code",
   "execution_count": 47,
   "id": "211e3cd9-cc8e-48b9-a1a5-1b71dd0ec2ab",
   "metadata": {},
   "outputs": [
    {
     "data": {
      "text/plain": [
       "1234"
      ]
     },
     "execution_count": 47,
     "metadata": {},
     "output_type": "execute_result"
    }
   ],
   "source": [
    "np.squeeze(x)[()]"
   ]
  },
  {
   "cell_type": "markdown",
   "id": "ace05d0a-f264-4885-b8a9-f33d30ec802c",
   "metadata": {},
   "source": [
    "`swapaxes(axis1, axis2)`\n",
    "\n",
    "Return a view of the array with axis1 and axis2 interchanged."
   ]
  },
  {
   "cell_type": "code",
   "execution_count": 48,
   "id": "d06bc703-6a5d-4312-91e7-ec51e5116d80",
   "metadata": {},
   "outputs": [
    {
     "data": {
      "text/plain": [
       "array([[1, 2],\n",
       "       [3, 4],\n",
       "       [5, 6]])"
      ]
     },
     "execution_count": 48,
     "metadata": {},
     "output_type": "execute_result"
    }
   ],
   "source": [
    "A"
   ]
  },
  {
   "cell_type": "code",
   "execution_count": 52,
   "id": "147e7b29-6a73-4237-88e9-d7c37cb560de",
   "metadata": {},
   "outputs": [
    {
     "data": {
      "text/plain": [
       "array([[1, 3, 5],\n",
       "       [2, 4, 6]])"
      ]
     },
     "execution_count": 52,
     "metadata": {},
     "output_type": "execute_result"
    }
   ],
   "source": [
    "A.swapaxes(0, 1)"
   ]
  },
  {
   "cell_type": "markdown",
   "id": "3ba7834c-8b2c-4b2e-9c52-5d91e502f98b",
   "metadata": {},
   "source": [
    "`take(indices[, axis, out, mode])`\n",
    "\n",
    "Return an array formed from the elements of _a_ at the given indices."
   ]
  },
  {
   "cell_type": "code",
   "execution_count": 56,
   "id": "6a68fb3b-6a65-400d-ba0c-f5471a22278c",
   "metadata": {},
   "outputs": [
    {
     "data": {
      "text/plain": [
       "array([[1, 2],\n",
       "       [3, 4],\n",
       "       [5, 6]])"
      ]
     },
     "execution_count": 56,
     "metadata": {},
     "output_type": "execute_result"
    }
   ],
   "source": [
    "A"
   ]
  },
  {
   "cell_type": "code",
   "execution_count": 58,
   "id": "5f216f80-6c1f-4c71-81d0-25155ffed15b",
   "metadata": {},
   "outputs": [
    {
     "data": {
      "text/plain": [
       "array([1, 2, 4, 6])"
      ]
     },
     "execution_count": 58,
     "metadata": {},
     "output_type": "execute_result"
    }
   ],
   "source": [
    "A.take([0, 1, 3, 5])"
   ]
  },
  {
   "cell_type": "markdown",
   "id": "c862a7bf-a915-4756-8b78-72a7f9d35ead",
   "metadata": {},
   "source": [
    "`tobytes([order])`\n",
    "\n",
    "Construct Python bytes containing the raw data bytes in the array.\n",
    "\n",
    "`tofile(fid[, sep, format])`\n",
    "\n",
    "Write array to a file as text or binary (default).\n",
    "\n",
    "`tolist()`\n",
    "\n",
    "Return the array as an _a_.ndim-levels deep nested list of Python scalars.\n",
    "\n",
    "`tostring([order])`\n",
    "\n",
    "A compatibility alias for tobytes, with exactly the same behavior.\n",
    "\n",
    "`trace([offset, axis1, axis2, dtype, out])`\n",
    "\n",
    "Return the sum along diagonals of the array.\n"
   ]
  },
  {
   "cell_type": "code",
   "execution_count": 62,
   "id": "a0c2c1c4-38c3-4cd4-b4a5-00f12df92643",
   "metadata": {},
   "outputs": [],
   "source": [
    "A = np.arange(0, 9).reshape((3, 3))"
   ]
  },
  {
   "cell_type": "code",
   "execution_count": 63,
   "id": "da20cd12-4bea-4b12-95ab-7806d7f31f25",
   "metadata": {},
   "outputs": [
    {
     "data": {
      "text/plain": [
       "array([[0, 1, 2],\n",
       "       [3, 4, 5],\n",
       "       [6, 7, 8]])"
      ]
     },
     "execution_count": 63,
     "metadata": {},
     "output_type": "execute_result"
    }
   ],
   "source": [
    "A"
   ]
  },
  {
   "cell_type": "code",
   "execution_count": 64,
   "id": "5eeb7e03-e23a-4f5c-852c-7a336faec6a1",
   "metadata": {},
   "outputs": [
    {
     "data": {
      "text/plain": [
       "12"
      ]
     },
     "execution_count": 64,
     "metadata": {},
     "output_type": "execute_result"
    }
   ],
   "source": [
    "A.trace()"
   ]
  },
  {
   "cell_type": "markdown",
   "id": "18106a59-f641-4c8d-8026-b7591bbbdca2",
   "metadata": {},
   "source": [
    "`view([dtype][, type])`\n",
    "\n",
    "New view of array with the same data."
   ]
  },
  {
   "cell_type": "code",
   "execution_count": 67,
   "id": "40d35546-a450-4558-9f62-30fb14acc9a4",
   "metadata": {},
   "outputs": [
    {
     "data": {
      "text/plain": [
       "array([[0, 1, 2],\n",
       "       [3, 4, 5],\n",
       "       [6, 7, 8]])"
      ]
     },
     "execution_count": 67,
     "metadata": {},
     "output_type": "execute_result"
    }
   ],
   "source": [
    "A"
   ]
  },
  {
   "cell_type": "code",
   "execution_count": 75,
   "id": "1bd583ea-a991-4080-8bbf-59fed2656578",
   "metadata": {},
   "outputs": [
    {
     "data": {
      "text/plain": [
       "array([[0.0e+00, 1.4e-45, 2.8e-45],\n",
       "       [4.2e-45, 5.6e-45, 7.0e-45],\n",
       "       [8.4e-45, 9.8e-45, 1.1e-44]], dtype=float32)"
      ]
     },
     "execution_count": 75,
     "metadata": {},
     "output_type": "execute_result"
    }
   ],
   "source": [
    "A.view('float32')"
   ]
  },
  {
   "cell_type": "code",
   "execution_count": null,
   "id": "cae1f1de-e37b-426f-bb1c-f38e357f2fdf",
   "metadata": {},
   "outputs": [],
   "source": []
  }
 ],
 "metadata": {
  "kernelspec": {
   "display_name": "Python 3",
   "language": "python",
   "name": "python3"
  },
  "language_info": {
   "codemirror_mode": {
    "name": "ipython",
    "version": 3
   },
   "file_extension": ".py",
   "mimetype": "text/x-python",
   "name": "python",
   "nbconvert_exporter": "python",
   "pygments_lexer": "ipython3",
   "version": "3.8.10"
  }
 },
 "nbformat": 4,
 "nbformat_minor": 5
}
