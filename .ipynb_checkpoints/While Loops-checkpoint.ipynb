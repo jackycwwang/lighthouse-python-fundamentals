{
 "cells": [
  {
   "cell_type": "markdown",
   "id": "09b41f8f-17da-43b9-8328-da6df7b7ecc1",
   "metadata": {},
   "source": [
    "# While Loops (Indefinite iteration)"
   ]
  },
  {
   "cell_type": "code",
   "execution_count": 1,
   "id": "277e5220-7569-4c7d-9131-940a18e83cd8",
   "metadata": {},
   "outputs": [
    {
     "name": "stdout",
     "output_type": "stream",
     "text": [
      "4\n",
      "3\n",
      "2\n",
      "1\n",
      "0\n"
     ]
    }
   ],
   "source": [
    "n = 5\n",
    "while n > 0:\n",
    "    n -= 1\n",
    "    print(n)"
   ]
  },
  {
   "cell_type": "code",
   "execution_count": 3,
   "id": "aaf20078-602a-492c-8619-ccb5a09b1fb6",
   "metadata": {},
   "outputs": [
    {
     "name": "stdout",
     "output_type": "stream",
     "text": [
      "baz\n",
      "bar\n",
      "foo\n"
     ]
    }
   ],
   "source": [
    "a = ['foo', 'bar', 'baz']\n",
    "while a:\n",
    "    print(a.pop())"
   ]
  },
  {
   "cell_type": "markdown",
   "id": "78f358be-ffcb-42ad-b4de-0a0e15d2fbe1",
   "metadata": {},
   "source": [
    "## The Python `break` and `continue` Statements\n",
    "\n",
    "Python provides two keywords that terminate a loop iteration prematurely: break and continue"
   ]
  },
  {
   "cell_type": "code",
   "execution_count": 4,
   "id": "d613808c-0192-45ce-93e2-4f2545ed2e88",
   "metadata": {},
   "outputs": [
    {
     "name": "stdout",
     "output_type": "stream",
     "text": [
      "4\n",
      "3\n",
      "Loop ended.\n"
     ]
    }
   ],
   "source": [
    "n = 5\n",
    "while n > 0:\n",
    "    n -= 1\n",
    "    if n == 2:\n",
    "        break\n",
    "    print(n)\n",
    "print('Loop ended.')"
   ]
  },
  {
   "cell_type": "code",
   "execution_count": 5,
   "id": "f469d907-834e-4a12-b784-a2c56af30d18",
   "metadata": {},
   "outputs": [
    {
     "name": "stdout",
     "output_type": "stream",
     "text": [
      "4\n",
      "3\n",
      "1\n",
      "0\n",
      "Loop ended.\n"
     ]
    }
   ],
   "source": [
    "n = 5\n",
    "while n > 0:\n",
    "    n -= 1\n",
    "    if n == 2:\n",
    "        continue\n",
    "    print(n)\n",
    "print('Loop ended.')"
   ]
  },
  {
   "cell_type": "markdown",
   "id": "fe1ea001-2add-40b9-bbf4-3fc3c5046c45",
   "metadata": {},
   "source": [
    "## The `else` Clause"
   ]
  },
  {
   "cell_type": "markdown",
   "id": "7b53da33-88b4-42c6-8218-cc3ee3584b61",
   "metadata": {},
   "source": [
    "A unique feature of Python, not found in most other languages. The syntax is shown below:\n",
    "```\n",
    "while <expr>:\n",
    "    <statement(s)>\n",
    "else:\n",
    "    <additional_statement(s)>\n",
    "```\n",
    "\n",
    "The <additional_statement(s)> specified in the else clause will be executed when the while loop terminates.\n",
    "\n",
    "About now, you may be thinking, “How is that useful?” You could accomplish the same thing by putting those statements immediately after the while loop, without the else.\n",
    "\n",
    "```\n",
    "while <expr>:\n",
    "    <statement(s)>\n",
    "<additional_statement(s)>\n",
    "```\n",
    "\n"
   ]
  },
  {
   "cell_type": "markdown",
   "id": "2715c2bf-7cf5-4b6b-8548-bc69e025d985",
   "metadata": {},
   "source": [
    "What’s the difference?\n",
    "\n",
    "In the latter case, without the else clause, <additional_statement(s)> will be executed after the while loop terminates, no matter what.\n",
    "\n",
    "When <additional_statement(s)> are placed in an else clause, they will be executed only if the loop terminates “by exhaustion”—that is, if the loop iterates until the controlling condition becomes false. If the loop is exited by a break statement, the else clause won’t be executed."
   ]
  },
  {
   "cell_type": "code",
   "execution_count": 6,
   "id": "6ef0fe76-5d5f-4152-95bd-37f92546d9cb",
   "metadata": {},
   "outputs": [
    {
     "name": "stdout",
     "output_type": "stream",
     "text": [
      "4\n",
      "3\n",
      "2\n",
      "1\n",
      "0\n",
      "Loop done.\n"
     ]
    }
   ],
   "source": [
    "n = 5\n",
    "while n > 0:\n",
    "    n -= 1\n",
    "    print(n)\n",
    "else:\n",
    "    print('Loop done.')"
   ]
  },
  {
   "cell_type": "code",
   "execution_count": 7,
   "id": "1eb6af80-79dd-4f5d-835a-9b7583d5a5d9",
   "metadata": {},
   "outputs": [
    {
     "name": "stdout",
     "output_type": "stream",
     "text": [
      "4\n",
      "3\n",
      "2\n"
     ]
    }
   ],
   "source": [
    "# This loop is terminated prematurely with break, \n",
    "# so the else clause isn’t executed\n",
    "n = 5\n",
    "while n > 0:\n",
    "    n -= 1\n",
    "    print(n)\n",
    "    if n == 2:\n",
    "        break\n",
    "else:\n",
    "    print('Loop done.')"
   ]
  },
  {
   "cell_type": "markdown",
   "id": "1660b2b5-7c2e-4a85-9309-6a79cf601997",
   "metadata": {},
   "source": [
    "One common situation is if you are searching a list for a specific item. You can use break to exit the loop if the item is found, and the else clause can contain code that is meant to be executed if the item isn’t found."
   ]
  },
  {
   "cell_type": "code",
   "execution_count": 8,
   "id": "20742b64-6f0a-4acd-bc9d-ad81705b178f",
   "metadata": {},
   "outputs": [
    {
     "name": "stdout",
     "output_type": "stream",
     "text": [
      "corge not found in list.\n"
     ]
    }
   ],
   "source": [
    "a = ['foo', 'bar', 'baz', 'qux']\n",
    "s = 'corge'\n",
    "\n",
    "i = 0\n",
    "while i < len(a):\n",
    "    if a[i] == s:\n",
    "        # Processing for item found\n",
    "        break\n",
    "    i += 1\n",
    "else:\n",
    "    # Processing for item not found\n",
    "    print(s, 'not found in list.')"
   ]
  },
  {
   "cell_type": "markdown",
   "id": "c59e1b91-2c68-46e9-96d1-6f1095d5e932",
   "metadata": {},
   "source": [
    "Note: The code shown above is useful to illustrate the concept, but you’d actually be very unlikely to search a list that way.\n",
    "\n",
    "First of all, lists are usually processed with definite iteration, not a while loop. Secondly, Python provides built-in ways to search for an item in a list. You can use the `in` operator:"
   ]
  },
  {
   "cell_type": "code",
   "execution_count": 9,
   "id": "4262dd48-9628-4813-b78c-d2d70f9ac37f",
   "metadata": {},
   "outputs": [
    {
     "name": "stdout",
     "output_type": "stream",
     "text": [
      "corge not found in list.\n"
     ]
    }
   ],
   "source": [
    "if s in a:\n",
    "    print(s, 'found in list.')\n",
    "else:\n",
    "    print(s, 'not found in list.')"
   ]
  },
  {
   "cell_type": "markdown",
   "id": "2140f376-bc6e-49c1-b949-3fdfa0d34479",
   "metadata": {},
   "source": [
    "The `list.index()` method would also work. This method raises a ValueError exception if the item isn’t found in the list, so you need to understand exception handling to use it. In Python, you use a try statement to handle an exception. An example is given below:"
   ]
  },
  {
   "cell_type": "code",
   "execution_count": 10,
   "id": "36554ccf-5ad8-4b89-b414-3179a7e6c753",
   "metadata": {},
   "outputs": [
    {
     "name": "stdout",
     "output_type": "stream",
     "text": [
      "corge not found in list.\n"
     ]
    }
   ],
   "source": [
    "try:\n",
    "    print(a.index('corge'))\n",
    "except ValueError:\n",
    "    print(s, 'not found in list.')"
   ]
  },
  {
   "cell_type": "code",
   "execution_count": 12,
   "id": "54bcfa25-f988-4969-a38a-5e59a6b1e8c3",
   "metadata": {},
   "outputs": [
    {
     "name": "stdout",
     "output_type": "stream",
     "text": [
      "3\n"
     ]
    }
   ],
   "source": [
    "try:\n",
    "    print(a.index('qux')) # .index() returns first index of the argument\n",
    "except ValueError:\n",
    "    print(s, 'not found in list.')"
   ]
  },
  {
   "cell_type": "markdown",
   "id": "f201eeb4-4a11-48d9-8996-c52781b846cd",
   "metadata": {},
   "source": [
    "## Infinite Loops\n",
    "\n",
    "Maybe that doesn’t sound like something you’d want to do, but this pattern is actually quite common. \n",
    "\n",
    "It may be more straightforward to terminate a loop based on conditions recognized within the loop body, rather than on a condition evaluated at the top."
   ]
  },
  {
   "cell_type": "code",
   "execution_count": 13,
   "id": "6c2b556b-3fdd-458f-bc5c-14056b6fe4a6",
   "metadata": {},
   "outputs": [
    {
     "name": "stdout",
     "output_type": "stream",
     "text": [
      "baz\n",
      "bar\n",
      "foo\n"
     ]
    }
   ],
   "source": [
    "a = ['foo', 'bar', 'baz']\n",
    "while True:\n",
    "    if not a:\n",
    "        break\n",
    "    print(a.pop(-1))"
   ]
  },
  {
   "cell_type": "markdown",
   "id": "83823e5b-c4f9-4339-9d98-8285c3aaa733",
   "metadata": {},
   "source": [
    "You can also specify multiple break statements in a loop:\n",
    "```\n",
    "while True:\n",
    "    if <expr1>:  # One condition for loop termination\n",
    "        break\n",
    "    ...\n",
    "    if <expr2>:  # Another termination condition\n",
    "        break\n",
    "    ...\n",
    "    if <expr3>:  # Yet another\n",
    "        break\n",
    "```\n",
    "\n",
    "\n",
    "In cases like this, where there are multiple reasons to end the loop, it is often cleaner to break out from several different locations, rather than try to specify all the termination conditions in the loop header.\n",
    "\n",
    "Infinite loops can be very useful. Just remember that you must ensure the loop gets broken out of at some point, so it doesn’t truly become infinite."
   ]
  },
  {
   "cell_type": "code",
   "execution_count": null,
   "id": "45c8d754-3184-460c-acb6-9ace9687b0aa",
   "metadata": {},
   "outputs": [],
   "source": []
  }
 ],
 "metadata": {
  "kernelspec": {
   "display_name": "Python 3",
   "language": "python",
   "name": "python3"
  },
  "language_info": {
   "codemirror_mode": {
    "name": "ipython",
    "version": 3
   },
   "file_extension": ".py",
   "mimetype": "text/x-python",
   "name": "python",
   "nbconvert_exporter": "python",
   "pygments_lexer": "ipython3",
   "version": "3.8.10"
  }
 },
 "nbformat": 4,
 "nbformat_minor": 5
}
