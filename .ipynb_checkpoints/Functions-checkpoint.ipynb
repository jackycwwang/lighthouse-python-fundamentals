{
 "cells": [
  {
   "cell_type": "markdown",
   "id": "b4ca0218-64e7-4c24-82b9-09078524a957",
   "metadata": {},
   "source": [
    "# Functions"
   ]
  },
  {
   "cell_type": "code",
   "execution_count": 21,
   "id": "cf49e1e2-48a8-4362-99e1-35661926f2fe",
   "metadata": {},
   "outputs": [],
   "source": [
    "def hello_func(greeting, name='You'):\n",
    "     return f\"{greeting}, {name}\""
   ]
  },
  {
   "cell_type": "code",
   "execution_count": 15,
   "id": "7f9f5ccb-647c-43f4-ac5e-c8f973742f3f",
   "metadata": {},
   "outputs": [
    {
     "name": "stdout",
     "output_type": "stream",
     "text": [
      "<function hello_func at 0x0000011FFC268280>\n"
     ]
    }
   ],
   "source": [
    "print(hello_func)"
   ]
  },
  {
   "cell_type": "code",
   "execution_count": 22,
   "id": "182e8494-a320-4ca0-9ad6-78d0d3dea6df",
   "metadata": {},
   "outputs": [
    {
     "data": {
      "text/plain": [
       "'Hi, You'"
      ]
     },
     "execution_count": 22,
     "metadata": {},
     "output_type": "execute_result"
    }
   ],
   "source": [
    "hello_func('Hi')"
   ]
  },
  {
   "cell_type": "code",
   "execution_count": 23,
   "id": "60d01aac-8904-40b6-a527-fac3cdeefde8",
   "metadata": {},
   "outputs": [
    {
     "data": {
      "text/plain": [
       "'Hi, Jacky'"
      ]
     },
     "execution_count": 23,
     "metadata": {},
     "output_type": "execute_result"
    }
   ],
   "source": [
    "hello_func('Hi', 'Jacky')"
   ]
  },
  {
   "cell_type": "code",
   "execution_count": 25,
   "id": "3b549b53-cb23-43b9-abaa-5483345f1dbb",
   "metadata": {},
   "outputs": [],
   "source": [
    "# *args allows us to receive arbitrary number of positional arguments\n",
    "# **kwargs allows us to receive arbitrary number of keyword arguments\n",
    "# used when we don't know how many arguments will be passed in advance\n",
    "# the names don't have to args or kwargs, these are just a convention\n",
    "\n",
    "# When the arguments are passed in:\n",
    "# *args will be stored in the form of tuples\n",
    "# **kwargs will be stored in the form of dictionary\n",
    "def student_info(*args, **kwargs):\n",
    "    print(args)\n",
    "    print(kwargs)"
   ]
  },
  {
   "cell_type": "code",
   "execution_count": 26,
   "id": "5a40a2b0-8a24-4373-9b2b-4282f67ea53a",
   "metadata": {},
   "outputs": [
    {
     "name": "stdout",
     "output_type": "stream",
     "text": [
      "('Math', 'Art')\n",
      "{'name': 'John', 'age': 22}\n"
     ]
    }
   ],
   "source": [
    "# Example: \n",
    "# *args represent the subjects this student are taking\n",
    "# **kwargs represent student's information\n",
    "\n",
    "student_info('Math', 'Art', name='John', age=22)"
   ]
  },
  {
   "cell_type": "markdown",
   "id": "b918915d-c627-42b1-8163-478ea64be4f3",
   "metadata": {},
   "source": [
    "Sometimes, you might see a function call with arguments using the \\* or \\**. Now when it's used in that context, it will actually unpack a sequence or dictionary and pass those values into the function individually. \n",
    "\n",
    "So to see what I mean, let's make a list and a dictionary of everything that we just passed into our function."
   ]
  },
  {
   "cell_type": "code",
   "execution_count": 29,
   "id": "85caf2ed-c1ac-4fa0-87a2-e3d8ebd8c34c",
   "metadata": {},
   "outputs": [],
   "source": [
    "courses = ['Math', 'Art']\n",
    "info = {'name':'John', 'age':22}"
   ]
  },
  {
   "cell_type": "markdown",
   "id": "0ab0a9c7-a877-4e54-a372-2b7b67efea66",
   "metadata": {},
   "source": [
    "Let's say that we wanted to pass all of these courses in as our positional arguments, and the info dictionary as our keyword arguments. So if we just pass these in as is, and we run this. Then we can see that this might not be exactly what we thought. "
   ]
  },
  {
   "cell_type": "code",
   "execution_count": 30,
   "id": "875f2cda-c045-4104-86e1-f86541312ed1",
   "metadata": {},
   "outputs": [
    {
     "name": "stdout",
     "output_type": "stream",
     "text": [
      "(['Math', 'Art'], {'name': 'John', 'age': 22})\n",
      "{}\n"
     ]
    }
   ],
   "source": [
    "student_info(courses, info)    "
   ]
  },
  {
   "cell_type": "markdown",
   "id": "d8de11fd-8b7b-4676-858a-704e35e668e5",
   "metadata": {},
   "source": [
    "Instead of passing the values in individually, and instead passed in the complete list and the complete dictionary as positional arguments (\\**kwargs received 0 arguments in this case).\n",
    "\n",
    "If we use the single star in front of our list, and the double star in front of our dictionary, then it would actually unpack these values and then individually.\n",
    "\n",
    "So basically, it will be the equivalent to our previous execution where we passed them individually. "
   ]
  },
  {
   "cell_type": "code",
   "execution_count": 31,
   "id": "1a879736-525f-4c4d-9a48-e7e93e4c0a81",
   "metadata": {},
   "outputs": [
    {
     "name": "stdout",
     "output_type": "stream",
     "text": [
      "('Math', 'Art')\n",
      "{'name': 'John', 'age': 22}\n"
     ]
    }
   ],
   "source": [
    "student_info(*courses, **info)"
   ]
  },
  {
   "cell_type": "code",
   "execution_count": 32,
   "id": "cee73a61-1d59-4f70-98b4-f7e12c1f466c",
   "metadata": {},
   "outputs": [],
   "source": [
    "# Number of days per month. First value placeholder for indexing purposes.\n",
    "month_days = [0, 31, 28, 31, 30, 31, 30, 31, 31, 30, 31, 30, 31]"
   ]
  },
  {
   "cell_type": "code",
   "execution_count": 36,
   "id": "9df4eb35-792b-4045-8a4a-131063c1df06",
   "metadata": {},
   "outputs": [],
   "source": [
    "def is_leap(year):\n",
    "    \"\"\"Return True for leap years, False for non-leap years.\"\"\"\n",
    "\n",
    "    return year % 4 == 0 and (year % 100 != 0 or year % 400 == 0)"
   ]
  },
  {
   "cell_type": "code",
   "execution_count": 37,
   "id": "33c59a1b-2edc-480a-9ecb-40eb4a43bda0",
   "metadata": {},
   "outputs": [],
   "source": [
    "def days_in_month(year, month):\n",
    "    \"\"\"Return number of days in that month in that year.\"\"\"\n",
    "\n",
    "    # year 2017\n",
    "    # month 2\n",
    "    if not 1 <= month <= 12:\n",
    "        return 'Invalid Month'\n",
    "\n",
    "    if month == 2 and is_leap(year):\n",
    "        return 29\n",
    "\n",
    "    return month_days[month]"
   ]
  },
  {
   "cell_type": "code",
   "execution_count": 41,
   "id": "91d28012-bd81-4e2e-aba1-da2022638d33",
   "metadata": {},
   "outputs": [
    {
     "data": {
      "text/plain": [
       "False"
      ]
     },
     "execution_count": 41,
     "metadata": {},
     "output_type": "execute_result"
    }
   ],
   "source": [
    "is_leap(2017)"
   ]
  },
  {
   "cell_type": "code",
   "execution_count": 40,
   "id": "9f4cb49c-5d83-4d19-aaeb-4559475b98b1",
   "metadata": {},
   "outputs": [
    {
     "data": {
      "text/plain": [
       "True"
      ]
     },
     "execution_count": 40,
     "metadata": {},
     "output_type": "execute_result"
    }
   ],
   "source": [
    "is_leap(2020)"
   ]
  },
  {
   "cell_type": "code",
   "execution_count": 38,
   "id": "ab4537da-8207-444d-80e1-b6a10e3c9030",
   "metadata": {},
   "outputs": [
    {
     "name": "stdout",
     "output_type": "stream",
     "text": [
      "28\n"
     ]
    }
   ],
   "source": [
    "print(days_in_month(2017, 2))"
   ]
  },
  {
   "cell_type": "code",
   "execution_count": null,
   "id": "646301bc-30d2-486f-b939-e616083601d1",
   "metadata": {},
   "outputs": [],
   "source": []
  }
 ],
 "metadata": {
  "kernelspec": {
   "display_name": "Python 3",
   "language": "python",
   "name": "python3"
  },
  "language_info": {
   "codemirror_mode": {
    "name": "ipython",
    "version": 3
   },
   "file_extension": ".py",
   "mimetype": "text/x-python",
   "name": "python",
   "nbconvert_exporter": "python",
   "pygments_lexer": "ipython3",
   "version": "3.8.10"
  }
 },
 "nbformat": 4,
 "nbformat_minor": 5
}
