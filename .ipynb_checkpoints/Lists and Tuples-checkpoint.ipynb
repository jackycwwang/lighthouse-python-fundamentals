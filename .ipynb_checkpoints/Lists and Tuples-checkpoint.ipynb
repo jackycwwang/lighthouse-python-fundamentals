{
 "cells": [
  {
   "cell_type": "markdown",
   "id": "53bfb962-2599-4de7-9ea8-f95e700d623c",
   "metadata": {},
   "source": [
    "# Python and Tuples in Python"
   ]
  },
  {
   "cell_type": "markdown",
   "id": "c7b8bb9a-8251-4c56-8d64-b11d9ba33f12",
   "metadata": {},
   "source": [
    "## Lists"
   ]
  },
  {
   "cell_type": "code",
   "execution_count": 1,
   "id": "34d196e6-152d-40b1-87de-36e3c4536ed9",
   "metadata": {},
   "outputs": [
    {
     "name": "stdout",
     "output_type": "stream",
     "text": [
      "['foo', 'bar', 'baz', 'qux']\n"
     ]
    },
    {
     "data": {
      "text/plain": [
       "['foo', 'bar', 'baz', 'qux']"
      ]
     },
     "execution_count": 1,
     "metadata": {},
     "output_type": "execute_result"
    }
   ],
   "source": [
    "a = ['foo', 'bar', 'baz', 'qux']\n",
    "print(a)\n",
    "a"
   ]
  },
  {
   "cell_type": "code",
   "execution_count": 2,
   "id": "6e72abb8-d3e5-4ed0-9d52-39348820db93",
   "metadata": {},
   "outputs": [
    {
     "data": {
      "text/plain": [
       "False"
      ]
     },
     "execution_count": 2,
     "metadata": {},
     "output_type": "execute_result"
    }
   ],
   "source": [
    "a = ['foo', 'bar', 'baz', 'qux']\n",
    "b = ['baz', 'qux', 'bar', 'foo']\n",
    "a == b"
   ]
  },
  {
   "cell_type": "code",
   "execution_count": 3,
   "id": "cd83f777-747c-47c2-83fa-916631c6b597",
   "metadata": {},
   "outputs": [
    {
     "data": {
      "text/plain": [
       "False"
      ]
     },
     "execution_count": 3,
     "metadata": {},
     "output_type": "execute_result"
    }
   ],
   "source": [
    "a is b"
   ]
  },
  {
   "cell_type": "code",
   "execution_count": 4,
   "id": "65d4eb1b-e17b-496c-8233-89ef0a461b9a",
   "metadata": {},
   "outputs": [
    {
     "data": {
      "text/plain": [
       "False"
      ]
     },
     "execution_count": 4,
     "metadata": {},
     "output_type": "execute_result"
    }
   ],
   "source": [
    "[1, 2, 3, 4] == [4, 1, 3, 2]"
   ]
  },
  {
   "cell_type": "code",
   "execution_count": 5,
   "id": "ab13773a-9efe-44f2-b291-4c5b5cce4d02",
   "metadata": {},
   "outputs": [
    {
     "data": {
      "text/plain": [
       "[2, 4, 6, 8]"
      ]
     },
     "execution_count": 5,
     "metadata": {},
     "output_type": "execute_result"
    }
   ],
   "source": [
    "a = [2, 4, 6, 8]\n",
    "a\n"
   ]
  },
  {
   "cell_type": "code",
   "execution_count": 6,
   "id": "6a3da1a5-cdb4-4102-ae73-bf5060d02ade",
   "metadata": {},
   "outputs": [
    {
     "data": {
      "text/plain": [
       "[21.42, 'foobar', 3, 4, 'bark', False, 3.14159]"
      ]
     },
     "execution_count": 6,
     "metadata": {},
     "output_type": "execute_result"
    }
   ],
   "source": [
    "a = [21.42, 'foobar', 3, 4, 'bark', False, 3.14159]\n",
    "a"
   ]
  },
  {
   "cell_type": "code",
   "execution_count": 8,
   "id": "79682a6e-815c-4dd5-b8d4-0d969e618235",
   "metadata": {},
   "outputs": [
    {
     "data": {
      "text/plain": [
       "int"
      ]
     },
     "execution_count": 8,
     "metadata": {},
     "output_type": "execute_result"
    }
   ],
   "source": [
    "# a class\n",
    "int"
   ]
  },
  {
   "cell_type": "code",
   "execution_count": 9,
   "id": "8df57bae-436f-4272-a4d7-e4cd351ba520",
   "metadata": {},
   "outputs": [
    {
     "data": {
      "text/plain": [
       "<function len(obj, /)>"
      ]
     },
     "execution_count": 9,
     "metadata": {},
     "output_type": "execute_result"
    }
   ],
   "source": [
    "# a built-in function\n",
    "len"
   ]
  },
  {
   "cell_type": "code",
   "execution_count": 11,
   "id": "eec9c2fb-4835-4308-abc2-ba7eb283b325",
   "metadata": {},
   "outputs": [
    {
     "data": {
      "text/plain": [
       "<function __main__.foo()>"
      ]
     },
     "execution_count": 11,
     "metadata": {},
     "output_type": "execute_result"
    }
   ],
   "source": [
    "# a user-defined function\n",
    "def foo():\n",
    "    pass\n",
    "\n",
    "foo"
   ]
  },
  {
   "cell_type": "code",
   "execution_count": 12,
   "id": "6b50e991-9697-4a72-b326-d0cb5a25a7c8",
   "metadata": {},
   "outputs": [
    {
     "data": {
      "text/plain": [
       "<module 'math' (built-in)>"
      ]
     },
     "execution_count": 12,
     "metadata": {},
     "output_type": "execute_result"
    }
   ],
   "source": [
    "# a module\n",
    "import math\n",
    "math"
   ]
  },
  {
   "cell_type": "code",
   "execution_count": 14,
   "id": "7fcb72e1-3fb6-4af0-a58c-c07e72a27f25",
   "metadata": {},
   "outputs": [
    {
     "data": {
      "text/plain": [
       "[int,\n",
       " <function len(obj, /)>,\n",
       " <function __main__.foo()>,\n",
       " <module 'math' (built-in)>]"
      ]
     },
     "execution_count": 14,
     "metadata": {},
     "output_type": "execute_result"
    }
   ],
   "source": [
    "# a list contain complex objects, like above all\n",
    "a = [int, len, foo, math]\n",
    "a"
   ]
  },
  {
   "cell_type": "markdown",
   "id": "eec4d6c6-afb2-4e64-9171-773f4ae6d78b",
   "metadata": {},
   "source": [
    "A list can contain any number of objects, from zero to as many as your computer's memory is allowed."
   ]
  },
  {
   "cell_type": "code",
   "execution_count": 15,
   "id": "f11e676b-41cf-4068-9ad1-629530c7aedd",
   "metadata": {},
   "outputs": [
    {
     "data": {
      "text/plain": [
       "[]"
      ]
     },
     "execution_count": 15,
     "metadata": {},
     "output_type": "execute_result"
    }
   ],
   "source": [
    "a = []\n",
    "a"
   ]
  },
  {
   "cell_type": "code",
   "execution_count": 16,
   "id": "45eb0480-1c70-4cb1-957c-8bcc43ebec87",
   "metadata": {},
   "outputs": [
    {
     "data": {
      "text/plain": [
       "['foo']"
      ]
     },
     "execution_count": 16,
     "metadata": {},
     "output_type": "execute_result"
    }
   ],
   "source": [
    "a = [ 'foo' ]\n",
    "a"
   ]
  },
  {
   "cell_type": "code",
   "execution_count": 17,
   "id": "fdced912-522f-453a-a3da-02862e8472a1",
   "metadata": {},
   "outputs": [
    {
     "data": {
      "text/plain": [
       "[0,\n",
       " 1,\n",
       " 2,\n",
       " 3,\n",
       " 4,\n",
       " 5,\n",
       " 6,\n",
       " 7,\n",
       " 8,\n",
       " 9,\n",
       " 10,\n",
       " 11,\n",
       " 12,\n",
       " 13,\n",
       " 14,\n",
       " 15,\n",
       " 16,\n",
       " 17,\n",
       " 18,\n",
       " 19,\n",
       " 20,\n",
       " 21,\n",
       " 22,\n",
       " 23,\n",
       " 24,\n",
       " 25,\n",
       " 26,\n",
       " 27,\n",
       " 28,\n",
       " 29,\n",
       " 30,\n",
       " 31,\n",
       " 32,\n",
       " 33,\n",
       " 34,\n",
       " 35,\n",
       " 36,\n",
       " 37,\n",
       " 38,\n",
       " 39,\n",
       " 40,\n",
       " 41,\n",
       " 42,\n",
       " 43,\n",
       " 44,\n",
       " 45,\n",
       " 46,\n",
       " 47,\n",
       " 48,\n",
       " 49,\n",
       " 50,\n",
       " 51,\n",
       " 52,\n",
       " 53,\n",
       " 54,\n",
       " 55,\n",
       " 56,\n",
       " 57,\n",
       " 58,\n",
       " 59,\n",
       " 60,\n",
       " 61,\n",
       " 62,\n",
       " 63,\n",
       " 64,\n",
       " 65,\n",
       " 66,\n",
       " 67,\n",
       " 68,\n",
       " 69,\n",
       " 70,\n",
       " 71,\n",
       " 72,\n",
       " 73,\n",
       " 74,\n",
       " 75,\n",
       " 76,\n",
       " 77,\n",
       " 78,\n",
       " 79,\n",
       " 80,\n",
       " 81,\n",
       " 82,\n",
       " 83,\n",
       " 84,\n",
       " 85,\n",
       " 86,\n",
       " 87,\n",
       " 88,\n",
       " 89,\n",
       " 90,\n",
       " 91,\n",
       " 92,\n",
       " 93,\n",
       " 94,\n",
       " 95,\n",
       " 96,\n",
       " 97,\n",
       " 98,\n",
       " 99,\n",
       " 100]"
      ]
     },
     "execution_count": 17,
     "metadata": {},
     "output_type": "execute_result"
    }
   ],
   "source": [
    "a = [0, 1, 2, 3, 4, 5, 6, 7, 8, 9, 10, 11, 12, 13, 14, 15, 16, 17, 18, 19, 20,\n",
    "21, 22, 23, 24, 25, 26, 27, 28, 29, 30, 31, 32, 33, 34, 35, 36, 37, 38, 39, 40,\n",
    "41, 42, 43, 44, 45, 46, 47, 48, 49, 50, 51, 52, 53, 54, 55, 56, 57, 58, 59, 60,\n",
    "61, 62, 63, 64, 65, 66, 67, 68, 69, 70, 71, 72, 73, 74, 75, 76, 77, 78, 79, 80,\n",
    "81, 82, 83, 84, 85, 86, 87, 88, 89, 90, 91, 92, 93, 94, 95, 96, 97, 98, 99, 100]\n",
    "a"
   ]
  },
  {
   "cell_type": "code",
   "execution_count": 18,
   "id": "db0ec259-7c79-4225-84d8-448c23480e8b",
   "metadata": {},
   "outputs": [
    {
     "data": {
      "text/plain": [
       "['bark', 'meow', 'woof', 'bark', 'cheep', 'bark']"
      ]
     },
     "execution_count": 18,
     "metadata": {},
     "output_type": "execute_result"
    }
   ],
   "source": [
    "# list objects needn't be unique\n",
    "a = ['bark', 'meow', 'woof', 'bark', 'cheep', 'bark']\n",
    "a"
   ]
  },
  {
   "cell_type": "code",
   "execution_count": 20,
   "id": "3ddbbc34-8e47-449d-8e8d-22ced7bd7966",
   "metadata": {},
   "outputs": [
    {
     "data": {
      "text/plain": [
       "'foo'"
      ]
     },
     "execution_count": 20,
     "metadata": {},
     "output_type": "execute_result"
    }
   ],
   "source": [
    "a = ['foo', 'bar', 'baz', 'qux', 'quux', 'corge']\n",
    "a[0]"
   ]
  },
  {
   "cell_type": "code",
   "execution_count": 21,
   "id": "4e6c4487-ac57-4170-baa1-6c182d97030d",
   "metadata": {},
   "outputs": [
    {
     "data": {
      "text/plain": [
       "'baz'"
      ]
     },
     "execution_count": 21,
     "metadata": {},
     "output_type": "execute_result"
    }
   ],
   "source": [
    "a[2]"
   ]
  },
  {
   "cell_type": "code",
   "execution_count": 22,
   "id": "48973d4e-fc49-4041-af9a-27bf46d5ceaa",
   "metadata": {},
   "outputs": [
    {
     "data": {
      "text/plain": [
       "'corge'"
      ]
     },
     "execution_count": 22,
     "metadata": {},
     "output_type": "execute_result"
    }
   ],
   "source": [
    "a[5]"
   ]
  },
  {
   "cell_type": "code",
   "execution_count": 23,
   "id": "4cf5bc74-dcb2-4237-aee5-29484329bfbb",
   "metadata": {},
   "outputs": [
    {
     "data": {
      "text/plain": [
       "['bar', 'baz', 'qux']"
      ]
     },
     "execution_count": 23,
     "metadata": {},
     "output_type": "execute_result"
    }
   ],
   "source": [
    "a[-5:-2]"
   ]
  },
  {
   "cell_type": "code",
   "execution_count": 24,
   "id": "461cc283-16b1-4cf5-a862-315521c04a2e",
   "metadata": {},
   "outputs": [
    {
     "data": {
      "text/plain": [
       "['bar', 'baz', 'qux']"
      ]
     },
     "execution_count": 24,
     "metadata": {},
     "output_type": "execute_result"
    }
   ],
   "source": [
    "a[1:4]"
   ]
  },
  {
   "cell_type": "code",
   "execution_count": 25,
   "id": "5fbc1c4a-252b-4f58-95bb-a8302245767c",
   "metadata": {},
   "outputs": [
    {
     "data": {
      "text/plain": [
       "True"
      ]
     },
     "execution_count": 25,
     "metadata": {},
     "output_type": "execute_result"
    }
   ],
   "source": [
    "a[-5:-2] == a[1:4]"
   ]
  },
  {
   "cell_type": "code",
   "execution_count": 26,
   "id": "f1eecfa1-883c-45c7-94a7-f74f7243f2d5",
   "metadata": {},
   "outputs": [
    {
     "data": {
      "text/plain": [
       "['foo', 'baz', 'quux']"
      ]
     },
     "execution_count": 26,
     "metadata": {},
     "output_type": "execute_result"
    }
   ],
   "source": [
    "a[0:6:2]"
   ]
  },
  {
   "cell_type": "code",
   "execution_count": 27,
   "id": "3c305e04-1bde-46e5-a332-02fb8ad4527c",
   "metadata": {},
   "outputs": [
    {
     "data": {
      "text/plain": [
       "['bar', 'qux', 'corge']"
      ]
     },
     "execution_count": 27,
     "metadata": {},
     "output_type": "execute_result"
    }
   ],
   "source": [
    "a[1:6:2]"
   ]
  },
  {
   "cell_type": "code",
   "execution_count": 28,
   "id": "561f0974-b466-474f-ae79-95db28c24e00",
   "metadata": {},
   "outputs": [
    {
     "data": {
      "text/plain": [
       "['corge', 'qux', 'bar']"
      ]
     },
     "execution_count": 28,
     "metadata": {},
     "output_type": "execute_result"
    }
   ],
   "source": [
    "a[6:0:-2]"
   ]
  },
  {
   "cell_type": "markdown",
   "id": "e3754f07-0b4b-4979-9d30-47f3a9c900ea",
   "metadata": {},
   "source": [
    "`[:]` works for list too. However, there is an important difference:\n",
    "If `s` is a string, `s[:]` returns a reference to the same object. if `a` is a list, `a[:]` returns a new object that is a copy of a."
   ]
  },
  {
   "cell_type": "code",
   "execution_count": 29,
   "id": "1b907752-168d-4f3f-a493-bdf6999d72de",
   "metadata": {},
   "outputs": [
    {
     "data": {
      "text/plain": [
       "['foo', 'bar', 'baz', 'qux', 'quux', 'corge']"
      ]
     },
     "execution_count": 29,
     "metadata": {},
     "output_type": "execute_result"
    }
   ],
   "source": [
    "\n",
    "a = ['foo', 'bar', 'baz', 'qux', 'quux', 'corge']\n",
    "a[:]"
   ]
  },
  {
   "cell_type": "code",
   "execution_count": 31,
   "id": "69fd17fa-57dd-4f37-b3ab-675f8a1b9675",
   "metadata": {},
   "outputs": [
    {
     "data": {
      "text/plain": [
       "False"
      ]
     },
     "execution_count": 31,
     "metadata": {},
     "output_type": "execute_result"
    }
   ],
   "source": [
    "# they don't refer to the same object\n",
    "a[:] is a"
   ]
  },
  {
   "cell_type": "code",
   "execution_count": 32,
   "id": "356199da-d526-4954-8a60-6db860638874",
   "metadata": {},
   "outputs": [
    {
     "data": {
      "text/plain": [
       "True"
      ]
     },
     "execution_count": 32,
     "metadata": {},
     "output_type": "execute_result"
    }
   ],
   "source": [
    "'qux' in a"
   ]
  },
  {
   "cell_type": "code",
   "execution_count": 33,
   "id": "8769612f-abf2-4603-8d42-5f760b89cdc1",
   "metadata": {},
   "outputs": [
    {
     "data": {
      "text/plain": [
       "True"
      ]
     },
     "execution_count": 33,
     "metadata": {},
     "output_type": "execute_result"
    }
   ],
   "source": [
    "'thud' not in a"
   ]
  },
  {
   "cell_type": "code",
   "execution_count": 34,
   "id": "6c021855-5607-4193-9e21-4a1ce804dd11",
   "metadata": {},
   "outputs": [
    {
     "data": {
      "text/plain": [
       "['foo', 'bar', 'baz', 'qux', 'quux', 'corge', 'grault', 'garply']"
      ]
     },
     "execution_count": 34,
     "metadata": {},
     "output_type": "execute_result"
    }
   ],
   "source": [
    "a + ['grault', 'garply']"
   ]
  },
  {
   "cell_type": "code",
   "execution_count": 35,
   "id": "973acdec-fcd3-4cd2-aaca-d1a2ee0b5740",
   "metadata": {},
   "outputs": [
    {
     "data": {
      "text/plain": [
       "['foo',\n",
       " 'bar',\n",
       " 'baz',\n",
       " 'qux',\n",
       " 'quux',\n",
       " 'corge',\n",
       " 'foo',\n",
       " 'bar',\n",
       " 'baz',\n",
       " 'qux',\n",
       " 'quux',\n",
       " 'corge']"
      ]
     },
     "execution_count": 35,
     "metadata": {},
     "output_type": "execute_result"
    }
   ],
   "source": [
    "a * 2"
   ]
  },
  {
   "cell_type": "code",
   "execution_count": 36,
   "id": "23984258-5a23-4d5b-b8bc-14c44fc6ff69",
   "metadata": {},
   "outputs": [
    {
     "data": {
      "text/plain": [
       "6"
      ]
     },
     "execution_count": 36,
     "metadata": {},
     "output_type": "execute_result"
    }
   ],
   "source": [
    "len(a)"
   ]
  },
  {
   "cell_type": "code",
   "execution_count": 37,
   "id": "9a35623c-0b03-4285-a5fc-9716ac68700b",
   "metadata": {},
   "outputs": [
    {
     "data": {
      "text/plain": [
       "'bar'"
      ]
     },
     "execution_count": 37,
     "metadata": {},
     "output_type": "execute_result"
    }
   ],
   "source": [
    "min(a)"
   ]
  },
  {
   "cell_type": "code",
   "execution_count": 38,
   "id": "d61a3098-1f18-4ea2-929d-f9919c5fe364",
   "metadata": {},
   "outputs": [
    {
     "data": {
      "text/plain": [
       "'qux'"
      ]
     },
     "execution_count": 38,
     "metadata": {},
     "output_type": "execute_result"
    }
   ],
   "source": [
    "max(a)"
   ]
  },
  {
   "cell_type": "markdown",
   "id": "da074855-8d60-4846-83ed-5fa7d758e736",
   "metadata": {},
   "source": [
    "It’s not an accident that strings and lists behave so similarly. They are both special cases of a more general object type called an iterable"
   ]
  },
  {
   "cell_type": "code",
   "execution_count": 39,
   "id": "51993c9e-4fcc-4f4a-a32f-7be510faba5c",
   "metadata": {},
   "outputs": [
    {
     "data": {
      "text/plain": [
       "'baz'"
      ]
     },
     "execution_count": 39,
     "metadata": {},
     "output_type": "execute_result"
    }
   ],
   "source": [
    "# you can work on list literals as well\n",
    "['foo', 'bar', 'baz', 'qux', 'quux', 'corge'][2]"
   ]
  },
  {
   "cell_type": "code",
   "execution_count": 40,
   "id": "e7b06664-b0e2-4015-ace8-efcb64ba3554",
   "metadata": {},
   "outputs": [
    {
     "data": {
      "text/plain": [
       "['corge', 'quux', 'qux', 'baz', 'bar', 'foo']"
      ]
     },
     "execution_count": 40,
     "metadata": {},
     "output_type": "execute_result"
    }
   ],
   "source": [
    "['foo', 'bar', 'baz', 'qux', 'quux', 'corge'][::-1]"
   ]
  },
  {
   "cell_type": "code",
   "execution_count": 41,
   "id": "1b547944-4248-43a6-9cec-6004cdfbfd37",
   "metadata": {},
   "outputs": [
    {
     "data": {
      "text/plain": [
       "True"
      ]
     },
     "execution_count": 41,
     "metadata": {},
     "output_type": "execute_result"
    }
   ],
   "source": [
    "'quux' in ['foo', 'bar', 'baz', 'qux', 'quux', 'corge']"
   ]
  },
  {
   "cell_type": "code",
   "execution_count": 42,
   "id": "3d77231b-ce01-43dd-8ab9-3fd2d4b23907",
   "metadata": {},
   "outputs": [
    {
     "data": {
      "text/plain": [
       "['foo', 'bar', 'baz', 'qux', 'quux', 'corge']"
      ]
     },
     "execution_count": 42,
     "metadata": {},
     "output_type": "execute_result"
    }
   ],
   "source": [
    "['foo', 'bar', 'baz'] + ['qux', 'quux', 'corge']"
   ]
  },
  {
   "cell_type": "code",
   "execution_count": 43,
   "id": "2b719035-d19f-47a6-b604-67a993e49967",
   "metadata": {},
   "outputs": [
    {
     "data": {
      "text/plain": [
       "6"
      ]
     },
     "execution_count": 43,
     "metadata": {},
     "output_type": "execute_result"
    }
   ],
   "source": [
    "len(['foo', 'bar', 'baz', 'qux', 'quux', 'corge'][::-1])"
   ]
  },
  {
   "cell_type": "code",
   "execution_count": 44,
   "id": "1313f246-f5ea-4fd9-bcb0-59cd7023e489",
   "metadata": {},
   "outputs": [
    {
     "data": {
      "text/plain": [
       "'.thgir eb tsum ti ,ti syas noelopaN edarmoC fI'"
      ]
     },
     "execution_count": 44,
     "metadata": {},
     "output_type": "execute_result"
    }
   ],
   "source": [
    "# likewise, can also work with a string literal\n",
    "'If Comrade Napoleon says it, it must be right.'[::-1]"
   ]
  },
  {
   "cell_type": "code",
   "execution_count": 45,
   "id": "1d3376bf-f09f-4141-ae69-fd864e1eec04",
   "metadata": {},
   "outputs": [
    {
     "data": {
      "text/plain": [
       "['a', ['bb', ['ccc', 'ddd'], 'ee', 'ff'], 'g', ['hh', 'ii'], 'j']"
      ]
     },
     "execution_count": 45,
     "metadata": {},
     "output_type": "execute_result"
    }
   ],
   "source": [
    "# lists can be nested\n",
    "x = ['a', ['bb', ['ccc', 'ddd'], 'ee', 'ff'], 'g', ['hh', 'ii'], 'j']\n",
    "x"
   ]
  },
  {
   "cell_type": "code",
   "execution_count": 46,
   "id": "8a00c147-ad32-4992-ab82-abbe84bb5b8a",
   "metadata": {},
   "outputs": [
    {
     "name": "stdout",
     "output_type": "stream",
     "text": [
      "a g j\n"
     ]
    }
   ],
   "source": [
    "print(x[0], x[2], x[4])"
   ]
  },
  {
   "cell_type": "code",
   "execution_count": 47,
   "id": "2db220b5-302d-4c54-a9b7-4335c7ba7553",
   "metadata": {},
   "outputs": [
    {
     "data": {
      "text/plain": [
       "['bb', ['ccc', 'ddd'], 'ee', 'ff']"
      ]
     },
     "execution_count": 47,
     "metadata": {},
     "output_type": "execute_result"
    }
   ],
   "source": [
    "x[1]"
   ]
  },
  {
   "cell_type": "code",
   "execution_count": 48,
   "id": "9a7c88cc-da46-4228-ae6d-b39c7463e243",
   "metadata": {},
   "outputs": [
    {
     "data": {
      "text/plain": [
       "['hh', 'ii']"
      ]
     },
     "execution_count": 48,
     "metadata": {},
     "output_type": "execute_result"
    }
   ],
   "source": [
    "x[3]"
   ]
  },
  {
   "cell_type": "code",
   "execution_count": 50,
   "id": "098328e8-fd9a-4c74-acdf-121fb5bb0a9d",
   "metadata": {},
   "outputs": [
    {
     "data": {
      "text/plain": [
       "['bb', ['ccc', 'ddd'], 'ee', 'ff']"
      ]
     },
     "execution_count": 50,
     "metadata": {},
     "output_type": "execute_result"
    }
   ],
   "source": [
    "x[1]"
   ]
  },
  {
   "cell_type": "code",
   "execution_count": 49,
   "id": "dc0f2421-f96d-4ac6-91f1-6b95e6f52f49",
   "metadata": {},
   "outputs": [],
   "source": [
    "x[1][0]"
   ]
  },
  {
   "cell_type": "code",
   "execution_count": 51,
   "id": "0a92d8c2-d1ef-4c66-9977-c7836b2ffbb4",
   "metadata": {},
   "outputs": [
    {
     "data": {
      "text/plain": [
       "['ccc', 'ddd']"
      ]
     },
     "execution_count": 51,
     "metadata": {},
     "output_type": "execute_result"
    }
   ],
   "source": [
    "x[1][1]"
   ]
  },
  {
   "cell_type": "code",
   "execution_count": 52,
   "id": "609a035b-37f3-44d5-9c7e-b9c54958c578",
   "metadata": {},
   "outputs": [
    {
     "data": {
      "text/plain": [
       "'ee'"
      ]
     },
     "execution_count": 52,
     "metadata": {},
     "output_type": "execute_result"
    }
   ],
   "source": [
    "x[1][2]"
   ]
  },
  {
   "cell_type": "code",
   "execution_count": 53,
   "id": "694d4af6-23b5-4461-9e4f-abf294f37599",
   "metadata": {},
   "outputs": [
    {
     "data": {
      "text/plain": [
       "'ff'"
      ]
     },
     "execution_count": 53,
     "metadata": {},
     "output_type": "execute_result"
    }
   ],
   "source": [
    "x[1][3]"
   ]
  },
  {
   "cell_type": "code",
   "execution_count": 54,
   "id": "e01dad39-42ba-4209-8769-2cfd3ef5ba38",
   "metadata": {},
   "outputs": [
    {
     "data": {
      "text/plain": [
       "['hh', 'ii']"
      ]
     },
     "execution_count": 54,
     "metadata": {},
     "output_type": "execute_result"
    }
   ],
   "source": [
    "x[3]"
   ]
  },
  {
   "cell_type": "code",
   "execution_count": 55,
   "id": "7bf39991-68cd-4f6c-b72c-b82f233aedab",
   "metadata": {},
   "outputs": [
    {
     "name": "stdout",
     "output_type": "stream",
     "text": [
      "hh ii\n"
     ]
    }
   ],
   "source": [
    "print(x[3][0], x[3][1])"
   ]
  },
  {
   "cell_type": "code",
   "execution_count": 56,
   "id": "24bece71-72ce-438d-a255-80643feda6db",
   "metadata": {},
   "outputs": [
    {
     "data": {
      "text/plain": [
       "['ccc', 'ddd']"
      ]
     },
     "execution_count": 56,
     "metadata": {},
     "output_type": "execute_result"
    }
   ],
   "source": [
    "x[1][1]"
   ]
  },
  {
   "cell_type": "code",
   "execution_count": 57,
   "id": "688437cc-5b63-40b9-98ff-7e0f793092d7",
   "metadata": {},
   "outputs": [
    {
     "name": "stdout",
     "output_type": "stream",
     "text": [
      "ccc ddd\n"
     ]
    }
   ],
   "source": [
    "print(x[1][1][0], x[1][1][1])"
   ]
  },
  {
   "cell_type": "code",
   "execution_count": 58,
   "id": "b9ddd07d-628b-4362-a979-286e9f3b4eff",
   "metadata": {},
   "outputs": [
    {
     "data": {
      "text/plain": [
       "'ddd'"
      ]
     },
     "execution_count": 58,
     "metadata": {},
     "output_type": "execute_result"
    }
   ],
   "source": [
    "x[1][1][-1]"
   ]
  },
  {
   "cell_type": "code",
   "execution_count": 59,
   "id": "5df2739c-0cce-4730-958f-6254e008e16e",
   "metadata": {},
   "outputs": [
    {
     "data": {
      "text/plain": [
       "[['ccc', 'ddd'], 'ee']"
      ]
     },
     "execution_count": 59,
     "metadata": {},
     "output_type": "execute_result"
    }
   ],
   "source": [
    "x[1][1:3]"
   ]
  },
  {
   "cell_type": "code",
   "execution_count": 60,
   "id": "93f6fd28-1a97-438c-90bf-bbec0da24455",
   "metadata": {},
   "outputs": [
    {
     "data": {
      "text/plain": [
       "['ii', 'hh']"
      ]
     },
     "execution_count": 60,
     "metadata": {},
     "output_type": "execute_result"
    }
   ],
   "source": [
    "x[3][::-1]"
   ]
  },
  {
   "cell_type": "code",
   "execution_count": 61,
   "id": "b7a0eec2-e4ed-492a-86a3-f69817b7e8db",
   "metadata": {},
   "outputs": [
    {
     "data": {
      "text/plain": [
       "False"
      ]
     },
     "execution_count": 61,
     "metadata": {},
     "output_type": "execute_result"
    }
   ],
   "source": [
    "'ddd' in x"
   ]
  },
  {
   "cell_type": "code",
   "execution_count": 62,
   "id": "79f87002-9034-40e6-baa6-bfa289594b9d",
   "metadata": {},
   "outputs": [
    {
     "data": {
      "text/plain": [
       "False"
      ]
     },
     "execution_count": 62,
     "metadata": {},
     "output_type": "execute_result"
    }
   ],
   "source": [
    "'ddd' in x[1]"
   ]
  },
  {
   "cell_type": "code",
   "execution_count": 63,
   "id": "03c5c07f-21bc-4356-a437-3f48a8f65bb6",
   "metadata": {},
   "outputs": [
    {
     "data": {
      "text/plain": [
       "True"
      ]
     },
     "execution_count": 63,
     "metadata": {},
     "output_type": "execute_result"
    }
   ],
   "source": [
    "'ddd' in x[1][1]"
   ]
  },
  {
   "cell_type": "code",
   "execution_count": null,
   "id": "ba280c65-e5f3-4086-96da-a95451567a17",
   "metadata": {},
   "outputs": [],
   "source": [
    "a = ['foo', 'bar', 'baz', 'qux', 'quux', 'corge']\n",
    "a"
   ]
  },
  {
   "cell_type": "code",
   "execution_count": 64,
   "id": "62167ed4-3729-4264-9001-1c5aa3403239",
   "metadata": {},
   "outputs": [
    {
     "data": {
      "text/plain": [
       "['foo', 'bar', 10, 'qux', 'quux', 20]"
      ]
     },
     "execution_count": 64,
     "metadata": {},
     "output_type": "execute_result"
    }
   ],
   "source": [
    "# lists are mmutable\n",
    "a[2] = 10\n",
    "a[-1] = 20\n",
    "a"
   ]
  },
  {
   "cell_type": "code",
   "execution_count": 67,
   "id": "93665090-abb5-4103-85ed-9f3885036a42",
   "metadata": {
    "tags": []
   },
   "outputs": [
    {
     "data": {
      "text/plain": [
       "['foo', 'bar', 'baz', 'quux', 'corge']"
      ]
     },
     "execution_count": 67,
     "metadata": {},
     "output_type": "execute_result"
    }
   ],
   "source": [
    "# using del command\n",
    "a = ['foo', 'bar', 'baz', 'qux', 'quux', 'corge']\n",
    "\n",
    "del a[3]\n",
    "a"
   ]
  },
  {
   "cell_type": "markdown",
   "id": "daaf01f0-903e-4ae5-a38d-06fa90a9735c",
   "metadata": {},
   "source": [
    "You can change several contiguous elements in a list at one time using slice notation. Syntax: \n",
    "`a[m:n] = <iterable>`"
   ]
  },
  {
   "cell_type": "code",
   "execution_count": 68,
   "id": "e1083e87-26c5-4c52-b4fa-8f3dadb72753",
   "metadata": {},
   "outputs": [
    {
     "data": {
      "text/plain": [
       "['bar', 'baz', 'qux']"
      ]
     },
     "execution_count": 68,
     "metadata": {},
     "output_type": "execute_result"
    }
   ],
   "source": [
    "a = ['foo', 'bar', 'baz', 'qux', 'quux', 'corge']\n",
    "a[1:4]"
   ]
  },
  {
   "cell_type": "code",
   "execution_count": 69,
   "id": "eeaf8bc6-9d65-4506-a202-7f68e7007b48",
   "metadata": {},
   "outputs": [
    {
     "data": {
      "text/plain": [
       "['foo', 1.1, 2.2, 3.3, 4.4, 5.5, 'quux', 'corge']"
      ]
     },
     "execution_count": 69,
     "metadata": {},
     "output_type": "execute_result"
    }
   ],
   "source": [
    "# ['bar', 'baz', 'qux'] will be replaced by [1.1, 2.2, 3.3, 4.4, 5.5]\n",
    "a[1:4] = [1.1, 2.2, 3.3, 4.4, 5.5]\n",
    "a"
   ]
  },
  {
   "cell_type": "code",
   "execution_count": 70,
   "id": "62740d86-69cf-4bff-b12f-8e330627f319",
   "metadata": {},
   "outputs": [
    {
     "data": {
      "text/plain": [
       "[1.1, 2.2, 3.3, 4.4, 5.5]"
      ]
     },
     "execution_count": 70,
     "metadata": {},
     "output_type": "execute_result"
    }
   ],
   "source": [
    "a[1:6]"
   ]
  },
  {
   "cell_type": "code",
   "execution_count": 71,
   "id": "be1f4394-6f8b-421e-978e-4027e59c3eac",
   "metadata": {},
   "outputs": [
    {
     "data": {
      "text/plain": [
       "['foo', 'Bark!', 'quux', 'corge']"
      ]
     },
     "execution_count": 71,
     "metadata": {},
     "output_type": "execute_result"
    }
   ],
   "source": [
    "# all the number is replacd by ['Bark!']\n",
    "a[1:6] = ['Bark!']\n",
    "a"
   ]
  },
  {
   "cell_type": "code",
   "execution_count": 73,
   "id": "5b4d9b66-7073-4c38-9e85-311f0f1d8307",
   "metadata": {},
   "outputs": [
    {
     "data": {
      "text/plain": [
       "[2]"
      ]
     },
     "execution_count": 73,
     "metadata": {},
     "output_type": "execute_result"
    }
   ],
   "source": [
    "# the element 2 is replaced by [2.1, 2.2, 2.3]\n",
    "a = [1, 2, 3]\n",
    "a[1:2]"
   ]
  },
  {
   "cell_type": "code",
   "execution_count": 74,
   "id": "48254bc7-7d54-41c7-9b87-6865fdce79c0",
   "metadata": {},
   "outputs": [
    {
     "data": {
      "text/plain": [
       "[1, 2.1, 2.2, 2.3, 3]"
      ]
     },
     "execution_count": 74,
     "metadata": {},
     "output_type": "execute_result"
    }
   ],
   "source": [
    "a[1:2] = [2.1, 2.2, 2.3]\n",
    "a"
   ]
  },
  {
   "cell_type": "code",
   "execution_count": 76,
   "id": "54c972dc-58ee-4973-a681-eaa24fd000ee",
   "metadata": {},
   "outputs": [
    {
     "data": {
      "text/plain": [
       "[1, 2, 3, 4, 5, 6, 7, 8]"
      ]
     },
     "execution_count": 76,
     "metadata": {},
     "output_type": "execute_result"
    }
   ],
   "source": [
    "# insert without removing anything by specifying [n:n], \n",
    "# where you desire to insert the list\n",
    "# it pushes it (7 and behind in this case) to the right\n",
    "a = [1, 2, 7, 8]\n",
    "a[2:2] = [3, 4, 5, 6]\n",
    "a"
   ]
  },
  {
   "cell_type": "code",
   "execution_count": 79,
   "id": "07e63a8d-c058-42f8-9ea9-2c53e8ed27ac",
   "metadata": {},
   "outputs": [
    {
     "data": {
      "text/plain": [
       "['foo', 'corge']"
      ]
     },
     "execution_count": 79,
     "metadata": {},
     "output_type": "execute_result"
    }
   ],
   "source": [
    "# delete multiple elements by assigning to an empty list\n",
    "a = ['foo', 'bar', 'baz', 'qux', 'quux', 'corge']\n",
    "a[1:5] = []\n",
    "a"
   ]
  },
  {
   "cell_type": "code",
   "execution_count": 80,
   "id": "2fe19816-3a9e-4d47-91d1-542461afd93a",
   "metadata": {},
   "outputs": [
    {
     "data": {
      "text/plain": [
       "['foo', 'corge']"
      ]
     },
     "execution_count": 80,
     "metadata": {},
     "output_type": "execute_result"
    }
   ],
   "source": [
    "# same effect as del command with the same slice\n",
    "a = ['foo', 'bar', 'baz', 'qux', 'quux', 'corge']\n",
    "del a[1:5]\n",
    "a"
   ]
  },
  {
   "cell_type": "code",
   "execution_count": 81,
   "id": "cc5c5248-d268-411e-8852-e86f1612f608",
   "metadata": {},
   "outputs": [
    {
     "data": {
      "text/plain": [
       "['foo', 'bar', 'baz', 'qux', 'quux', 'corge', 'grault', 'garply']"
      ]
     },
     "execution_count": 81,
     "metadata": {},
     "output_type": "execute_result"
    }
   ],
   "source": [
    "# add items to the end\n",
    "a = ['foo', 'bar', 'baz', 'qux', 'quux', 'corge']\n",
    "\n",
    "a += ['grault', 'garply']\n",
    "a"
   ]
  },
  {
   "cell_type": "code",
   "execution_count": 82,
   "id": "e479f5fd-b57c-4322-bcbe-dd1578898519",
   "metadata": {},
   "outputs": [
    {
     "data": {
      "text/plain": [
       "[10, 20, 'foo', 'bar', 'baz', 'qux', 'quux', 'corge']"
      ]
     },
     "execution_count": 82,
     "metadata": {},
     "output_type": "execute_result"
    }
   ],
   "source": [
    "# add items to the start\n",
    "a = ['foo', 'bar', 'baz', 'qux', 'quux', 'corge']\n",
    "\n",
    "a = [10, 20] + a\n",
    "a"
   ]
  },
  {
   "cell_type": "code",
   "execution_count": 83,
   "id": "2e30ce5c-9027-44bd-9be5-5f698324b9cf",
   "metadata": {},
   "outputs": [
    {
     "ename": "TypeError",
     "evalue": "'int' object is not iterable",
     "output_type": "error",
     "traceback": [
      "\u001b[1;31m---------------------------------------------------------------------------\u001b[0m",
      "\u001b[1;31mTypeError\u001b[0m                                 Traceback (most recent call last)",
      "\u001b[1;32m<ipython-input-83-caa3151621d1>\u001b[0m in \u001b[0;36m<module>\u001b[1;34m\u001b[0m\n\u001b[0;32m      1\u001b[0m \u001b[0ma\u001b[0m \u001b[1;33m=\u001b[0m \u001b[1;33m[\u001b[0m\u001b[1;34m'foo'\u001b[0m\u001b[1;33m,\u001b[0m \u001b[1;34m'bar'\u001b[0m\u001b[1;33m,\u001b[0m \u001b[1;34m'baz'\u001b[0m\u001b[1;33m,\u001b[0m \u001b[1;34m'qux'\u001b[0m\u001b[1;33m,\u001b[0m \u001b[1;34m'quux'\u001b[0m\u001b[1;33m,\u001b[0m \u001b[1;34m'corge'\u001b[0m\u001b[1;33m]\u001b[0m\u001b[1;33m\u001b[0m\u001b[1;33m\u001b[0m\u001b[0m\n\u001b[1;32m----> 2\u001b[1;33m \u001b[0ma\u001b[0m \u001b[1;33m+=\u001b[0m \u001b[1;36m20\u001b[0m\u001b[1;33m\u001b[0m\u001b[1;33m\u001b[0m\u001b[0m\n\u001b[0m",
      "\u001b[1;31mTypeError\u001b[0m: 'int' object is not iterable"
     ]
    }
   ],
   "source": [
    "# lists can only concatenate with lists\n",
    "a = ['foo', 'bar', 'baz', 'qux', 'quux', 'corge']\n",
    "a += 20"
   ]
  },
  {
   "cell_type": "code",
   "execution_count": 84,
   "id": "dcd95ddb-a0fb-4dcb-913b-c5d5794932dc",
   "metadata": {},
   "outputs": [
    {
     "data": {
      "text/plain": [
       "['foo', 'bar', 'baz', 'qux', 'quux', 'corge', 20]"
      ]
     },
     "execution_count": 84,
     "metadata": {},
     "output_type": "execute_result"
    }
   ],
   "source": [
    "# specify a singleton list [20]\n",
    "a += [20]\n",
    "a"
   ]
  },
  {
   "cell_type": "markdown",
   "id": "31f35fd1-a232-438a-b187-7a71104a524b",
   "metadata": {},
   "source": [
    "Note: Technically, it isn’t quite correct to say a list must be concatenated with another list. More precisely, a list must be concatenated with an object that is iterable. \n",
    "\n",
    "Strings are also iterable. But the result is not what is expected. When a string is iterated through, the result is a list of its component characters. "
   ]
  },
  {
   "cell_type": "code",
   "execution_count": 99,
   "id": "77869d18-8ba4-4771-a1c1-17b5d3562b74",
   "metadata": {},
   "outputs": [
    {
     "ename": "TypeError",
     "evalue": "can only concatenate list (not \"str\") to list",
     "output_type": "error",
     "traceback": [
      "\u001b[1;31m---------------------------------------------------------------------------\u001b[0m",
      "\u001b[1;31mTypeError\u001b[0m                                 Traceback (most recent call last)",
      "\u001b[1;32m<ipython-input-99-0f66d1b97931>\u001b[0m in \u001b[0;36m<module>\u001b[1;34m\u001b[0m\n\u001b[0;32m      1\u001b[0m \u001b[1;31m# first of all, this doesn't work\u001b[0m\u001b[1;33m\u001b[0m\u001b[1;33m\u001b[0m\u001b[1;33m\u001b[0m\u001b[0m\n\u001b[0;32m      2\u001b[0m \u001b[0ma\u001b[0m \u001b[1;33m=\u001b[0m \u001b[1;33m[\u001b[0m\u001b[1;34m'foo'\u001b[0m\u001b[1;33m,\u001b[0m \u001b[1;34m'bar'\u001b[0m\u001b[1;33m,\u001b[0m \u001b[1;34m'baz'\u001b[0m\u001b[1;33m,\u001b[0m \u001b[1;34m'qux'\u001b[0m\u001b[1;33m,\u001b[0m \u001b[1;34m'quux'\u001b[0m\u001b[1;33m]\u001b[0m\u001b[1;33m\u001b[0m\u001b[1;33m\u001b[0m\u001b[0m\n\u001b[1;32m----> 3\u001b[1;33m \u001b[0ma\u001b[0m \u001b[1;33m+\u001b[0m \u001b[1;34m'foo'\u001b[0m\u001b[1;33m\u001b[0m\u001b[1;33m\u001b[0m\u001b[0m\n\u001b[0m",
      "\u001b[1;31mTypeError\u001b[0m: can only concatenate list (not \"str\") to list"
     ]
    }
   ],
   "source": [
    "# first of all, this doesn't work\n",
    "a = ['foo', 'bar', 'baz', 'qux', 'quux']\n",
    "a + 'foo'"
   ]
  },
  {
   "cell_type": "code",
   "execution_count": 85,
   "id": "04c81204-f382-434e-99ca-54926b47f20b",
   "metadata": {},
   "outputs": [
    {
     "data": {
      "text/plain": [
       "['foo', 'bar', 'baz', 'qux', 'quux', 'c', 'o', 'r', 'g', 'e']"
      ]
     },
     "execution_count": 85,
     "metadata": {},
     "output_type": "execute_result"
    }
   ],
   "source": [
    "# This modifys a in place\n",
    "a = ['foo', 'bar', 'baz', 'qux', 'quux']\n",
    "a += 'corge'\n",
    "a"
   ]
  },
  {
   "cell_type": "code",
   "execution_count": 86,
   "id": "1b7cbc58-b367-4d46-8895-43e7ccb7996f",
   "metadata": {},
   "outputs": [
    {
     "data": {
      "text/plain": [
       "['foo', 'bar', 'baz', 'qux', 'quux', 'corge']"
      ]
     },
     "execution_count": 86,
     "metadata": {},
     "output_type": "execute_result"
    }
   ],
   "source": [
    "# add it as a single unit in place\n",
    "a = ['foo', 'bar', 'baz', 'qux', 'quux']\n",
    "a += ['corge']\n",
    "a\n"
   ]
  },
  {
   "cell_type": "markdown",
   "id": "95c45331-5d29-48b1-935d-60df9bebbacb",
   "metadata": {},
   "source": [
    "#### `a.append(<obj>)`\n",
    "\n",
    "Appends an object to a list."
   ]
  },
  {
   "cell_type": "code",
   "execution_count": 87,
   "id": "028eeeb6-806b-44c1-bec7-017e9c6d0eef",
   "metadata": {},
   "outputs": [
    {
     "data": {
      "text/plain": [
       "['a', 'b', 123]"
      ]
     },
     "execution_count": 87,
     "metadata": {},
     "output_type": "execute_result"
    }
   ],
   "source": [
    "a = ['a', 'b']\n",
    "a.append(123)\n",
    "a"
   ]
  },
  {
   "cell_type": "code",
   "execution_count": 88,
   "id": "46a44d2f-cd9b-46b9-8759-8119e76d5d19",
   "metadata": {},
   "outputs": [
    {
     "name": "stdout",
     "output_type": "stream",
     "text": [
      "None\n"
     ]
    },
    {
     "data": {
      "text/plain": [
       "['a', 'b', 123]"
      ]
     },
     "execution_count": 88,
     "metadata": {},
     "output_type": "execute_result"
    }
   ],
   "source": [
    "# list methods modify the target list in place. They don't return a new list\n",
    "a = ['a', 'b']\n",
    "x = a.append(123)\n",
    "print(x)\n",
    "\n",
    "a"
   ]
  },
  {
   "cell_type": "markdown",
   "id": "a9c56f55-9a44-488e-a300-7ec2af2c5070",
   "metadata": {},
   "source": [
    "When the + operator is used to concatenate to a list, if the target operand is an **iterable**, then its elements are broken out and appended to the list individually."
   ]
  },
  {
   "cell_type": "code",
   "execution_count": 89,
   "id": "43744c91-1608-4643-9488-42f8605d7bbf",
   "metadata": {},
   "outputs": [
    {
     "data": {
      "text/plain": [
       "['a', 'b', 1, 2, 3]"
      ]
     },
     "execution_count": 89,
     "metadata": {},
     "output_type": "execute_result"
    }
   ],
   "source": [
    "a = ['a', 'b']\n",
    "a + [1, 2, 3]"
   ]
  },
  {
   "cell_type": "code",
   "execution_count": 90,
   "id": "56929b3f-5e07-48b3-92f1-3450b70f47a8",
   "metadata": {},
   "outputs": [
    {
     "data": {
      "text/plain": [
       "['a', 'b', [1, 2, 3]]"
      ]
     },
     "execution_count": 90,
     "metadata": {},
     "output_type": "execute_result"
    }
   ],
   "source": [
    "# The .append() method does not work that way! \n",
    "# An iterable is appended as a single object\n",
    "a = ['a', 'b']\n",
    "a.append([1, 2, 3])\n",
    "a"
   ]
  },
  {
   "cell_type": "code",
   "execution_count": 91,
   "id": "4baf8955-3aa1-41fc-8bda-ec6bd450f103",
   "metadata": {},
   "outputs": [
    {
     "data": {
      "text/plain": [
       "['a', 'b', 'foo']"
      ]
     },
     "execution_count": 91,
     "metadata": {},
     "output_type": "execute_result"
    }
   ],
   "source": [
    "# Thus, with .append(), you can append a string as a single entity\n",
    "a = ['a', 'b']\n",
    "a.append('foo')\n",
    "a"
   ]
  },
  {
   "cell_type": "markdown",
   "id": "938a1355-6f3f-402a-8e87-6ec40a1fccfd",
   "metadata": {},
   "source": [
    "#### `a.extend(<iterable>)`\n",
    "\n",
    "Extends a list with the objects from an iterable."
   ]
  },
  {
   "cell_type": "code",
   "execution_count": 101,
   "id": "91e2fb15-c52b-4453-a9cb-67f5fc37142c",
   "metadata": {},
   "outputs": [
    {
     "data": {
      "text/plain": [
       "['a', 'b', 1, 2, 3]"
      ]
     },
     "execution_count": 101,
     "metadata": {},
     "output_type": "execute_result"
    }
   ],
   "source": [
    "# .extend() works differently from .append(), where each item is added individually\n",
    "# .extend() behaves like the + operator. \n",
    "# More precisely, since it modifies the list in place, it behaves like the += operator\n",
    "a = ['a', 'b']\n",
    "a.extend([1, 2, 3])\n",
    "a"
   ]
  },
  {
   "cell_type": "markdown",
   "id": "9be44a97-e8f9-4eff-95f2-aa74882bdf18",
   "metadata": {},
   "source": [
    "#### `a.insert(<index>, <obj>)`\n",
    "\n",
    "Inserts an object into a list."
   ]
  },
  {
   "cell_type": "code",
   "execution_count": 102,
   "id": "20d5edbb-4683-44c8-9486-465d03445427",
   "metadata": {},
   "outputs": [
    {
     "data": {
      "text/plain": [
       "['foo', 'bar', 'baz', 3.14159, 'qux', 'quux', 'corge']"
      ]
     },
     "execution_count": 102,
     "metadata": {},
     "output_type": "execute_result"
    }
   ],
   "source": [
    "a = ['foo', 'bar', 'baz', 'qux', 'quux', 'corge']\n",
    "a.insert(3, 3.14159)\n",
    "a[3]\n",
    "\n",
    "a\n"
   ]
  },
  {
   "cell_type": "markdown",
   "id": "28712ca6-1013-468e-8fec-9e70077d033d",
   "metadata": {},
   "source": [
    "#### `a.remove(<obj>)`\n",
    "\n",
    "Removes an object from a list."
   ]
  },
  {
   "cell_type": "code",
   "execution_count": 106,
   "id": "0fcf86f0-31a9-4809-865b-6ec259929c5f",
   "metadata": {},
   "outputs": [
    {
     "data": {
      "text/plain": [
       "['foo', 'bar', 'qux', 'quux', 'corge', 'baz']"
      ]
     },
     "execution_count": 106,
     "metadata": {},
     "output_type": "execute_result"
    }
   ],
   "source": [
    "# only removes the first occurence\n",
    "a = ['foo', 'bar', 'baz', 'qux', 'quux', 'corge', 'baz']\n",
    "a.remove('baz')\n",
    "a"
   ]
  },
  {
   "cell_type": "code",
   "execution_count": 104,
   "id": "00b2cd2c-b7f7-42ce-94c3-5be32fb11b20",
   "metadata": {},
   "outputs": [
    {
     "ename": "ValueError",
     "evalue": "list.remove(x): x not in list",
     "output_type": "error",
     "traceback": [
      "\u001b[1;31m---------------------------------------------------------------------------\u001b[0m",
      "\u001b[1;31mValueError\u001b[0m                                Traceback (most recent call last)",
      "\u001b[1;32m<ipython-input-104-418f5cc41b36>\u001b[0m in \u001b[0;36m<module>\u001b[1;34m\u001b[0m\n\u001b[1;32m----> 1\u001b[1;33m \u001b[0ma\u001b[0m\u001b[1;33m.\u001b[0m\u001b[0mremove\u001b[0m\u001b[1;33m(\u001b[0m\u001b[1;34m'Bark!'\u001b[0m\u001b[1;33m)\u001b[0m\u001b[1;33m\u001b[0m\u001b[1;33m\u001b[0m\u001b[0m\n\u001b[0m",
      "\u001b[1;31mValueError\u001b[0m: list.remove(x): x not in list"
     ]
    }
   ],
   "source": [
    "# exception is raised if the obj isn't in a\n",
    "a.remove('Bark!')"
   ]
  },
  {
   "cell_type": "markdown",
   "id": "7c590326-a024-498e-be6b-117620996cc0",
   "metadata": {},
   "source": [
    "#### `a.pop(index=-1)`\n",
    "\n",
    "Removes an element from a list.\n",
    "- You can specify the index of the item to be removed\n",
    "- The method returns a value, the item being removed"
   ]
  },
  {
   "cell_type": "code",
   "execution_count": 109,
   "id": "4aca8740-8764-44de-887c-e2c0bf59e7f7",
   "metadata": {},
   "outputs": [
    {
     "data": {
      "text/plain": [
       "'corge'"
      ]
     },
     "execution_count": 109,
     "metadata": {},
     "output_type": "execute_result"
    }
   ],
   "source": [
    "a = ['foo', 'bar', 'baz', 'qux', 'quux', 'corge']\n",
    "\n",
    "a.pop()"
   ]
  },
  {
   "cell_type": "code",
   "execution_count": 110,
   "id": "fb2ebdb5-417c-4bf5-a9c1-653d69a1f22d",
   "metadata": {},
   "outputs": [
    {
     "data": {
      "text/plain": [
       "['foo', 'bar', 'baz', 'qux', 'quux']"
      ]
     },
     "execution_count": 110,
     "metadata": {},
     "output_type": "execute_result"
    }
   ],
   "source": [
    "a"
   ]
  },
  {
   "cell_type": "code",
   "execution_count": 111,
   "id": "8d35056c-2002-41f4-8e86-c4570bd31e13",
   "metadata": {},
   "outputs": [
    {
     "data": {
      "text/plain": [
       "'quux'"
      ]
     },
     "execution_count": 111,
     "metadata": {},
     "output_type": "execute_result"
    }
   ],
   "source": [
    "a.pop()"
   ]
  },
  {
   "cell_type": "code",
   "execution_count": 112,
   "id": "cf4f0a71-c83f-4d8f-81f6-a72d7e73c124",
   "metadata": {},
   "outputs": [
    {
     "data": {
      "text/plain": [
       "['foo', 'bar', 'baz', 'qux']"
      ]
     },
     "execution_count": 112,
     "metadata": {},
     "output_type": "execute_result"
    }
   ],
   "source": [
    "a"
   ]
  },
  {
   "cell_type": "code",
   "execution_count": 113,
   "id": "5ef1dbf5-10f3-45a0-bc23-3614b72aab5a",
   "metadata": {},
   "outputs": [
    {
     "data": {
      "text/plain": [
       "'bar'"
      ]
     },
     "execution_count": 113,
     "metadata": {},
     "output_type": "execute_result"
    }
   ],
   "source": [
    "a = ['foo', 'bar', 'baz', 'qux', 'quux', 'corge']\n",
    "\n",
    "a.pop(1)"
   ]
  },
  {
   "cell_type": "code",
   "execution_count": 114,
   "id": "5e749fdf-f1bd-4240-beb6-149031125789",
   "metadata": {},
   "outputs": [
    {
     "data": {
      "text/plain": [
       "['foo', 'baz', 'qux', 'quux', 'corge']"
      ]
     },
     "execution_count": 114,
     "metadata": {},
     "output_type": "execute_result"
    }
   ],
   "source": [
    "a"
   ]
  },
  {
   "cell_type": "code",
   "execution_count": 115,
   "id": "4a435936-e4b8-4f3d-9f1d-f4330c9f0399",
   "metadata": {},
   "outputs": [
    {
     "data": {
      "text/plain": [
       "'qux'"
      ]
     },
     "execution_count": 115,
     "metadata": {},
     "output_type": "execute_result"
    }
   ],
   "source": [
    "a.pop(-3)"
   ]
  },
  {
   "cell_type": "code",
   "execution_count": 116,
   "id": "61cbb226-c56b-4a5b-a8ae-85d2bb249e6d",
   "metadata": {},
   "outputs": [
    {
     "data": {
      "text/plain": [
       "['foo', 'baz', 'quux', 'corge']"
      ]
     },
     "execution_count": 116,
     "metadata": {},
     "output_type": "execute_result"
    }
   ],
   "source": [
    "a"
   ]
  },
  {
   "cell_type": "code",
   "execution_count": 118,
   "id": "5c9ee358-bcd7-492b-be12-e1e3185a5cf9",
   "metadata": {},
   "outputs": [
    {
     "data": {
      "text/plain": [
       "['foo', 'bar', 1, 2, 3, 'baz', 'qux', 'quux', 'corge']"
      ]
     },
     "execution_count": 118,
     "metadata": {},
     "output_type": "execute_result"
    }
   ],
   "source": [
    "# Lists are dynamic, grows as needed\n",
    "a = ['foo', 'bar', 'baz', 'qux', 'quux', 'corge']\n",
    "\n",
    "a[2:2] = [1, 2, 3]\n",
    "a"
   ]
  },
  {
   "cell_type": "code",
   "execution_count": 119,
   "id": "e4b2eacd-8e7d-43ba-a8b6-8fbda2c3c7f1",
   "metadata": {},
   "outputs": [
    {
     "data": {
      "text/plain": [
       "['foo', 'bar', 1, 2, 3, 'baz', 'qux', 'quux', 'corge', 3.14159]"
      ]
     },
     "execution_count": 119,
     "metadata": {},
     "output_type": "execute_result"
    }
   ],
   "source": [
    "a += [3.14159]\n",
    "a"
   ]
  },
  {
   "cell_type": "code",
   "execution_count": 120,
   "id": "0079f71a-af02-4c2b-b7fa-bc60628656d3",
   "metadata": {},
   "outputs": [
    {
     "data": {
      "text/plain": [
       "['foo', 'bar', 'qux', 'quux', 'corge']"
      ]
     },
     "execution_count": 120,
     "metadata": {},
     "output_type": "execute_result"
    }
   ],
   "source": [
    "# And it shrinks upon removal of items\n",
    "a = ['foo', 'bar', 'baz', 'qux', 'quux', 'corge']\n",
    "a[2:3] = []\n",
    "a"
   ]
  },
  {
   "cell_type": "code",
   "execution_count": 121,
   "id": "3e515ad0-3bdf-472a-8323-e2f76ce34466",
   "metadata": {},
   "outputs": [],
   "source": [
    "del a[0]"
   ]
  },
  {
   "cell_type": "code",
   "execution_count": 122,
   "id": "3c10ef89-83e3-472f-aa24-44e6b1005314",
   "metadata": {},
   "outputs": [
    {
     "data": {
      "text/plain": [
       "['bar', 'qux', 'quux', 'corge']"
      ]
     },
     "execution_count": 122,
     "metadata": {},
     "output_type": "execute_result"
    }
   ],
   "source": [
    "a"
   ]
  },
  {
   "cell_type": "markdown",
   "id": "32505646-782c-4611-913c-4d85c1b09abe",
   "metadata": {},
   "source": [
    "## Tuples"
   ]
  },
  {
   "cell_type": "markdown",
   "id": "fb1da948-c770-442c-8cc3-0f3c281c6078",
   "metadata": {},
   "source": [
    "### Defining and Using Tuples\n",
    "- Tuples are identical to lists in all respects\n",
    "- Tuples are defined by enclosing the elements in parentheses\n",
    "- Tuples are immutable"
   ]
  },
  {
   "cell_type": "code",
   "execution_count": 123,
   "id": "4e5107b6-5e0b-42ef-99e6-a31f2f149e5c",
   "metadata": {},
   "outputs": [
    {
     "data": {
      "text/plain": [
       "('foo', 'bar', 'baz', 'qux', 'quux', 'corge')"
      ]
     },
     "execution_count": 123,
     "metadata": {},
     "output_type": "execute_result"
    }
   ],
   "source": [
    "t = ('foo', 'bar', 'baz', 'qux', 'quux', 'corge')\n",
    "t"
   ]
  },
  {
   "cell_type": "code",
   "execution_count": 124,
   "id": "3be728af-9e05-47d4-996a-2cdecf74658c",
   "metadata": {},
   "outputs": [
    {
     "data": {
      "text/plain": [
       "'foo'"
      ]
     },
     "execution_count": 124,
     "metadata": {},
     "output_type": "execute_result"
    }
   ],
   "source": [
    "t[0]"
   ]
  },
  {
   "cell_type": "code",
   "execution_count": 125,
   "id": "589e0e0b-01ed-41a4-b5ac-dbba5c8363bb",
   "metadata": {},
   "outputs": [
    {
     "data": {
      "text/plain": [
       "'corge'"
      ]
     },
     "execution_count": 125,
     "metadata": {},
     "output_type": "execute_result"
    }
   ],
   "source": [
    "t[-1]"
   ]
  },
  {
   "cell_type": "code",
   "execution_count": 126,
   "id": "bb9ea096-9917-4257-97d5-9f68067105b8",
   "metadata": {},
   "outputs": [
    {
     "data": {
      "text/plain": [
       "('bar', 'qux', 'corge')"
      ]
     },
     "execution_count": 126,
     "metadata": {},
     "output_type": "execute_result"
    }
   ],
   "source": [
    "t[1::2]"
   ]
  },
  {
   "cell_type": "code",
   "execution_count": 127,
   "id": "80a5abbf-50b4-469e-83e9-981d4651cd39",
   "metadata": {},
   "outputs": [
    {
     "data": {
      "text/plain": [
       "('corge', 'quux', 'qux', 'baz', 'bar', 'foo')"
      ]
     },
     "execution_count": 127,
     "metadata": {},
     "output_type": "execute_result"
    }
   ],
   "source": [
    "t[::-1]"
   ]
  },
  {
   "cell_type": "markdown",
   "id": "dcfe773d-15aa-4404-8f66-cc218893a21b",
   "metadata": {},
   "source": [
    "Note: Even though tuples are defined using parentheses, you still index and slice tuples using square brackets, just as for strings and lists.\n",
    "\n",
    "verything you’ve learned about lists—they are ordered, they can contain arbitrary objects, they can be indexed and sliced, they can be nested—is true of tuples as well. But they can’t be modified."
   ]
  },
  {
   "cell_type": "code",
   "execution_count": 128,
   "id": "e417d0f8-b561-4439-9b4a-ff666a0a3329",
   "metadata": {},
   "outputs": [
    {
     "data": {
      "text/plain": [
       "tuple"
      ]
     },
     "execution_count": 128,
     "metadata": {},
     "output_type": "execute_result"
    }
   ],
   "source": [
    "# define an empty tuple\n",
    "t = ()\n",
    "type(t)"
   ]
  },
  {
   "cell_type": "code",
   "execution_count": 130,
   "id": "397fa7c7-0f2c-4dd9-9f9d-f7c435400165",
   "metadata": {},
   "outputs": [
    {
     "data": {
      "text/plain": [
       "tuple"
      ]
     },
     "execution_count": 130,
     "metadata": {},
     "output_type": "execute_result"
    }
   ],
   "source": [
    "# define a tuple with 2 items\n",
    "t = (1, 2)\n",
    "type(t)"
   ]
  },
  {
   "cell_type": "code",
   "execution_count": 131,
   "id": "b111bf7d-65f2-43c8-ad73-60c1f7c7375d",
   "metadata": {},
   "outputs": [
    {
     "data": {
      "text/plain": [
       "tuple"
      ]
     },
     "execution_count": 131,
     "metadata": {},
     "output_type": "execute_result"
    }
   ],
   "source": [
    "# define a tuple with multiple items\n",
    "t = (1, 2, 3, 4, 5)\n",
    "type(t)"
   ]
  },
  {
   "cell_type": "code",
   "execution_count": 132,
   "id": "ffa5f820-3ac1-4cae-b56b-4343640834d5",
   "metadata": {},
   "outputs": [
    {
     "data": {
      "text/plain": [
       "int"
      ]
     },
     "execution_count": 132,
     "metadata": {},
     "output_type": "execute_result"
    }
   ],
   "source": [
    "# define a tuple with one item...but don't work\n",
    "# since parentheses are also used for operator precedence in expressions\n",
    "t = (2)\n",
    "type(t)"
   ]
  },
  {
   "cell_type": "code",
   "execution_count": 133,
   "id": "7fb6bebc-bd91-4358-95a9-73ae034bc915",
   "metadata": {},
   "outputs": [
    {
     "data": {
      "text/plain": [
       "tuple"
      ]
     },
     "execution_count": 133,
     "metadata": {},
     "output_type": "execute_result"
    }
   ],
   "source": [
    "# adding a trailign comma resolve this issue\n",
    "t = (2,)\n",
    "type(t)"
   ]
  },
  {
   "cell_type": "code",
   "execution_count": 134,
   "id": "789d01ed-d687-4837-bb10-20dc5a583edd",
   "metadata": {},
   "outputs": [
    {
     "data": {
      "text/plain": [
       "2"
      ]
     },
     "execution_count": 134,
     "metadata": {},
     "output_type": "execute_result"
    }
   ],
   "source": [
    "t[0]"
   ]
  },
  {
   "cell_type": "code",
   "execution_count": 135,
   "id": "d58def01-e934-4eca-9c2b-a0bda7ea4135",
   "metadata": {},
   "outputs": [
    {
     "data": {
      "text/plain": [
       "2"
      ]
     },
     "execution_count": 135,
     "metadata": {},
     "output_type": "execute_result"
    }
   ],
   "source": [
    "t[-1]"
   ]
  },
  {
   "cell_type": "code",
   "execution_count": 136,
   "id": "a41670f8-bac0-4d8d-b4ba-33c6081435e6",
   "metadata": {},
   "outputs": [
    {
     "name": "stdout",
     "output_type": "stream",
     "text": [
      "(2,)\n"
     ]
    }
   ],
   "source": [
    "print(t)"
   ]
  },
  {
   "cell_type": "markdown",
   "id": "a46880cc-39aa-46d7-8250-30dba446b41b",
   "metadata": {},
   "source": [
    "### Tuple Assignment, Packing, and Unpacking"
   ]
  },
  {
   "cell_type": "code",
   "execution_count": 137,
   "id": "6c6f9c3a-7fcb-439f-9a8b-2623e1c08ad9",
   "metadata": {},
   "outputs": [],
   "source": [
    "t = ('foo', 'bar', 'baz', 'qux')"
   ]
  },
  {
   "cell_type": "code",
   "execution_count": 138,
   "id": "58f2aa22-b017-4d49-9d6c-97c71b4d22d9",
   "metadata": {},
   "outputs": [],
   "source": [
    "# number of variables on the left must match\n",
    "(s1, s2, s3, s4) = t"
   ]
  },
  {
   "cell_type": "code",
   "execution_count": 139,
   "id": "84154b8a-7de9-4397-a956-a74de7cb4585",
   "metadata": {},
   "outputs": [
    {
     "data": {
      "text/plain": [
       "'foo'"
      ]
     },
     "execution_count": 139,
     "metadata": {},
     "output_type": "execute_result"
    }
   ],
   "source": [
    "s1"
   ]
  },
  {
   "cell_type": "code",
   "execution_count": 140,
   "id": "3859bfbd-f9f1-45c0-951c-c5595325a123",
   "metadata": {},
   "outputs": [
    {
     "data": {
      "text/plain": [
       "'bar'"
      ]
     },
     "execution_count": 140,
     "metadata": {},
     "output_type": "execute_result"
    }
   ],
   "source": [
    "s2"
   ]
  },
  {
   "cell_type": "code",
   "execution_count": 141,
   "id": "a1176f9a-f894-4b31-b1e4-e25c2422587e",
   "metadata": {},
   "outputs": [
    {
     "data": {
      "text/plain": [
       "'baz'"
      ]
     },
     "execution_count": 141,
     "metadata": {},
     "output_type": "execute_result"
    }
   ],
   "source": [
    "s3"
   ]
  },
  {
   "cell_type": "code",
   "execution_count": 142,
   "id": "0a7e49e3-6c5a-400c-92ac-5a23aefb7452",
   "metadata": {},
   "outputs": [
    {
     "data": {
      "text/plain": [
       "'qux'"
      ]
     },
     "execution_count": 142,
     "metadata": {},
     "output_type": "execute_result"
    }
   ],
   "source": [
    "s4"
   ]
  },
  {
   "cell_type": "code",
   "execution_count": 143,
   "id": "f9d801a4-22f9-450b-9964-13a368f6211f",
   "metadata": {},
   "outputs": [],
   "source": [
    "# packing and unpacking is combined into one statement\n",
    "(s1, s2, s3, s4) = ('foo', 'bar', 'baz', 'qux')"
   ]
  },
  {
   "cell_type": "code",
   "execution_count": 144,
   "id": "791d11be-e077-4a56-b7b5-2dcfad77b4dd",
   "metadata": {},
   "outputs": [
    {
     "data": {
      "text/plain": [
       "'foo'"
      ]
     },
     "execution_count": 144,
     "metadata": {},
     "output_type": "execute_result"
    }
   ],
   "source": [
    "s1"
   ]
  },
  {
   "cell_type": "code",
   "execution_count": 145,
   "id": "b2ad3a61-0419-45b9-bc05-d9ba734689b7",
   "metadata": {},
   "outputs": [
    {
     "data": {
      "text/plain": [
       "(1, 2, 3)"
      ]
     },
     "execution_count": 145,
     "metadata": {},
     "output_type": "execute_result"
    }
   ],
   "source": [
    "# Python allows the parenthese to be left out\n",
    "t = 1, 2, 3\n",
    "t"
   ]
  },
  {
   "cell_type": "code",
   "execution_count": 146,
   "id": "1b232831-6827-41ac-bf07-8c506c6da7d3",
   "metadata": {},
   "outputs": [
    {
     "data": {
      "text/plain": [
       "(1, 2, 3)"
      ]
     },
     "execution_count": 146,
     "metadata": {},
     "output_type": "execute_result"
    }
   ],
   "source": [
    "x1, x2, x3 = t\n",
    "x1, x2, x3"
   ]
  },
  {
   "cell_type": "code",
   "execution_count": 147,
   "id": "6a77be30-c4b9-4080-800e-ca5a61239b32",
   "metadata": {},
   "outputs": [
    {
     "data": {
      "text/plain": [
       "(4, 5, 6)"
      ]
     },
     "execution_count": 147,
     "metadata": {},
     "output_type": "execute_result"
    }
   ],
   "source": [
    "x1, x2, x3 = 4, 5, 6\n",
    "x1, x2, x3"
   ]
  },
  {
   "cell_type": "code",
   "execution_count": 148,
   "id": "0e2856c7-f4ec-4ae6-a1a5-dbc39fa29e42",
   "metadata": {},
   "outputs": [
    {
     "data": {
      "text/plain": [
       "(2,)"
      ]
     },
     "execution_count": 148,
     "metadata": {},
     "output_type": "execute_result"
    }
   ],
   "source": [
    "t = 2,\n",
    "t"
   ]
  },
  {
   "cell_type": "code",
   "execution_count": 149,
   "id": "635fc0fb-fc99-4eaf-95ed-1202cfb8c779",
   "metadata": {},
   "outputs": [
    {
     "data": {
      "text/plain": [
       "('foo', 'bar')"
      ]
     },
     "execution_count": 149,
     "metadata": {},
     "output_type": "execute_result"
    }
   ],
   "source": [
    "# usualy way to swap values\n",
    "a = 'foo'\n",
    "b = 'bar'\n",
    "a, b"
   ]
  },
  {
   "cell_type": "code",
   "execution_count": 150,
   "id": "4670f3bf-c23f-4e97-bce2-2bc399cb6b28",
   "metadata": {},
   "outputs": [],
   "source": [
    "temp = a\n",
    "a = b\n",
    "b = temp"
   ]
  },
  {
   "cell_type": "code",
   "execution_count": 151,
   "id": "b628679e-38c1-4ea0-b6cc-bc22b0041c28",
   "metadata": {},
   "outputs": [
    {
     "data": {
      "text/plain": [
       "('bar', 'foo')"
      ]
     },
     "execution_count": 151,
     "metadata": {},
     "output_type": "execute_result"
    }
   ],
   "source": [
    "a, b"
   ]
  },
  {
   "cell_type": "code",
   "execution_count": null,
   "id": "8b315e69-d168-4749-8999-3b82175e4c44",
   "metadata": {},
   "outputs": [],
   "source": [
    "# Idiomatic pythonic way\n",
    "a = 'foo'\n",
    "b = 'bar'\n",
    "a, b"
   ]
  },
  {
   "cell_type": "code",
   "execution_count": 152,
   "id": "ebf2af4a-b38e-4f59-9329-b077a27a0da4",
   "metadata": {},
   "outputs": [
    {
     "data": {
      "text/plain": [
       "('foo', 'bar')"
      ]
     },
     "execution_count": 152,
     "metadata": {},
     "output_type": "execute_result"
    }
   ],
   "source": [
    "a, b = b, a\n",
    "\n",
    "a, b"
   ]
  },
  {
   "cell_type": "code",
   "execution_count": null,
   "id": "bde24885-ba0a-4f41-955c-c8e4d0fa2d48",
   "metadata": {},
   "outputs": [],
   "source": []
  },
  {
   "cell_type": "code",
   "execution_count": null,
   "id": "a862eb33-c707-4397-bc92-8f30c195e179",
   "metadata": {},
   "outputs": [],
   "source": []
  }
 ],
 "metadata": {
  "kernelspec": {
   "display_name": "Python 3",
   "language": "python",
   "name": "python3"
  },
  "language_info": {
   "codemirror_mode": {
    "name": "ipython",
    "version": 3
   },
   "file_extension": ".py",
   "mimetype": "text/x-python",
   "name": "python",
   "nbconvert_exporter": "python",
   "pygments_lexer": "ipython3",
   "version": "3.8.10"
  }
 },
 "nbformat": 4,
 "nbformat_minor": 5
}
