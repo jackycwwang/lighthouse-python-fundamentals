{
 "cells": [
  {
   "cell_type": "markdown",
   "id": "4869ecdd-6898-41d2-8af2-679f8b0418ee",
   "metadata": {},
   "source": [
    "# Kata 1 - Sum the Largest Numbers"
   ]
  },
  {
   "cell_type": "code",
   "execution_count": 4,
   "id": "e908d712-9cbe-4ef3-82d4-d0374d484c0c",
   "metadata": {},
   "outputs": [],
   "source": [
    "def sumLargestNumbers(nums):\n",
    "    sorted_nums = sorted(nums, reverse=True)\n",
    "    return sorted_nums[0] + sorted_nums[1]"
   ]
  },
  {
   "cell_type": "code",
   "execution_count": 6,
   "id": "f1549e87-d981-4bc8-b542-f200824ff11f",
   "metadata": {},
   "outputs": [
    {
     "name": "stdout",
     "output_type": "stream",
     "text": [
      "11\n",
      "5\n",
      "126\n"
     ]
    }
   ],
   "source": [
    "print(sumLargestNumbers([1, 10]))\n",
    "print(sumLargestNumbers([1, 2, 3]))\n",
    "print(sumLargestNumbers([10, 4, 34, 6, 92, 2]))"
   ]
  },
  {
   "cell_type": "markdown",
   "id": "8808e61e-ed80-4e27-a7b1-01c75fb364f7",
   "metadata": {},
   "source": [
    "# Kata 2 - Conditional sums"
   ]
  },
  {
   "cell_type": "code",
   "execution_count": 13,
   "id": "893c5537-d49f-4e3c-bec8-d95cff880e08",
   "metadata": {},
   "outputs": [],
   "source": [
    "def conditionalSum(values, condition):\n",
    "    if condition == 'even':\n",
    "        return sum(filter(lambda x: (x % 2 == 0), values))\n",
    "    else:\n",
    "        return sum(filter(lambda x: (x % 2 != 0), values))"
   ]
  },
  {
   "cell_type": "code",
   "execution_count": 14,
   "id": "f595ec70-6d7b-4c2c-9989-310cbaaa67ad",
   "metadata": {},
   "outputs": [
    {
     "name": "stdout",
     "output_type": "stream",
     "text": [
      "6\n",
      "9\n",
      "144\n",
      "0\n"
     ]
    }
   ],
   "source": [
    "print(conditionalSum([1, 2, 3, 4, 5], \"even\"))\n",
    "print(conditionalSum([1, 2, 3, 4, 5], \"odd\"))\n",
    "print(conditionalSum([13, 88, 12, 44, 99], \"even\"))\n",
    "print(conditionalSum([], \"odd\"))"
   ]
  },
  {
   "cell_type": "markdown",
   "id": "c59f1dc8-63eb-4067-ae1d-967dd9ec2c1b",
   "metadata": {},
   "source": [
    "# Kata 3 - Vowels"
   ]
  },
  {
   "cell_type": "code",
   "execution_count": 25,
   "id": "99af1558-2388-44a6-a896-a6ee6be18826",
   "metadata": {},
   "outputs": [],
   "source": [
    "def numberOfVowels(data):\n",
    "    return data.count('a') + data.count('e') + data.count('i') +\\\n",
    "           data.count('o') + data.count('u')"
   ]
  },
  {
   "cell_type": "code",
   "execution_count": 26,
   "id": "8224c7f0-2765-498e-8364-9eda22203643",
   "metadata": {},
   "outputs": [
    {
     "name": "stdout",
     "output_type": "stream",
     "text": [
      "3\n",
      "5\n",
      "5\n"
     ]
    }
   ],
   "source": [
    "print(numberOfVowels(\"orange\"))\n",
    "print(numberOfVowels(\"lighthouse labs\"))\n",
    "print(numberOfVowels(\"aeiou\"))"
   ]
  },
  {
   "cell_type": "markdown",
   "id": "f1146455-c13b-4cc4-afa8-fbf1b1ffc35e",
   "metadata": {},
   "source": [
    "# Kata 4 - Instructors Names"
   ]
  },
  {
   "cell_type": "code",
   "execution_count": 63,
   "id": "6ef72d41-b077-4ab6-9959-eddc9cec8725",
   "metadata": {},
   "outputs": [],
   "source": [
    "def instructorWithLongestName(instructors):\n",
    "    name_lens = list(map(lambda x: len(x['name']), instructors))    \n",
    "    ind = name_lens.index(max(name_lens))\n",
    "    return instructors[ind]"
   ]
  },
  {
   "cell_type": "code",
   "execution_count": 64,
   "id": "497b711e-2325-4421-afe4-4c60b3f041bc",
   "metadata": {},
   "outputs": [
    {
     "name": "stdout",
     "output_type": "stream",
     "text": [
      "{'name': 'Jeremiah', 'course': 'Data'}\n"
     ]
    }
   ],
   "source": [
    "print(instructorWithLongestName([\n",
    "  {\"name\": \"Samuel\", \"course\": \"iOS\"},\n",
    "  {\"name\": \"Jeremiah\", \"course\": \"Data\"},\n",
    "  {\"name\": \"Ophilia\", \"course\": \"Web\"},\n",
    "  {\"name\": \"Donald\", \"course\": \"Web\"}\n",
    "]))"
   ]
  },
  {
   "cell_type": "code",
   "execution_count": 65,
   "id": "2f5fa811-99cf-490d-8ef4-0b4fae25485c",
   "metadata": {},
   "outputs": [
    {
     "name": "stdout",
     "output_type": "stream",
     "text": [
      "{'name': 'Domascus', 'course': 'Web'}\n"
     ]
    }
   ],
   "source": [
    "print(instructorWithLongestName([\n",
    "  {\"name\": \"Matthew\", \"course\": \"Data\"},\n",
    "  {\"name\": \"David\", \"course\": \"iOS\"},\n",
    "  {\"name\": \"Domascus\", \"course\": \"Web\"}\n",
    "]))"
   ]
  },
  {
   "cell_type": "markdown",
   "id": "e8d21a2e-73ee-4257-a805-76f6757437b6",
   "metadata": {},
   "source": [
    "# Kata 5 - Percent Encoded String"
   ]
  },
  {
   "cell_type": "code",
   "execution_count": 84,
   "id": "68cf3c99-2f3e-4152-9b6b-aebbbdc0ad48",
   "metadata": {},
   "outputs": [],
   "source": [
    "def urlEncode(text):    \n",
    "    txt_list = list(text.strip())\n",
    "    encoded_list = txt_list.copy()\n",
    "    for i, ch in enumerate(txt_list):  \n",
    "        if ch == ' ':\n",
    "            encoded_list[i] = '%20'\n",
    "    return ''.join(encoded_list) "
   ]
  },
  {
   "cell_type": "code",
   "execution_count": 85,
   "id": "7745969e-f6ed-4a02-93cb-6370a593af69",
   "metadata": {},
   "outputs": [
    {
     "name": "stdout",
     "output_type": "stream",
     "text": [
      "Lighthouse%20Labs\n",
      "Lighthouse%20Labs\n",
      "blue%20is%20greener%20than%20purple%20for%20sure\n"
     ]
    }
   ],
   "source": [
    "print(urlEncode(\"Lighthouse Labs\"))\n",
    "print(urlEncode(\" Lighthouse Labs  \"))\n",
    "print(urlEncode(\"blue is greener than purple for sure\"))"
   ]
  },
  {
   "cell_type": "markdown",
   "id": "4e59ab07-e3a7-4e8d-8964-6c286f2ff08a",
   "metadata": {},
   "source": [
    "# Kata 6 - SmartParking"
   ]
  },
  {
   "cell_type": "code",
   "execution_count": 139,
   "id": "5b4a04fe-0fe4-4c64-aa9a-33c9f60cd8a1",
   "metadata": {},
   "outputs": [],
   "source": [
    "def whereCanIPark(spots, vehicle):\n",
    "    v = ''\n",
    "    if vehicle == 'regular':\n",
    "        v = 'R'\n",
    "    elif vehicle == 'small':\n",
    "        v = 'S'\n",
    "    else:\n",
    "        v = 'M'\n",
    "    \n",
    "    for i, row in enumerate(spots):        \n",
    "        if v in row:\n",
    "            ind = row.index(v)            \n",
    "            return list((ind, i))        \n",
    "    return 'false'    "
   ]
  },
  {
   "cell_type": "code",
   "execution_count": 140,
   "id": "fe6f8348-f255-413f-9213-29683216a516",
   "metadata": {},
   "outputs": [
    {
     "name": "stdout",
     "output_type": "stream",
     "text": [
      "[4, 0]\n"
     ]
    }
   ],
   "source": [
    "print(whereCanIPark(\n",
    "  [\n",
    "    # COLUMNS ARE X\n",
    "    # 0    1    2    3    4    5\n",
    "    ['s', 's', 's', 'S', 'R', 'M'], # 0 ROWS ARE Y\n",
    "    ['s', 'M', 's', 'S', 'r', 'M'], # 1\n",
    "    ['s', 'M', 's', 'S', 'r', 'm'], # 2\n",
    "    ['S', 'r', 's', 'm', 'r', 'M'], # 3\n",
    "    ['S', 'r', 's', 'm', 'r', 'M'], # 4\n",
    "    ['S', 'r', 'S', 'M', 'M', 'S']  # 5\n",
    "  ],\n",
    "  'regular'\n",
    "))"
   ]
  },
  {
   "cell_type": "code",
   "execution_count": 141,
   "id": "94403369-e537-433a-8038-22365f8adacb",
   "metadata": {},
   "outputs": [
    {
     "name": "stdout",
     "output_type": "stream",
     "text": [
      "false\n"
     ]
    }
   ],
   "source": [
    "print(whereCanIPark(\n",
    "  [\n",
    "    ['M', 'M', 'M', 'M'],\n",
    "    ['M', 's', 'M', 'M'],\n",
    "    ['M', 'M', 'M', 'M'],\n",
    "    ['M', 'M', 'r', 'M']\n",
    "  ],\n",
    "  'small'\n",
    "))"
   ]
  },
  {
   "cell_type": "code",
   "execution_count": 142,
   "id": "ce01dc0a-134d-4c69-b53b-37d481a92bc1",
   "metadata": {},
   "outputs": [
    {
     "name": "stdout",
     "output_type": "stream",
     "text": [
      "[3, 5]\n"
     ]
    }
   ],
   "source": [
    "print(whereCanIPark(\n",
    "  [\n",
    "    ['s', 's', 's', 's', 's', 's'],\n",
    "    ['s', 'm', 's', 'S', 'r', 's'],\n",
    "    ['s', 'm', 's', 'S', 'r', 's'],\n",
    "    ['S', 'r', 's', 'm', 'r', 's'],\n",
    "    ['S', 'r', 's', 'm', 'R', 's'],\n",
    "    ['S', 'r', 'S', 'M', 'm', 'S']\n",
    "  ],\n",
    "  'motorcycle'\n",
    "))"
   ]
  },
  {
   "cell_type": "code",
   "execution_count": 97,
   "id": "648cbdc9-8d49-470a-9759-75785b624df4",
   "metadata": {},
   "outputs": [],
   "source": [
    "d2 =  [\n",
    "    # COLUMNS ARE X\n",
    "    # 0    1    2    3    4    5\n",
    "    ['s', 's', 's', 'S', 'R', 'M'], # 0 ROWS ARE Y\n",
    "    ['s', 'M', 's', 'S', 'r', 'M'], # 1\n",
    "    ['s', 'M', 's', 'S', 'r', 'm'], # 2\n",
    "    ['S', 'r', 's', 'm', 'r', 'M'], # 3\n",
    "    ['S', 'r', 's', 'm', 'r', 'M'], # 4\n",
    "    ['S', 'r', 'S', 'M', 'M', 'S']  # 5\n",
    "  ]"
   ]
  },
  {
   "cell_type": "code",
   "execution_count": 99,
   "id": "b1af1095-2fb7-4897-b135-848573e5cea0",
   "metadata": {},
   "outputs": [
    {
     "name": "stdout",
     "output_type": "stream",
     "text": [
      "[3, 0]\n"
     ]
    }
   ],
   "source": [
    "for i, d1 in enumerate(d2):\n",
    "    if 'S' in d1:\n",
    "        ind = d1.index('S')\n",
    "        print(list((ind, i)))\n",
    "        break\n",
    "    "
   ]
  },
  {
   "cell_type": "code",
   "execution_count": null,
   "id": "b842b366-1937-4c26-ad8f-b028cb486c34",
   "metadata": {},
   "outputs": [],
   "source": []
  }
 ],
 "metadata": {
  "kernelspec": {
   "display_name": "Python 3",
   "language": "python",
   "name": "python3"
  },
  "language_info": {
   "codemirror_mode": {
    "name": "ipython",
    "version": 3
   },
   "file_extension": ".py",
   "mimetype": "text/x-python",
   "name": "python",
   "nbconvert_exporter": "python",
   "pygments_lexer": "ipython3",
   "version": "3.8.10"
  }
 },
 "nbformat": 4,
 "nbformat_minor": 5
}
