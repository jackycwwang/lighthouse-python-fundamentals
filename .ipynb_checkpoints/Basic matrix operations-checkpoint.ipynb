{
 "cells": [
  {
   "cell_type": "markdown",
   "id": "1d76a2a9-7ed8-41e7-90f1-5be0b05a0bef",
   "metadata": {},
   "source": [
    "# Basic matrix operations with Numpy"
   ]
  },
  {
   "cell_type": "markdown",
   "id": "426c3244-53bf-4d2e-afff-c4cbd18eb845",
   "metadata": {},
   "source": [
    "## Creating Vectors and Matrices with Numpy"
   ]
  },
  {
   "cell_type": "code",
   "execution_count": 1,
   "id": "3d09958e-98d8-420a-b7f1-986befc895fa",
   "metadata": {},
   "outputs": [],
   "source": [
    "import numpy as np"
   ]
  },
  {
   "cell_type": "code",
   "execution_count": 2,
   "id": "c8defb60-14cd-4663-a260-7d1a04e9604a",
   "metadata": {},
   "outputs": [],
   "source": [
    "# 1-dimensional array\n",
    "x = np.array([1, 2, 3, 4])"
   ]
  },
  {
   "cell_type": "code",
   "execution_count": 3,
   "id": "de7d22d2-6bed-4c87-a717-75b729db2540",
   "metadata": {},
   "outputs": [
    {
     "data": {
      "text/plain": [
       "array([[1, 2],\n",
       "       [3, 4],\n",
       "       [5, 6]])"
      ]
     },
     "execution_count": 3,
     "metadata": {},
     "output_type": "execute_result"
    }
   ],
   "source": [
    "# 2-dimensional array\n",
    "A = np.array([[1,2], [3,4],[5,6]])\n",
    "A"
   ]
  },
  {
   "cell_type": "code",
   "execution_count": 4,
   "id": "580590e7-adc5-4662-8bb2-2026f8e19652",
   "metadata": {},
   "outputs": [
    {
     "data": {
      "text/plain": [
       "numpy.ndarray"
      ]
     },
     "execution_count": 4,
     "metadata": {},
     "output_type": "execute_result"
    }
   ],
   "source": [
    "type(A)"
   ]
  },
  {
   "cell_type": "markdown",
   "id": "46dfaab0-146a-4a91-b057-2e898c6c7d3b",
   "metadata": {},
   "source": [
    "*ndarray* means n-dimensional array."
   ]
  },
  {
   "cell_type": "markdown",
   "id": "23ce3acb-4f07-4c66-b2b7-a1161d15cf5b",
   "metadata": {},
   "source": [
    "## Shape\n",
    "The shape of an array tells us the number of values for each dimension. For a 2-dimensional array, it will give us the number of rows and the number of columns."
   ]
  },
  {
   "cell_type": "code",
   "execution_count": 5,
   "id": "051a277a-f01f-4871-93a7-fb6f1a16b5a1",
   "metadata": {},
   "outputs": [
    {
     "data": {
      "text/plain": [
       "(3, 2)"
      ]
     },
     "execution_count": 5,
     "metadata": {},
     "output_type": "execute_result"
    }
   ],
   "source": [
    "# 2 dimensions (shown as 2-tuple), each shows the number of values for each dimension\n",
    "A.shape"
   ]
  },
  {
   "cell_type": "code",
   "execution_count": 6,
   "id": "5dd53ed2-a99a-427f-912d-31fd3db18753",
   "metadata": {},
   "outputs": [
    {
     "data": {
      "text/plain": [
       "(4,)"
      ]
     },
     "execution_count": 6,
     "metadata": {},
     "output_type": "execute_result"
    }
   ],
   "source": [
    "x.shape"
   ]
  },
  {
   "cell_type": "markdown",
   "id": "44fd3163-db90-4eb4-a29e-7ac80997de82",
   "metadata": {},
   "source": [
    "## Transposition of a Matrix"
   ]
  },
  {
   "cell_type": "code",
   "execution_count": 8,
   "id": "9ca88c09-70b1-49ae-96a9-b584d1bd1b4b",
   "metadata": {},
   "outputs": [
    {
     "data": {
      "text/plain": [
       "array([[1, 3, 5],\n",
       "       [2, 4, 6]])"
      ]
     },
     "execution_count": 8,
     "metadata": {},
     "output_type": "execute_result"
    }
   ],
   "source": [
    "A_T = A.T\n",
    "A_T"
   ]
  },
  {
   "cell_type": "code",
   "execution_count": 9,
   "id": "ef5b8114-63cb-42fd-baea-3663dbdded8e",
   "metadata": {},
   "outputs": [
    {
     "data": {
      "text/plain": [
       "array([[1, 3, 5],\n",
       "       [2, 4, 6]])"
      ]
     },
     "execution_count": 9,
     "metadata": {},
     "output_type": "execute_result"
    }
   ],
   "source": [
    "# or\n",
    "A_T = A.transpose()\n",
    "A_T"
   ]
  },
  {
   "cell_type": "code",
   "execution_count": 10,
   "id": "f19adf74-4ace-4bf7-a01b-9e110da6e39d",
   "metadata": {},
   "outputs": [
    {
     "data": {
      "text/plain": [
       "(2, 3)"
      ]
     },
     "execution_count": 10,
     "metadata": {},
     "output_type": "execute_result"
    }
   ],
   "source": [
    "A_T.shape"
   ]
  },
  {
   "cell_type": "markdown",
   "id": "31153ef8-9d7f-4a5c-b993-660420f34d53",
   "metadata": {},
   "source": [
    "## Matrix Addition"
   ]
  },
  {
   "cell_type": "code",
   "execution_count": 11,
   "id": "bfab75ee-2f44-421a-91ae-7150bb12bff0",
   "metadata": {},
   "outputs": [
    {
     "data": {
      "text/plain": [
       "array([[2, 5],\n",
       "       [7, 4],\n",
       "       [4, 3]])"
      ]
     },
     "execution_count": 11,
     "metadata": {},
     "output_type": "execute_result"
    }
   ],
   "source": [
    "B = np.array([[2, 5], [7, 4], [4, 3]])\n",
    "B"
   ]
  },
  {
   "cell_type": "code",
   "execution_count": 12,
   "id": "a3f19934-ebe9-4a3b-91c6-56a2b20d9c09",
   "metadata": {},
   "outputs": [
    {
     "data": {
      "text/plain": [
       "array([[ 3,  7],\n",
       "       [10,  8],\n",
       "       [ 9,  9]])"
      ]
     },
     "execution_count": 12,
     "metadata": {},
     "output_type": "execute_result"
    }
   ],
   "source": [
    "C = A + B\n",
    "C"
   ]
  },
  {
   "cell_type": "code",
   "execution_count": 14,
   "id": "1d2b4fa6-5aa5-4cfa-9af3-fef8d361c970",
   "metadata": {},
   "outputs": [
    {
     "data": {
      "text/plain": [
       "array([[2, 3],\n",
       "       [4, 5],\n",
       "       [6, 7]])"
      ]
     },
     "execution_count": 14,
     "metadata": {},
     "output_type": "execute_result"
    }
   ],
   "source": [
    "D = A + 1\n",
    "D"
   ]
  },
  {
   "cell_type": "markdown",
   "id": "f8df4193-f826-486a-a55e-0c648579007b",
   "metadata": {},
   "source": [
    "Numpy can handle operations on arrays of different shapes. A smaller array will be extended to match the shape of a bigger one. This is called broadcasting. The advantage is that it is done under the hood – in C (like any other vectorized operation in Numpy). Actually, we've already used broadcasting in the example above. The scalar was converted to an array of the same shape as the matrix A."
   ]
  },
  {
   "attachments": {
    "7de376ee-9f3a-4152-9f33-40296b98f55e.png": {
     "image/png": "[encoded data removed]"
    }
   },
   "cell_type": "markdown",
   "id": "839c1121-f0c7-4f9f-b2de-7b28234a8185",
   "metadata": {},
   "source": [
    "![image.png](attachment:7de376ee-9f3a-4152-9f33-40296b98f55e.png)"
   ]
  },
  {
   "cell_type": "markdown",
   "id": "6edaf1af-0c1d-4807-85ca-1226893cd9ec",
   "metadata": {},
   "source": [
    "### np.reshape():\n",
    "The new shape should be compatible with the original shape. If an integer, then the result will be a 1-D array of that length. One shape dimension can be -1. In this case, the value is inferred from the length of the array and remaining dimensions."
   ]
  },
  {
   "cell_type": "code",
   "execution_count": 17,
   "id": "37f4cb3a-07fe-4a8e-9b3a-f2dbe33ee89d",
   "metadata": {},
   "outputs": [],
   "source": [
    "E = np.array([1,1,1,1])\n",
    "F = np.array([2,2,2,2])"
   ]
  },
  {
   "cell_type": "code",
   "execution_count": 47,
   "id": "ea2cd41a-86c9-4dea-b3a0-dff9011082ec",
   "metadata": {},
   "outputs": [
    {
     "data": {
      "text/plain": [
       "array([[2],\n",
       "       [2],\n",
       "       [2],\n",
       "       [2]])"
      ]
     },
     "execution_count": 47,
     "metadata": {},
     "output_type": "execute_result"
    }
   ],
   "source": [
    "# use F.reshape(4,1) or F.reshape(-1,1), \n",
    "# the -1 means \"this dimension is unspecified and inferred by other dimensions\"\n",
    "F_T = F.reshape(-1,1)\n",
    "F_T"
   ]
  },
  {
   "cell_type": "code",
   "execution_count": 42,
   "id": "7e75a278-290c-4833-89c4-e4a2f37de239",
   "metadata": {},
   "outputs": [
    {
     "data": {
      "text/plain": [
       "array([[2, 5, 1, 2],\n",
       "       [7, 4, 1, 2],\n",
       "       [4, 3, 1, 2],\n",
       "       [5, 6, 1, 2],\n",
       "       [7, 8, 1, 2]])"
      ]
     },
     "execution_count": 42,
     "metadata": {},
     "output_type": "execute_result"
    }
   ],
   "source": [
    "# Example using .reshape()\n",
    "G = np.array([[2, 5, 1, 2], [7, 4, 1, 2], [4, 3, 1, 2], [5, 6, 1, 2], [7, 8, 1, 2]])\n",
    "G"
   ]
  },
  {
   "cell_type": "code",
   "execution_count": 43,
   "id": "e79531c8-3933-4f7a-ad35-2ac94e3640db",
   "metadata": {},
   "outputs": [
    {
     "data": {
      "text/plain": [
       "(5, 4)"
      ]
     },
     "execution_count": 43,
     "metadata": {},
     "output_type": "execute_result"
    }
   ],
   "source": [
    "G.shape"
   ]
  },
  {
   "cell_type": "code",
   "execution_count": 49,
   "id": "7f65a107-ec98-4191-b596-9007212a483c",
   "metadata": {},
   "outputs": [
    {
     "data": {
      "text/plain": [
       "array([[2, 5],\n",
       "       [1, 2],\n",
       "       [7, 4],\n",
       "       [1, 2],\n",
       "       [4, 3],\n",
       "       [1, 2],\n",
       "       [5, 6],\n",
       "       [1, 2],\n",
       "       [7, 8],\n",
       "       [1, 2]])"
      ]
     },
     "execution_count": 49,
     "metadata": {},
     "output_type": "execute_result"
    }
   ],
   "source": [
    "# in this case, -1 will be inferred by 10 since G's shape is (5,4) and there are 5*4=20 components\n",
    "G.reshape(-1, 2)"
   ]
  },
  {
   "cell_type": "code",
   "execution_count": 33,
   "id": "dff64e10-17ae-4e02-b707-d63f53dfffad",
   "metadata": {},
   "outputs": [
    {
     "data": {
      "text/plain": [
       "array([[2],\n",
       "       [2],\n",
       "       [2],\n",
       "       [2]])"
      ]
     },
     "execution_count": 33,
     "metadata": {},
     "output_type": "execute_result"
    }
   ],
   "source": [
    "F_T"
   ]
  },
  {
   "cell_type": "code",
   "execution_count": 30,
   "id": "d5323182-e7e9-4dbc-9db6-1dc1600c9797",
   "metadata": {},
   "outputs": [
    {
     "data": {
      "text/plain": [
       "array([[3, 3, 3, 3],\n",
       "       [3, 3, 3, 3],\n",
       "       [3, 3, 3, 3],\n",
       "       [3, 3, 3, 3]])"
      ]
     },
     "execution_count": 30,
     "metadata": {},
     "output_type": "execute_result"
    }
   ],
   "source": [
    "E + F_T"
   ]
  },
  {
   "cell_type": "markdown",
   "id": "a2741e05-879f-4003-a22c-b34d9bd44379",
   "metadata": {},
   "source": [
    "## Matrix Multiplication\n",
    "A matrix product is also called a dot product."
   ]
  },
  {
   "cell_type": "code",
   "execution_count": 50,
   "id": "7b41d3ee-6483-4082-a15c-aee07c7d4558",
   "metadata": {},
   "outputs": [],
   "source": [
    "A = np.array([[1, 2], [3, 4], [5, 6]])\n",
    "B = np.array([[2], [4]])"
   ]
  },
  {
   "cell_type": "code",
   "execution_count": 51,
   "id": "3ae6cdc0-c620-4d77-956b-5e501a7fe843",
   "metadata": {},
   "outputs": [
    {
     "data": {
      "text/plain": [
       "array([[10],\n",
       "       [22],\n",
       "       [34]])"
      ]
     },
     "execution_count": 51,
     "metadata": {},
     "output_type": "execute_result"
    }
   ],
   "source": [
    "C = np.dot(A, B) \n",
    "C"
   ]
  },
  {
   "cell_type": "markdown",
   "id": "446c153f-5996-43f5-9da0-f08db742eb59",
   "metadata": {},
   "source": [
    "## Identity Matrices\n",
    "An identity matrix **In** is a special square (nxn) matrix which has 1s on the main diagonal and 0s everywhere else."
   ]
  },
  {
   "cell_type": "code",
   "execution_count": 53,
   "id": "c355e55c-df99-4113-b3cb-fcba470c5f83",
   "metadata": {},
   "outputs": [
    {
     "data": {
      "text/plain": [
       "array([[1., 0., 0.],\n",
       "       [0., 1., 0.],\n",
       "       [0., 0., 1.]])"
      ]
     },
     "execution_count": 53,
     "metadata": {},
     "output_type": "execute_result"
    }
   ],
   "source": [
    "I = np.eye(3) \n",
    "I"
   ]
  },
  {
   "cell_type": "markdown",
   "id": "6849014b-e6a1-450f-b22e-7145f7d0aa52",
   "metadata": {},
   "source": [
    "## Determinant\n",
    "To compute a **determinant** of a matrix using `Numpy`, we have to use the **linalg module**. The **numpy.linalg** module specializes in linear algebra with matrices and vectors."
   ]
  },
  {
   "cell_type": "code",
   "execution_count": 54,
   "id": "3ebd0ffa-0ee7-41e3-a636-b1d6015efdcb",
   "metadata": {},
   "outputs": [
    {
     "data": {
      "text/plain": [
       "array([[1, 2],\n",
       "       [3, 4]])"
      ]
     },
     "execution_count": 54,
     "metadata": {},
     "output_type": "execute_result"
    }
   ],
   "source": [
    "M = np.array([[1,2],[3,4]])\n",
    "M"
   ]
  },
  {
   "cell_type": "code",
   "execution_count": 55,
   "id": "adea9a78-e62e-497b-bb6a-d6f362dd8477",
   "metadata": {},
   "outputs": [
    {
     "data": {
      "text/plain": [
       "-2.0000000000000004"
      ]
     },
     "execution_count": 55,
     "metadata": {},
     "output_type": "execute_result"
    }
   ],
   "source": [
    "det_M = np.linalg.det(M) \n",
    "det_M"
   ]
  },
  {
   "attachments": {
    "89bf7ba7-203d-4891-a38b-92b640c3a46f.png": {
     "image/png": "[encoded data removed]"
    }
   },
   "cell_type": "markdown",
   "id": "cb52a465-a1c0-4824-b300-1d99f237d4de",
   "metadata": {},
   "source": [
    "![image.png](attachment:89bf7ba7-203d-4891-a38b-92b640c3a46f.png)"
   ]
  },
  {
   "cell_type": "code",
   "execution_count": 56,
   "id": "a2877c66-13c0-4d7c-85fa-d0521ca36306",
   "metadata": {},
   "outputs": [
    {
     "ename": "LinAlgError",
     "evalue": "Last 2 dimensions of the array must be square",
     "output_type": "error",
     "traceback": [
      "\u001b[1;31m---------------------------------------------------------------------------\u001b[0m",
      "\u001b[1;31mLinAlgError\u001b[0m                               Traceback (most recent call last)",
      "\u001b[1;32m<ipython-input-56-62c316d549ab>\u001b[0m in \u001b[0;36m<module>\u001b[1;34m\u001b[0m\n\u001b[0;32m      1\u001b[0m \u001b[1;31m# This code shows a LinAlgError:\u001b[0m\u001b[1;33m\u001b[0m\u001b[1;33m\u001b[0m\u001b[1;33m\u001b[0m\u001b[0m\n\u001b[0;32m      2\u001b[0m \u001b[0mM\u001b[0m \u001b[1;33m=\u001b[0m \u001b[0mnp\u001b[0m\u001b[1;33m.\u001b[0m\u001b[0marray\u001b[0m\u001b[1;33m(\u001b[0m\u001b[1;33m[\u001b[0m\u001b[1;33m[\u001b[0m\u001b[1;36m1\u001b[0m\u001b[1;33m,\u001b[0m\u001b[1;36m2\u001b[0m\u001b[1;33m]\u001b[0m\u001b[1;33m,\u001b[0m\u001b[1;33m[\u001b[0m\u001b[1;36m3\u001b[0m\u001b[1;33m,\u001b[0m\u001b[1;36m4\u001b[0m\u001b[1;33m]\u001b[0m\u001b[1;33m,\u001b[0m\u001b[1;33m[\u001b[0m\u001b[1;36m5\u001b[0m\u001b[1;33m,\u001b[0m\u001b[1;36m6\u001b[0m\u001b[1;33m]\u001b[0m\u001b[1;33m]\u001b[0m\u001b[1;33m)\u001b[0m\u001b[1;33m\u001b[0m\u001b[1;33m\u001b[0m\u001b[0m\n\u001b[1;32m----> 3\u001b[1;33m \u001b[0mdet_M\u001b[0m \u001b[1;33m=\u001b[0m \u001b[0mnp\u001b[0m\u001b[1;33m.\u001b[0m\u001b[0mlinalg\u001b[0m\u001b[1;33m.\u001b[0m\u001b[0mdet\u001b[0m\u001b[1;33m(\u001b[0m\u001b[0mM\u001b[0m\u001b[1;33m)\u001b[0m\u001b[1;33m\u001b[0m\u001b[1;33m\u001b[0m\u001b[0m\n\u001b[0m\u001b[0;32m      4\u001b[0m \u001b[0mdet_M\u001b[0m\u001b[1;33m\u001b[0m\u001b[1;33m\u001b[0m\u001b[0m\n",
      "\u001b[1;32m<__array_function__ internals>\u001b[0m in \u001b[0;36mdet\u001b[1;34m(*args, **kwargs)\u001b[0m\n",
      "\u001b[1;32mC:\\ProgramData\\Anaconda3\\lib\\site-packages\\numpy\\linalg\\linalg.py\u001b[0m in \u001b[0;36mdet\u001b[1;34m(a)\u001b[0m\n\u001b[0;32m   2154\u001b[0m     \u001b[0ma\u001b[0m \u001b[1;33m=\u001b[0m \u001b[0masarray\u001b[0m\u001b[1;33m(\u001b[0m\u001b[0ma\u001b[0m\u001b[1;33m)\u001b[0m\u001b[1;33m\u001b[0m\u001b[1;33m\u001b[0m\u001b[0m\n\u001b[0;32m   2155\u001b[0m     \u001b[0m_assert_stacked_2d\u001b[0m\u001b[1;33m(\u001b[0m\u001b[0ma\u001b[0m\u001b[1;33m)\u001b[0m\u001b[1;33m\u001b[0m\u001b[1;33m\u001b[0m\u001b[0m\n\u001b[1;32m-> 2156\u001b[1;33m     \u001b[0m_assert_stacked_square\u001b[0m\u001b[1;33m(\u001b[0m\u001b[0ma\u001b[0m\u001b[1;33m)\u001b[0m\u001b[1;33m\u001b[0m\u001b[1;33m\u001b[0m\u001b[0m\n\u001b[0m\u001b[0;32m   2157\u001b[0m     \u001b[0mt\u001b[0m\u001b[1;33m,\u001b[0m \u001b[0mresult_t\u001b[0m \u001b[1;33m=\u001b[0m \u001b[0m_commonType\u001b[0m\u001b[1;33m(\u001b[0m\u001b[0ma\u001b[0m\u001b[1;33m)\u001b[0m\u001b[1;33m\u001b[0m\u001b[1;33m\u001b[0m\u001b[0m\n\u001b[0;32m   2158\u001b[0m     \u001b[0msignature\u001b[0m \u001b[1;33m=\u001b[0m \u001b[1;34m'D->D'\u001b[0m \u001b[1;32mif\u001b[0m \u001b[0misComplexType\u001b[0m\u001b[1;33m(\u001b[0m\u001b[0mt\u001b[0m\u001b[1;33m)\u001b[0m \u001b[1;32melse\u001b[0m \u001b[1;34m'd->d'\u001b[0m\u001b[1;33m\u001b[0m\u001b[1;33m\u001b[0m\u001b[0m\n",
      "\u001b[1;32mC:\\ProgramData\\Anaconda3\\lib\\site-packages\\numpy\\linalg\\linalg.py\u001b[0m in \u001b[0;36m_assert_stacked_square\u001b[1;34m(*arrays)\u001b[0m\n\u001b[0;32m    202\u001b[0m         \u001b[0mm\u001b[0m\u001b[1;33m,\u001b[0m \u001b[0mn\u001b[0m \u001b[1;33m=\u001b[0m \u001b[0ma\u001b[0m\u001b[1;33m.\u001b[0m\u001b[0mshape\u001b[0m\u001b[1;33m[\u001b[0m\u001b[1;33m-\u001b[0m\u001b[1;36m2\u001b[0m\u001b[1;33m:\u001b[0m\u001b[1;33m]\u001b[0m\u001b[1;33m\u001b[0m\u001b[1;33m\u001b[0m\u001b[0m\n\u001b[0;32m    203\u001b[0m         \u001b[1;32mif\u001b[0m \u001b[0mm\u001b[0m \u001b[1;33m!=\u001b[0m \u001b[0mn\u001b[0m\u001b[1;33m:\u001b[0m\u001b[1;33m\u001b[0m\u001b[1;33m\u001b[0m\u001b[0m\n\u001b[1;32m--> 204\u001b[1;33m             \u001b[1;32mraise\u001b[0m \u001b[0mLinAlgError\u001b[0m\u001b[1;33m(\u001b[0m\u001b[1;34m'Last 2 dimensions of the array must be square'\u001b[0m\u001b[1;33m)\u001b[0m\u001b[1;33m\u001b[0m\u001b[1;33m\u001b[0m\u001b[0m\n\u001b[0m\u001b[0;32m    205\u001b[0m \u001b[1;33m\u001b[0m\u001b[0m\n\u001b[0;32m    206\u001b[0m \u001b[1;32mdef\u001b[0m \u001b[0m_assert_finite\u001b[0m\u001b[1;33m(\u001b[0m\u001b[1;33m*\u001b[0m\u001b[0marrays\u001b[0m\u001b[1;33m)\u001b[0m\u001b[1;33m:\u001b[0m\u001b[1;33m\u001b[0m\u001b[1;33m\u001b[0m\u001b[0m\n",
      "\u001b[1;31mLinAlgError\u001b[0m: Last 2 dimensions of the array must be square"
     ]
    }
   ],
   "source": [
    "# This code shows a LinAlgError:\n",
    "M = np.array([[1,2],[3,4],[5,6]])\n",
    "det_M = np.linalg.det(M)\n",
    "det_M"
   ]
  },
  {
   "cell_type": "markdown",
   "id": "f1473c20-b05b-4eaa-881f-29b8f9921000",
   "metadata": {},
   "source": [
    "## Inverse Matrices"
   ]
  },
  {
   "cell_type": "code",
   "execution_count": null,
   "id": "3b653d1b-d198-4ba8-bde4-85c287fedf55",
   "metadata": {},
   "outputs": [],
   "source": []
  }
 ],
 "metadata": {
  "kernelspec": {
   "display_name": "Python 3",
   "language": "python",
   "name": "python3"
  },
  "language_info": {
   "codemirror_mode": {
    "name": "ipython",
    "version": 3
   },
   "file_extension": ".py",
   "mimetype": "text/x-python",
   "name": "python",
   "nbconvert_exporter": "python",
   "pygments_lexer": "ipython3",
   "version": "3.8.10"
  }
 },
 "nbformat": 4,
 "nbformat_minor": 5
}
