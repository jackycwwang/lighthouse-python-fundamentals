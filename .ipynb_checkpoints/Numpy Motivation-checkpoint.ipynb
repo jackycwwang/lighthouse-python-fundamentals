{
 "cells": [
  {
   "cell_type": "code",
   "execution_count": 1,
   "id": "8b32a597-8780-48e0-8cb3-c3718ee1f049",
   "metadata": {},
   "outputs": [],
   "source": [
    "import time\n",
    "import numpy as np"
   ]
  },
  {
   "cell_type": "code",
   "execution_count": 2,
   "id": "f9050cae-3576-4553-ac71-79af898a0218",
   "metadata": {},
   "outputs": [],
   "source": [
    "size_of_vec = 1000"
   ]
  },
  {
   "cell_type": "code",
   "execution_count": 8,
   "id": "02e8fe6d-c630-4015-8e33-c7ff33c21165",
   "metadata": {},
   "outputs": [],
   "source": [
    "def pure_python_version():\n",
    "    t1 = time.time()\n",
    "    X = range(size_of_vec)\n",
    "    Y = range(size_of_vec)\n",
    "    Z = [X[i] + Y[i] for i in range(len(X)) ]\n",
    "    return time.time() - t1"
   ]
  },
  {
   "cell_type": "code",
   "execution_count": 9,
   "id": "3e2b1d05-503d-44b2-9cbb-96cb0da1da84",
   "metadata": {},
   "outputs": [],
   "source": [
    "def numpy_version():\n",
    "    t1 = time.time()\n",
    "    X = np.arange(size_of_vec)\n",
    "    Y = np.arange(size_of_vec)\n",
    "    Z = X + Y\n",
    "    return time.time() - t1"
   ]
  },
  {
   "cell_type": "code",
   "execution_count": 13,
   "id": "377adbba-7655-4365-b1d7-a5a7d2558ce3",
   "metadata": {},
   "outputs": [],
   "source": [
    "t1 = pure_python_version()\n",
    "t2 = numpy_version()"
   ]
  },
  {
   "cell_type": "code",
   "execution_count": 14,
   "id": "63dce95b-5835-4a57-9a25-6e70c05cebe1",
   "metadata": {},
   "outputs": [
    {
     "name": "stdout",
     "output_type": "stream",
     "text": [
      "0.000499725341796875 0.0\n"
     ]
    }
   ],
   "source": [
    "print(t1, t2)"
   ]
  },
  {
   "cell_type": "code",
   "execution_count": 15,
   "id": "2d96b480-3bee-4395-a829-5770437f4a6c",
   "metadata": {},
   "outputs": [
    {
     "ename": "ZeroDivisionError",
     "evalue": "float division by zero",
     "output_type": "error",
     "traceback": [
      "\u001b[1;31m---------------------------------------------------------------------------\u001b[0m",
      "\u001b[1;31mZeroDivisionError\u001b[0m                         Traceback (most recent call last)",
      "\u001b[1;32m<ipython-input-15-d6ccc93a8433>\u001b[0m in \u001b[0;36m<module>\u001b[1;34m\u001b[0m\n\u001b[1;32m----> 1\u001b[1;33m \u001b[0mprint\u001b[0m\u001b[1;33m(\u001b[0m\u001b[1;34m\"Numpy is in this example \"\u001b[0m \u001b[1;33m+\u001b[0m \u001b[0mstr\u001b[0m\u001b[1;33m(\u001b[0m\u001b[0mt1\u001b[0m\u001b[1;33m/\u001b[0m\u001b[0mt2\u001b[0m\u001b[1;33m)\u001b[0m \u001b[1;33m+\u001b[0m \u001b[1;34m\" faster!\"\u001b[0m\u001b[1;33m)\u001b[0m\u001b[1;33m\u001b[0m\u001b[1;33m\u001b[0m\u001b[0m\n\u001b[0m",
      "\u001b[1;31mZeroDivisionError\u001b[0m: float division by zero"
     ]
    }
   ],
   "source": [
    "print(\"Numpy is in this example \" + str(t1/t2) + \" faster!\")"
   ]
  },
  {
   "cell_type": "code",
   "execution_count": 16,
   "id": "71ee2c0a-d1c4-4859-8235-cd6bd6300319",
   "metadata": {},
   "outputs": [],
   "source": [
    "import numpy as np\n",
    "from timeit import Timer"
   ]
  },
  {
   "cell_type": "code",
   "execution_count": 17,
   "id": "b7103b2c-6c89-492a-a65f-a6fe6fa89561",
   "metadata": {},
   "outputs": [],
   "source": [
    "size_of_vec = 1000\n",
    "X_list = range(size_of_vec)\n",
    "Y_list = range(size_of_vec)\n",
    "X = np.arange(size_of_vec)\n",
    "Y = np.arange(size_of_vec)"
   ]
  },
  {
   "cell_type": "code",
   "execution_count": 18,
   "id": "77156f5e-5946-4de2-b7ce-1199486c70ba",
   "metadata": {},
   "outputs": [],
   "source": [
    "def pure_python_version():\n",
    "    Z = [X_list[i] + Y_list[i] for i in range(len(X_list)) ]"
   ]
  },
  {
   "cell_type": "code",
   "execution_count": 19,
   "id": "1a27aaf8-fdf5-4cf0-85ad-5c16574f331d",
   "metadata": {},
   "outputs": [],
   "source": [
    "def numpy_version():\n",
    "    Z = X + Y"
   ]
  },
  {
   "cell_type": "code",
   "execution_count": 20,
   "id": "d3d3d679-1f06-4a93-846d-833265d20438",
   "metadata": {},
   "outputs": [],
   "source": [
    "timer_obj1 = Timer(\"pure_python_version()\", \n",
    "                   \"from __main__ import pure_python_version\")\n",
    "timer_obj2 = Timer(\"numpy_version()\", \n",
    "                   \"from __main__ import numpy_version\")"
   ]
  },
  {
   "cell_type": "code",
   "execution_count": 21,
   "id": "b07ddd4f-e983-4537-b48f-400ed3c8c2d2",
   "metadata": {},
   "outputs": [
    {
     "name": "stdout",
     "output_type": "stream",
     "text": [
      "0.003943199999980607\n",
      "0.0004236999999989166\n"
     ]
    }
   ],
   "source": [
    "print(timer_obj1.timeit(10))\n",
    "print(timer_obj2.timeit(10))  # Runs Faster!"
   ]
  },
  {
   "cell_type": "code",
   "execution_count": 22,
   "id": "012a708f-5c59-48a4-93ce-a0f0a482fe1a",
   "metadata": {},
   "outputs": [
    {
     "name": "stdout",
     "output_type": "stream",
     "text": [
      "[0.003520999999977903, 0.0036169999999629, 0.0044184000000200285]\n",
      "[0.000540800000010222, 3.370000001723383e-05, 3.319999996165279e-05]\n"
     ]
    }
   ],
   "source": [
    "print(timer_obj1.repeat(repeat=3, number=10))\n",
    "print(timer_obj2.repeat(repeat=3, number=10)) # repeat to prove it!"
   ]
  },
  {
   "cell_type": "code",
   "execution_count": null,
   "id": "b34f5c26-bd47-48a7-9abd-9c413f522d99",
   "metadata": {},
   "outputs": [],
   "source": []
  }
 ],
 "metadata": {
  "kernelspec": {
   "display_name": "Python 3",
   "language": "python",
   "name": "python3"
  },
  "language_info": {
   "codemirror_mode": {
    "name": "ipython",
    "version": 3
   },
   "file_extension": ".py",
   "mimetype": "text/x-python",
   "name": "python",
   "nbconvert_exporter": "python",
   "pygments_lexer": "ipython3",
   "version": "3.8.10"
  }
 },
 "nbformat": 4,
 "nbformat_minor": 5
}
