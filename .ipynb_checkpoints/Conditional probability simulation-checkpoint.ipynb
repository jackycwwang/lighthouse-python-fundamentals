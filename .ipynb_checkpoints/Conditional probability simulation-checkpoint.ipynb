{
 "cells": [
  {
   "cell_type": "markdown",
   "id": "4926c6a5-2fc2-4502-8c2b-e50082b67788",
   "metadata": {},
   "source": [
    "# Conditional Probability Simulation"
   ]
  },
  {
   "cell_type": "markdown",
   "id": "cb6a0999-82e9-469d-9a71-9d51819c881d",
   "metadata": {},
   "source": [
    "## Example: Soccer Game"
   ]
  },
  {
   "cell_type": "markdown",
   "id": "950c776c-5b0d-4c1c-8b79-84e4888c25aa",
   "metadata": {},
   "source": [
    "You are off to soccer and want to be the goalkeeper but that depends on who will be coaching today:\n",
    "\n",
    "- with coach Sam, the probability of being the goalkeeper is 0.5\n",
    "- with coach Alex, the probability of being the goalkeeper is 0.3\n",
    "\n",
    "You also know that Sam coaches more often – about six out of every ten games (a probability of 0.6).\n",
    "\n",
    "So, what is the probability that you will be the goalkeeper today?"
   ]
  },
  {
   "cell_type": "code",
   "execution_count": 1,
   "id": "f511a6e5-c850-4df8-a376-63c4c20c2e3b",
   "metadata": {},
   "outputs": [],
   "source": [
    "# import numpy \n",
    "import numpy as np"
   ]
  },
  {
   "cell_type": "markdown",
   "id": "c9721136-263c-4b2b-9655-55803bedf077",
   "metadata": {},
   "source": [
    "Now, we have to set the number of times we want to simulate this process and initialize all variables with zero."
   ]
  },
  {
   "cell_type": "code",
   "execution_count": 2,
   "id": "d5695777-6875-49dd-9b99-c7b7047b5585",
   "metadata": {},
   "outputs": [],
   "source": [
    "# how many times we run the simulation\n",
    "n_runs = 100000\n",
    "\n",
    "# initialize variables\n",
    "SAM = 0\n",
    "SAM_YES = 0\n",
    "SAM_NO = 0\n",
    "ALEX = 0\n",
    "ALEX_YES = 0\n",
    "ALEX_NO = 0\n",
    "YES = 0\n",
    "NO = 0"
   ]
  },
  {
   "cell_type": "markdown",
   "id": "4cbb23c9-9a51-42f4-8d51-deab2fb80c98",
   "metadata": {},
   "source": [
    "After we set all the variables to their initial value, we need to write a loop that will simulate the process."
   ]
  },
  {
   "cell_type": "code",
   "execution_count": 3,
   "id": "8a5a899e-2bdd-427f-9141-e763d87f2d39",
   "metadata": {},
   "outputs": [],
   "source": [
    "# process simulation\n",
    "for _ in range(n_runs):\n",
    "    # Sam (probability of Sam being the coach)\n",
    "    if np.random.random() < 0.6: \n",
    "        SAM += 1\n",
    "\n",
    "        # YES\n",
    "        if np.random.random() < 0.5:\n",
    "            SAM_YES += 1\n",
    "            YES +=1\n",
    "\n",
    "        # NO\n",
    "        else:\n",
    "            SAM_NO += 1\n",
    "            NO += 1\n",
    "\n",
    "    # Alex (probability of Alex being the coach)\n",
    "    else:\n",
    "        ALEX += 1\n",
    "\n",
    "        # YES\n",
    "        if np.random.random() < 0.3:\n",
    "            ALEX_YES += 1\n",
    "            YES += 1\n",
    "\n",
    "        # NO\n",
    "        else:\n",
    "            ALEX_NO += 1\n",
    "            NO +=1"
   ]
  },
  {
   "cell_type": "markdown",
   "id": "27767d34-ce54-4471-98a3-abb2d84fbcd8",
   "metadata": {},
   "source": [
    "The simulation above is based on a random number generator (np.random.random), which generates any number from the interval <0,1> with equal probability. If the generated number is less than 0.6 we can say that the coach is Sam (because Sam is the coach in 60% of games). Then we generate another random number and if the value is less than 0.5 (the chance of being the goalkeeper when Sam is coaching is 50%), it means you will be the goalkeeper. In that case, we will increase the value of variables SAM_YES and YES by one. It means that in this simulation run you are the goalkeeper and Sam is the coach. We run this process 100,000 times and check the result."
   ]
  },
  {
   "cell_type": "code",
   "execution_count": 7,
   "id": "84f515af-3293-47d3-b6c3-ccc7e5e27582",
   "metadata": {},
   "outputs": [],
   "source": [
    "# create probabilities\n",
    "P_SAM = SAM / n_runs * 100             # P(Sam)\n",
    "P_SAM_YES = SAM_YES / n_runs * 100     # P(Sam and Yes)  Note: ie Sam 'intersect' Yes\n",
    "P_SAM_NO = SAM_NO / n_runs * 100       # P(Sam and No)\n",
    "P_ALEX = ALEX / n_runs * 100           # P(Alex)\n",
    "P_ALEX_YES = ALEX_YES / n_runs * 100   # P(Alex and Yes)\n",
    "P_ALEX_NO = ALEX_NO / n_runs * 100     # P(Alex and No)\n",
    "P_YES = YES / n_runs * 100             # P(Yes)\n",
    "P_NO = NO / n_runs * 100               # P(No)"
   ]
  },
  {
   "cell_type": "code",
   "execution_count": 8,
   "id": "9ba71cc0-1aaa-401f-9615-ba77eebd50b1",
   "metadata": {},
   "outputs": [
    {
     "name": "stdout",
     "output_type": "stream",
     "text": [
      "Sam is the coach: 60.01800000000001%\n",
      "Sam is the coach and you are the goalkeeper: 30.105999999999998%\n",
      "Sam is the coach and you are not the goalkeeper: 29.912%\n",
      "Alex is the coach: 39.982%\n",
      "Alex is the coach and you are the goalkeeper: 12.029%\n",
      "Alex is the coach and you are not the goalkeeper: 27.953%\n",
      "You are the goalkeeper: 42.135%\n",
      "You are not the goalkeeper: 57.865\n"
     ]
    }
   ],
   "source": [
    "print(f'Sam is the coach: {P_SAM}%')\n",
    "print(f'Sam is the coach and you are the goalkeeper: {P_SAM_YES}%')\n",
    "print(f'Sam is the coach and you are not the goalkeeper: {P_SAM_NO}%')\n",
    "print(f'Alex is the coach: {P_ALEX}%')\n",
    "print(f'Alex is the coach and you are the goalkeeper: {P_ALEX_YES}%')\n",
    "print(f'Alex is the coach and you are not the goalkeeper: {P_ALEX_NO}%')\n",
    "print(f'You are the goalkeeper: {P_YES}%')\n",
    "print(f'You are not the goalkeeper: {P_NO}')"
   ]
  },
  {
   "cell_type": "markdown",
   "id": "0f15c87e-db0d-412b-8789-7579fe08afdd",
   "metadata": {},
   "source": [
    "As we can see, the probability of being the goalkeeper is around 42%. We can also check the probability of Sam being the coach given that you are the goalkeeper."
   ]
  },
  {
   "cell_type": "code",
   "execution_count": 6,
   "id": "f657b977-7e8d-4db6-a316-2cedb96683ca",
   "metadata": {},
   "outputs": [
    {
     "name": "stdout",
     "output_type": "stream",
     "text": [
      "0.7145128752818322\n"
     ]
    }
   ],
   "source": [
    "# P(Sam | goalkeeper)\n",
    "P_SAM_GOAL = P_SAM_YES / P_YES\n",
    "print(P_SAM_GOAL)"
   ]
  },
  {
   "cell_type": "markdown",
   "id": "51a53033-5d68-41b7-97b4-694b4e7f926f",
   "metadata": {},
   "source": [
    "We computed this probability as the probability of you being the goalkeeper while Sam is the coach, divided by the total probability that you are the goalkeeper. The probability is around 72%, which means that in 72 out of 100 games in which you are the goalkeeper, your coach is Sam."
   ]
  },
  {
   "cell_type": "code",
   "execution_count": 9,
   "id": "531a1172-7a74-4ae3-b342-e1e500efed3c",
   "metadata": {},
   "outputs": [
    {
     "name": "stdout",
     "output_type": "stream",
     "text": [
      "0.2854871247181678\n"
     ]
    }
   ],
   "source": [
    "P_ALEX_GOAL = P_ALEX_YES / P_YES   # P(Alex INTERSECT Yes) / P(Yes)\n",
    "print(P_ALEX_GOAL)"
   ]
  },
  {
   "cell_type": "markdown",
   "id": "abd0f8e4-2c1a-4f30-8e46-9e93b17a9569",
   "metadata": {},
   "source": [
    "### Arithmetical Calculation\n",
    "\n",
    "P(Sam|Yes) = P(Yes|Sam) * P(Sam) / P(Yes)\n",
    "\n",
    "P(Yes) = P(Yes|Sam)P(Sam) + P(Yes|Not Sam)P(Not Sam) \n",
    "       = 0.5 * 0.6 + 0.3 * 0.4 = 0.42\n",
    "       \n",
    "P(Sam|Yes) = 0.5 * 0.6 / 0.42 = 0.71"
   ]
  },
  {
   "cell_type": "code",
   "execution_count": null,
   "id": "3e023278-a03f-407c-9273-bd1a6decceaa",
   "metadata": {},
   "outputs": [],
   "source": []
  }
 ],
 "metadata": {
  "kernelspec": {
   "display_name": "Python 3",
   "language": "python",
   "name": "python3"
  },
  "language_info": {
   "codemirror_mode": {
    "name": "ipython",
    "version": 3
   },
   "file_extension": ".py",
   "mimetype": "text/x-python",
   "name": "python",
   "nbconvert_exporter": "python",
   "pygments_lexer": "ipython3",
   "version": "3.8.10"
  }
 },
 "nbformat": 4,
 "nbformat_minor": 5
}
