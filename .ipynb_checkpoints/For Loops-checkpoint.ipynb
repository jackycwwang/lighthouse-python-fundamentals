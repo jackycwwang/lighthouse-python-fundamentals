{
 "cells": [
  {
   "cell_type": "markdown",
   "id": "85baa9b6-77ef-4dcc-88f3-caa1a94656c5",
   "metadata": {},
   "source": [
    "# For Loops (Definite Iteration)"
   ]
  },
  {
   "cell_type": "markdown",
   "id": "9a2e015c-ffbf-474e-8703-77f31ce01fa1",
   "metadata": {},
   "source": [
    "## A Survey of Definite Iteration in Programming"
   ]
  },
  {
   "cell_type": "markdown",
   "id": "5c6cd08d-0e71-4473-b054-c415f425d58a",
   "metadata": {},
   "source": [
    "### Numeric Range Loop\n",
    "```\n",
    "for i = 1 to 10\n",
    "    <loop body>\n",
    "```"
   ]
  },
  {
   "cell_type": "markdown",
   "id": "861df146-fd2a-463c-a936-6ef95249f425",
   "metadata": {},
   "source": [
    "### Three-Expression Loop\n",
    "\n",
    "Another form of for loop popularized by the C programming language contains three parts.\n",
    "\n",
    "```\n",
    "for (i = 1; i <= 10; i++)\n",
    "    <loop body>\n",
    "```\n",
    "\n",
    "These for loops are also featured in the C++, Java, PHP, and Perl languages."
   ]
  },
  {
   "cell_type": "markdown",
   "id": "2f601c28-c2ce-4c40-a545-f1c97d4c979e",
   "metadata": {},
   "source": [
    "### Collection-Based or Iterator-Based Loop\n",
    "\n",
    "This type of loop iterates over a collection of objects, rather than specifying numeric values or conditions.\n",
    "```\n",
    "for i in <collection>\n",
    "    <loop body>\n",
    "```\n",
    "Each time through the loop, the variable i takes on the value of the next object in \\<collection>. This type of for loop is arguably the most generalized and abstract. \n",
    "\n",
    "Perl and PHP also support this type of loop, but it is introduced by the keyword *foreach* instead of for."
   ]
  },
  {
   "cell_type": "markdown",
   "id": "51236f4f-ee15-451a-b01a-e4e79813251e",
   "metadata": {},
   "source": [
    "## The Python for Loop\n",
    "Of the loop types listed above, Python only implements the last: collection-based iteration.\n",
    "```\n",
    "for <var> in <iterable>:\n",
    "    <statement(s)>\n",
    "```\n",
    "\n",
    "\\<iterable> is a collection of objects—for example, a list or tuple. The <statement(s)> in the loop body are denoted by indentation, as with all Python control structures, and are executed once for each item in \\<iterable>. The loop variable \\<var> takes on the value of the next element in \\<iterable> each time through the loop."
   ]
  },
  {
   "cell_type": "code",
   "execution_count": 1,
   "id": "4996c470-3478-4d77-9334-2730d5bdcb4a",
   "metadata": {},
   "outputs": [
    {
     "name": "stdout",
     "output_type": "stream",
     "text": [
      "foo\n",
      "bar\n",
      "baz\n"
     ]
    }
   ],
   "source": [
    "a = ['foo', 'bar', 'baz']\n",
    "for i in a:\n",
    "    print(i)"
   ]
  },
  {
   "cell_type": "markdown",
   "id": "b1003870-36de-4966-85b6-7c903269584b",
   "metadata": {},
   "source": [
    "### Iterables"
   ]
  },
  {
   "cell_type": "markdown",
   "id": "cadb7cf4-6f39-4f86-978a-7b9dd49bd3b9",
   "metadata": {},
   "source": [
    "In Python, iterable means an object can be used in iteration. The term is used as:\n",
    "- An adjective: An object may be described as iterable.\n",
    "- A noun: An object may be characterized as an iterable.\n",
    "\n",
    "If an object is iterable, it can be passed to the built-in Python function `iter()`, which returns something called an **iterator**. \n",
    "\n",
    "Each of the objects in the following example is an iterable and returns some type of iterator when passed to `iter()`:"
   ]
  },
  {
   "cell_type": "code",
   "execution_count": 2,
   "id": "6d84dac1-0482-41ca-8841-f6da4afafe83",
   "metadata": {},
   "outputs": [
    {
     "data": {
      "text/plain": [
       "<str_iterator at 0x24a808e2040>"
      ]
     },
     "execution_count": 2,
     "metadata": {},
     "output_type": "execute_result"
    }
   ],
   "source": [
    "iter('foobar')                             # String"
   ]
  },
  {
   "cell_type": "code",
   "execution_count": 3,
   "id": "1fca5f0a-b547-40e4-9211-485c8d286dad",
   "metadata": {},
   "outputs": [
    {
     "data": {
      "text/plain": [
       "<list_iterator at 0x24a808e2910>"
      ]
     },
     "execution_count": 3,
     "metadata": {},
     "output_type": "execute_result"
    }
   ],
   "source": [
    "iter(['foo', 'bar', 'baz'])                # List"
   ]
  },
  {
   "cell_type": "code",
   "execution_count": 4,
   "id": "0a516821-f4b9-44e1-9294-8a6f012d0ef3",
   "metadata": {},
   "outputs": [
    {
     "data": {
      "text/plain": [
       "<tuple_iterator at 0x24a808f31f0>"
      ]
     },
     "execution_count": 4,
     "metadata": {},
     "output_type": "execute_result"
    }
   ],
   "source": [
    "iter(('foo', 'bar', 'baz'))                # Tuple"
   ]
  },
  {
   "cell_type": "code",
   "execution_count": 5,
   "id": "1d96191b-bda1-42be-b58e-6853ec51066e",
   "metadata": {},
   "outputs": [
    {
     "data": {
      "text/plain": [
       "<set_iterator at 0x24a8090e600>"
      ]
     },
     "execution_count": 5,
     "metadata": {},
     "output_type": "execute_result"
    }
   ],
   "source": [
    "iter({'foo', 'bar', 'baz'})                # Set"
   ]
  },
  {
   "cell_type": "code",
   "execution_count": 6,
   "id": "a71c93ae-831b-4ae9-b17c-cfe9852d3b4c",
   "metadata": {},
   "outputs": [
    {
     "data": {
      "text/plain": [
       "<dict_keyiterator at 0x24a8090c950>"
      ]
     },
     "execution_count": 6,
     "metadata": {},
     "output_type": "execute_result"
    }
   ],
   "source": [
    "iter({'foo': 1, 'bar': 2, 'baz': 3})       # Dict"
   ]
  },
  {
   "cell_type": "markdown",
   "id": "5fc5adaf-49a6-4a75-8d47-1a76c5fba506",
   "metadata": {},
   "source": [
    "These object types, on the other hand, aren’t iterable:"
   ]
  },
  {
   "cell_type": "code",
   "execution_count": 7,
   "id": "78e33486-56cc-4e8d-81d5-a7383b7ee0f8",
   "metadata": {},
   "outputs": [
    {
     "ename": "TypeError",
     "evalue": "'int' object is not iterable",
     "output_type": "error",
     "traceback": [
      "\u001b[1;31m---------------------------------------------------------------------------\u001b[0m",
      "\u001b[1;31mTypeError\u001b[0m                                 Traceback (most recent call last)",
      "\u001b[1;32m<ipython-input-7-7c81397f0f48>\u001b[0m in \u001b[0;36m<module>\u001b[1;34m\u001b[0m\n\u001b[1;32m----> 1\u001b[1;33m \u001b[0miter\u001b[0m\u001b[1;33m(\u001b[0m\u001b[1;36m42\u001b[0m\u001b[1;33m)\u001b[0m                                   \u001b[1;31m# Integer\u001b[0m\u001b[1;33m\u001b[0m\u001b[1;33m\u001b[0m\u001b[0m\n\u001b[0m",
      "\u001b[1;31mTypeError\u001b[0m: 'int' object is not iterable"
     ]
    }
   ],
   "source": [
    "iter(42)      # Integer"
   ]
  },
  {
   "cell_type": "code",
   "execution_count": 8,
   "id": "00ad8224-f79c-4566-8a1e-4becc250129d",
   "metadata": {},
   "outputs": [
    {
     "ename": "TypeError",
     "evalue": "'float' object is not iterable",
     "output_type": "error",
     "traceback": [
      "\u001b[1;31m---------------------------------------------------------------------------\u001b[0m",
      "\u001b[1;31mTypeError\u001b[0m                                 Traceback (most recent call last)",
      "\u001b[1;32m<ipython-input-8-3fb3bcfe78f8>\u001b[0m in \u001b[0;36m<module>\u001b[1;34m\u001b[0m\n\u001b[1;32m----> 1\u001b[1;33m \u001b[0miter\u001b[0m\u001b[1;33m(\u001b[0m\u001b[1;36m3.1\u001b[0m\u001b[1;33m)\u001b[0m           \u001b[1;31m# Float\u001b[0m\u001b[1;33m\u001b[0m\u001b[1;33m\u001b[0m\u001b[0m\n\u001b[0m",
      "\u001b[1;31mTypeError\u001b[0m: 'float' object is not iterable"
     ]
    }
   ],
   "source": [
    "iter(3.1)       # Float"
   ]
  },
  {
   "cell_type": "code",
   "execution_count": 9,
   "id": "80fbcc24-b3ca-4a1d-8a60-bb9948251c00",
   "metadata": {},
   "outputs": [
    {
     "ename": "TypeError",
     "evalue": "'builtin_function_or_method' object is not iterable",
     "output_type": "error",
     "traceback": [
      "\u001b[1;31m---------------------------------------------------------------------------\u001b[0m",
      "\u001b[1;31mTypeError\u001b[0m                                 Traceback (most recent call last)",
      "\u001b[1;32m<ipython-input-9-366ea500fa31>\u001b[0m in \u001b[0;36m<module>\u001b[1;34m\u001b[0m\n\u001b[1;32m----> 1\u001b[1;33m \u001b[0miter\u001b[0m\u001b[1;33m(\u001b[0m\u001b[0mlen\u001b[0m\u001b[1;33m)\u001b[0m        \u001b[1;31m# Built-in function\u001b[0m\u001b[1;33m\u001b[0m\u001b[1;33m\u001b[0m\u001b[0m\n\u001b[0m",
      "\u001b[1;31mTypeError\u001b[0m: 'builtin_function_or_method' object is not iterable"
     ]
    }
   ],
   "source": [
    "iter(len)        # Built-in function"
   ]
  },
  {
   "cell_type": "markdown",
   "id": "c0f9856d-323a-4969-abb6-5778d1036bda",
   "metadata": {},
   "source": [
    "All the data types you have encountered so far that are collection or container types are iterable. These include the *string*, *list*, *tuple*, *dict*, *set*, and *frozenset* types.\n",
    "\n",
    "But these are by no means the only types that you can iterate over. Many objects that are built into Python or defined in modules are designed to be iterable. \n",
    "\n",
    "For example, open files in Python are iterable. As you will see soon in the tutorial on file I/O, iterating over an open file object reads data from the file.\n",
    "\n",
    "In fact, almost any object in Python can be made iterable. Even user-defined objects can be designed in such a way that they can be iterated over. (You will find out how that is done in the upcoming article on object-oriented programming.)"
   ]
  },
  {
   "cell_type": "markdown",
   "id": "46bfb78c-9de4-417d-86c6-0963ba74daa5",
   "metadata": {},
   "source": [
    "### Iterators\n",
    "\n",
    "Once you’ve got an iterator, what can you do with it?\n",
    "\n",
    "An iterator is essentially a value producer that yields successive values from its associated iterable object. The built-in function next() is used to obtain the next value from in iterator.\n",
    "\n"
   ]
  },
  {
   "cell_type": "code",
   "execution_count": 10,
   "id": "aa35840b-f441-40d3-ac80-c8c113fc2d68",
   "metadata": {},
   "outputs": [
    {
     "data": {
      "text/plain": [
       "<list_iterator at 0x24a808f3610>"
      ]
     },
     "execution_count": 10,
     "metadata": {},
     "output_type": "execute_result"
    }
   ],
   "source": [
    "a = ['foo', 'bar', 'baz']\n",
    "\n",
    "itr = iter(a)\n",
    "itr"
   ]
  },
  {
   "cell_type": "code",
   "execution_count": 11,
   "id": "c9f0c9d7-39ad-4b57-a697-72702493973c",
   "metadata": {},
   "outputs": [
    {
     "data": {
      "text/plain": [
       "'foo'"
      ]
     },
     "execution_count": 11,
     "metadata": {},
     "output_type": "execute_result"
    }
   ],
   "source": [
    "next(itr)"
   ]
  },
  {
   "cell_type": "code",
   "execution_count": 12,
   "id": "f2225a74-7970-43a2-abb0-36ff4f92a5f6",
   "metadata": {},
   "outputs": [
    {
     "data": {
      "text/plain": [
       "'bar'"
      ]
     },
     "execution_count": 12,
     "metadata": {},
     "output_type": "execute_result"
    }
   ],
   "source": [
    "next(itr)"
   ]
  },
  {
   "cell_type": "code",
   "execution_count": 13,
   "id": "7f3173cf-34f3-4590-9936-08c1b56ad9ee",
   "metadata": {},
   "outputs": [
    {
     "data": {
      "text/plain": [
       "'baz'"
      ]
     },
     "execution_count": 13,
     "metadata": {},
     "output_type": "execute_result"
    }
   ],
   "source": [
    "next(itr)"
   ]
  },
  {
   "cell_type": "markdown",
   "id": "1ea5f38c-6636-4a84-92d5-a3dad6b0a7ce",
   "metadata": {},
   "source": [
    "Notice how an iterator retains its state internally. It knows which values have been obtained already, so when you call `next()`, it knows what value to return next.\n",
    "\n",
    "If all the values from an iterator have been returned already, a subsequent next() call raises a StopIteration exception. Any further attempts to obtain values from the iterator will fail."
   ]
  },
  {
   "cell_type": "code",
   "execution_count": 14,
   "id": "95e2d748-84d6-4ed4-9818-a769add3a05d",
   "metadata": {},
   "outputs": [
    {
     "ename": "StopIteration",
     "evalue": "",
     "output_type": "error",
     "traceback": [
      "\u001b[1;31m---------------------------------------------------------------------------\u001b[0m",
      "\u001b[1;31mStopIteration\u001b[0m                             Traceback (most recent call last)",
      "\u001b[1;32m<ipython-input-14-6693cc261707>\u001b[0m in \u001b[0;36m<module>\u001b[1;34m\u001b[0m\n\u001b[1;32m----> 1\u001b[1;33m \u001b[0mnext\u001b[0m\u001b[1;33m(\u001b[0m\u001b[0mitr\u001b[0m\u001b[1;33m)\u001b[0m\u001b[1;33m\u001b[0m\u001b[1;33m\u001b[0m\u001b[0m\n\u001b[0m",
      "\u001b[1;31mStopIteration\u001b[0m: "
     ]
    }
   ],
   "source": [
    "next(itr)"
   ]
  },
  {
   "cell_type": "markdown",
   "id": "34876476-0ed0-407f-b936-7c666e5a7a7d",
   "metadata": {},
   "source": [
    "You can only obtain values from an iterator in one direction. You can’t go backward. There is no prev() function. But you can define two independent iterators on the same iterable object. Each iterator maintains its own internal state, independent of the other."
   ]
  },
  {
   "cell_type": "code",
   "execution_count": 15,
   "id": "3c87e8ca-a20d-4f36-a41a-3f61f2396ee7",
   "metadata": {},
   "outputs": [
    {
     "data": {
      "text/plain": [
       "['foo', 'bar', 'baz']"
      ]
     },
     "execution_count": 15,
     "metadata": {},
     "output_type": "execute_result"
    }
   ],
   "source": [
    "a"
   ]
  },
  {
   "cell_type": "code",
   "execution_count": 17,
   "id": "e34d0622-5117-4c02-a94d-66fd1bbef8ba",
   "metadata": {},
   "outputs": [],
   "source": [
    "itr1 = iter(a)\n",
    "itr2 = iter(a)"
   ]
  },
  {
   "cell_type": "code",
   "execution_count": 18,
   "id": "85c6a3d5-6f22-4b82-a500-474ce375a9ea",
   "metadata": {},
   "outputs": [
    {
     "data": {
      "text/plain": [
       "'foo'"
      ]
     },
     "execution_count": 18,
     "metadata": {},
     "output_type": "execute_result"
    }
   ],
   "source": [
    "next(itr1)"
   ]
  },
  {
   "cell_type": "code",
   "execution_count": 19,
   "id": "5b863ad1-3253-40fa-9c5e-db6c852362bd",
   "metadata": {},
   "outputs": [
    {
     "data": {
      "text/plain": [
       "'bar'"
      ]
     },
     "execution_count": 19,
     "metadata": {},
     "output_type": "execute_result"
    }
   ],
   "source": [
    "next(itr1)"
   ]
  },
  {
   "cell_type": "code",
   "execution_count": 20,
   "id": "dbbe1108-c4db-4d20-be40-eabb179df6ae",
   "metadata": {},
   "outputs": [
    {
     "data": {
      "text/plain": [
       "'baz'"
      ]
     },
     "execution_count": 20,
     "metadata": {},
     "output_type": "execute_result"
    }
   ],
   "source": [
    "next(itr1)"
   ]
  },
  {
   "cell_type": "code",
   "execution_count": 21,
   "id": "324c0806-d64b-45d8-a2ec-22e6c86a94c1",
   "metadata": {},
   "outputs": [
    {
     "data": {
      "text/plain": [
       "'foo'"
      ]
     },
     "execution_count": 21,
     "metadata": {},
     "output_type": "execute_result"
    }
   ],
   "source": [
    "next(itr2)"
   ]
  },
  {
   "cell_type": "markdown",
   "id": "32131db6-9599-480b-8f5e-f491832da9b4",
   "metadata": {},
   "source": [
    "f you want to grab all the values from an iterator at once, you can use the built-in `list()` function. Among other possible uses, `list()` takes an iterator as its argument, and returns a list consisting of all the values that the iterator yielded."
   ]
  },
  {
   "cell_type": "code",
   "execution_count": 22,
   "id": "6e779e3b-1a6f-48ca-9676-f4629ebfee9f",
   "metadata": {},
   "outputs": [
    {
     "data": {
      "text/plain": [
       "['foo', 'bar', 'baz']"
      ]
     },
     "execution_count": 22,
     "metadata": {},
     "output_type": "execute_result"
    }
   ],
   "source": [
    "a = ['foo', 'bar', 'baz']\n",
    "itr = iter(a)\n",
    "list(itr)"
   ]
  },
  {
   "cell_type": "markdown",
   "id": "094d1bd1-e284-4456-aa7e-447fed073128",
   "metadata": {},
   "source": [
    "Similarly, the built-in `tuple()` and `set()` functions return a tuple and a set, respectively, from all the values an iterator yields."
   ]
  },
  {
   "cell_type": "code",
   "execution_count": 23,
   "id": "c782ca53-9f39-4ac2-9816-183c6851dc71",
   "metadata": {},
   "outputs": [],
   "source": [
    "a = ['foo', 'bar', 'baz']"
   ]
  },
  {
   "cell_type": "code",
   "execution_count": 24,
   "id": "877ee5b4-858e-47e7-bc51-323e5c2ea090",
   "metadata": {},
   "outputs": [
    {
     "data": {
      "text/plain": [
       "('foo', 'bar', 'baz')"
      ]
     },
     "execution_count": 24,
     "metadata": {},
     "output_type": "execute_result"
    }
   ],
   "source": [
    "itr = iter(a)\n",
    "tuple(itr)"
   ]
  },
  {
   "cell_type": "code",
   "execution_count": 25,
   "id": "268b9d10-de3e-4e00-a1d0-8113a5c75565",
   "metadata": {},
   "outputs": [
    {
     "data": {
      "text/plain": [
       "{'bar', 'baz', 'foo'}"
      ]
     },
     "execution_count": 25,
     "metadata": {},
     "output_type": "execute_result"
    }
   ],
   "source": [
    "itr = iter(a)\n",
    "set(itr)"
   ]
  },
  {
   "cell_type": "markdown",
   "id": "bda64ce7-8fe1-4f9c-94ab-df0463075bfe",
   "metadata": {},
   "source": [
    "It isn’t necessarily advised to make a habit of this. Part of the elegance of iterators is that they are “lazy.” That means that when you create an iterator, it doesn’t generate all the items it can yield just then. It waits until you ask for them with `next()`. Items are not created until they are requested.\n",
    "\n",
    "When you use `list()`, `tuple()`, or the like, you are forcing the iterator to generate all its values at once, so they can all be returned. If the total number of objects the iterator returns is very large, that may take a long time.\n",
    "\n",
    "In fact, it is possible to create an iterator in Python that returns an endless series of objects using generator functions and itertools. If you try to grab all the values at once from an endless iterator, the program will hang."
   ]
  },
  {
   "cell_type": "markdown",
   "id": "284cb175-2433-4dd2-a02e-cdcbb8324aa7",
   "metadata": {},
   "source": [
    "## The Guts of the Python for Loop"
   ]
  },
  {
   "cell_type": "code",
   "execution_count": 26,
   "id": "11c82628-9b5b-45aa-b6d5-0bfcc7a8a79b",
   "metadata": {},
   "outputs": [
    {
     "name": "stdout",
     "output_type": "stream",
     "text": [
      "foo\n",
      "bar\n",
      "baz\n"
     ]
    }
   ],
   "source": [
    "a = ['foo', 'bar', 'baz']\n",
    "for i in a:\n",
    "    print(i)"
   ]
  },
  {
   "cell_type": "markdown",
   "id": "f7f773a3-ec61-44af-81e9-ff788f0c789d",
   "metadata": {},
   "source": [
    "To carry out the iteration this for loop describes, Python does the following:\n",
    "\n",
    "- Calls `iter()` to obtain an iterator for `a`\n",
    "- Calls `next()` repeatedly to obtain each item from the iterator in turn\n",
    "- Terminates the loop when `next()` raises the StopIteration exception\n",
    "\n",
    "So the loop body is executed once for each item `next()` returns, with loop variable `i` set to the given item for each iteration."
   ]
  },
  {
   "cell_type": "markdown",
   "id": "733c3868-8e43-4947-a034-904ff0b55dae",
   "metadata": {},
   "source": [
    "Python treats looping over all iterables in exactly this way, and in Python, iterables and iterators abound:\n",
    "\n",
    "- Many built-in and library objects are iterable.\n",
    "\n",
    "- There is a Standard Library module called `itertools` containing many functions that return iterables.\n",
    "\n",
    "- User-defined objects created with Python’s object-oriented capability can be made to be iterable.\n",
    "\n",
    "- Python features a construct called a *generator* that allows you to create your own iterator in a simple, straightforward way."
   ]
  },
  {
   "cell_type": "markdown",
   "id": "7cd7b5b6-3dbe-4af4-9fc4-76495f7dfc94",
   "metadata": {},
   "source": [
    "## Iterating Through a Dictionary\n",
    "\n",
    "What happens when you loop through a dictionary?"
   ]
  },
  {
   "cell_type": "code",
   "execution_count": 27,
   "id": "29d04cc4-5d36-40d8-9b9c-6bd59918d97c",
   "metadata": {},
   "outputs": [
    {
     "name": "stdout",
     "output_type": "stream",
     "text": [
      "foo\n",
      "bar\n",
      "baz\n"
     ]
    }
   ],
   "source": [
    "d = {'foo': 1, 'bar': 2, 'baz': 3}\n",
    "for k in d:\n",
    "    print(k)"
   ]
  },
  {
   "cell_type": "code",
   "execution_count": 28,
   "id": "48c37c47-8cc8-4f0b-b94b-30acc8d4f0f0",
   "metadata": {},
   "outputs": [
    {
     "name": "stdout",
     "output_type": "stream",
     "text": [
      "1\n",
      "2\n",
      "3\n"
     ]
    }
   ],
   "source": [
    "# to access the values, you can use this way\n",
    "for k in d:\n",
    "    print(d[k])"
   ]
  },
  {
   "cell_type": "code",
   "execution_count": 29,
   "id": "3a8f8871-0ee5-4264-be80-19c26d4f6314",
   "metadata": {},
   "outputs": [
    {
     "name": "stdout",
     "output_type": "stream",
     "text": [
      "1\n",
      "2\n",
      "3\n"
     ]
    }
   ],
   "source": [
    "# using .values()\n",
    "for v in d.values():\n",
    "    print(v)"
   ]
  },
  {
   "cell_type": "code",
   "execution_count": 30,
   "id": "cdfcd416-7a20-4096-a68f-9f6634019d06",
   "metadata": {},
   "outputs": [
    {
     "name": "stdout",
     "output_type": "stream",
     "text": [
      "1 2\n"
     ]
    }
   ],
   "source": [
    "# tuple packing and unpacking\n",
    "i, j = (1, 2)\n",
    "print(i, j)"
   ]
  },
  {
   "cell_type": "code",
   "execution_count": 31,
   "id": "c689f056-7bb3-4fcd-91bc-521b5b8ef988",
   "metadata": {},
   "outputs": [
    {
     "name": "stdout",
     "output_type": "stream",
     "text": [
      "1 2\n",
      "3 4\n",
      "5 6\n"
     ]
    }
   ],
   "source": [
    "# unpacking from an iterable\n",
    "for i, j in [(1, 2), (3, 4), (5, 6)]:\n",
    "    print(i, j)"
   ]
  },
  {
   "cell_type": "code",
   "execution_count": 32,
   "id": "1b78060f-b9e7-4949-8e22-f85e0687c57c",
   "metadata": {},
   "outputs": [
    {
     "data": {
      "text/plain": [
       "dict_items([('foo', 1), ('bar', 2), ('baz', 3)])"
      ]
     },
     "execution_count": 32,
     "metadata": {},
     "output_type": "execute_result"
    }
   ],
   "source": [
    "# .items() returns a list of key-value pairs as tuples\n",
    "d = {'foo': 1, 'bar': 2, 'baz': 3}\n",
    "\n",
    "d.items()"
   ]
  },
  {
   "cell_type": "markdown",
   "id": "d7b41081-176f-413e-9968-efb846c860f2",
   "metadata": {},
   "source": [
    "Thus, the Pythonic way to iterate through a dictionary accessing both the keys and values looks like this:"
   ]
  },
  {
   "cell_type": "code",
   "execution_count": 33,
   "id": "c691106a-96f6-42bd-a9ab-0e56890f4e95",
   "metadata": {},
   "outputs": [
    {
     "name": "stdout",
     "output_type": "stream",
     "text": [
      "k = foo , v = 1\n",
      "k = bar , v = 2\n",
      "k = baz , v = 3\n"
     ]
    }
   ],
   "source": [
    "d = {'foo': 1, 'bar': 2, 'baz': 3}\n",
    "for k, v in d.items():\n",
    "    print('k =', k, ', v =', v)"
   ]
  },
  {
   "cell_type": "markdown",
   "id": "1f8edeb9-9042-4b46-9ef1-55c3e26711b9",
   "metadata": {},
   "source": [
    "## The range() Function"
   ]
  },
  {
   "cell_type": "code",
   "execution_count": 35,
   "id": "66106d59-e5e0-448c-89f4-08fb1e39fb94",
   "metadata": {},
   "outputs": [
    {
     "data": {
      "text/plain": [
       "range"
      ]
     },
     "execution_count": 35,
     "metadata": {},
     "output_type": "execute_result"
    }
   ],
   "source": [
    "x = range(5)\n",
    "type(x)"
   ]
  },
  {
   "cell_type": "markdown",
   "id": "acb8ac4b-1429-4203-a354-b5101ac4498c",
   "metadata": {},
   "source": [
    "Because a range object is an iterable, you can obtain the values by iterating over them with a for loop:"
   ]
  },
  {
   "cell_type": "code",
   "execution_count": 34,
   "id": "e3cbfd2e-4c0c-46a5-8e93-343242ad239d",
   "metadata": {},
   "outputs": [
    {
     "name": "stdout",
     "output_type": "stream",
     "text": [
      "0\n",
      "1\n",
      "2\n",
      "3\n",
      "4\n"
     ]
    }
   ],
   "source": [
    "for n in x:\n",
    "    print(n)"
   ]
  },
  {
   "cell_type": "markdown",
   "id": "d74c20f5-d1a6-43ab-b9ad-c2e176e5ad22",
   "metadata": {},
   "source": [
    "You could also snag all the values at once with list() or tuple()."
   ]
  },
  {
   "cell_type": "code",
   "execution_count": 36,
   "id": "3c117448-c55e-4c9a-9b35-169783e9b270",
   "metadata": {},
   "outputs": [
    {
     "data": {
      "text/plain": [
       "[0, 1, 2, 3, 4]"
      ]
     },
     "execution_count": 36,
     "metadata": {},
     "output_type": "execute_result"
    }
   ],
   "source": [
    "list(x)"
   ]
  },
  {
   "cell_type": "code",
   "execution_count": 37,
   "id": "8f4309bd-bc0e-4881-a4f2-4401584b7e2e",
   "metadata": {},
   "outputs": [
    {
     "data": {
      "text/plain": [
       "(0, 1, 2, 3, 4)"
      ]
     },
     "execution_count": 37,
     "metadata": {},
     "output_type": "execute_result"
    }
   ],
   "source": [
    "tuple(x)"
   ]
  },
  {
   "cell_type": "markdown",
   "id": "54132c2d-792f-405a-866f-e747560d9cd7",
   "metadata": {},
   "source": [
    "`range(\\<begin>, \\<end>, \\<stride>)` returns an iterable that yields integers starting with \\<begin>, up to but not including \\<end>. If specified, \\<stride> indicates an amount to skip between values. If <stride> is omitted, it defaults to 1."
   ]
  },
  {
   "cell_type": "code",
   "execution_count": 38,
   "id": "a6833a6e-00d5-4fe5-91ac-723232d7027e",
   "metadata": {},
   "outputs": [
    {
     "data": {
      "text/plain": [
       "[5, 8, 11, 14, 17]"
      ]
     },
     "execution_count": 38,
     "metadata": {},
     "output_type": "execute_result"
    }
   ],
   "source": [
    "list(range(5, 20, 3))"
   ]
  },
  {
   "cell_type": "markdown",
   "id": "91b34988-a6bc-4489-a9b2-fead2f6f8f23",
   "metadata": {},
   "source": [
    "All the parameters specified to `range()` must be integers, but any of them can be negative. \n",
    "\n",
    "Naturally, if \\<begin> is greater than \\<end>, \\<stride> must be negative (if you want any results).\n",
    "\n"
   ]
  },
  {
   "cell_type": "code",
   "execution_count": 39,
   "id": "c8f76ee2-644a-4111-84aa-c41f5d881d92",
   "metadata": {},
   "outputs": [
    {
     "data": {
      "text/plain": [
       "[-5, -4, -3, -2, -1, 0, 1, 2, 3, 4]"
      ]
     },
     "execution_count": 39,
     "metadata": {},
     "output_type": "execute_result"
    }
   ],
   "source": [
    "list(range(-5, 5))"
   ]
  },
  {
   "cell_type": "code",
   "execution_count": 40,
   "id": "3ba8b716-6835-497e-81fd-3523b7f6fe49",
   "metadata": {},
   "outputs": [
    {
     "data": {
      "text/plain": [
       "[]"
      ]
     },
     "execution_count": 40,
     "metadata": {},
     "output_type": "execute_result"
    }
   ],
   "source": [
    "list(range(5, -5))"
   ]
  },
  {
   "cell_type": "code",
   "execution_count": 41,
   "id": "bbfb99c2-47f2-4f4f-84b9-db18ce04dc25",
   "metadata": {},
   "outputs": [
    {
     "data": {
      "text/plain": [
       "[5, 4, 3, 2, 1, 0, -1, -2, -3, -4]"
      ]
     },
     "execution_count": 41,
     "metadata": {},
     "output_type": "execute_result"
    }
   ],
   "source": [
    "# begin is greater than end, <stride> must be negative to get results\n",
    "list(range(5, -5, -1))"
   ]
  },
  {
   "cell_type": "markdown",
   "id": "caf1eebb-a495-41b1-8edb-9b8931143a38",
   "metadata": {},
   "source": [
    "## Altering for Loop Behavior"
   ]
  },
  {
   "cell_type": "markdown",
   "id": "b5863860-78d3-4e75-9587-0a1f5e4670a5",
   "metadata": {},
   "source": [
    "### The `break` and `continue` Statements\n",
    "`break` and `continue` work the same way with for loops as with while loops.\n"
   ]
  },
  {
   "cell_type": "markdown",
   "id": "c4017831-80c8-4458-b669-89fd8c36575d",
   "metadata": {},
   "source": [
    "### The `else` Clause\n",
    "A for loop can have an else clause as well. The interpretation is analogous to that of a while loop. \n",
    "\n",
    "The else clause will be executed if the loop terminates through exhaustion of the iterable:"
   ]
  },
  {
   "cell_type": "code",
   "execution_count": 42,
   "id": "421c3df9-46fd-42de-b28d-56cf3ed125c1",
   "metadata": {},
   "outputs": [
    {
     "name": "stdout",
     "output_type": "stream",
     "text": [
      "foo\n",
      "bar\n",
      "baz\n",
      "qux\n",
      "Done.\n"
     ]
    }
   ],
   "source": [
    "for i in ['foo', 'bar', 'baz', 'qux']:\n",
    "    print(i)\n",
    "else:\n",
    "    print('Done.')  # Will execute"
   ]
  },
  {
   "cell_type": "code",
   "execution_count": null,
   "id": "0c2a0b40-8652-4957-aea8-b049051c5303",
   "metadata": {},
   "outputs": [],
   "source": []
  }
 ],
 "metadata": {
  "kernelspec": {
   "display_name": "Python 3",
   "language": "python",
   "name": "python3"
  },
  "language_info": {
   "codemirror_mode": {
    "name": "ipython",
    "version": 3
   },
   "file_extension": ".py",
   "mimetype": "text/x-python",
   "name": "python",
   "nbconvert_exporter": "python",
   "pygments_lexer": "ipython3",
   "version": "3.8.10"
  }
 },
 "nbformat": 4,
 "nbformat_minor": 5
}
