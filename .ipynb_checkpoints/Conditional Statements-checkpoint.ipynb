{
 "cells": [
  {
   "cell_type": "markdown",
   "id": "8ef52e91-384e-47e0-bace-66d09db392df",
   "metadata": {},
   "source": [
    "# Conditional Statements in Python"
   ]
  },
  {
   "cell_type": "markdown",
   "id": "243b04b3-8a5c-4a1f-817e-2bf15f0cc2f0",
   "metadata": {},
   "source": [
    "## Introduction to the if Statement"
   ]
  },
  {
   "cell_type": "code",
   "execution_count": 1,
   "id": "093a7708-48d2-4e40-b663-1f92ecb4ff42",
   "metadata": {},
   "outputs": [
    {
     "name": "stdout",
     "output_type": "stream",
     "text": [
      "yes\n"
     ]
    }
   ],
   "source": [
    "x = 0\n",
    "y = 5\n",
    "\n",
    "if x < y:                            # Truthy\n",
    "    print('yes')"
   ]
  },
  {
   "cell_type": "code",
   "execution_count": 3,
   "id": "700048f7-6546-465e-8401-00febb32f354",
   "metadata": {},
   "outputs": [],
   "source": [
    "if y < x:                            # Falsy\n",
    "    print('yes')"
   ]
  },
  {
   "cell_type": "code",
   "execution_count": 4,
   "id": "24932576-e253-46fb-9e6d-6b7bddd61e7a",
   "metadata": {},
   "outputs": [],
   "source": [
    "if x:                                # Falsy\n",
    "    print('yes')"
   ]
  },
  {
   "cell_type": "code",
   "execution_count": 5,
   "id": "2d95261a-2053-491b-94e0-9e1e678fc7ba",
   "metadata": {},
   "outputs": [
    {
     "name": "stdout",
     "output_type": "stream",
     "text": [
      "yes\n"
     ]
    }
   ],
   "source": [
    "if y:                                # Truthy\n",
    "    print('yes')"
   ]
  },
  {
   "cell_type": "code",
   "execution_count": 6,
   "id": "e35ca07d-0cc3-49f9-a19a-d7a57c113a03",
   "metadata": {},
   "outputs": [
    {
     "name": "stdout",
     "output_type": "stream",
     "text": [
      "yes\n"
     ]
    }
   ],
   "source": [
    "if x or y:                           # Truthy\n",
    "    print('yes')"
   ]
  },
  {
   "cell_type": "code",
   "execution_count": 7,
   "id": "25de9539-a911-42b5-9b32-01a837f967d4",
   "metadata": {},
   "outputs": [],
   "source": [
    "if x and y:                          # Falsy\n",
    "    print('yes')"
   ]
  },
  {
   "cell_type": "code",
   "execution_count": 8,
   "id": "286f5ec3-cc0d-4c7a-a364-7ea4d3b75def",
   "metadata": {},
   "outputs": [
    {
     "name": "stdout",
     "output_type": "stream",
     "text": [
      "yes\n"
     ]
    }
   ],
   "source": [
    "if 'aul' in 'grault':                # Truthy\n",
    "    print('yes')"
   ]
  },
  {
   "cell_type": "code",
   "execution_count": 9,
   "id": "2d190f48-eac4-4f22-b7c7-99d4a23f9d64",
   "metadata": {},
   "outputs": [],
   "source": [
    "if 'quux' in ['foo', 'bar', 'baz']:  # Falsy\n",
    "    print('yes')"
   ]
  },
  {
   "cell_type": "markdown",
   "id": "30fd482f-2338-43a8-af98-725660489976",
   "metadata": {},
   "source": [
    "## Grouping Statements: Indentation and Blocks"
   ]
  },
  {
   "cell_type": "markdown",
   "id": "90ebdead-c6ad-407f-995c-33dbd3d1d9eb",
   "metadata": {},
   "source": [
    "### Python: It’s All About the Indentation"
   ]
  },
  {
   "cell_type": "markdown",
   "id": "1e0f45a9-f991-4ed9-8cc7-fc9d5a10a273",
   "metadata": {},
   "source": [
    "#### What Do Other Languages Do? "
   ]
  },
  {
   "cell_type": "markdown",
   "id": "5c96abe0-8ffc-46e6-b33d-eef1f2899ce1",
   "metadata": {},
   "source": [
    "### Which Is Better?"
   ]
  },
  {
   "cell_type": "markdown",
   "id": "b4135d60-93fe-4d14-a52d-e998e5933f4c",
   "metadata": {},
   "source": [
    "## The else and elif Clauses"
   ]
  },
  {
   "cell_type": "code",
   "execution_count": 10,
   "id": "c9022028-df97-45e0-be9e-7257f4c0451d",
   "metadata": {},
   "outputs": [
    {
     "name": "stdout",
     "output_type": "stream",
     "text": [
      "(first suite)\n",
      "x is small\n"
     ]
    }
   ],
   "source": [
    "x = 20\n",
    "\n",
    "if x < 50:\n",
    "    print('(first suite)')\n",
    "    print('x is small')\n",
    "else:\n",
    "    print('(second suite)')\n",
    "    print('x is large')"
   ]
  },
  {
   "cell_type": "code",
   "execution_count": 11,
   "id": "195de6c2-99d8-489e-9cc5-a89a8514fded",
   "metadata": {},
   "outputs": [
    {
     "name": "stdout",
     "output_type": "stream",
     "text": [
      "(second suite)\n",
      "x is large\n"
     ]
    }
   ],
   "source": [
    "x = 120\n",
    "\n",
    "if x < 50:\n",
    "    print('(first suite)')\n",
    "    print('x is small')\n",
    "else:\n",
    "    print('(second suite)')\n",
    "    print('x is large')"
   ]
  },
  {
   "cell_type": "code",
   "execution_count": 12,
   "id": "7d9cc731-75a8-4914-958d-51a32a9a40c2",
   "metadata": {},
   "outputs": [
    {
     "name": "stdout",
     "output_type": "stream",
     "text": [
      "Hello Joe\n"
     ]
    }
   ],
   "source": [
    "name = 'Joe'\n",
    "if name == 'Fred':\n",
    "    print('Hello Fred')\n",
    "elif name == 'Xander':\n",
    "    print('Hello Xander')\n",
    "elif name == 'Joe':\n",
    "    print('Hello Joe')\n",
    "elif name == 'Arnold':\n",
    "    print('Hello Arnold')\n",
    "else:\n",
    "    print(\"I don't know who you are!\")"
   ]
  },
  {
   "cell_type": "markdown",
   "id": "11c39177-746d-4d89-96c1-4a7fc7bda10c",
   "metadata": {},
   "source": [
    "Note: Using a lengthy `if/elif/else` series can be a little inelegant, especially when the actions are simple statements like `print()`. In many cases, there may be a more Pythonic way to accomplish the same thing.\n",
    "\n",
    "Here’s one possible alternative to the example above using the `dict.get()` method:"
   ]
  },
  {
   "cell_type": "code",
   "execution_count": 13,
   "id": "ea8f0bab-e49a-40f8-9f13-e009418b250b",
   "metadata": {},
   "outputs": [
    {
     "name": "stdout",
     "output_type": "stream",
     "text": [
      "Hello Joe\n",
      "I don't know who you are!\n"
     ]
    }
   ],
   "source": [
    "names = {\n",
    "    'Fred': 'Hello Fred',\n",
    "    'Xander': 'Hello Xander',\n",
    "    'Joe': 'Hello Joe',\n",
    "    'Arnold': 'Hello Arnold'\n",
    "}\n",
    "\n",
    "print(names.get('Joe', \"I don't know who you are!\"))\n",
    "\n",
    "print(names.get('Rick', \"I don't know who you are!\"))"
   ]
  },
  {
   "cell_type": "markdown",
   "id": "86eae9b6-e9b1-4be5-bfbb-36dccf479ed0",
   "metadata": {},
   "source": [
    "Recall from the tutorial on Python dictionaries that the `dict.get()` method searches a dictionary for the specified key and returns the associated value if it is found, or the given default value if it isn’t."
   ]
  },
  {
   "cell_type": "code",
   "execution_count": 14,
   "id": "dfb25274-cd59-4ffa-a13c-eb3b29897c6c",
   "metadata": {},
   "outputs": [
    {
     "ename": "NameError",
     "evalue": "name 'var' is not defined",
     "output_type": "error",
     "traceback": [
      "\u001b[1;31m---------------------------------------------------------------------------\u001b[0m",
      "\u001b[1;31mNameError\u001b[0m                                 Traceback (most recent call last)",
      "\u001b[1;32m<ipython-input-14-d61d7165cfc7>\u001b[0m in \u001b[0;36m<module>\u001b[1;34m\u001b[0m\n\u001b[1;32m----> 1\u001b[1;33m \u001b[0mvar\u001b[0m  \u001b[1;31m# Not defined\u001b[0m\u001b[1;33m\u001b[0m\u001b[1;33m\u001b[0m\u001b[0m\n\u001b[0m",
      "\u001b[1;31mNameError\u001b[0m: name 'var' is not defined"
     ]
    }
   ],
   "source": [
    "var  # Not defined"
   ]
  },
  {
   "cell_type": "code",
   "execution_count": 15,
   "id": "7241b66f-450a-419f-b707-618335552378",
   "metadata": {},
   "outputs": [
    {
     "name": "stdout",
     "output_type": "stream",
     "text": [
      "foo\n"
     ]
    }
   ],
   "source": [
    "if 'a' in 'bar':\n",
    "    print('foo')\n",
    "elif 1/0:\n",
    "    print(\"This won't happen\")\n",
    "elif var:\n",
    "    print(\"This won't either\")"
   ]
  },
  {
   "cell_type": "markdown",
   "id": "df9cd195-3d09-4ad6-b1a6-4e174e1361f6",
   "metadata": {},
   "source": [
    "## One-Line if Statements"
   ]
  },
  {
   "cell_type": "markdown",
   "id": "2e3d802d-5a9c-4314-81c2-08a081ce53e3",
   "metadata": {},
   "source": [
    "There can even be more than one <statement> on the same line, separated by semicolons:\n",
    "\n",
    "if \\<expr\\>: \\<statement_1\\>; \\<statement_2\\>; ...; \\<statement_n\\>\n",
    "    \n",
    "The \\<statements\\> separated by ; are treated as a suite."
   ]
  },
  {
   "cell_type": "code",
   "execution_count": 16,
   "id": "0ac0c0eb-9ce4-4f93-a4dd-3dc34289b1d4",
   "metadata": {},
   "outputs": [
    {
     "name": "stdout",
     "output_type": "stream",
     "text": [
      "1\n",
      "2\n",
      "3\n"
     ]
    }
   ],
   "source": [
    "if 'f' in 'foo': print('1'); print('2'); print('3')"
   ]
  },
  {
   "cell_type": "code",
   "execution_count": 17,
   "id": "3722c457-a920-4f65-9ae5-576f08d6b794",
   "metadata": {},
   "outputs": [],
   "source": [
    "if 'z' in 'foo': print('1'); print('2'); print('3')"
   ]
  },
  {
   "cell_type": "code",
   "execution_count": 18,
   "id": "2e9a84de-5d3f-4c3f-9d35-f7f8a6fbdf11",
   "metadata": {},
   "outputs": [
    {
     "name": "stdout",
     "output_type": "stream",
     "text": [
      "qux\n",
      "quux\n"
     ]
    }
   ],
   "source": [
    "x = 2\n",
    "if x == 1: print('foo'); print('bar'); print('baz')\n",
    "elif x == 2: print('qux'); print('quux')\n",
    "else: print('corge'); print('grault')"
   ]
  },
  {
   "cell_type": "code",
   "execution_count": 19,
   "id": "3c3c7a49-6df9-45f4-abec-cb20980d9e74",
   "metadata": {},
   "outputs": [
    {
     "name": "stdout",
     "output_type": "stream",
     "text": [
      "corge\n",
      "grault\n"
     ]
    }
   ],
   "source": [
    "x = 3\n",
    "if x == 1: print('foo'); print('bar'); print('baz')\n",
    "elif x == 2: print('qux'); print('quux')\n",
    "else: print('corge'); print('grault')"
   ]
  },
  {
   "cell_type": "markdown",
   "id": "19a69ce6-de56-4b43-bf46-7bda00ce256f",
   "metadata": {},
   "source": [
    "## Conditional Expressions (Python’s Ternary Operator)"
   ]
  },
  {
   "cell_type": "markdown",
   "id": "3e7a6b4c-8223-4f65-8e0b-dd7ed290a0c1",
   "metadata": {},
   "source": [
    "In its simplest form, the syntax of the conditional expression is as follows:\n",
    "\n",
    "\\<expr1\\> if \\<conditional_expr\\> else \\<expr2\\>\n",
    "\n",
    "This is different from the if statement forms listed above because it is not a control structure that directs the flow of program execution. It acts more like an operator that defines an expression. \n",
    "\n",
    "In the above example, <conditional_expr> is evaluated first. If it is true, the expression evaluates to \\<expr1\\>. If it is false, the expression evaluates to \\<expr2\\>.\n",
    "\n",
    "Note: there is no colon after \\<conditional_expr> or else."
   ]
  },
  {
   "cell_type": "code",
   "execution_count": 20,
   "id": "c9910a53-d42c-4e59-aa56-463592587419",
   "metadata": {},
   "outputs": [
    {
     "name": "stdout",
     "output_type": "stream",
     "text": [
      "Let's go to the beach\n"
     ]
    }
   ],
   "source": [
    "raining = False\n",
    "print(\"Let's go to the\", 'beach' if not raining else 'library')"
   ]
  },
  {
   "cell_type": "code",
   "execution_count": 21,
   "id": "24395516-af95-4904-b49e-3ccb54e34608",
   "metadata": {},
   "outputs": [
    {
     "name": "stdout",
     "output_type": "stream",
     "text": [
      "Let's go to the library\n"
     ]
    }
   ],
   "source": [
    "raining = True\n",
    "print(\"Let's go to the\", 'beach' if not raining else 'library')"
   ]
  },
  {
   "cell_type": "code",
   "execution_count": 22,
   "id": "35c1b9ba-15fd-4e23-a4a1-09dfe2ebec5c",
   "metadata": {},
   "outputs": [
    {
     "data": {
      "text/plain": [
       "'minor'"
      ]
     },
     "execution_count": 22,
     "metadata": {},
     "output_type": "execute_result"
    }
   ],
   "source": [
    "age = 12\n",
    "s = 'minor' if age < 21 else 'adult'\n",
    "s"
   ]
  },
  {
   "cell_type": "code",
   "execution_count": 23,
   "id": "d238f98a-7332-4be1-ab63-79d1321d9dc7",
   "metadata": {},
   "outputs": [
    {
     "data": {
      "text/plain": [
       "'no'"
      ]
     },
     "execution_count": 23,
     "metadata": {},
     "output_type": "execute_result"
    }
   ],
   "source": [
    "'yes' if ('qux' in ['foo', 'bar', 'baz']) else 'no'"
   ]
  },
  {
   "cell_type": "markdown",
   "id": "a3c6e996-f6ec-4cd5-9957-c2db533a5b39",
   "metadata": {},
   "source": [
    "Note: Python’s conditional expression is similar to the \\<conditional_expr> ? \\<expr1> : \\<expr2> syntax used by many other languages—C, Perl and Java to name a few. In fact, the ?: operator is commonly called the ternary operator in those languages, which is probably the reason Python’s conditional expression is sometimes referred to as the Python ternary operator.\n",
    "\n",
    "You can see in PEP 308 that the \\<conditional_expr> ? \\<expr1> : \\<expr2> syntax was considered for Python but ultimately rejected in favor of the syntax shown above."
   ]
  },
  {
   "cell_type": "code",
   "execution_count": 26,
   "id": "c819bf2e-db09-40e6-9fb3-d079eebac96c",
   "metadata": {},
   "outputs": [],
   "source": [
    "# A common use of the conditional expression is to select variable assignment\n",
    "if a > b:\n",
    "    m = a\n",
    "else:\n",
    "    m = b"
   ]
  },
  {
   "cell_type": "code",
   "execution_count": 27,
   "id": "fae4429f-db79-4548-9746-7173585a9f29",
   "metadata": {},
   "outputs": [],
   "source": [
    "# But a conditional expression is shorter and arguably more readable as well\n",
    "m = a if a > b else m = b"
   ]
  },
  {
   "cell_type": "markdown",
   "id": "b3919554-b681-4209-90ee-1a9ab8e71484",
   "metadata": {},
   "source": [
    "Remember that the conditional expression behaves like an expression syntactically. It can be used as part of a longer expression. The conditional expression has lower precedence than virtually all the other operators, so parentheses are needed to group it by itself."
   ]
  },
  {
   "cell_type": "markdown",
   "id": "597de1e2-f372-4a90-b85b-544afe3c7132",
   "metadata": {},
   "source": [
    "In the following example, the + operator binds more tightly than the conditional expression, so 1 + x and y + 2 are evaluated first, followed by the conditional expression. The parentheses in the second case are unnecessary and do not change the result:"
   ]
  },
  {
   "cell_type": "code",
   "execution_count": 28,
   "id": "a7f38cde-b6c8-4bb7-9177-43d54b576fb6",
   "metadata": {},
   "outputs": [
    {
     "data": {
      "text/plain": [
       "42"
      ]
     },
     "execution_count": 28,
     "metadata": {},
     "output_type": "execute_result"
    }
   ],
   "source": [
    "x = y = 40\n",
    "\n",
    "z = 1 + x if x > y else y + 2\n",
    "z"
   ]
  },
  {
   "cell_type": "code",
   "execution_count": 29,
   "id": "d66dab78-7fbf-4eb9-8fc3-73f283b24a86",
   "metadata": {},
   "outputs": [
    {
     "data": {
      "text/plain": [
       "42"
      ]
     },
     "execution_count": 29,
     "metadata": {},
     "output_type": "execute_result"
    }
   ],
   "source": [
    "z = (1 + x) if x > y else (y + 2)\n",
    "z"
   ]
  },
  {
   "cell_type": "markdown",
   "id": "8317aba3-5bd6-486b-af77-5ade2ea8c53e",
   "metadata": {},
   "source": [
    "If you want the conditional expression to be evaluated first, you need to surround it with grouping parentheses."
   ]
  },
  {
   "cell_type": "code",
   "execution_count": 30,
   "id": "23f6d369-9f1b-46ed-99bd-32134d951ef5",
   "metadata": {},
   "outputs": [
    {
     "data": {
      "text/plain": [
       "43"
      ]
     },
     "execution_count": 30,
     "metadata": {},
     "output_type": "execute_result"
    }
   ],
   "source": [
    "x = y = 40\n",
    "\n",
    "z = 1 + (x if x > y else y) + 2\n",
    "z\n"
   ]
  },
  {
   "cell_type": "markdown",
   "id": "0b37e011-2bfc-429f-b66c-d44f09b84576",
   "metadata": {},
   "source": [
    "Conditional expressions also use short-circuit evaluation like compound logical expressions. Portions of a conditional expression are not evaluated if they don’t need to be. In both cases, the 1/0 terms are not evaluated, so no exception is raised."
   ]
  },
  {
   "cell_type": "code",
   "execution_count": 32,
   "id": "8b17af50-1650-4de4-a057-5e76c86db081",
   "metadata": {},
   "outputs": [
    {
     "data": {
      "text/plain": [
       "'foo'"
      ]
     },
     "execution_count": 32,
     "metadata": {},
     "output_type": "execute_result"
    }
   ],
   "source": [
    "'foo' if True else 1/0"
   ]
  },
  {
   "cell_type": "code",
   "execution_count": 33,
   "id": "76276648-18f1-4078-91c9-34a05ffcc178",
   "metadata": {},
   "outputs": [
    {
     "data": {
      "text/plain": [
       "'bar'"
      ]
     },
     "execution_count": 33,
     "metadata": {},
     "output_type": "execute_result"
    }
   ],
   "source": [
    "1/0 if False else 'bar'"
   ]
  },
  {
   "cell_type": "markdown",
   "id": "5f79d776-6619-433f-b061-0fdc779a1f8e",
   "metadata": {},
   "source": [
    "Conditional expressions can also be chained together, as a sort of alternative if/elif/else structure. It’s not clear that this has any significant advantage over the corresponding if/elif/else statement, but it is syntactically correct Python."
   ]
  },
  {
   "cell_type": "code",
   "execution_count": 34,
   "id": "cde7d5a4-bce0-455f-a5ad-9c83923e40d0",
   "metadata": {},
   "outputs": [
    {
     "data": {
      "text/plain": [
       "'quux'"
      ]
     },
     "execution_count": 34,
     "metadata": {},
     "output_type": "execute_result"
    }
   ],
   "source": [
    "s = ('foo' if (x == 1) else\n",
    "     'bar' if (x == 2) else\n",
    "     'baz' if (x == 3) else\n",
    "     'qux' if (x == 4) else\n",
    "     'quux'\n",
    ")\n",
    "s"
   ]
  },
  {
   "cell_type": "markdown",
   "id": "d12b6dac-806e-42c6-9a6e-7970e347721a",
   "metadata": {},
   "source": [
    "## The Python `pass` Statement"
   ]
  },
  {
   "cell_type": "markdown",
   "id": "6494bf72-6633-4f5c-b9e6-5eb046bf9f78",
   "metadata": {},
   "source": [
    "Occasionally, you may find that you want to write what is called a code stub: a placeholder for where you will eventually put a block of code that you haven’t implemented yet.\n",
    "\n",
    "In languages where token delimiters are used to define blocks, like the curly braces in Perl and C, empty delimiters can be used to define a code stub. \n",
    "\n",
    "Because Python uses indentation instead of delimiters, it is not possible to specify an empty block. If you introduce an if statement with if \\<expr>:, something has to come after it, either on the same line or indented on the following line."
   ]
  },
  {
   "cell_type": "code",
   "execution_count": 35,
   "id": "642a9736-f8f8-4b27-95f8-c72f9d96fedf",
   "metadata": {},
   "outputs": [
    {
     "ename": "IndentationError",
     "evalue": "expected an indented block (<ipython-input-35-37d82b1abfb6>, line 3)",
     "output_type": "error",
     "traceback": [
      "\u001b[1;36m  File \u001b[1;32m\"<ipython-input-35-37d82b1abfb6>\"\u001b[1;36m, line \u001b[1;32m3\u001b[0m\n\u001b[1;33m    print('foo')\u001b[0m\n\u001b[1;37m    ^\u001b[0m\n\u001b[1;31mIndentationError\u001b[0m\u001b[1;31m:\u001b[0m expected an indented block\n"
     ]
    }
   ],
   "source": [
    "if True:\n",
    "\n",
    "print('foo')"
   ]
  },
  {
   "cell_type": "markdown",
   "id": "8ee227ab-85d7-40e0-825a-2271a866da2e",
   "metadata": {},
   "source": [
    "The Python `pass` statement solves this problem. It doesn’t change program behavior at all. It is used as a placeholder to keep the interpreter happy in any situation where a statement is syntactically required, but you don’t really want to do anything:\n",
    "\n"
   ]
  },
  {
   "cell_type": "code",
   "execution_count": 36,
   "id": "2c521716-c2c7-486a-8525-5ce7fcb25afe",
   "metadata": {},
   "outputs": [
    {
     "name": "stdout",
     "output_type": "stream",
     "text": [
      "foo\n"
     ]
    }
   ],
   "source": [
    "if True:\n",
    "    pass\n",
    "\n",
    "print('foo')"
   ]
  },
  {
   "cell_type": "code",
   "execution_count": null,
   "id": "cd5dc26e-06c9-4f4d-a91e-d9240906a6d1",
   "metadata": {},
   "outputs": [],
   "source": []
  }
 ],
 "metadata": {
  "kernelspec": {
   "display_name": "Python 3",
   "language": "python",
   "name": "python3"
  },
  "language_info": {
   "codemirror_mode": {
    "name": "ipython",
    "version": 3
   },
   "file_extension": ".py",
   "mimetype": "text/x-python",
   "name": "python",
   "nbconvert_exporter": "python",
   "pygments_lexer": "ipython3",
   "version": "3.8.10"
  }
 },
 "nbformat": 4,
 "nbformat_minor": 5
}
