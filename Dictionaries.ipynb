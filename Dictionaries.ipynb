{
 "cells": [
  {
   "cell_type": "markdown",
   "id": "5a2fc0c5-6b01-4785-96b8-7528c7f4f62a",
   "metadata": {},
   "source": [
    "# Dictionaries in Python"
   ]
  },
  {
   "cell_type": "markdown",
   "id": "01a1b503-bbb0-4dd2-8bd6-df5cc7a9d51c",
   "metadata": {},
   "source": [
    "## Defining a Dictionary"
   ]
  },
  {
   "cell_type": "code",
   "execution_count": 4,
   "id": "ac6904b2-9c76-4715-8924-ca4dcdf6f2dd",
   "metadata": {},
   "outputs": [
    {
     "data": {
      "text/plain": [
       "{'Colorado': 'Rockies',\n",
       " 'Boston': 'Red Sox',\n",
       " 'Minnesota': 'Twins',\n",
       " 'Milwaukee': 'Brewers',\n",
       " 'Seattle': 'Mariners'}"
      ]
     },
     "execution_count": 4,
     "metadata": {},
     "output_type": "execute_result"
    }
   ],
   "source": [
    "# construct a dictionary using { }\n",
    "MLB_team = {\n",
    "    'Colorado' : 'Rockies',\n",
    "    'Boston'   : 'Red Sox',\n",
    "    'Minnesota': 'Twins',\n",
    "    'Milwaukee': 'Brewers',\n",
    "    'Seattle'  : 'Mariners'\n",
    "}\n",
    "MLB_team"
   ]
  },
  {
   "cell_type": "code",
   "execution_count": 5,
   "id": "9545cf53-db8b-42f8-8981-91867a86e2e0",
   "metadata": {},
   "outputs": [
    {
     "data": {
      "text/plain": [
       "{'Colorado': 'Rockies',\n",
       " 'Boston': 'Red Sox',\n",
       " 'Minnesota': 'Twins',\n",
       " 'Milwaukee': 'Brewers',\n",
       " 'Seattle': 'Mariners'}"
      ]
     },
     "execution_count": 5,
     "metadata": {},
     "output_type": "execute_result"
    }
   ],
   "source": [
    "# construct a dictionary using built-in dict() function\n",
    "# the argument to dict() should be a sequence of key-value pairs. \n",
    "# a list of tuples works well for this\n",
    "MLB_team = dict([\n",
    "    ('Colorado', 'Rockies'),\n",
    "    ('Boston', 'Red Sox'),\n",
    "    ('Minnesota', 'Twins'),\n",
    "    ('Milwaukee', 'Brewers'),\n",
    "    ('Seattle', 'Mariners')\n",
    "])\n",
    "MLB_team"
   ]
  },
  {
   "cell_type": "code",
   "execution_count": 6,
   "id": "e78a73fa-aa5a-458a-9aee-831debcf7ccf",
   "metadata": {},
   "outputs": [
    {
     "data": {
      "text/plain": [
       "{'Colorado': 'Rockies',\n",
       " 'Boston': 'Red Sox',\n",
       " 'Minnesota': 'Twins',\n",
       " 'Milwaukee': 'Brewers',\n",
       " 'Seattle': 'Mariners'}"
      ]
     },
     "execution_count": 6,
     "metadata": {},
     "output_type": "execute_result"
    }
   ],
   "source": [
    "# a dictionary can also be constructed using keyword arguments\n",
    "MLB_team = dict(\n",
    "    Colorado='Rockies',\n",
    "    Boston='Red Sox',\n",
    "    Minnesota='Twins',\n",
    "    Milwaukee='Brewers',\n",
    "    Seattle='Mariners'\n",
    ")\n",
    "MLB_team"
   ]
  },
  {
   "cell_type": "code",
   "execution_count": 7,
   "id": "c3208765-bfb8-43bd-914c-e45a6677c540",
   "metadata": {},
   "outputs": [
    {
     "data": {
      "text/plain": [
       "dict"
      ]
     },
     "execution_count": 7,
     "metadata": {},
     "output_type": "execute_result"
    }
   ],
   "source": [
    "type(MLB_team)"
   ]
  },
  {
   "cell_type": "markdown",
   "id": "239ebe36-c767-4353-9430-366267628763",
   "metadata": {},
   "source": [
    "## Accessing Dictionary Values\n",
    "The order of dictionary entries is irrelevant."
   ]
  },
  {
   "cell_type": "code",
   "execution_count": 8,
   "id": "b06f8b32-a4df-4f50-aef4-13aca36da7e6",
   "metadata": {},
   "outputs": [
    {
     "data": {
      "text/plain": [
       "'Twins'"
      ]
     },
     "execution_count": 8,
     "metadata": {},
     "output_type": "execute_result"
    }
   ],
   "source": [
    "MLB_team['Minnesota']"
   ]
  },
  {
   "cell_type": "code",
   "execution_count": 9,
   "id": "dd4e948e-39bc-43c7-b89f-fafab592f61b",
   "metadata": {},
   "outputs": [
    {
     "data": {
      "text/plain": [
       "'Rockies'"
      ]
     },
     "execution_count": 9,
     "metadata": {},
     "output_type": "execute_result"
    }
   ],
   "source": [
    "MLB_team['Colorado']"
   ]
  },
  {
   "cell_type": "code",
   "execution_count": 10,
   "id": "219a46ae-96b4-4991-8bdf-def69a2d16ce",
   "metadata": {},
   "outputs": [
    {
     "ename": "KeyError",
     "evalue": "'Toronto'",
     "output_type": "error",
     "traceback": [
      "\u001b[1;31m---------------------------------------------------------------------------\u001b[0m",
      "\u001b[1;31mKeyError\u001b[0m                                  Traceback (most recent call last)",
      "\u001b[1;32m<ipython-input-10-49dae55b5d94>\u001b[0m in \u001b[0;36m<module>\u001b[1;34m\u001b[0m\n\u001b[0;32m      1\u001b[0m \u001b[1;31m# raise an exception\u001b[0m\u001b[1;33m\u001b[0m\u001b[1;33m\u001b[0m\u001b[1;33m\u001b[0m\u001b[0m\n\u001b[1;32m----> 2\u001b[1;33m \u001b[0mMLB_team\u001b[0m\u001b[1;33m[\u001b[0m\u001b[1;34m'Toronto'\u001b[0m\u001b[1;33m]\u001b[0m\u001b[1;33m\u001b[0m\u001b[1;33m\u001b[0m\u001b[0m\n\u001b[0m",
      "\u001b[1;31mKeyError\u001b[0m: 'Toronto'"
     ]
    }
   ],
   "source": [
    "# raise an exception\n",
    "MLB_team['Toronto']"
   ]
  },
  {
   "cell_type": "code",
   "execution_count": 11,
   "id": "d70b07b3-5fe1-4c47-8d5a-e234da496586",
   "metadata": {},
   "outputs": [
    {
     "data": {
      "text/plain": [
       "{'Colorado': 'Rockies',\n",
       " 'Boston': 'Red Sox',\n",
       " 'Minnesota': 'Twins',\n",
       " 'Milwaukee': 'Brewers',\n",
       " 'Seattle': 'Mariners',\n",
       " 'Kansas City': 'Royals'}"
      ]
     },
     "execution_count": 11,
     "metadata": {},
     "output_type": "execute_result"
    }
   ],
   "source": [
    "# adding an entry\n",
    "MLB_team['Kansas City'] = 'Royals'\n",
    "MLB_team"
   ]
  },
  {
   "cell_type": "code",
   "execution_count": 12,
   "id": "533df106-ea29-4dcf-8664-56bee3a0f418",
   "metadata": {},
   "outputs": [
    {
     "data": {
      "text/plain": [
       "{'Colorado': 'Rockies',\n",
       " 'Boston': 'Red Sox',\n",
       " 'Minnesota': 'Twins',\n",
       " 'Milwaukee': 'Brewers',\n",
       " 'Seattle': 'Seahawks',\n",
       " 'Kansas City': 'Royals'}"
      ]
     },
     "execution_count": 12,
     "metadata": {},
     "output_type": "execute_result"
    }
   ],
   "source": [
    "# update an entry\n",
    "MLB_team['Seattle'] = 'Seahawks'\n",
    "MLB_team"
   ]
  },
  {
   "cell_type": "code",
   "execution_count": 13,
   "id": "0440394d-bee2-4d37-a65e-43b83c864980",
   "metadata": {},
   "outputs": [
    {
     "data": {
      "text/plain": [
       "{'Colorado': 'Rockies',\n",
       " 'Boston': 'Red Sox',\n",
       " 'Minnesota': 'Twins',\n",
       " 'Milwaukee': 'Brewers',\n",
       " 'Kansas City': 'Royals'}"
      ]
     },
     "execution_count": 13,
     "metadata": {},
     "output_type": "execute_result"
    }
   ],
   "source": [
    "# delete an entry\n",
    "del MLB_team['Seattle']\n",
    "MLB_team"
   ]
  },
  {
   "cell_type": "markdown",
   "id": "d576bd33-0312-47c1-a043-5d4e755da0ab",
   "metadata": {},
   "source": [
    "## Dictionary Keys vs. List Indices"
   ]
  },
  {
   "cell_type": "code",
   "execution_count": 14,
   "id": "110c0918-1110-416e-a133-1922654fd264",
   "metadata": {},
   "outputs": [
    {
     "data": {
      "text/plain": [
       "{0: 'a', 1: 'b', 2: 'c', 3: 'd'}"
      ]
     },
     "execution_count": 14,
     "metadata": {},
     "output_type": "execute_result"
    }
   ],
   "source": [
    "# any object of immutable type can be used as dictionary keys\n",
    "# so integer can be used as the key here\n",
    "d = {0: 'a', 1: 'b', 2: 'c', 3: 'd'}\n",
    "d"
   ]
  },
  {
   "cell_type": "code",
   "execution_count": 15,
   "id": "0bac8a61-77f0-4bdf-99da-bd82d970dd71",
   "metadata": {},
   "outputs": [
    {
     "data": {
      "text/plain": [
       "'a'"
      ]
     },
     "execution_count": 15,
     "metadata": {},
     "output_type": "execute_result"
    }
   ],
   "source": [
    "# note 0 is not a numeric index here\n",
    "d[0]"
   ]
  },
  {
   "cell_type": "code",
   "execution_count": 16,
   "id": "159160f4-70a8-4fc3-a94f-a7c9664fa786",
   "metadata": {},
   "outputs": [
    {
     "data": {
      "text/plain": [
       "'c'"
      ]
     },
     "execution_count": 16,
     "metadata": {},
     "output_type": "execute_result"
    }
   ],
   "source": [
    "d[2]"
   ]
  },
  {
   "cell_type": "code",
   "execution_count": 17,
   "id": "a287ef08-495e-40aa-8883-e335b407e639",
   "metadata": {},
   "outputs": [
    {
     "data": {
      "text/plain": [
       "dict"
      ]
     },
     "execution_count": 17,
     "metadata": {},
     "output_type": "execute_result"
    }
   ],
   "source": [
    "type(d)"
   ]
  },
  {
   "cell_type": "markdown",
   "id": "d395302f-562b-4bcf-9363-69498614facd",
   "metadata": {},
   "source": [
    "You can’t treat a dictionary like a list."
   ]
  },
  {
   "cell_type": "code",
   "execution_count": 18,
   "id": "6f1f42c8-78c3-4ee2-b7db-2533fc79ac3c",
   "metadata": {},
   "outputs": [
    {
     "ename": "KeyError",
     "evalue": "-1",
     "output_type": "error",
     "traceback": [
      "\u001b[1;31m---------------------------------------------------------------------------\u001b[0m",
      "\u001b[1;31mKeyError\u001b[0m                                  Traceback (most recent call last)",
      "\u001b[1;32m<ipython-input-18-1bab3c6dc314>\u001b[0m in \u001b[0;36m<module>\u001b[1;34m\u001b[0m\n\u001b[1;32m----> 1\u001b[1;33m \u001b[0md\u001b[0m\u001b[1;33m[\u001b[0m\u001b[1;33m-\u001b[0m\u001b[1;36m1\u001b[0m\u001b[1;33m]\u001b[0m\u001b[1;33m\u001b[0m\u001b[1;33m\u001b[0m\u001b[0m\n\u001b[0m",
      "\u001b[1;31mKeyError\u001b[0m: -1"
     ]
    }
   ],
   "source": [
    "d[-1]"
   ]
  },
  {
   "cell_type": "code",
   "execution_count": 19,
   "id": "989473c8-5c27-410a-920b-040b4371b2ae",
   "metadata": {},
   "outputs": [
    {
     "ename": "TypeError",
     "evalue": "unhashable type: 'slice'",
     "output_type": "error",
     "traceback": [
      "\u001b[1;31m---------------------------------------------------------------------------\u001b[0m",
      "\u001b[1;31mTypeError\u001b[0m                                 Traceback (most recent call last)",
      "\u001b[1;32m<ipython-input-19-6c29bbc86102>\u001b[0m in \u001b[0;36m<module>\u001b[1;34m\u001b[0m\n\u001b[1;32m----> 1\u001b[1;33m \u001b[0md\u001b[0m\u001b[1;33m[\u001b[0m\u001b[1;36m0\u001b[0m\u001b[1;33m:\u001b[0m\u001b[1;36m2\u001b[0m\u001b[1;33m]\u001b[0m\u001b[1;33m\u001b[0m\u001b[1;33m\u001b[0m\u001b[0m\n\u001b[0m",
      "\u001b[1;31mTypeError\u001b[0m: unhashable type: 'slice'"
     ]
    }
   ],
   "source": [
    "d[0:2]"
   ]
  },
  {
   "cell_type": "code",
   "execution_count": 20,
   "id": "34d9768e-8626-4a5b-90a3-885add29f5ae",
   "metadata": {},
   "outputs": [
    {
     "ename": "AttributeError",
     "evalue": "'dict' object has no attribute 'append'",
     "output_type": "error",
     "traceback": [
      "\u001b[1;31m---------------------------------------------------------------------------\u001b[0m",
      "\u001b[1;31mAttributeError\u001b[0m                            Traceback (most recent call last)",
      "\u001b[1;32m<ipython-input-20-10129ea6570f>\u001b[0m in \u001b[0;36m<module>\u001b[1;34m\u001b[0m\n\u001b[1;32m----> 1\u001b[1;33m \u001b[0md\u001b[0m\u001b[1;33m.\u001b[0m\u001b[0mappend\u001b[0m\u001b[1;33m(\u001b[0m\u001b[1;34m'e'\u001b[0m\u001b[1;33m)\u001b[0m\u001b[1;33m\u001b[0m\u001b[1;33m\u001b[0m\u001b[0m\n\u001b[0m",
      "\u001b[1;31mAttributeError\u001b[0m: 'dict' object has no attribute 'append'"
     ]
    }
   ],
   "source": [
    "d.append('e')"
   ]
  },
  {
   "cell_type": "markdown",
   "id": "e31d9aa6-85fc-4978-b48c-44ca492ce663",
   "metadata": {},
   "source": [
    "Note: Although access to items in a dictionary does not depend on order, Python does guarantee that the order of items in a dictionary is preserved. When displayed, items will appear in the order they were defined, and iteration through the keys will occur in that order as well. Items added to a dictionary are added at the end. If items are deleted, the order of the remaining items is retained.\n",
    "\n",
    "You can only count on this preservation of order very recently. It was added as a part of the Python language specification in version 3.7. However, it was true as of version 3.6 as well—by happenstance as a result of the implementation but not guaranteed by the language specification."
   ]
  },
  {
   "cell_type": "markdown",
   "id": "3b0db399-635d-4d02-a63b-754178463640",
   "metadata": {},
   "source": [
    "## Building a Dictionary Incrementally"
   ]
  },
  {
   "cell_type": "code",
   "execution_count": 21,
   "id": "ddb92441-98d6-48cb-955b-575f60b420d7",
   "metadata": {},
   "outputs": [
    {
     "data": {
      "text/plain": [
       "dict"
      ]
     },
     "execution_count": 21,
     "metadata": {},
     "output_type": "execute_result"
    }
   ],
   "source": [
    "# define an empty dictionary\n",
    "person = {}\n",
    "type(person)"
   ]
  },
  {
   "cell_type": "code",
   "execution_count": 23,
   "id": "6d08f99b-3734-4585-b189-3fdfdc477723",
   "metadata": {},
   "outputs": [
    {
     "data": {
      "text/plain": [
       "{'fname': 'Joe',\n",
       " 'lname': 'Fonebone',\n",
       " 'age': 51,\n",
       " 'spouse': 'Edna',\n",
       " 'children': ['Ralph', 'Betty', 'Joey'],\n",
       " 'pets': {'dog': 'Fido', 'cat': 'Sox'}}"
      ]
     },
     "execution_count": 23,
     "metadata": {},
     "output_type": "execute_result"
    }
   ],
   "source": [
    "# add one at a time\n",
    "# note the values don't have to be the same type\n",
    "person['fname'] = 'Joe'\n",
    "person['lname'] = 'Fonebone'\n",
    "person['age'] = 51\n",
    "person['spouse'] = 'Edna'\n",
    "person['children'] = ['Ralph', 'Betty', 'Joey']\n",
    "person['pets'] = {'dog': 'Fido', 'cat': 'Sox'}\n",
    "person"
   ]
  },
  {
   "cell_type": "code",
   "execution_count": 24,
   "id": "d8b4cd85-1b75-414c-bef0-cf784f4be84b",
   "metadata": {},
   "outputs": [
    {
     "data": {
      "text/plain": [
       "'Joey'"
      ]
     },
     "execution_count": 24,
     "metadata": {},
     "output_type": "execute_result"
    }
   ],
   "source": [
    "person['children'][-1]"
   ]
  },
  {
   "cell_type": "code",
   "execution_count": 25,
   "id": "9b7cc6e0-ac7e-4973-8a3b-e7bfc2d22ccd",
   "metadata": {},
   "outputs": [
    {
     "data": {
      "text/plain": [
       "'Sox'"
      ]
     },
     "execution_count": 25,
     "metadata": {},
     "output_type": "execute_result"
    }
   ],
   "source": [
    "person['pets']['cat']"
   ]
  },
  {
   "cell_type": "code",
   "execution_count": 26,
   "id": "ee1cb15d-d521-4e68-9135-92c376196820",
   "metadata": {},
   "outputs": [
    {
     "data": {
      "text/plain": [
       "{42: 'aaa', 2.78: 'bbb', True: 'ccc'}"
      ]
     },
     "execution_count": 26,
     "metadata": {},
     "output_type": "execute_result"
    }
   ],
   "source": [
    "# the keys also don't have to be the same type\n",
    "foo = {42: 'aaa', 2.78: 'bbb', True: 'ccc'}\n",
    "foo"
   ]
  },
  {
   "cell_type": "code",
   "execution_count": 27,
   "id": "8cc8b9d3-5939-495b-9f47-9c88ccbfeb82",
   "metadata": {},
   "outputs": [
    {
     "data": {
      "text/plain": [
       "'aaa'"
      ]
     },
     "execution_count": 27,
     "metadata": {},
     "output_type": "execute_result"
    }
   ],
   "source": [
    "foo[42]"
   ]
  },
  {
   "cell_type": "code",
   "execution_count": 28,
   "id": "c1e6dc38-877d-4383-b222-6122671cd48f",
   "metadata": {},
   "outputs": [
    {
     "data": {
      "text/plain": [
       "'bbb'"
      ]
     },
     "execution_count": 28,
     "metadata": {},
     "output_type": "execute_result"
    }
   ],
   "source": [
    "foo[2.78]"
   ]
  },
  {
   "cell_type": "code",
   "execution_count": 29,
   "id": "23b74f48-0a6e-46eb-bdd0-c0abe52adee0",
   "metadata": {},
   "outputs": [
    {
     "data": {
      "text/plain": [
       "'ccc'"
      ]
     },
     "execution_count": 29,
     "metadata": {},
     "output_type": "execute_result"
    }
   ],
   "source": [
    "foo[True]"
   ]
  },
  {
   "cell_type": "markdown",
   "id": "4013a529-0f3d-41c1-9bbc-b0ae4e1e5522",
   "metadata": {},
   "source": [
    "## Restrictions on Dictionary Keys\n",
    "- A dictionary can't have duplicated keys\n",
    "- A key in dictionary must of type immutable\n",
    "  - integer, float, Boolean, tuple ..."
   ]
  },
  {
   "cell_type": "code",
   "execution_count": 30,
   "id": "98c2c828-3a8e-4f70-8cbe-0a9ec3a81eec",
   "metadata": {},
   "outputs": [
    {
     "data": {
      "text/plain": [
       "{int: 1, float: 2, bool: 3}"
      ]
     },
     "execution_count": 30,
     "metadata": {},
     "output_type": "execute_result"
    }
   ],
   "source": [
    "# you can even use built-in objects like types and functions as its keys\n",
    "d = {int: 1, float: 2, bool: 3}\n",
    "d"
   ]
  },
  {
   "cell_type": "code",
   "execution_count": 31,
   "id": "f9c86c9c-613f-48e4-8078-85e9a4849a03",
   "metadata": {},
   "outputs": [
    {
     "data": {
      "text/plain": [
       "2"
      ]
     },
     "execution_count": 31,
     "metadata": {},
     "output_type": "execute_result"
    }
   ],
   "source": [
    "d[float]"
   ]
  },
  {
   "cell_type": "code",
   "execution_count": 32,
   "id": "41a5413a-1363-4313-bb6b-70e634c9fa25",
   "metadata": {},
   "outputs": [],
   "source": [
    "d = {bin: 1, hex: 2, oct: 3}"
   ]
  },
  {
   "cell_type": "code",
   "execution_count": 33,
   "id": "26490f4c-34a0-455e-a82d-964f3ebd3187",
   "metadata": {},
   "outputs": [
    {
     "data": {
      "text/plain": [
       "3"
      ]
     },
     "execution_count": 33,
     "metadata": {},
     "output_type": "execute_result"
    }
   ],
   "source": [
    "d[oct]"
   ]
  },
  {
   "cell_type": "code",
   "execution_count": 34,
   "id": "d5dcc178-3251-4f35-9225-3e15901a52eb",
   "metadata": {},
   "outputs": [
    {
     "data": {
      "text/plain": [
       "{'Colorado': 'Rockies',\n",
       " 'Boston': 'Red Sox',\n",
       " 'Minnesota': 'Twins',\n",
       " 'Milwaukee': 'Brewers',\n",
       " 'Seattle': 'Mariners'}"
      ]
     },
     "execution_count": 34,
     "metadata": {},
     "output_type": "execute_result"
    }
   ],
   "source": [
    "# note the second occurrence of keys will override the first\n",
    "# in this case, there are two Minnesota's \n",
    "MLB_team = {\n",
    "    'Colorado' : 'Rockies',\n",
    "    'Boston'   : 'Red Sox',\n",
    "    'Minnesota': 'Timberwolves',\n",
    "    'Milwaukee': 'Brewers',\n",
    "    'Seattle'  : 'Mariners',\n",
    "    'Minnesota': 'Twins'\n",
    "}\n",
    "MLB_team"
   ]
  },
  {
   "cell_type": "code",
   "execution_count": 35,
   "id": "16218c0e-d5e8-4425-bce9-79ebc28086ab",
   "metadata": {},
   "outputs": [
    {
     "data": {
      "text/plain": [
       "'a'"
      ]
     },
     "execution_count": 35,
     "metadata": {},
     "output_type": "execute_result"
    }
   ],
   "source": [
    "d = {(1, 1): 'a', (1, 2): 'b', (2, 1): 'c', (2, 2): 'd'}\n",
    "d[(1,1)]"
   ]
  },
  {
   "cell_type": "code",
   "execution_count": 36,
   "id": "2e3ab573-333d-4451-92d0-123fd90fc4a1",
   "metadata": {},
   "outputs": [
    {
     "data": {
      "text/plain": [
       "'c'"
      ]
     },
     "execution_count": 36,
     "metadata": {},
     "output_type": "execute_result"
    }
   ],
   "source": [
    "d[(2,1)]"
   ]
  },
  {
   "cell_type": "code",
   "execution_count": 37,
   "id": "0e2f2ba6-327a-4136-9b93-87eadf5d6f36",
   "metadata": {},
   "outputs": [
    {
     "ename": "TypeError",
     "evalue": "unhashable type: 'list'",
     "output_type": "error",
     "traceback": [
      "\u001b[1;31m---------------------------------------------------------------------------\u001b[0m",
      "\u001b[1;31mTypeError\u001b[0m                                 Traceback (most recent call last)",
      "\u001b[1;32m<ipython-input-37-9fbdb225f161>\u001b[0m in \u001b[0;36m<module>\u001b[1;34m\u001b[0m\n\u001b[1;32m----> 1\u001b[1;33m \u001b[0md\u001b[0m \u001b[1;33m=\u001b[0m \u001b[1;33m{\u001b[0m\u001b[1;33m[\u001b[0m\u001b[1;36m1\u001b[0m\u001b[1;33m,\u001b[0m \u001b[1;36m1\u001b[0m\u001b[1;33m]\u001b[0m\u001b[1;33m:\u001b[0m \u001b[1;34m'a'\u001b[0m\u001b[1;33m,\u001b[0m \u001b[1;33m[\u001b[0m\u001b[1;36m1\u001b[0m\u001b[1;33m,\u001b[0m \u001b[1;36m2\u001b[0m\u001b[1;33m]\u001b[0m\u001b[1;33m:\u001b[0m \u001b[1;34m'b'\u001b[0m\u001b[1;33m,\u001b[0m \u001b[1;33m[\u001b[0m\u001b[1;36m2\u001b[0m\u001b[1;33m,\u001b[0m \u001b[1;36m1\u001b[0m\u001b[1;33m]\u001b[0m\u001b[1;33m:\u001b[0m \u001b[1;34m'c'\u001b[0m\u001b[1;33m,\u001b[0m \u001b[1;33m[\u001b[0m\u001b[1;36m2\u001b[0m\u001b[1;33m,\u001b[0m \u001b[1;36m2\u001b[0m\u001b[1;33m]\u001b[0m\u001b[1;33m:\u001b[0m \u001b[1;34m'd'\u001b[0m\u001b[1;33m}\u001b[0m\u001b[1;33m\u001b[0m\u001b[1;33m\u001b[0m\u001b[0m\n\u001b[0m",
      "\u001b[1;31mTypeError\u001b[0m: unhashable type: 'list'"
     ]
    }
   ],
   "source": [
    "# lists can't be a key\n",
    "d = {[1, 1]: 'a', [1, 2]: 'b', [2, 1]: 'c', [2, 2]: 'd'}"
   ]
  },
  {
   "cell_type": "markdown",
   "id": "80a249ca-efef-4d7d-b359-1873fe7c804a",
   "metadata": {},
   "source": [
    "Technical Note: Why does the error message say “unhashable”?\n",
    "\n",
    "Technically, it is not quite correct to say an object must be immutable to be used as a dictionary key. More precisely, an object must be hashable, which means it can be passed to a hash function. A hash function takes data of arbitrary size and maps it to a relatively simpler fixed-size value called a hash value (or simply hash), which is used for table lookup and comparison.\n",
    "\n",
    "Python’s built-in hash() function returns the hash value for an object which is hashable, and raises an exception for an object which isn’t:\n",
    "\n"
   ]
  },
  {
   "cell_type": "code",
   "execution_count": 38,
   "id": "c56f264c-89f2-4fca-af2d-9c46d43a3007",
   "metadata": {},
   "outputs": [
    {
     "data": {
      "text/plain": [
       "6802443926003288490"
      ]
     },
     "execution_count": 38,
     "metadata": {},
     "output_type": "execute_result"
    }
   ],
   "source": [
    "hash('foo')"
   ]
  },
  {
   "cell_type": "code",
   "execution_count": 39,
   "id": "0df8ec6f-da62-48e0-b1cb-8b20bd3c09b1",
   "metadata": {},
   "outputs": [
    {
     "ename": "TypeError",
     "evalue": "unhashable type: 'list'",
     "output_type": "error",
     "traceback": [
      "\u001b[1;31m---------------------------------------------------------------------------\u001b[0m",
      "\u001b[1;31mTypeError\u001b[0m                                 Traceback (most recent call last)",
      "\u001b[1;32m<ipython-input-39-84d65be9aa35>\u001b[0m in \u001b[0;36m<module>\u001b[1;34m\u001b[0m\n\u001b[1;32m----> 1\u001b[1;33m \u001b[0mhash\u001b[0m\u001b[1;33m(\u001b[0m\u001b[1;33m[\u001b[0m\u001b[1;36m1\u001b[0m\u001b[1;33m,\u001b[0m \u001b[1;36m2\u001b[0m\u001b[1;33m,\u001b[0m \u001b[1;36m3\u001b[0m\u001b[1;33m]\u001b[0m\u001b[1;33m)\u001b[0m\u001b[1;33m\u001b[0m\u001b[1;33m\u001b[0m\u001b[0m\n\u001b[0m",
      "\u001b[1;31mTypeError\u001b[0m: unhashable type: 'list'"
     ]
    }
   ],
   "source": [
    "hash([1, 2, 3])"
   ]
  },
  {
   "cell_type": "markdown",
   "id": "9d96ad90-c04d-4379-88be-b6dc04e55f4b",
   "metadata": {},
   "source": [
    "All of the built-in immutable types you have learned about so far are hashable, and the mutable container types (lists and dictionaries) are not. So for present purposes, you can think of hashable and immutable as more or less synonymous.\n",
    "\n",
    "In future tutorials, you will encounter mutable objects which are also hashable."
   ]
  },
  {
   "cell_type": "markdown",
   "id": "587cd6f4-d61f-476f-8d49-b0b5395b4cb0",
   "metadata": {},
   "source": [
    "## Restrictions on Dictionary Values"
   ]
  },
  {
   "cell_type": "code",
   "execution_count": 40,
   "id": "79ab8871-b633-4be8-8954-426f7fe29613",
   "metadata": {},
   "outputs": [
    {
     "data": {
      "text/plain": [
       "True"
      ]
     },
     "execution_count": 40,
     "metadata": {},
     "output_type": "execute_result"
    }
   ],
   "source": [
    "MLB_team = {\n",
    "    'Colorado' : 'Rockies',\n",
    "    'Boston'   : 'Red Sox',\n",
    "    'Minnesota': 'Twins',\n",
    "    'Milwaukee': 'Brewers',\n",
    "    'Seattle'  : 'Mariners'\n",
    "}\n",
    "\n",
    "'Milwaukee' in MLB_team"
   ]
  },
  {
   "cell_type": "code",
   "execution_count": 41,
   "id": "6fa9c4ab-e8a7-4d5a-8904-bb7bbbcb486f",
   "metadata": {},
   "outputs": [
    {
     "data": {
      "text/plain": [
       "False"
      ]
     },
     "execution_count": 41,
     "metadata": {},
     "output_type": "execute_result"
    }
   ],
   "source": [
    "# test if 'Toronto' is a key in MLB_team\n",
    "'Toronto' in MLB_team"
   ]
  },
  {
   "cell_type": "code",
   "execution_count": 42,
   "id": "213de5af-4034-4197-b427-de660462490b",
   "metadata": {},
   "outputs": [
    {
     "data": {
      "text/plain": [
       "True"
      ]
     },
     "execution_count": 42,
     "metadata": {},
     "output_type": "execute_result"
    }
   ],
   "source": [
    "'Toronto' not in MLB_team"
   ]
  },
  {
   "cell_type": "code",
   "execution_count": 43,
   "id": "2cb173fd-520b-46d8-bda8-edc3f429af4a",
   "metadata": {},
   "outputs": [
    {
     "ename": "KeyError",
     "evalue": "'Toronto'",
     "output_type": "error",
     "traceback": [
      "\u001b[1;31m---------------------------------------------------------------------------\u001b[0m",
      "\u001b[1;31mKeyError\u001b[0m                                  Traceback (most recent call last)",
      "\u001b[1;32m<ipython-input-43-0cf457503e5d>\u001b[0m in \u001b[0;36m<module>\u001b[1;34m\u001b[0m\n\u001b[1;32m----> 1\u001b[1;33m \u001b[0mMLB_team\u001b[0m\u001b[1;33m[\u001b[0m\u001b[1;34m'Toronto'\u001b[0m\u001b[1;33m]\u001b[0m\u001b[1;33m\u001b[0m\u001b[1;33m\u001b[0m\u001b[0m\n\u001b[0m",
      "\u001b[1;31mKeyError\u001b[0m: 'Toronto'"
     ]
    }
   ],
   "source": [
    "MLB_team['Toronto']"
   ]
  },
  {
   "cell_type": "code",
   "execution_count": 45,
   "id": "409f6db6-4685-45b8-be94-7d8ec6d3ffbe",
   "metadata": {},
   "outputs": [
    {
     "data": {
      "text/plain": [
       "False"
      ]
     },
     "execution_count": 45,
     "metadata": {},
     "output_type": "execute_result"
    }
   ],
   "source": [
    "# using a short-circuit evaluation to avoid raising an KeyError exception\n",
    "'Toronto' in MLB_team and MLB_team['Toronto']"
   ]
  },
  {
   "cell_type": "code",
   "execution_count": 46,
   "id": "4f4a2a63-1ae1-4911-a796-abd2dcbfc199",
   "metadata": {},
   "outputs": [
    {
     "data": {
      "text/plain": [
       "5"
      ]
     },
     "execution_count": 46,
     "metadata": {},
     "output_type": "execute_result"
    }
   ],
   "source": [
    "# return the number of pairs in the dictionary\n",
    "len(MLB_team)"
   ]
  },
  {
   "cell_type": "markdown",
   "id": "ae1493e1-6450-4fde-b08a-fb833d22ea72",
   "metadata": {},
   "source": [
    "## Built-in Dictionary Methods"
   ]
  },
  {
   "cell_type": "markdown",
   "id": "c664e79a-232d-4fc6-ba01-2e508e402424",
   "metadata": {},
   "source": [
    "#### `d.clear()`\n",
    "Clears a dictionary."
   ]
  },
  {
   "cell_type": "code",
   "execution_count": 47,
   "id": "300a102f-82b6-41df-b2fc-83cd33532152",
   "metadata": {},
   "outputs": [
    {
     "data": {
      "text/plain": [
       "{'a': 10, 'b': 20, 'c': 30}"
      ]
     },
     "execution_count": 47,
     "metadata": {},
     "output_type": "execute_result"
    }
   ],
   "source": [
    "d = {'a': 10, 'b': 20, 'c': 30}\n",
    "d"
   ]
  },
  {
   "cell_type": "code",
   "execution_count": 48,
   "id": "97409ff9-5cf3-4c5b-9b83-b76e44eba78c",
   "metadata": {},
   "outputs": [
    {
     "data": {
      "text/plain": [
       "{}"
      ]
     },
     "execution_count": 48,
     "metadata": {},
     "output_type": "execute_result"
    }
   ],
   "source": [
    "d.clear()\n",
    "d"
   ]
  },
  {
   "cell_type": "markdown",
   "id": "b8064875-5e47-4e49-bd51-b406bc4a1bee",
   "metadata": {},
   "source": [
    "#### `d.get(<key>[, <default>])`\n",
    "Returns the value for a key if it exists in the dictionary."
   ]
  },
  {
   "cell_type": "code",
   "execution_count": 49,
   "id": "3ecf7f06-e5c8-4b00-9c01-219b4241dbc9",
   "metadata": {},
   "outputs": [],
   "source": [
    "d = {'a': 10, 'b': 20, 'c': 30}"
   ]
  },
  {
   "cell_type": "code",
   "execution_count": 50,
   "id": "137f661b-81cd-4a3a-96ed-b3406e70d367",
   "metadata": {},
   "outputs": [
    {
     "name": "stdout",
     "output_type": "stream",
     "text": [
      "20\n"
     ]
    }
   ],
   "source": [
    "print(d.get('b'))"
   ]
  },
  {
   "cell_type": "code",
   "execution_count": 51,
   "id": "5d6779ee-f9e5-4679-8b0f-9355a7009d52",
   "metadata": {},
   "outputs": [
    {
     "name": "stdout",
     "output_type": "stream",
     "text": [
      "None\n"
     ]
    }
   ],
   "source": [
    "# it returns None instead raising an KeyError exception\n",
    "print(d.get('z'))"
   ]
  },
  {
   "cell_type": "code",
   "execution_count": 53,
   "id": "d635fa46-6fd7-4e72-851c-57d2edfbd6ac",
   "metadata": {},
   "outputs": [
    {
     "name": "stdout",
     "output_type": "stream",
     "text": [
      "-1\n"
     ]
    }
   ],
   "source": [
    "# you can specify what to return\n",
    "print(d.get('z', -1))"
   ]
  },
  {
   "cell_type": "markdown",
   "id": "352481b3-2d1a-47ae-afc7-e2f898e3491c",
   "metadata": {
    "tags": []
   },
   "source": [
    "#### `d.items()`\n",
    "Returns a list of key-value pairs in a dictionary."
   ]
  },
  {
   "cell_type": "code",
   "execution_count": 54,
   "id": "b10f2dd6-3db1-45b1-af27-6be8bbdf4376",
   "metadata": {
    "tags": []
   },
   "outputs": [
    {
     "data": {
      "text/plain": [
       "{'a': 10, 'b': 20, 'c': 30}"
      ]
     },
     "execution_count": 54,
     "metadata": {},
     "output_type": "execute_result"
    }
   ],
   "source": [
    "d = {'a': 10, 'b': 20, 'c': 30}\n",
    "d"
   ]
  },
  {
   "cell_type": "code",
   "execution_count": 55,
   "id": "a20ae6a0-3b1c-48fd-8942-5146bb66ccbe",
   "metadata": {
    "tags": []
   },
   "outputs": [
    {
     "data": {
      "text/plain": [
       "[('a', 10), ('b', 20), ('c', 30)]"
      ]
     },
     "execution_count": 55,
     "metadata": {},
     "output_type": "execute_result"
    }
   ],
   "source": [
    "list(d.items())"
   ]
  },
  {
   "cell_type": "code",
   "execution_count": 56,
   "id": "1e96fb0a-1a1b-431b-9f20-6b5baeb21eb8",
   "metadata": {
    "tags": []
   },
   "outputs": [
    {
     "data": {
      "text/plain": [
       "'b'"
      ]
     },
     "execution_count": 56,
     "metadata": {},
     "output_type": "execute_result"
    }
   ],
   "source": [
    "list(d.items())[1][0]"
   ]
  },
  {
   "cell_type": "code",
   "execution_count": 57,
   "id": "91019b06-2b10-4aad-a43f-3d6ecd5c9c3b",
   "metadata": {
    "tags": []
   },
   "outputs": [
    {
     "data": {
      "text/plain": [
       "20"
      ]
     },
     "execution_count": 57,
     "metadata": {},
     "output_type": "execute_result"
    }
   ],
   "source": [
    "list(d.items())[1][1]"
   ]
  },
  {
   "cell_type": "markdown",
   "id": "087dc2fe-6bdf-4967-adb1-9619f741d616",
   "metadata": {},
   "source": [
    "#### `d.keys()`\n",
    "Returns a list of keys in a dictionary."
   ]
  },
  {
   "cell_type": "code",
   "execution_count": 58,
   "id": "b1a9e13a-df57-41c0-9353-d12897f25fa8",
   "metadata": {},
   "outputs": [
    {
     "data": {
      "text/plain": [
       "['a', 'b', 'c']"
      ]
     },
     "execution_count": 58,
     "metadata": {},
     "output_type": "execute_result"
    }
   ],
   "source": [
    "d = {'a': 10, 'b': 20, 'c': 30}\n",
    "list(d.keys())"
   ]
  },
  {
   "cell_type": "markdown",
   "id": "540d847d-621e-42eb-877e-04a7b30f8c74",
   "metadata": {
    "tags": []
   },
   "source": [
    "#### `d.values()`\n",
    "Returns a list of values in a dictionary."
   ]
  },
  {
   "cell_type": "code",
   "execution_count": 61,
   "id": "8722f8f7-a1d5-4360-8734-f442501da2ea",
   "metadata": {},
   "outputs": [
    {
     "data": {
      "text/plain": [
       "dict_values([10, 20, 30])"
      ]
     },
     "execution_count": 61,
     "metadata": {},
     "output_type": "execute_result"
    }
   ],
   "source": [
    "d = {'a': 10, 'b': 20, 'c': 30}\n",
    "d.values()"
   ]
  },
  {
   "cell_type": "code",
   "execution_count": 60,
   "id": "b1622eb3-a3ce-4435-9130-a178dfdb68f8",
   "metadata": {},
   "outputs": [
    {
     "data": {
      "text/plain": [
       "[10, 10, 10]"
      ]
     },
     "execution_count": 60,
     "metadata": {},
     "output_type": "execute_result"
    }
   ],
   "source": [
    "d = {'a': 10, 'b': 10, 'c': 10}\n",
    "list(d.values())"
   ]
  },
  {
   "cell_type": "markdown",
   "id": "42b9eb20-c030-4aeb-a136-fa40c4e47a3a",
   "metadata": {},
   "source": [
    "Technical Note: The `.items()`, `.keys()`, and `.values()` methods actually return something called a view object. A dictionary view object is more or less like a window on the keys and values. For practical purposes, you can think of these methods as returning lists of the dictionary’s keys and values."
   ]
  },
  {
   "cell_type": "markdown",
   "id": "f8d2bca6-c6e8-456c-a148-d385645f59af",
   "metadata": {},
   "source": [
    "#### `d.pop(<key>[, <default>])`\n",
    "Removes a key from a dictionary, if it is present, and returns its value."
   ]
  },
  {
   "cell_type": "code",
   "execution_count": 66,
   "id": "c1ff3921-d55d-40c7-98c1-46958e000e34",
   "metadata": {},
   "outputs": [],
   "source": [
    "d = {'a': 10, 'b': 20, 'c': 30}"
   ]
  },
  {
   "cell_type": "code",
   "execution_count": 67,
   "id": "b9192cf0-6f4a-4df1-97eb-e2006685f371",
   "metadata": {},
   "outputs": [
    {
     "data": {
      "text/plain": [
       "20"
      ]
     },
     "execution_count": 67,
     "metadata": {},
     "output_type": "execute_result"
    }
   ],
   "source": [
    "# removes 'b', and returns its value\n",
    "d.pop('b')"
   ]
  },
  {
   "cell_type": "code",
   "execution_count": 68,
   "id": "0e6df9be-c469-48c5-85b8-0de3aa92b02f",
   "metadata": {},
   "outputs": [
    {
     "data": {
      "text/plain": [
       "{'a': 10, 'c': 30}"
      ]
     },
     "execution_count": 68,
     "metadata": {},
     "output_type": "execute_result"
    }
   ],
   "source": [
    "d"
   ]
  },
  {
   "cell_type": "code",
   "execution_count": 63,
   "id": "b765c5ca-0b4e-4d78-9a41-62e61e7764b3",
   "metadata": {},
   "outputs": [
    {
     "ename": "KeyError",
     "evalue": "'z'",
     "output_type": "error",
     "traceback": [
      "\u001b[1;31m---------------------------------------------------------------------------\u001b[0m",
      "\u001b[1;31mKeyError\u001b[0m                                  Traceback (most recent call last)",
      "\u001b[1;32m<ipython-input-63-64f7354164c9>\u001b[0m in \u001b[0;36m<module>\u001b[1;34m\u001b[0m\n\u001b[0;32m      1\u001b[0m \u001b[0md\u001b[0m \u001b[1;33m=\u001b[0m \u001b[1;33m{\u001b[0m\u001b[1;34m'a'\u001b[0m\u001b[1;33m:\u001b[0m \u001b[1;36m10\u001b[0m\u001b[1;33m,\u001b[0m \u001b[1;34m'b'\u001b[0m\u001b[1;33m:\u001b[0m \u001b[1;36m20\u001b[0m\u001b[1;33m,\u001b[0m \u001b[1;34m'c'\u001b[0m\u001b[1;33m:\u001b[0m \u001b[1;36m30\u001b[0m\u001b[1;33m}\u001b[0m\u001b[1;33m\u001b[0m\u001b[1;33m\u001b[0m\u001b[0m\n\u001b[0;32m      2\u001b[0m \u001b[1;33m\u001b[0m\u001b[0m\n\u001b[1;32m----> 3\u001b[1;33m \u001b[0md\u001b[0m\u001b[1;33m.\u001b[0m\u001b[0mpop\u001b[0m\u001b[1;33m(\u001b[0m\u001b[1;34m'z'\u001b[0m\u001b[1;33m)\u001b[0m\u001b[1;33m\u001b[0m\u001b[1;33m\u001b[0m\u001b[0m\n\u001b[0m",
      "\u001b[1;31mKeyError\u001b[0m: 'z'"
     ]
    }
   ],
   "source": [
    "# key in not in d, raise an exception\n",
    "d = {'a': 10, 'b': 20, 'c': 30}\n",
    "\n",
    "d.pop('z')"
   ]
  },
  {
   "cell_type": "code",
   "execution_count": 69,
   "id": "6b92d951-a4e9-4da4-894c-eafa8150397d",
   "metadata": {},
   "outputs": [],
   "source": [
    "# key in not in d, but <default> is specified as the returning value\n",
    "d = {'a': 10, 'b': 20, 'c': 30}"
   ]
  },
  {
   "cell_type": "code",
   "execution_count": 70,
   "id": "b1491213-73b4-453b-9703-e1187e8944d1",
   "metadata": {},
   "outputs": [
    {
     "data": {
      "text/plain": [
       "-1"
      ]
     },
     "execution_count": 70,
     "metadata": {},
     "output_type": "execute_result"
    }
   ],
   "source": [
    "d.pop('z', -1)"
   ]
  },
  {
   "cell_type": "markdown",
   "id": "7812a3ba-cc9b-4468-9c3b-c8e101aef957",
   "metadata": {},
   "source": [
    "#### `d.popitem()`\n",
    "Removes a key-value pair from a dictionary."
   ]
  },
  {
   "cell_type": "code",
   "execution_count": 72,
   "id": "e1749181-292e-4ba3-b8d9-0a7d4ffadb97",
   "metadata": {},
   "outputs": [],
   "source": [
    "d = {'a': 10, 'b': 20, 'c': 30}"
   ]
  },
  {
   "cell_type": "code",
   "execution_count": 73,
   "id": "e33f793c-c09a-4c92-9cdd-c51cdb700e9e",
   "metadata": {},
   "outputs": [
    {
     "data": {
      "text/plain": [
       "('c', 30)"
      ]
     },
     "execution_count": 73,
     "metadata": {},
     "output_type": "execute_result"
    }
   ],
   "source": [
    "# remove the last pair and return it\n",
    "# This works for Python version 3.6 and above\n",
    "d.popitem()"
   ]
  },
  {
   "cell_type": "code",
   "execution_count": 74,
   "id": "cb8fda3f-c297-48d2-9719-e36b5cb41424",
   "metadata": {},
   "outputs": [
    {
     "data": {
      "text/plain": [
       "{'a': 10, 'b': 20}"
      ]
     },
     "execution_count": 74,
     "metadata": {},
     "output_type": "execute_result"
    }
   ],
   "source": [
    "d"
   ]
  },
  {
   "cell_type": "code",
   "execution_count": 75,
   "id": "27bf9b1b-7b57-4f96-bfa3-c6102e5b36ea",
   "metadata": {},
   "outputs": [
    {
     "data": {
      "text/plain": [
       "('b', 20)"
      ]
     },
     "execution_count": 75,
     "metadata": {},
     "output_type": "execute_result"
    }
   ],
   "source": [
    "d.popitem()"
   ]
  },
  {
   "cell_type": "code",
   "execution_count": 76,
   "id": "a9a3a422-6cfb-4f18-9eb4-a086a12739be",
   "metadata": {},
   "outputs": [
    {
     "data": {
      "text/plain": [
       "{'a': 10}"
      ]
     },
     "execution_count": 76,
     "metadata": {},
     "output_type": "execute_result"
    }
   ],
   "source": [
    "d"
   ]
  },
  {
   "cell_type": "code",
   "execution_count": 77,
   "id": "87ccbe22-5365-4f06-8994-2d9eb6ad19b6",
   "metadata": {},
   "outputs": [
    {
     "ename": "KeyError",
     "evalue": "'popitem(): dictionary is empty'",
     "output_type": "error",
     "traceback": [
      "\u001b[1;31m---------------------------------------------------------------------------\u001b[0m",
      "\u001b[1;31mKeyError\u001b[0m                                  Traceback (most recent call last)",
      "\u001b[1;32m<ipython-input-77-bc52a4aa7855>\u001b[0m in \u001b[0;36m<module>\u001b[1;34m\u001b[0m\n\u001b[0;32m      1\u001b[0m \u001b[1;31m# raise an exception\u001b[0m\u001b[1;33m\u001b[0m\u001b[1;33m\u001b[0m\u001b[1;33m\u001b[0m\u001b[0m\n\u001b[0;32m      2\u001b[0m \u001b[0md\u001b[0m \u001b[1;33m=\u001b[0m \u001b[1;33m{\u001b[0m\u001b[1;33m}\u001b[0m\u001b[1;33m\u001b[0m\u001b[1;33m\u001b[0m\u001b[0m\n\u001b[1;32m----> 3\u001b[1;33m \u001b[0md\u001b[0m\u001b[1;33m.\u001b[0m\u001b[0mpopitem\u001b[0m\u001b[1;33m(\u001b[0m\u001b[1;33m)\u001b[0m\u001b[1;33m\u001b[0m\u001b[1;33m\u001b[0m\u001b[0m\n\u001b[0m",
      "\u001b[1;31mKeyError\u001b[0m: 'popitem(): dictionary is empty'"
     ]
    }
   ],
   "source": [
    "# raise an exception\n",
    "d = {}\n",
    "d.popitem()"
   ]
  },
  {
   "cell_type": "markdown",
   "id": "c3f0d92c-71cc-4996-a160-c91360a7660a",
   "metadata": {},
   "source": [
    "Note: In Python versions less than 3.6, `popitem()` would return an arbitrary (random) key-value pair since Python dictionaries were unordered before version 3.6."
   ]
  },
  {
   "cell_type": "markdown",
   "id": "83c23c0c-0d1d-4cc6-b6d7-f59b43241d3c",
   "metadata": {},
   "source": [
    "#### `d.update(<obj>)`\n",
    "Merges a dictionary with another dictionary or with an iterable of key-value pairs.\n",
    "- if the key is not present in d, they key-value pair from \\<obj\\> is added to d\n",
    "- if the key is already present in d, the corresponding value in d for that key is updated to the value from \\<obj\\>"
   ]
  },
  {
   "cell_type": "code",
   "execution_count": 78,
   "id": "e67e9828-0ef8-4eb4-b791-43195b4deae3",
   "metadata": {},
   "outputs": [],
   "source": [
    "d1 = {'a': 10, 'b': 20, 'c': 30}\n",
    "d2 = {'b': 200, 'd': 400}"
   ]
  },
  {
   "cell_type": "code",
   "execution_count": 79,
   "id": "229fe6d2-dcf3-49e1-b25f-3010b0e61b57",
   "metadata": {},
   "outputs": [],
   "source": [
    "d1.update(d2)"
   ]
  },
  {
   "cell_type": "code",
   "execution_count": 81,
   "id": "10ead46d-ab9e-4338-8c5e-f2e59d3fac08",
   "metadata": {},
   "outputs": [
    {
     "data": {
      "text/plain": [
       "{'a': 10, 'b': 200, 'c': 30, 'd': 400}"
      ]
     },
     "execution_count": 81,
     "metadata": {},
     "output_type": "execute_result"
    }
   ],
   "source": [
    "# 'b' is updated, and 'd' is merged\n",
    "d1"
   ]
  },
  {
   "cell_type": "code",
   "execution_count": 83,
   "id": "9cf0c37f-416c-4a07-9e40-27a93e4f29b1",
   "metadata": {},
   "outputs": [
    {
     "data": {
      "text/plain": [
       "{'a': 10, 'b': 200, 'c': 30, 'd': 400}"
      ]
     },
     "execution_count": 83,
     "metadata": {},
     "output_type": "execute_result"
    }
   ],
   "source": [
    "# <obj> can also be a sequence of key-value pairs, like a list of tuples\n",
    "d1 = {'a': 10, 'b': 20, 'c': 30}\n",
    "d1.update([('b', 200), ('d', 400)])\n",
    "d1"
   ]
  },
  {
   "cell_type": "code",
   "execution_count": 84,
   "id": "7f58ec18-28f3-4946-88f6-c94d33e2fe26",
   "metadata": {},
   "outputs": [
    {
     "data": {
      "text/plain": [
       "{'a': 10, 'b': 200, 'c': 30, 'd': 400}"
      ]
     },
     "execution_count": 84,
     "metadata": {},
     "output_type": "execute_result"
    }
   ],
   "source": [
    "# or like a keyword arguments\n",
    "d1 = {'a': 10, 'b': 20, 'c': 30}\n",
    "d1.update(b=200, d=400)\n",
    "d1"
   ]
  },
  {
   "cell_type": "code",
   "execution_count": null,
   "id": "6444f5dd-89ee-4d68-82ce-905a2ba405a4",
   "metadata": {},
   "outputs": [],
   "source": []
  }
 ],
 "metadata": {
  "kernelspec": {
   "display_name": "Python 3",
   "language": "python",
   "name": "python3"
  },
  "language_info": {
   "codemirror_mode": {
    "name": "ipython",
    "version": 3
   },
   "file_extension": ".py",
   "mimetype": "text/x-python",
   "name": "python",
   "nbconvert_exporter": "python",
   "pygments_lexer": "ipython3",
   "version": "3.8.10"
  }
 },
 "nbformat": 4,
 "nbformat_minor": 5
}
