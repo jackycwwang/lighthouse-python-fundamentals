{
 "cells": [
  {
   "cell_type": "markdown",
   "id": "e608c8d3-a0d6-49fe-8df5-30a07821d722",
   "metadata": {},
   "source": [
    "# Variables in Python"
   ]
  },
  {
   "cell_type": "markdown",
   "id": "be000c5d-d4ef-49bb-ad85-06e60e750cba",
   "metadata": {},
   "source": [
    "## Variable Assignment"
   ]
  },
  {
   "cell_type": "code",
   "execution_count": 1,
   "id": "40b1c61d-a884-4f29-be0c-95f2f0302f14",
   "metadata": {},
   "outputs": [],
   "source": [
    "n = 300"
   ]
  },
  {
   "cell_type": "code",
   "execution_count": 2,
   "id": "d6479c5e-c2a9-43f1-b008-5e4a8b812cdd",
   "metadata": {},
   "outputs": [
    {
     "name": "stdout",
     "output_type": "stream",
     "text": [
      "300\n"
     ]
    }
   ],
   "source": [
    "print(n)"
   ]
  },
  {
   "cell_type": "code",
   "execution_count": 3,
   "id": "e16572e0-e6c4-4917-966c-97c4cf909553",
   "metadata": {},
   "outputs": [
    {
     "data": {
      "text/plain": [
       "300"
      ]
     },
     "execution_count": 3,
     "metadata": {},
     "output_type": "execute_result"
    }
   ],
   "source": [
    "n"
   ]
  },
  {
   "cell_type": "code",
   "execution_count": 4,
   "id": "04ae5044-5d49-440e-ac19-e5bf07d9a158",
   "metadata": {},
   "outputs": [],
   "source": [
    "n = 1000"
   ]
  },
  {
   "cell_type": "code",
   "execution_count": 5,
   "id": "496a9442-e89f-4e48-bfc6-320d9e7441fd",
   "metadata": {},
   "outputs": [
    {
     "name": "stdout",
     "output_type": "stream",
     "text": [
      "1000\n"
     ]
    }
   ],
   "source": [
    "print(n)"
   ]
  },
  {
   "cell_type": "code",
   "execution_count": 6,
   "id": "f5d115bb-02e4-4da2-a256-96bec8346328",
   "metadata": {},
   "outputs": [],
   "source": [
    "a = b = c = 300"
   ]
  },
  {
   "cell_type": "code",
   "execution_count": 7,
   "id": "3c5c746e-4349-40ce-b389-754c3d93950f",
   "metadata": {},
   "outputs": [
    {
     "name": "stdout",
     "output_type": "stream",
     "text": [
      "300 300 300\n"
     ]
    }
   ],
   "source": [
    "print(a, b, c)"
   ]
  },
  {
   "cell_type": "markdown",
   "id": "6a322198-1411-44e3-a909-65f9580e88c7",
   "metadata": {},
   "source": [
    "## Variable Types in Python"
   ]
  },
  {
   "cell_type": "code",
   "execution_count": 8,
   "id": "07dcb44d-7157-4795-8c4c-a5dd43c3dba9",
   "metadata": {},
   "outputs": [
    {
     "name": "stdout",
     "output_type": "stream",
     "text": [
      "23.5\n"
     ]
    }
   ],
   "source": [
    "var = 23.5\n",
    "print(var)"
   ]
  },
  {
   "cell_type": "code",
   "execution_count": 9,
   "id": "f56523e5-61de-4ec9-a467-e56080f9da2f",
   "metadata": {},
   "outputs": [
    {
     "name": "stdout",
     "output_type": "stream",
     "text": [
      "Now I'm a string\n"
     ]
    }
   ],
   "source": [
    "var = \"Now I'm a string\"\n",
    "print(var)"
   ]
  },
  {
   "cell_type": "markdown",
   "id": "76413a90-22ea-45f9-b452-26e62fb58cca",
   "metadata": {},
   "source": [
    "## Object References"
   ]
  },
  {
   "cell_type": "code",
   "execution_count": 10,
   "id": "03b1e0aa-3bdd-4997-97d5-aa1eac6d597b",
   "metadata": {},
   "outputs": [
    {
     "data": {
      "text/plain": [
       "int"
      ]
     },
     "execution_count": 10,
     "metadata": {},
     "output_type": "execute_result"
    }
   ],
   "source": [
    "type(300)"
   ]
  },
  {
   "cell_type": "code",
   "execution_count": 11,
   "id": "35351037-0015-4bd5-81f7-446af1e6a8e5",
   "metadata": {},
   "outputs": [],
   "source": [
    "n = 300"
   ]
  },
  {
   "cell_type": "code",
   "execution_count": 12,
   "id": "f11fbe4f-1e61-47ce-af56-8b40d727826a",
   "metadata": {},
   "outputs": [
    {
     "data": {
      "text/plain": [
       "int"
      ]
     },
     "execution_count": 12,
     "metadata": {},
     "output_type": "execute_result"
    }
   ],
   "source": [
    "type(n)"
   ]
  },
  {
   "cell_type": "code",
   "execution_count": 13,
   "id": "e9d15a97-80d8-480b-af51-d6de8ec8b187",
   "metadata": {},
   "outputs": [],
   "source": [
    "m = n"
   ]
  },
  {
   "cell_type": "code",
   "execution_count": 14,
   "id": "114fe49b-a5e6-4efb-8ab3-ba64e128574f",
   "metadata": {},
   "outputs": [],
   "source": [
    "m = 400"
   ]
  },
  {
   "cell_type": "code",
   "execution_count": 15,
   "id": "0d2c8725-7934-4117-a6ae-d64c52921952",
   "metadata": {},
   "outputs": [],
   "source": [
    "n = \"foo\""
   ]
  },
  {
   "cell_type": "markdown",
   "id": "7d7c5f39-9d3d-4d56-9c92-25d3ba684575",
   "metadata": {},
   "source": [
    "## Object Identity"
   ]
  },
  {
   "cell_type": "code",
   "execution_count": 2,
   "id": "81888d0e-d365-4b3c-ae04-501f3b89de54",
   "metadata": {},
   "outputs": [
    {
     "data": {
      "text/plain": [
       "2415907864144"
      ]
     },
     "execution_count": 2,
     "metadata": {},
     "output_type": "execute_result"
    }
   ],
   "source": [
    "n = 300\n",
    "m = n\n",
    "id(n)"
   ]
  },
  {
   "cell_type": "code",
   "execution_count": 3,
   "id": "e5cd07da-3ac4-4276-b229-9bb6d58a74b7",
   "metadata": {},
   "outputs": [
    {
     "data": {
      "text/plain": [
       "2415907864144"
      ]
     },
     "execution_count": 3,
     "metadata": {},
     "output_type": "execute_result"
    }
   ],
   "source": [
    "id(m)"
   ]
  },
  {
   "cell_type": "code",
   "execution_count": 4,
   "id": "78122efe-3e60-40b2-a317-2ec30ba48070",
   "metadata": {},
   "outputs": [
    {
     "data": {
      "text/plain": [
       "2415908241776"
      ]
     },
     "execution_count": 4,
     "metadata": {},
     "output_type": "execute_result"
    }
   ],
   "source": [
    "m = 400\n",
    "id(m)"
   ]
  },
  {
   "cell_type": "markdown",
   "id": "abe2559e-1dce-4a4a-afaf-23b9f740e6e2",
   "metadata": {},
   "source": [
    "#### *Deep Dive: Caching Small Integer Values*"
   ]
  },
  {
   "cell_type": "code",
   "execution_count": 5,
   "id": "c0b1e3a1-049a-4da9-b54e-fe96f206c504",
   "metadata": {},
   "outputs": [
    {
     "data": {
      "text/plain": [
       "2415908241968"
      ]
     },
     "execution_count": 5,
     "metadata": {},
     "output_type": "execute_result"
    }
   ],
   "source": [
    "m = 300\n",
    "n = 300\n",
    "id(m)"
   ]
  },
  {
   "cell_type": "code",
   "execution_count": 6,
   "id": "5a973a72-eb15-478b-b542-b1282653e76b",
   "metadata": {},
   "outputs": [
    {
     "data": {
      "text/plain": [
       "2415908241648"
      ]
     },
     "execution_count": 6,
     "metadata": {},
     "output_type": "execute_result"
    }
   ],
   "source": [
    "id(n)"
   ]
  },
  {
   "cell_type": "code",
   "execution_count": 7,
   "id": "7dae84f4-78c4-4f32-867b-9628f44bec21",
   "metadata": {},
   "outputs": [
    {
     "data": {
      "text/plain": [
       "140709039647536"
      ]
     },
     "execution_count": 7,
     "metadata": {},
     "output_type": "execute_result"
    }
   ],
   "source": [
    "m = 30\n",
    "n = 30\n",
    "id(m)"
   ]
  },
  {
   "cell_type": "code",
   "execution_count": 8,
   "id": "363e4f5f-2be5-466b-9a34-f984ca0b30de",
   "metadata": {},
   "outputs": [
    {
     "data": {
      "text/plain": [
       "140709039647536"
      ]
     },
     "execution_count": 8,
     "metadata": {},
     "output_type": "execute_result"
    }
   ],
   "source": [
    "id(n)"
   ]
  },
  {
   "cell_type": "markdown",
   "id": "ebc8e04d-15fa-4bcc-80b4-98eea015b3ee",
   "metadata": {},
   "source": [
    "This is because the interpreter creates objects for the integers in the range [-5, 256] for purposes of optimization at startup. Then reuse them during program execution. "
   ]
  },
  {
   "cell_type": "markdown",
   "id": "885585f9-2289-4402-a4d1-275337f5b889",
   "metadata": {},
   "source": [
    "## Variable Names"
   ]
  },
  {
   "cell_type": "code",
   "execution_count": 9,
   "id": "02520f9d-9f9e-4830-924d-6c894d1deee4",
   "metadata": {},
   "outputs": [
    {
     "name": "stdout",
     "output_type": "stream",
     "text": [
      "Bob 54 True\n"
     ]
    }
   ],
   "source": [
    "name = \"Bob\"\n",
    "Age = 54\n",
    "has_W2 = True\n",
    "print(name, Age, has_W2)"
   ]
  },
  {
   "cell_type": "code",
   "execution_count": 10,
   "id": "c5cb5907-8b62-40b8-b57e-8f07e37cf510",
   "metadata": {},
   "outputs": [
    {
     "ename": "SyntaxError",
     "evalue": "invalid decimal literal (<ipython-input-10-939a057bae00>, line 1)",
     "output_type": "error",
     "traceback": [
      "\u001b[1;36m  File \u001b[1;32m\"<ipython-input-10-939a057bae00>\"\u001b[1;36m, line \u001b[1;32m1\u001b[0m\n\u001b[1;33m    1099_filed = False\u001b[0m\n\u001b[1;37m        ^\u001b[0m\n\u001b[1;31mSyntaxError\u001b[0m\u001b[1;31m:\u001b[0m invalid decimal literal\n"
     ]
    }
   ],
   "source": [
    "# a variable name can't begin with a digit\n",
    "1099_filed = False"
   ]
  },
  {
   "cell_type": "code",
   "execution_count": 11,
   "id": "93a5ce4f-25ed-4303-94af-b6c9be40682c",
   "metadata": {},
   "outputs": [
    {
     "name": "stdout",
     "output_type": "stream",
     "text": [
      "1 2 3 4 5 6 7 8\n"
     ]
    }
   ],
   "source": [
    "# case is significant, Use of the underscore character is significant as well\n",
    "age = 1\n",
    "Age = 2\n",
    "aGe = 3\n",
    "AGE = 4\n",
    "a_g_e = 5\n",
    "_age = 6\n",
    "age_ = 7\n",
    "_AGE_ = 8\n",
    "\n",
    "print(age, Age, aGe, AGE, a_g_e, _age, age_, _AGE_)"
   ]
  },
  {
   "cell_type": "code",
   "execution_count": 12,
   "id": "d22b29ad-c939-4f25-a4fb-9152544a0ca2",
   "metadata": {},
   "outputs": [
    {
     "name": "stdout",
     "output_type": "stream",
     "text": [
      "2500 2500 2500 2500 2500\n"
     ]
    }
   ],
   "source": [
    "# worthwhile to give a variable a name that is descriptive enough\n",
    "numberofcollegegraduates = 2500\n",
    "NUMBEROFCOLLEGEGRADUATES = 2500\n",
    "numberOfCollegeGraduates = 2500\n",
    "NumberOfCollegeGraduates = 2500\n",
    "number_of_college_graduates = 2500\n",
    "\n",
    "print(numberofcollegegraduates, NUMBEROFCOLLEGEGRADUATES,\n",
    "numberOfCollegeGraduates, NumberOfCollegeGraduates,\n",
    "number_of_college_graduates)"
   ]
  },
  {
   "cell_type": "markdown",
   "id": "e08fd84f-7f42-4dc6-b03c-d0919cd9b503",
   "metadata": {},
   "source": [
    "## Reserved Words (Keywords)\n"
   ]
  },
  {
   "cell_type": "code",
   "execution_count": 14,
   "id": "6db25ce2-999e-448d-8285-387fc96ed288",
   "metadata": {},
   "outputs": [
    {
     "name": "stdout",
     "output_type": "stream",
     "text": [
      "\n",
      "Here is a list of the Python keywords.  Enter any keyword to get more help.\n",
      "\n",
      "False               class               from                or\n",
      "None                continue            global              pass\n",
      "True                def                 if                  raise\n",
      "and                 del                 import              return\n",
      "as                  elif                in                  try\n",
      "assert              else                is                  while\n",
      "async               except              lambda              with\n",
      "await               finally             nonlocal            yield\n",
      "break               for                 not                 \n",
      "\n"
     ]
    }
   ],
   "source": [
    "# 35 reserved keywords\n",
    "help(\"keywords\")"
   ]
  },
  {
   "cell_type": "code",
   "execution_count": 15,
   "id": "3207726c-4a87-47d6-87a3-ef01317a8e80",
   "metadata": {},
   "outputs": [
    {
     "ename": "SyntaxError",
     "evalue": "invalid syntax (<ipython-input-15-c8ee3642ab3d>, line 1)",
     "output_type": "error",
     "traceback": [
      "\u001b[1;36m  File \u001b[1;32m\"<ipython-input-15-c8ee3642ab3d>\"\u001b[1;36m, line \u001b[1;32m1\u001b[0m\n\u001b[1;33m    for = 3\u001b[0m\n\u001b[1;37m        ^\u001b[0m\n\u001b[1;31mSyntaxError\u001b[0m\u001b[1;31m:\u001b[0m invalid syntax\n"
     ]
    }
   ],
   "source": [
    "for = 3"
   ]
  },
  {
   "cell_type": "code",
   "execution_count": null,
   "id": "06d37271-a1dc-4f3e-9c0b-4c2f035b9a38",
   "metadata": {},
   "outputs": [],
   "source": []
  }
 ],
 "metadata": {
  "kernelspec": {
   "display_name": "Python 3",
   "language": "python",
   "name": "python3"
  },
  "language_info": {
   "codemirror_mode": {
    "name": "ipython",
    "version": 3
   },
   "file_extension": ".py",
   "mimetype": "text/x-python",
   "name": "python",
   "nbconvert_exporter": "python",
   "pygments_lexer": "ipython3",
   "version": "3.8.10"
  }
 },
 "nbformat": 4,
 "nbformat_minor": 5
}
