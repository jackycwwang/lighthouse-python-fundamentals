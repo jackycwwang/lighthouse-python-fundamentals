{
 "cells": [
  {
   "cell_type": "markdown",
   "id": "fb351914-44e9-40aa-83d7-8c1ba64f9e02",
   "metadata": {},
   "source": [
    "# Hypothesis testing simulation"
   ]
  },
  {
   "cell_type": "markdown",
   "id": "a2a8be4b-cd68-4e72-b019-c7209f6b08ab",
   "metadata": {},
   "source": [
    "## Use-case\n",
    "\n",
    "Imagine you are the owner of two stores with electronics. In both stores, you sell the same model of a cell-phone at the same price. Because you have the daily sales history from both stores, you are curious if the sales of this cell-phone are the same."
   ]
  },
  {
   "cell_type": "markdown",
   "id": "f19a7559-470e-4841-9ee9-d974594a78ac",
   "metadata": {},
   "source": [
    "## Simulation"
   ]
  },
  {
   "cell_type": "code",
   "execution_count": 1,
   "id": "32996a5b-4df4-45e9-9aea-82fa77637de5",
   "metadata": {},
   "outputs": [],
   "source": [
    "# import numpy\n",
    "import numpy as np\n",
    "\n",
    "# set a random seed to replicate results\n",
    "np.random.seed(42)"
   ]
  },
  {
   "cell_type": "markdown",
   "id": "c6768aa2-370f-4155-a871-191a875f9c63",
   "metadata": {},
   "source": [
    "Since we don't have real data, we will simulate our one-year sales with np.random.normal function."
   ]
  },
  {
   "cell_type": "code",
   "execution_count": 2,
   "id": "983cdd19-95ec-4de2-b83c-5b80be9b80f3",
   "metadata": {},
   "outputs": [],
   "source": [
    "# sales history in days\n",
    "history = 365\n",
    "\n",
    "# generate one-year sales for store A\n",
    "mean_A = 20\n",
    "std_A = 5\n",
    "shop_A_sales = np.random.normal(mean_A, std_A, history)\n",
    "\n",
    "# generate one-year sales for store B\n",
    "mean_B = 19.5\n",
    "std_B = 5\n",
    "shop_B_sales = np.random.normal(mean_B, std_B, history)"
   ]
  },
  {
   "cell_type": "markdown",
   "id": "f071c166-65b3-4588-8c60-09771f48d2ed",
   "metadata": {},
   "source": [
    "We will be testing the following hypothesis: \n",
    "\n",
    "- H0 = the mean of sales of shop A equals to the mean of sales of shop B (i.e. the difference between the sales is equal to zero) \n",
    "\n",
    "- HA = the means are not equal"
   ]
  },
  {
   "cell_type": "markdown",
   "id": "ac702969-3b9d-4457-9340-6570acdd46b1",
   "metadata": {},
   "source": [
    "Set the significance level alpha (the probability of rejecting the null hypothesis when it is true) to 0.05."
   ]
  },
  {
   "cell_type": "code",
   "execution_count": 3,
   "id": "5efcde08-0b85-495d-b818-f00ee8feb62e",
   "metadata": {},
   "outputs": [],
   "source": [
    "# set the significance level\n",
    "alpha = 0.05"
   ]
  },
  {
   "cell_type": "markdown",
   "id": "62dc4f85-6a26-42cc-a892-c32c35c2fa80",
   "metadata": {},
   "source": [
    "The means of sales for both stores are:"
   ]
  },
  {
   "cell_type": "code",
   "execution_count": 4,
   "id": "55c3d2a0-ea23-4866-acae-94ae75b7b852",
   "metadata": {},
   "outputs": [
    {
     "name": "stdout",
     "output_type": "stream",
     "text": [
      "20.04973201106029\n",
      "19.309929401404304\n",
      "0.7398026096559853\n"
     ]
    }
   ],
   "source": [
    "# print the store A mean\n",
    "print(shop_A_sales.mean())\n",
    "\n",
    "# print the store B mean\n",
    "print(shop_B_sales.mean())\n",
    "\n",
    "# the differnce in the means\n",
    "observed_means_diff = shop_A_sales.mean() - shop_B_sales.mean()\n",
    "print(observed_means_diff)"
   ]
  },
  {
   "cell_type": "markdown",
   "id": "a8822320-e7c0-4e51-aed3-eebdd3b3a9d8",
   "metadata": {},
   "source": [
    "Because the mean of sales in the store A is not so far from the mean of sales in the store B, and their standard deviations are equal, it is tough to decide if the sales are equal."
   ]
  },
  {
   "cell_type": "markdown",
   "id": "f8770cdf-523a-4dca-aaeb-06d21bf96195",
   "metadata": {},
   "source": [
    "Let's simulate what it would look like if both stores' sales were identically distributed. We can do that by putting sales data from both stores together."
   ]
  },
  {
   "cell_type": "code",
   "execution_count": 26,
   "id": "a39b3e8d-75f3-449e-9375-ddba6c7dc395",
   "metadata": {},
   "outputs": [
    {
     "data": {
      "text/plain": [
       "(730,)"
      ]
     },
     "execution_count": 26,
     "metadata": {},
     "output_type": "execute_result"
    }
   ],
   "source": [
    "both_sales = np.concatenate((shop_A_sales, shop_B_sales))\n",
    "both_sales.shape"
   ]
  },
  {
   "cell_type": "markdown",
   "id": "56a9f6f9-38a2-419e-81b3-20dc85fec317",
   "metadata": {},
   "source": [
    "Now, we have to perform permutation on both_sales and re-create the sales with this permutation data."
   ]
  },
  {
   "attachments": {
    "536a36ca-c5ab-417f-b0c3-8e1e92c3914b.png": {
     "image/png": "[encoded data removed]"
    }
   },
   "cell_type": "markdown",
   "id": "fe867728-df2c-48fc-b0e8-d1f9be15ba99",
   "metadata": {},
   "source": [
    "![image.png](attachment:536a36ca-c5ab-417f-b0c3-8e1e92c3914b.png)"
   ]
  },
  {
   "cell_type": "code",
   "execution_count": 10,
   "id": "6063c194-7a8c-4789-9e96-61a88f701e14",
   "metadata": {},
   "outputs": [],
   "source": [
    "# permutation\n",
    "sales_perm = np.random.permutation(both_sales)"
   ]
  },
  {
   "cell_type": "code",
   "execution_count": 14,
   "id": "167f5b3d-7e19-4347-bd97-2514c665baa6",
   "metadata": {},
   "outputs": [],
   "source": [
    "# permutation replicates \n",
    "perm_shop_A_sales = sales_perm[:history]\n",
    "perm_shop_B_sales = sales_perm[history:]"
   ]
  },
  {
   "cell_type": "markdown",
   "id": "3b525dc3-1034-4e9d-b13a-76d61e9c990e",
   "metadata": {},
   "source": [
    "After this step, we have to compute the difference between the permutation replicates means."
   ]
  },
  {
   "cell_type": "code",
   "execution_count": 16,
   "id": "84250786-ffbc-4318-b119-572c059379a8",
   "metadata": {},
   "outputs": [
    {
     "name": "stdout",
     "output_type": "stream",
     "text": [
      "0.21098789154327235\n"
     ]
    }
   ],
   "source": [
    "print(perm_shop_A_sales.mean() - perm_shop_B_sales.mean())"
   ]
  },
  {
   "cell_type": "markdown",
   "id": "105a1702-ebeb-4c91-91b7-334b59be2414",
   "metadata": {},
   "source": [
    "We can see that there is a difference between the permutation replicates mean and the original sales mean. But this was only one permutation. \n",
    "\n",
    "Let's try 1,000 different permutations and store the differences of the permutation replicates means in a list."
   ]
  },
  {
   "cell_type": "code",
   "execution_count": 17,
   "id": "cf40105a-d811-4d9e-8959-a1ca0271e6b1",
   "metadata": {},
   "outputs": [],
   "source": [
    "# create an empty list to store the permutation replicates means\n",
    "perm_repl_means = []\n",
    "\n",
    "for _ in range(1000):\n",
    "    # permutation \n",
    "    sales_perm = np.random.permutation(both_sales)\n",
    "\n",
    "    # permutation replicates \n",
    "    perm_shop_A_sales = sales_perm[:len(shop_A_sales)]\n",
    "    perm_shop_B_sales = sales_perm[len(shop_A_sales):]\n",
    "\n",
    "    # permutation replicates mean\n",
    "    perm_repl_mean = perm_shop_A_sales.mean() - perm_shop_B_sales.mean()\n",
    "\n",
    "    # append perm_repl_mean to list\n",
    "    perm_repl_means.append(perm_repl_mean)b"
   ]
  },
  {
   "cell_type": "code",
   "execution_count": 29,
   "id": "939bba31-9b8f-48fa-8ef3-ac73afaa8c04",
   "metadata": {},
   "outputs": [
    {
     "data": {
      "text/plain": [
       "-6.331366705438768e-06"
      ]
     },
     "execution_count": 29,
     "metadata": {},
     "output_type": "execute_result"
    }
   ],
   "source": [
    "np.mean(perm_repl_means)"
   ]
  },
  {
   "cell_type": "markdown",
   "id": "bf592948-2caf-4373-858b-5712c26615a8",
   "metadata": {},
   "source": [
    "The last thing that remains is to compute the p-value."
   ]
  },
  {
   "attachments": {
    "3b613173-74ad-40fa-ba97-7eb7618554b5.png": {
     "image/png": "[encoded data removed]"
    }
   },
   "cell_type": "markdown",
   "id": "ed6dc4b5-2ba0-4c96-8a6b-02c3b458724a",
   "metadata": {},
   "source": [
    "![image.png](attachment:3b613173-74ad-40fa-ba97-7eb7618554b5.png)"
   ]
  },
  {
   "cell_type": "code",
   "execution_count": 21,
   "id": "86d42cd0-3e9b-43db-9ff2-ae142c9db1a1",
   "metadata": {},
   "outputs": [
    {
     "name": "stdout",
     "output_type": "stream",
     "text": [
      "p-value = 0.043\n"
     ]
    }
   ],
   "source": [
    "# compute the p-value\n",
    "p = np.sum(np.abs(perm_repl_means) >= observed_means_diff) / len(perm_repl_means)\n",
    "\n",
    "# print the result\n",
    "print('p-value =', p)"
   ]
  },
  {
   "cell_type": "markdown",
   "id": "a911b0ab-5a01-423c-a5f6-4fc150d1f199",
   "metadata": {},
   "source": [
    "The p-value tells us that there is about a 4.2% chance that we would get the difference of means observed in the experiment if sales were exactly the same."
   ]
  },
  {
   "cell_type": "code",
   "execution_count": 20,
   "id": "c7ea952e-14f9-400b-a5b9-9aaed80e1343",
   "metadata": {
    "collapsed": true,
    "jupyter": {
     "outputs_hidden": true
    },
    "tags": []
   },
   "outputs": [
    {
     "data": {
      "text/plain": [
       "array([False, False, False, False, False, False, False, False, False,\n",
       "       False, False, False, False, False, False, False, False, False,\n",
       "       False, False, False, False, False, False, False, False, False,\n",
       "       False, False, False,  True, False, False, False, False, False,\n",
       "       False, False, False,  True, False, False, False, False, False,\n",
       "       False, False, False, False, False, False, False, False, False,\n",
       "       False, False, False, False, False, False, False, False, False,\n",
       "       False, False, False, False, False, False, False, False, False,\n",
       "        True, False, False, False, False, False, False, False, False,\n",
       "       False, False, False, False, False, False,  True, False, False,\n",
       "       False, False, False, False, False, False,  True, False, False,\n",
       "       False, False, False, False, False,  True, False, False, False,\n",
       "       False, False, False, False, False, False, False, False, False,\n",
       "       False, False, False, False, False, False, False, False, False,\n",
       "       False, False, False, False, False, False,  True, False, False,\n",
       "       False, False, False, False, False, False, False, False, False,\n",
       "       False, False, False, False, False, False, False, False, False,\n",
       "        True, False, False, False, False, False,  True, False, False,\n",
       "       False, False, False, False, False, False, False,  True, False,\n",
       "       False, False, False, False,  True, False, False, False, False,\n",
       "       False, False, False, False, False, False, False, False, False,\n",
       "       False, False, False, False, False, False, False, False, False,\n",
       "       False, False, False, False, False, False, False, False, False,\n",
       "       False, False, False, False, False, False, False, False, False,\n",
       "       False, False, False, False, False, False, False, False, False,\n",
       "       False, False, False, False, False, False, False, False, False,\n",
       "       False, False, False, False, False, False, False, False, False,\n",
       "       False, False, False, False, False, False, False, False, False,\n",
       "       False, False, False, False, False, False, False, False, False,\n",
       "       False, False, False, False, False, False, False, False, False,\n",
       "       False,  True, False, False, False, False, False, False, False,\n",
       "       False, False, False, False, False, False, False, False, False,\n",
       "       False, False, False, False, False, False,  True, False, False,\n",
       "       False, False, False, False, False, False, False, False,  True,\n",
       "       False, False, False, False, False, False, False, False, False,\n",
       "       False, False, False, False, False, False, False, False, False,\n",
       "        True, False, False, False, False, False, False, False, False,\n",
       "       False, False, False, False, False, False, False, False, False,\n",
       "       False, False, False, False, False, False,  True, False, False,\n",
       "        True, False, False, False, False, False, False, False, False,\n",
       "       False, False, False, False, False,  True, False, False, False,\n",
       "       False, False, False, False, False, False, False, False, False,\n",
       "       False, False, False, False, False, False,  True, False, False,\n",
       "       False, False, False, False, False, False, False, False, False,\n",
       "       False, False, False, False, False,  True, False, False, False,\n",
       "       False, False, False, False, False, False, False, False, False,\n",
       "       False, False, False, False, False, False, False, False, False,\n",
       "       False, False, False, False,  True, False, False, False, False,\n",
       "       False, False, False, False, False, False, False, False, False,\n",
       "       False, False, False, False,  True, False, False, False, False,\n",
       "       False, False, False, False, False, False, False, False, False,\n",
       "       False, False, False, False, False, False, False, False, False,\n",
       "       False, False, False, False, False, False, False, False, False,\n",
       "       False, False, False, False, False, False, False, False,  True,\n",
       "       False, False, False, False, False, False, False, False, False,\n",
       "       False, False, False, False, False, False, False, False, False,\n",
       "       False, False, False, False, False, False, False, False, False,\n",
       "       False, False, False, False, False, False, False, False, False,\n",
       "       False, False, False, False,  True, False, False, False, False,\n",
       "       False, False, False, False, False, False, False, False, False,\n",
       "       False, False, False, False, False, False, False, False, False,\n",
       "       False, False, False, False, False, False, False, False, False,\n",
       "       False, False, False, False, False, False, False, False, False,\n",
       "       False, False, False, False, False, False, False, False, False,\n",
       "       False, False, False, False, False, False, False, False, False,\n",
       "       False, False, False,  True, False, False,  True, False, False,\n",
       "        True, False, False, False, False, False,  True, False, False,\n",
       "       False, False, False, False, False, False, False,  True, False,\n",
       "       False, False, False, False, False, False, False, False, False,\n",
       "       False, False, False, False, False, False, False, False, False,\n",
       "       False, False, False, False, False, False, False, False, False,\n",
       "       False, False, False, False, False, False, False, False, False,\n",
       "       False, False, False, False, False, False, False, False, False,\n",
       "       False,  True, False, False, False, False, False, False, False,\n",
       "       False, False, False, False, False, False, False, False, False,\n",
       "       False, False, False, False, False, False, False,  True, False,\n",
       "       False, False, False, False, False, False, False, False, False,\n",
       "       False, False, False, False, False, False, False, False, False,\n",
       "       False, False, False, False, False, False, False, False, False,\n",
       "       False, False, False,  True, False, False, False, False, False,\n",
       "       False, False,  True, False, False, False, False, False, False,\n",
       "       False, False, False, False, False, False, False, False, False,\n",
       "       False, False, False,  True, False, False, False, False, False,\n",
       "       False, False, False, False, False, False, False, False, False,\n",
       "       False, False, False, False, False, False, False, False, False,\n",
       "       False, False, False, False, False, False, False, False, False,\n",
       "       False, False, False, False, False,  True, False, False, False,\n",
       "       False, False, False, False, False, False, False, False, False,\n",
       "       False, False, False, False, False, False, False, False, False,\n",
       "       False, False, False,  True, False, False, False, False, False,\n",
       "       False, False, False, False, False, False, False, False, False,\n",
       "       False, False, False, False, False, False, False, False, False,\n",
       "       False, False, False, False, False, False, False, False, False,\n",
       "       False, False, False, False, False,  True, False, False, False,\n",
       "       False, False, False,  True, False, False, False,  True,  True,\n",
       "       False, False, False, False, False, False, False, False, False,\n",
       "       False, False, False, False, False, False, False, False, False,\n",
       "       False, False, False, False, False, False, False, False, False,\n",
       "       False, False, False, False, False, False, False, False, False,\n",
       "       False, False, False, False, False, False, False, False, False,\n",
       "       False, False, False,  True, False, False, False, False, False,\n",
       "       False, False, False, False, False, False, False, False, False,\n",
       "       False, False, False, False, False, False, False, False, False,\n",
       "       False, False, False, False, False, False, False, False, False,\n",
       "       False, False, False, False, False,  True, False, False, False,\n",
       "       False, False, False, False, False, False, False, False, False,\n",
       "       False, False, False, False, False, False, False, False, False,\n",
       "       False, False, False, False, False, False, False, False, False,\n",
       "        True, False, False, False, False, False, False, False, False,\n",
       "       False, False, False, False, False, False, False, False, False,\n",
       "       False, False, False, False, False, False, False, False, False,\n",
       "       False])"
      ]
     },
     "execution_count": 20,
     "metadata": {},
     "output_type": "execute_result"
    }
   ],
   "source": [
    "np.abs(perm_repl_means) >= observed_means_diff"
   ]
  },
  {
   "cell_type": "code",
   "execution_count": 22,
   "id": "3eb07c40-dc11-4f85-84c9-7d438d2b3148",
   "metadata": {},
   "outputs": [
    {
     "name": "stdout",
     "output_type": "stream",
     "text": [
      "H0 is rejected.\n"
     ]
    }
   ],
   "source": [
    "# final decision\n",
    "if p < alpha:\n",
    "    print('H0 is rejected.')\n",
    "else:\n",
    "    print('H0 is not rejected.')"
   ]
  },
  {
   "cell_type": "markdown",
   "id": "45209fcd-b53e-458d-b210-3a4e225d9347",
   "metadata": {},
   "source": [
    "Because the p_value is smaller than our significance level alpha we reject the null hypothesis that our cell-phone sale are equal in both stores."
   ]
  },
  {
   "attachments": {
    "cb28739d-0c7a-4341-9cf3-9d668b426ed8.png": {
     "image/png": "[encoded data removed]"
    }
   },
   "cell_type": "markdown",
   "id": "c1b3a1e9-ca6b-4d25-b0a0-7d8a6ebe910f",
   "metadata": {},
   "source": [
    "![image.png](attachment:cb28739d-0c7a-4341-9cf3-9d668b426ed8.png)"
   ]
  },
  {
   "cell_type": "code",
   "execution_count": null,
   "id": "16552273-dd99-4bef-820e-6db1d1beadb2",
   "metadata": {},
   "outputs": [],
   "source": []
  }
 ],
 "metadata": {
  "kernelspec": {
   "display_name": "Python 3",
   "language": "python",
   "name": "python3"
  },
  "language_info": {
   "codemirror_mode": {
    "name": "ipython",
    "version": 3
   },
   "file_extension": ".py",
   "mimetype": "text/x-python",
   "name": "python",
   "nbconvert_exporter": "python",
   "pygments_lexer": "ipython3",
   "version": "3.8.10"
  }
 },
 "nbformat": 4,
 "nbformat_minor": 5
}
