{
 "cells": [
  {
   "cell_type": "markdown",
   "id": "78d6b83e-3f0e-48c5-b9d6-d2299bd4aeed",
   "metadata": {},
   "source": [
    "# Strings and Character Data in Python"
   ]
  },
  {
   "cell_type": "markdown",
   "id": "9e4990c7-31a0-4c15-9ae3-f75a8b7a24c7",
   "metadata": {},
   "source": [
    "## String Manipulation"
   ]
  },
  {
   "cell_type": "markdown",
   "id": "0569c14b-8f9b-41bd-9e0b-9882b33c1b97",
   "metadata": {},
   "source": [
    "### String Operators"
   ]
  },
  {
   "cell_type": "markdown",
   "id": "fef941f4-d725-4899-ae21-826f3db50127",
   "metadata": {},
   "source": [
    "#### The `+` Operator"
   ]
  },
  {
   "cell_type": "code",
   "execution_count": 183,
   "id": "192fef99-6c82-40ee-8807-b338cb1418a5",
   "metadata": {},
   "outputs": [
    {
     "data": {
      "text/plain": [
       "'foobarbaz'"
      ]
     },
     "execution_count": 183,
     "metadata": {},
     "output_type": "execute_result"
    }
   ],
   "source": [
    "s = 'foo'\n",
    "t = 'bar'\n",
    "u = 'baz'\n",
    "\n",
    "s + t\n",
    "\n",
    "s + t + u"
   ]
  },
  {
   "cell_type": "code",
   "execution_count": null,
   "id": "62c9e602-702e-4caf-a490-ad4bbfe68afa",
   "metadata": {},
   "outputs": [],
   "source": [
    "s[:] == s"
   ]
  },
  {
   "cell_type": "code",
   "execution_count": 3,
   "id": "3ca8a1e8-bca0-4599-8e76-b424bf52492f",
   "metadata": {},
   "outputs": [
    {
     "name": "stdout",
     "output_type": "stream",
     "text": [
      "Go team!!!\n"
     ]
    }
   ],
   "source": [
    "print('Go team' + '!!!')"
   ]
  },
  {
   "cell_type": "markdown",
   "id": "0a57f7b3-9240-4bd5-94df-122b06af1499",
   "metadata": {},
   "source": [
    "#### The `*` Operator"
   ]
  },
  {
   "cell_type": "code",
   "execution_count": 5,
   "id": "c8e99925-5496-4041-bab5-b80923d3781c",
   "metadata": {},
   "outputs": [
    {
     "data": {
      "text/plain": [
       "'foo.foo.foo.foo.'"
      ]
     },
     "execution_count": 5,
     "metadata": {},
     "output_type": "execute_result"
    }
   ],
   "source": [
    "# when a string multiplies with (must be) an integer \n",
    "s = 'foo.'\n",
    "s * 4"
   ]
  },
  {
   "cell_type": "code",
   "execution_count": 10,
   "id": "1e23d549-84bc-49a2-abb7-12a5f614054d",
   "metadata": {},
   "outputs": [
    {
     "data": {
      "text/plain": [
       "'foo.foo.foo.foo.'"
      ]
     },
     "execution_count": 10,
     "metadata": {},
     "output_type": "execute_result"
    }
   ],
   "source": [
    "# this way also works\n",
    "4 * s"
   ]
  },
  {
   "cell_type": "code",
   "execution_count": 8,
   "id": "b54c0aab-84da-41a4-a5b6-5a729a415d26",
   "metadata": {},
   "outputs": [
    {
     "data": {
      "text/plain": [
       "''"
      ]
     },
     "execution_count": 8,
     "metadata": {},
     "output_type": "execute_result"
    }
   ],
   "source": [
    "# the integer can be zero or negative\n",
    "# the result is an empty string\n",
    "'foo' * -8"
   ]
  },
  {
   "cell_type": "markdown",
   "id": "eebd12bf-b581-41ab-b6e8-f05a373c8af6",
   "metadata": {},
   "source": [
    "#### The `in` Operator\n",
    "a membership operator"
   ]
  },
  {
   "cell_type": "code",
   "execution_count": 11,
   "id": "e48e2af7-6301-4a9b-85d6-cc160f375a18",
   "metadata": {},
   "outputs": [
    {
     "data": {
      "text/plain": [
       "True"
      ]
     },
     "execution_count": 11,
     "metadata": {},
     "output_type": "execute_result"
    }
   ],
   "source": [
    "# return True when 'foo' is contained within the second string\n",
    "s = 'foo'\n",
    "\n",
    "s in 'That\\'s food for thought.'"
   ]
  },
  {
   "cell_type": "code",
   "execution_count": 13,
   "id": "bd0cac64-0573-46fd-bf95-aab07c598647",
   "metadata": {},
   "outputs": [
    {
     "data": {
      "text/plain": [
       "False"
      ]
     },
     "execution_count": 13,
     "metadata": {},
     "output_type": "execute_result"
    }
   ],
   "source": [
    "# return False otherwise\n",
    "s in 'That\\'s good for now.'"
   ]
  },
  {
   "cell_type": "markdown",
   "id": "fc02a437-0abc-4521-9a04-ea6511e2e016",
   "metadata": {},
   "source": [
    "There is also `not in` operator.\n"
   ]
  },
  {
   "cell_type": "code",
   "execution_count": 16,
   "id": "efd4ba7a-15f4-4c74-a5e4-733207458e16",
   "metadata": {},
   "outputs": [
    {
     "data": {
      "text/plain": [
       "True"
      ]
     },
     "execution_count": 16,
     "metadata": {},
     "output_type": "execute_result"
    }
   ],
   "source": [
    "'z' not in 'abc'"
   ]
  },
  {
   "cell_type": "code",
   "execution_count": 15,
   "id": "eb5f88d2-143d-47b2-8996-e166033ceae9",
   "metadata": {},
   "outputs": [
    {
     "data": {
      "text/plain": [
       "False"
      ]
     },
     "execution_count": 15,
     "metadata": {},
     "output_type": "execute_result"
    }
   ],
   "source": [
    "'z' not in 'xyz'"
   ]
  },
  {
   "cell_type": "markdown",
   "id": "332b913f-08d8-4824-a5c6-5af3b26acfb2",
   "metadata": {},
   "source": [
    "## Built-in String Functions\n",
    "\n",
    "- `chr()`: Converts an integer to a charactor\n",
    "- `ord`: Converts a character to an integer\n",
    "- `len()`: Returns the length of a string\n",
    "- `str()`: Returns a string representation of an object"
   ]
  },
  {
   "cell_type": "markdown",
   "id": "59c6e4b8-ad50-42ed-8f50-2b8418f3a745",
   "metadata": {},
   "source": [
    "#### `ord(c)`\n",
    "Returns an integer value for the given character.\n",
    "\n"
   ]
  },
  {
   "cell_type": "markdown",
   "id": "74787e66-234c-44c5-b381-0fef76eaee81",
   "metadata": {},
   "source": [
    "Python supports ASCII codes."
   ]
  },
  {
   "cell_type": "code",
   "execution_count": 18,
   "id": "bd32c29b-4160-4a8d-992e-3bba132d3561",
   "metadata": {},
   "outputs": [
    {
     "data": {
      "text/plain": [
       "97"
      ]
     },
     "execution_count": 18,
     "metadata": {},
     "output_type": "execute_result"
    }
   ],
   "source": [
    "ord('a')"
   ]
  },
  {
   "cell_type": "code",
   "execution_count": 17,
   "id": "2c81c833-ec25-4f7d-9401-47600c907740",
   "metadata": {},
   "outputs": [
    {
     "data": {
      "text/plain": [
       "35"
      ]
     },
     "execution_count": 17,
     "metadata": {},
     "output_type": "execute_result"
    }
   ],
   "source": [
    "ord('#')"
   ]
  },
  {
   "cell_type": "markdown",
   "id": "ecc1399d-fb2d-4185-b5da-acd2f9aa3ada",
   "metadata": {},
   "source": [
    "Python supports Unicode characters as well"
   ]
  },
  {
   "cell_type": "code",
   "execution_count": 19,
   "id": "a8ed0d0c-a393-4878-be5f-aa258559d225",
   "metadata": {},
   "outputs": [
    {
     "data": {
      "text/plain": [
       "8364"
      ]
     },
     "execution_count": 19,
     "metadata": {},
     "output_type": "execute_result"
    }
   ],
   "source": [
    "ord('€')"
   ]
  },
  {
   "cell_type": "code",
   "execution_count": 20,
   "id": "3c2617c7-06a1-447f-af69-4dcac8593a8e",
   "metadata": {},
   "outputs": [
    {
     "data": {
      "text/plain": [
       "8721"
      ]
     },
     "execution_count": 20,
     "metadata": {},
     "output_type": "execute_result"
    }
   ],
   "source": [
    "ord('∑')"
   ]
  },
  {
   "cell_type": "markdown",
   "id": "9239f352-3e2c-49a8-b7d1-33e09dcb1f14",
   "metadata": {},
   "source": [
    "#### `chr(n)`\n",
    "Returns a character value for the given integer."
   ]
  },
  {
   "cell_type": "code",
   "execution_count": 22,
   "id": "a0648d8d-a1a6-435c-8f65-aa5a21e27355",
   "metadata": {},
   "outputs": [
    {
     "data": {
      "text/plain": [
       "'a'"
      ]
     },
     "execution_count": 22,
     "metadata": {},
     "output_type": "execute_result"
    }
   ],
   "source": [
    "chr(97)"
   ]
  },
  {
   "cell_type": "code",
   "execution_count": 21,
   "id": "c08541d5-378c-432e-99b7-d358b8e881b7",
   "metadata": {},
   "outputs": [
    {
     "data": {
      "text/plain": [
       "'#'"
      ]
     },
     "execution_count": 21,
     "metadata": {},
     "output_type": "execute_result"
    }
   ],
   "source": [
    "chr(35)"
   ]
  },
  {
   "cell_type": "code",
   "execution_count": 25,
   "id": "b451a9a3-a4e9-40e1-a790-ce8a2c51b165",
   "metadata": {},
   "outputs": [
    {
     "data": {
      "text/plain": [
       "'€'"
      ]
     },
     "execution_count": 25,
     "metadata": {},
     "output_type": "execute_result"
    }
   ],
   "source": [
    "chr(8364)"
   ]
  },
  {
   "cell_type": "code",
   "execution_count": 24,
   "id": "f721ea4c-d1ea-4288-b31e-4ce476610038",
   "metadata": {},
   "outputs": [
    {
     "data": {
      "text/plain": [
       "'∑'"
      ]
     },
     "execution_count": 24,
     "metadata": {},
     "output_type": "execute_result"
    }
   ],
   "source": [
    "chr(8721)"
   ]
  },
  {
   "cell_type": "markdown",
   "id": "3a7a04c4-c9a4-42ed-b5f1-e020fdc4d13e",
   "metadata": {},
   "source": [
    "#### `len(s)`\n",
    "Returns the length of a string."
   ]
  },
  {
   "cell_type": "code",
   "execution_count": 27,
   "id": "5facb6f2-db15-41ae-9bce-9995e5f7ad62",
   "metadata": {},
   "outputs": [
    {
     "data": {
      "text/plain": [
       "14"
      ]
     },
     "execution_count": 27,
     "metadata": {},
     "output_type": "execute_result"
    }
   ],
   "source": [
    "s = 'I am a string.'\n",
    "len(s)"
   ]
  },
  {
   "cell_type": "markdown",
   "id": "03c2c93e-af44-40d5-aa19-dff68fd58443",
   "metadata": {},
   "source": [
    "#### `str(obj)`\n",
    "\n",
    "Returns a string representation of an object."
   ]
  },
  {
   "cell_type": "code",
   "execution_count": 28,
   "id": "fe2773f7-a5ae-4001-a680-6119bc222f7f",
   "metadata": {},
   "outputs": [
    {
     "data": {
      "text/plain": [
       "'49.2'"
      ]
     },
     "execution_count": 28,
     "metadata": {},
     "output_type": "execute_result"
    }
   ],
   "source": [
    "str(49.2)"
   ]
  },
  {
   "cell_type": "code",
   "execution_count": 29,
   "id": "372d7b38-5ffa-49ed-953e-87fde8d36432",
   "metadata": {},
   "outputs": [
    {
     "data": {
      "text/plain": [
       "'(3+4j)'"
      ]
     },
     "execution_count": 29,
     "metadata": {},
     "output_type": "execute_result"
    }
   ],
   "source": [
    "str(3+4j)"
   ]
  },
  {
   "cell_type": "code",
   "execution_count": 30,
   "id": "62d2f335-5dcc-4821-9369-a87666fb614b",
   "metadata": {},
   "outputs": [
    {
     "data": {
      "text/plain": [
       "'32'"
      ]
     },
     "execution_count": 30,
     "metadata": {},
     "output_type": "execute_result"
    }
   ],
   "source": [
    "str(3 + 29)"
   ]
  },
  {
   "cell_type": "code",
   "execution_count": 31,
   "id": "2e33be61-9b76-46d4-a53e-19654a8ffe41",
   "metadata": {},
   "outputs": [
    {
     "data": {
      "text/plain": [
       "'foo'"
      ]
     },
     "execution_count": 31,
     "metadata": {},
     "output_type": "execute_result"
    }
   ],
   "source": [
    "str('foo')"
   ]
  },
  {
   "cell_type": "markdown",
   "id": "4d5a2ce5-e11f-4655-b7fb-0c700fc5fb1a",
   "metadata": {},
   "source": [
    "## String Indexing"
   ]
  },
  {
   "cell_type": "code",
   "execution_count": 32,
   "id": "c8786a54-79d6-4753-bb93-8d9da6199b2e",
   "metadata": {},
   "outputs": [],
   "source": [
    "s = 'foobar'"
   ]
  },
  {
   "cell_type": "code",
   "execution_count": 33,
   "id": "001d70fa-dd69-4b90-aee9-117711c7eea1",
   "metadata": {},
   "outputs": [
    {
     "data": {
      "text/plain": [
       "'f'"
      ]
     },
     "execution_count": 33,
     "metadata": {},
     "output_type": "execute_result"
    }
   ],
   "source": [
    "s[0]"
   ]
  },
  {
   "cell_type": "code",
   "execution_count": 34,
   "id": "f41a0ec5-253f-497a-a33d-9f39e995485c",
   "metadata": {},
   "outputs": [
    {
     "data": {
      "text/plain": [
       "'o'"
      ]
     },
     "execution_count": 34,
     "metadata": {},
     "output_type": "execute_result"
    }
   ],
   "source": [
    "s[1]"
   ]
  },
  {
   "cell_type": "code",
   "execution_count": 35,
   "id": "f91bdac6-550f-4325-b1a7-7b43ef88a4fb",
   "metadata": {},
   "outputs": [
    {
     "data": {
      "text/plain": [
       "'b'"
      ]
     },
     "execution_count": 35,
     "metadata": {},
     "output_type": "execute_result"
    }
   ],
   "source": [
    "s[3]"
   ]
  },
  {
   "cell_type": "code",
   "execution_count": 36,
   "id": "fb9b873f-9ab1-43c0-b455-ae3055ba43d2",
   "metadata": {},
   "outputs": [
    {
     "data": {
      "text/plain": [
       "6"
      ]
     },
     "execution_count": 36,
     "metadata": {},
     "output_type": "execute_result"
    }
   ],
   "source": [
    "len(s)"
   ]
  },
  {
   "cell_type": "code",
   "execution_count": 37,
   "id": "f550aa89-587f-4945-bf74-aa132627aeb0",
   "metadata": {},
   "outputs": [
    {
     "data": {
      "text/plain": [
       "'r'"
      ]
     },
     "execution_count": 37,
     "metadata": {},
     "output_type": "execute_result"
    }
   ],
   "source": [
    "s[len(s)-1]"
   ]
  },
  {
   "cell_type": "code",
   "execution_count": 38,
   "id": "9ffbc50c-a1b1-4e2d-8c71-843aadf092ff",
   "metadata": {},
   "outputs": [
    {
     "ename": "IndexError",
     "evalue": "string index out of range",
     "output_type": "error",
     "traceback": [
      "\u001b[1;31m---------------------------------------------------------------------------\u001b[0m",
      "\u001b[1;31mIndexError\u001b[0m                                Traceback (most recent call last)",
      "\u001b[1;32m<ipython-input-38-c4bc18d4aa1b>\u001b[0m in \u001b[0;36m<module>\u001b[1;34m\u001b[0m\n\u001b[1;32m----> 1\u001b[1;33m \u001b[0ms\u001b[0m\u001b[1;33m[\u001b[0m\u001b[1;36m6\u001b[0m\u001b[1;33m]\u001b[0m\u001b[1;33m\u001b[0m\u001b[1;33m\u001b[0m\u001b[0m\n\u001b[0m",
      "\u001b[1;31mIndexError\u001b[0m: string index out of range"
     ]
    }
   ],
   "source": [
    "# index beyond the boundary results in an error\n",
    "s[6]"
   ]
  },
  {
   "cell_type": "markdown",
   "id": "368020c5-1625-4f01-9bb5-dd5b024950c8",
   "metadata": {},
   "source": [
    "Indices can also be specified with negative numbers, where indexing occurs from the end of the string backward beginning from -1 (not from 0)."
   ]
  },
  {
   "cell_type": "code",
   "execution_count": 39,
   "id": "f97f5ae1-18c6-4b6f-aaec-add91355770e",
   "metadata": {},
   "outputs": [],
   "source": [
    "s = 'foobar'"
   ]
  },
  {
   "cell_type": "code",
   "execution_count": 40,
   "id": "c00d84eb-bbfa-4e6f-9653-63d05b666623",
   "metadata": {},
   "outputs": [
    {
     "data": {
      "text/plain": [
       "'r'"
      ]
     },
     "execution_count": 40,
     "metadata": {},
     "output_type": "execute_result"
    }
   ],
   "source": [
    "s[-1]"
   ]
  },
  {
   "cell_type": "code",
   "execution_count": 41,
   "id": "27df5213-9e63-4513-b6e9-d9a7252de554",
   "metadata": {},
   "outputs": [
    {
     "data": {
      "text/plain": [
       "'a'"
      ]
     },
     "execution_count": 41,
     "metadata": {},
     "output_type": "execute_result"
    }
   ],
   "source": [
    "s[-2]"
   ]
  },
  {
   "cell_type": "code",
   "execution_count": 42,
   "id": "10f9ad97-d7f1-4eb7-80a4-f724f40bfc02",
   "metadata": {},
   "outputs": [
    {
     "data": {
      "text/plain": [
       "6"
      ]
     },
     "execution_count": 42,
     "metadata": {},
     "output_type": "execute_result"
    }
   ],
   "source": [
    "len(s)"
   ]
  },
  {
   "cell_type": "code",
   "execution_count": 43,
   "id": "8c44bd91-950e-4e77-b954-78e6285474d7",
   "metadata": {},
   "outputs": [
    {
     "data": {
      "text/plain": [
       "'f'"
      ]
     },
     "execution_count": 43,
     "metadata": {},
     "output_type": "execute_result"
    }
   ],
   "source": [
    "s[-len(s)]"
   ]
  },
  {
   "cell_type": "code",
   "execution_count": 44,
   "id": "33c0510b-6d91-4468-a1c5-6653cc98e964",
   "metadata": {},
   "outputs": [
    {
     "ename": "IndexError",
     "evalue": "string index out of range",
     "output_type": "error",
     "traceback": [
      "\u001b[1;31m---------------------------------------------------------------------------\u001b[0m",
      "\u001b[1;31mIndexError\u001b[0m                                Traceback (most recent call last)",
      "\u001b[1;32m<ipython-input-44-f93c2f8ec6cd>\u001b[0m in \u001b[0;36m<module>\u001b[1;34m\u001b[0m\n\u001b[1;32m----> 1\u001b[1;33m \u001b[0ms\u001b[0m\u001b[1;33m[\u001b[0m\u001b[1;33m-\u001b[0m\u001b[1;36m7\u001b[0m\u001b[1;33m]\u001b[0m\u001b[1;33m\u001b[0m\u001b[1;33m\u001b[0m\u001b[0m\n\u001b[0m",
      "\u001b[1;31mIndexError\u001b[0m: string index out of range"
     ]
    }
   ],
   "source": [
    "# negative number beyond the start of the string\n",
    "s[-7]"
   ]
  },
  {
   "cell_type": "markdown",
   "id": "c0fa3c58-9134-438c-ab5d-c12f09471958",
   "metadata": {},
   "source": [
    "## String Slicing"
   ]
  },
  {
   "cell_type": "code",
   "execution_count": 45,
   "id": "efa1f009-2efc-4794-9f8d-6dc4132e8a0e",
   "metadata": {},
   "outputs": [
    {
     "data": {
      "text/plain": [
       "'oba'"
      ]
     },
     "execution_count": 45,
     "metadata": {},
     "output_type": "execute_result"
    }
   ],
   "source": [
    "s = 'foobar'\n",
    "s[2:5]"
   ]
  },
  {
   "cell_type": "code",
   "execution_count": 46,
   "id": "4643282f-4a6e-4e25-88be-a666669d9496",
   "metadata": {},
   "outputs": [
    {
     "data": {
      "text/plain": [
       "'foob'"
      ]
     },
     "execution_count": 46,
     "metadata": {},
     "output_type": "execute_result"
    }
   ],
   "source": [
    "# omit the first index, slice starts at the beginning\n",
    "s = 'foobar'\n",
    "\n",
    "s[:4]"
   ]
  },
  {
   "cell_type": "code",
   "execution_count": 47,
   "id": "bd20ba75-3f41-48d0-a84a-77280618501d",
   "metadata": {},
   "outputs": [
    {
     "data": {
      "text/plain": [
       "'foob'"
      ]
     },
     "execution_count": 47,
     "metadata": {},
     "output_type": "execute_result"
    }
   ],
   "source": [
    "s[0:4]"
   ]
  },
  {
   "cell_type": "code",
   "execution_count": 48,
   "id": "bcfb3ec7-f515-4015-bc9a-efa11e2a4023",
   "metadata": {},
   "outputs": [
    {
     "data": {
      "text/plain": [
       "'obar'"
      ]
     },
     "execution_count": 48,
     "metadata": {},
     "output_type": "execute_result"
    }
   ],
   "source": [
    "# omit the second index, slice extends to the end\n",
    "s[2:]"
   ]
  },
  {
   "cell_type": "code",
   "execution_count": 49,
   "id": "71f129cf-d94b-4fa6-86a6-3d14e3772a70",
   "metadata": {},
   "outputs": [
    {
     "data": {
      "text/plain": [
       "'obar'"
      ]
     },
     "execution_count": 49,
     "metadata": {},
     "output_type": "execute_result"
    }
   ],
   "source": [
    "s[2:len(s)]"
   ]
  },
  {
   "cell_type": "code",
   "execution_count": 50,
   "id": "fdae981f-99f3-44be-b33f-2d1f866b0ef7",
   "metadata": {},
   "outputs": [
    {
     "data": {
      "text/plain": [
       "'foobar'"
      ]
     },
     "execution_count": 50,
     "metadata": {},
     "output_type": "execute_result"
    }
   ],
   "source": [
    "# this will be equal to s itself\n",
    "s[:4] + s[4:]"
   ]
  },
  {
   "cell_type": "code",
   "execution_count": 51,
   "id": "7b5155c5-6acf-451b-8b96-696947e409a6",
   "metadata": {},
   "outputs": [
    {
     "data": {
      "text/plain": [
       "True"
      ]
     },
     "execution_count": 51,
     "metadata": {},
     "output_type": "execute_result"
    }
   ],
   "source": [
    "# verify\n",
    "s[:4] + s[4:] == s"
   ]
  },
  {
   "cell_type": "code",
   "execution_count": 52,
   "id": "20140e63-2c3f-4230-972f-44ea65bdb498",
   "metadata": {},
   "outputs": [],
   "source": [
    "# omitting both indices returns the original string\n",
    "# Literally Not a copy\n",
    "s = 'foobar'\n",
    "t = s[:]"
   ]
  },
  {
   "cell_type": "code",
   "execution_count": 53,
   "id": "3aad2e83-b009-4fbf-a64f-0f1349d76798",
   "metadata": {},
   "outputs": [
    {
     "data": {
      "text/plain": [
       "1520843556592"
      ]
     },
     "execution_count": 53,
     "metadata": {},
     "output_type": "execute_result"
    }
   ],
   "source": [
    "# id of s\n",
    "id(s)"
   ]
  },
  {
   "cell_type": "code",
   "execution_count": 54,
   "id": "bc599481-8069-4cf2-91eb-f8dd8b113cc7",
   "metadata": {},
   "outputs": [
    {
     "data": {
      "text/plain": [
       "1520843556592"
      ]
     },
     "execution_count": 54,
     "metadata": {},
     "output_type": "execute_result"
    }
   ],
   "source": [
    "# id of t\n",
    "# They point to the same object\n",
    "id(t)"
   ]
  },
  {
   "cell_type": "code",
   "execution_count": 55,
   "id": "9f4b2604-e0d1-41ca-b2dc-0c94e315b31d",
   "metadata": {},
   "outputs": [
    {
     "data": {
      "text/plain": [
       "True"
      ]
     },
     "execution_count": 55,
     "metadata": {},
     "output_type": "execute_result"
    }
   ],
   "source": [
    "# verify if they are referring to the same object\n",
    "s is t"
   ]
  },
  {
   "cell_type": "markdown",
   "id": "e5ac4c6d-a0ef-4d9a-ba22-b8355ffef83b",
   "metadata": {},
   "source": [
    "If the first index is greater than or equal to the second index, Python returns an empty string."
   ]
  },
  {
   "cell_type": "code",
   "execution_count": 56,
   "id": "4fa92c75-3b55-4fc4-9739-a9452fe01257",
   "metadata": {},
   "outputs": [
    {
     "data": {
      "text/plain": [
       "''"
      ]
     },
     "execution_count": 56,
     "metadata": {},
     "output_type": "execute_result"
    }
   ],
   "source": [
    "s[2:2]"
   ]
  },
  {
   "cell_type": "code",
   "execution_count": 57,
   "id": "eb2a942b-2068-4730-b14f-c3d00fe37202",
   "metadata": {},
   "outputs": [
    {
     "data": {
      "text/plain": [
       "''"
      ]
     },
     "execution_count": 57,
     "metadata": {},
     "output_type": "execute_result"
    }
   ],
   "source": [
    "s[4:2]"
   ]
  },
  {
   "cell_type": "code",
   "execution_count": 58,
   "id": "b397ec2e-ecd3-4797-bd62-19c6b6f46f81",
   "metadata": {},
   "outputs": [
    {
     "data": {
      "text/plain": [
       "'oob'"
      ]
     },
     "execution_count": 58,
     "metadata": {},
     "output_type": "execute_result"
    }
   ],
   "source": [
    "# can also use negative indices\n",
    "s = 'foobar'\n",
    "s[-5:-2]"
   ]
  },
  {
   "cell_type": "code",
   "execution_count": 59,
   "id": "2eef77c0-a77a-4802-8015-45e955f82941",
   "metadata": {},
   "outputs": [
    {
     "data": {
      "text/plain": [
       "'oob'"
      ]
     },
     "execution_count": 59,
     "metadata": {},
     "output_type": "execute_result"
    }
   ],
   "source": [
    "s[1:4]"
   ]
  },
  {
   "cell_type": "code",
   "execution_count": 60,
   "id": "211bcfd9-9d2e-46fc-8803-a533f90c79ed",
   "metadata": {},
   "outputs": [
    {
     "data": {
      "text/plain": [
       "True"
      ]
     },
     "execution_count": 60,
     "metadata": {},
     "output_type": "execute_result"
    }
   ],
   "source": [
    "s[-5:-2] == s[1:4]"
   ]
  },
  {
   "cell_type": "markdown",
   "id": "70bd1f32-7d3f-45dc-8f6a-a2e278703532",
   "metadata": {},
   "source": [
    "## Specifying a Stride(step) in a String Slice\n",
    "Adding an additional `:` and a third index designates a stride (also called a step)."
   ]
  },
  {
   "cell_type": "code",
   "execution_count": 62,
   "id": "b4fe305d-55ce-480b-bc98-f24d74a7c86a",
   "metadata": {},
   "outputs": [],
   "source": [
    "s = 'foobar'"
   ]
  },
  {
   "cell_type": "code",
   "execution_count": 63,
   "id": "d9bed7a5-aa48-4ce7-9a3e-b8fbef10471a",
   "metadata": {},
   "outputs": [
    {
     "data": {
      "text/plain": [
       "'foa'"
      ]
     },
     "execution_count": 63,
     "metadata": {},
     "output_type": "execute_result"
    }
   ],
   "source": [
    "s[0:6:2]"
   ]
  },
  {
   "cell_type": "code",
   "execution_count": 64,
   "id": "b9fef547-5c8b-4387-83b3-c450e3c74b0b",
   "metadata": {},
   "outputs": [
    {
     "data": {
      "text/plain": [
       "'obr'"
      ]
     },
     "execution_count": 64,
     "metadata": {},
     "output_type": "execute_result"
    }
   ],
   "source": [
    "s[1:6:2]"
   ]
  },
  {
   "cell_type": "code",
   "execution_count": 65,
   "id": "ea54fcac-1e75-4246-81f8-cd02534011fc",
   "metadata": {},
   "outputs": [
    {
     "data": {
      "text/plain": [
       "'1234512345123451234512345'"
      ]
     },
     "execution_count": 65,
     "metadata": {},
     "output_type": "execute_result"
    }
   ],
   "source": [
    "# the first and second indeces can be omitted\n",
    "s = '12345' * 5\n",
    "s"
   ]
  },
  {
   "cell_type": "code",
   "execution_count": 66,
   "id": "f96c00ca-e433-4fce-b406-fa06f91e2892",
   "metadata": {},
   "outputs": [
    {
     "data": {
      "text/plain": [
       "'11111'"
      ]
     },
     "execution_count": 66,
     "metadata": {},
     "output_type": "execute_result"
    }
   ],
   "source": [
    "s[::5]"
   ]
  },
  {
   "cell_type": "code",
   "execution_count": 67,
   "id": "51338f92-ed10-4bdd-aa26-8cfdddcf4976",
   "metadata": {},
   "outputs": [
    {
     "data": {
      "text/plain": [
       "'55555'"
      ]
     },
     "execution_count": 67,
     "metadata": {},
     "output_type": "execute_result"
    }
   ],
   "source": [
    "s[4::5]"
   ]
  },
  {
   "cell_type": "markdown",
   "id": "0ad32a3d-d852-4f77-a849-5b38cf636129",
   "metadata": {},
   "source": [
    "You can also specify a negative stride value, in which case Python steps backward. In that case, the first index should be greater than the second index."
   ]
  },
  {
   "cell_type": "code",
   "execution_count": 69,
   "id": "11b2ae4b-56af-490f-be93-25a01814a164",
   "metadata": {},
   "outputs": [
    {
     "data": {
      "text/plain": [
       "''"
      ]
     },
     "execution_count": 69,
     "metadata": {},
     "output_type": "execute_result"
    }
   ],
   "source": [
    "s = 'foobar'\n",
    "\n",
    "s[5:0] # this returns empty string"
   ]
  },
  {
   "cell_type": "code",
   "execution_count": 70,
   "id": "8547b0ae-899f-4bc1-aaf5-d212a7a517d2",
   "metadata": {},
   "outputs": [
    {
     "data": {
      "text/plain": [
       "'rbo'"
      ]
     },
     "execution_count": 70,
     "metadata": {},
     "output_type": "execute_result"
    }
   ],
   "source": [
    "# this returns a strided string\n",
    "s[5:0:-2]"
   ]
  },
  {
   "cell_type": "code",
   "execution_count": 71,
   "id": "a319386c-f47f-49ec-904c-17772851fe43",
   "metadata": {},
   "outputs": [
    {
     "data": {
      "text/plain": [
       "'1234512345123451234512345'"
      ]
     },
     "execution_count": 71,
     "metadata": {},
     "output_type": "execute_result"
    }
   ],
   "source": [
    "s = '12345' * 5\n",
    "s"
   ]
  },
  {
   "cell_type": "markdown",
   "id": "10969572-34fd-4e9e-89d2-13edc268952b",
   "metadata": {},
   "source": [
    "When the first and second indices are omitted, the first index defaults to the end of the string, and the second index defaults to the beginning. \n"
   ]
  },
  {
   "cell_type": "code",
   "execution_count": 72,
   "id": "e09a6f04-c907-494e-bdce-794aa101e0e7",
   "metadata": {},
   "outputs": [
    {
     "data": {
      "text/plain": [
       "'55555'"
      ]
     },
     "execution_count": 72,
     "metadata": {},
     "output_type": "execute_result"
    }
   ],
   "source": [
    "s[::-5]"
   ]
  },
  {
   "cell_type": "code",
   "execution_count": 73,
   "id": "b542fb15-fa35-41ef-a247-802ad72ebceb",
   "metadata": {},
   "outputs": [
    {
     "data": {
      "text/plain": [
       "'.thgir eb tsum ti ,ti syas noelopaN edarmoC fI'"
      ]
     },
     "execution_count": 73,
     "metadata": {},
     "output_type": "execute_result"
    }
   ],
   "source": [
    "# a commin paradigm for reversing a string\n",
    "s = 'If Comrade Napoleon says it, it must be right.'\n",
    "s[::-1]"
   ]
  },
  {
   "cell_type": "markdown",
   "id": "356001a0-6c83-49ce-88c0-2628b5dee7e9",
   "metadata": {},
   "source": [
    "## Interpolating Variables Into a String \n",
    "\n",
    "A new string formatting mechanism was introduced in Python 3.6. It is formally named Formatted String Literal or more usually referred to as f-string.\n",
    "- specify either a lowercase _f_ or uppercase _F_ directly before the opening quote of the string literal. This tells Python it is an _f_-string instead of a standard string.\n",
    "- Specify any variables to be interplolated in curly braces {}"
   ]
  },
  {
   "cell_type": "code",
   "execution_count": 74,
   "id": "7377b6f0-b2d1-4bd0-8307-9174e952d4a3",
   "metadata": {},
   "outputs": [
    {
     "name": "stdout",
     "output_type": "stream",
     "text": [
      "The product of 20 and 25 is 500\n"
     ]
    }
   ],
   "source": [
    "n = 20\n",
    "m = 25\n",
    "prod = n * m\n",
    "print('The product of', n, 'and', m, 'is', prod)"
   ]
  },
  {
   "cell_type": "code",
   "execution_count": 75,
   "id": "1e913242-6495-4ed9-8fee-d8d752de65d2",
   "metadata": {},
   "outputs": [
    {
     "name": "stdout",
     "output_type": "stream",
     "text": [
      "The product of 20 and 25 is 500\n"
     ]
    }
   ],
   "source": [
    "# compare above method with this f-string method\n",
    "# this is much cleaner\n",
    "n = 20\n",
    "m = 25\n",
    "prod = n * m\n",
    "print(f'The product of {n} and {m} is {prod}')"
   ]
  },
  {
   "cell_type": "markdown",
   "id": "9031e65a-c4fa-4a0b-81b6-7014be3c8888",
   "metadata": {},
   "source": [
    "Any of Python's three quoting ways can be used to define an *f*-string.\n"
   ]
  },
  {
   "cell_type": "code",
   "execution_count": 80,
   "id": "2076835b-1c86-4da0-9c25-85e5ae8d15d4",
   "metadata": {},
   "outputs": [],
   "source": [
    "var = 'Bark'"
   ]
  },
  {
   "cell_type": "code",
   "execution_count": 77,
   "id": "ed8b2ff1-0a84-4d9c-92e0-87d39fc66aff",
   "metadata": {},
   "outputs": [
    {
     "name": "stdout",
     "output_type": "stream",
     "text": [
      "A dog says Bark!\n"
     ]
    }
   ],
   "source": [
    "print(f'A dog says {var}!')"
   ]
  },
  {
   "cell_type": "code",
   "execution_count": 78,
   "id": "59723c77-2ddc-43e4-ba7b-215f3589b2cd",
   "metadata": {},
   "outputs": [
    {
     "name": "stdout",
     "output_type": "stream",
     "text": [
      "A dog says Bark!\n"
     ]
    }
   ],
   "source": [
    "print(f\"A dog says {var}!\")"
   ]
  },
  {
   "cell_type": "code",
   "execution_count": 79,
   "id": "06771cc0-7dda-40af-a030-80c4f429948e",
   "metadata": {},
   "outputs": [
    {
     "name": "stdout",
     "output_type": "stream",
     "text": [
      "A dog says Bark!\n"
     ]
    }
   ],
   "source": [
    "print(f'''A dog says {var}!''')"
   ]
  },
  {
   "cell_type": "markdown",
   "id": "d14942a8-92f6-45e2-ad95-9b3ee4acb8ab",
   "metadata": {},
   "source": [
    "## Modifying Strings"
   ]
  },
  {
   "cell_type": "code",
   "execution_count": 81,
   "id": "b14bece0-990d-4bc3-9d6a-dabc90ac5182",
   "metadata": {},
   "outputs": [
    {
     "ename": "TypeError",
     "evalue": "'str' object does not support item assignment",
     "output_type": "error",
     "traceback": [
      "\u001b[1;31m---------------------------------------------------------------------------\u001b[0m",
      "\u001b[1;31mTypeError\u001b[0m                                 Traceback (most recent call last)",
      "\u001b[1;32m<ipython-input-81-589c32513b82>\u001b[0m in \u001b[0;36m<module>\u001b[1;34m\u001b[0m\n\u001b[0;32m      1\u001b[0m \u001b[0ms\u001b[0m \u001b[1;33m=\u001b[0m \u001b[1;34m'foobar'\u001b[0m\u001b[1;33m\u001b[0m\u001b[1;33m\u001b[0m\u001b[0m\n\u001b[1;32m----> 2\u001b[1;33m \u001b[0ms\u001b[0m\u001b[1;33m[\u001b[0m\u001b[1;36m3\u001b[0m\u001b[1;33m]\u001b[0m \u001b[1;33m=\u001b[0m \u001b[1;34m'x'\u001b[0m\u001b[1;33m\u001b[0m\u001b[1;33m\u001b[0m\u001b[0m\n\u001b[0m",
      "\u001b[1;31mTypeError\u001b[0m: 'str' object does not support item assignment"
     ]
    }
   ],
   "source": [
    "# strings are immutable\n",
    "s = 'foobar'\n",
    "s[3] = 'x'"
   ]
  },
  {
   "cell_type": "code",
   "execution_count": 82,
   "id": "76898a37-1b21-4028-b7f1-fa90d2d42ff6",
   "metadata": {},
   "outputs": [
    {
     "data": {
      "text/plain": [
       "'fooxar'"
      ]
     },
     "execution_count": 82,
     "metadata": {},
     "output_type": "execute_result"
    }
   ],
   "source": [
    "# there isn't much need to modify strings\n",
    "# you can easily accomplish what yo want by this\n",
    "s = s[:3] + 'x' + s[4:]\n",
    "s"
   ]
  },
  {
   "cell_type": "code",
   "execution_count": 83,
   "id": "4c5ddcd7-42b1-41ff-98ee-ab4e8451653c",
   "metadata": {},
   "outputs": [
    {
     "data": {
      "text/plain": [
       "'fooxar'"
      ]
     },
     "execution_count": 83,
     "metadata": {},
     "output_type": "execute_result"
    }
   ],
   "source": [
    "# or use built-in method\n",
    "s = 'foobar'\n",
    "s = s.replace('b', 'x')\n",
    "s"
   ]
  },
  {
   "cell_type": "markdown",
   "id": "3dcf9f1f-9209-4287-acaf-970d4b64aaa0",
   "metadata": {},
   "source": [
    "## Built-in String Methods"
   ]
  },
  {
   "cell_type": "markdown",
   "id": "c5207c19-1b10-4de6-88d0-9d087a2b709b",
   "metadata": {},
   "source": [
    "### Case Conversion"
   ]
  },
  {
   "cell_type": "markdown",
   "id": "9053c00b-89ad-4215-b19e-0bc8791833ce",
   "metadata": {},
   "source": [
    "#### `s.capitalize()`\n",
    "Capitalizes the target string (with the first character converted to uppercase only)."
   ]
  },
  {
   "cell_type": "code",
   "execution_count": 84,
   "id": "7d77b138-850a-4563-9c36-22fbe9e4b30f",
   "metadata": {},
   "outputs": [
    {
     "data": {
      "text/plain": [
       "'Foo bar baz qux'"
      ]
     },
     "execution_count": 84,
     "metadata": {},
     "output_type": "execute_result"
    }
   ],
   "source": [
    "s = 'foO BaR BAZ quX'\n",
    "s.capitalize()"
   ]
  },
  {
   "cell_type": "code",
   "execution_count": 85,
   "id": "9ecc7f56-7ed6-40a3-b3d8-fd50e7fa203c",
   "metadata": {},
   "outputs": [
    {
     "data": {
      "text/plain": [
       "'Foo123#bar#.'"
      ]
     },
     "execution_count": 85,
     "metadata": {},
     "output_type": "execute_result"
    }
   ],
   "source": [
    "# non-alphabetic characters are unchanged\n",
    "s = 'foo123#BAR#.'\n",
    "s.capitalize()"
   ]
  },
  {
   "cell_type": "markdown",
   "id": "428ca864-0480-4a4f-ba47-733dc56bcaac",
   "metadata": {},
   "source": [
    "#### `s.lower()`\n",
    "Converts alphabetic characters to lowercase."
   ]
  },
  {
   "cell_type": "code",
   "execution_count": 86,
   "id": "667d0f72-8fc8-4b42-95be-ffb9c2645b22",
   "metadata": {},
   "outputs": [
    {
     "data": {
      "text/plain": [
       "'foo bar 123 baz qux'"
      ]
     },
     "execution_count": 86,
     "metadata": {},
     "output_type": "execute_result"
    }
   ],
   "source": [
    "'FOO Bar 123 baz qUX'.lower()"
   ]
  },
  {
   "cell_type": "markdown",
   "id": "adb4ea3d-6b3d-4500-8506-1cc62d42eb48",
   "metadata": {},
   "source": [
    "#### `s.swapcase()`\n",
    "Swaps case of alphabetic characters."
   ]
  },
  {
   "cell_type": "code",
   "execution_count": 87,
   "id": "6d5c1daf-c98d-4bb4-937b-d3aaf2f34969",
   "metadata": {},
   "outputs": [
    {
     "data": {
      "text/plain": [
       "'foo bAR 123 BAZ Qux'"
      ]
     },
     "execution_count": 87,
     "metadata": {},
     "output_type": "execute_result"
    }
   ],
   "source": [
    "'FOO Bar 123 baz qUX'.swapcase()"
   ]
  },
  {
   "cell_type": "markdown",
   "id": "161c20b7-c109-4f81-b234-68e6ae6f1ff2",
   "metadata": {},
   "source": [
    "#### `s.title()`\n",
    "\n",
    "Converts the target string to “title case.”"
   ]
  },
  {
   "cell_type": "code",
   "execution_count": 89,
   "id": "9dd9c5c1-2908-4685-b833-c00dd91fc5c7",
   "metadata": {},
   "outputs": [
    {
     "data": {
      "text/plain": [
       "'The Sun Also Rises'"
      ]
     },
     "execution_count": 89,
     "metadata": {},
     "output_type": "execute_result"
    }
   ],
   "source": [
    "'the sun also rises'.title()"
   ]
  },
  {
   "cell_type": "markdown",
   "id": "9f5a5ce2-a590-4826-8c69-b048b018d518",
   "metadata": {},
   "source": [
    "#### `s.upper()`\n",
    "\n",
    "Converts alphabetic characters to uppercase."
   ]
  },
  {
   "cell_type": "code",
   "execution_count": 90,
   "id": "9dc4288f-0cd9-434d-8c6d-e586ba0089bf",
   "metadata": {},
   "outputs": [
    {
     "data": {
      "text/plain": [
       "'FOO BAR 123 BAZ QUX'"
      ]
     },
     "execution_count": 90,
     "metadata": {},
     "output_type": "execute_result"
    }
   ],
   "source": [
    "'FOO Bar 123 baz qUX'.upper()"
   ]
  },
  {
   "cell_type": "markdown",
   "id": "febe41f2-0125-4ce6-ab7b-ae2116e2e721",
   "metadata": {},
   "source": [
    "### Find and Replace\n",
    "Each method in this group supports optional \\<start\\> and \\<end\\> arguments, interpreted as for string slicing and following the rule of string slicing."
   ]
  },
  {
   "cell_type": "markdown",
   "id": "81e1e6a5-04c1-4ab6-82b3-a973473a1755",
   "metadata": {},
   "source": [
    "#### `s.count(<sub>[, <start>[, <end>]])`\n",
    "\n",
    "Counts occurrences of a substring in the target string."
   ]
  },
  {
   "cell_type": "code",
   "execution_count": 91,
   "id": "1708d267-337b-46c2-b09b-2e809e99e98b",
   "metadata": {},
   "outputs": [
    {
     "data": {
      "text/plain": [
       "3"
      ]
     },
     "execution_count": 91,
     "metadata": {},
     "output_type": "execute_result"
    }
   ],
   "source": [
    "'foo goo moo'.count('oo')"
   ]
  },
  {
   "cell_type": "code",
   "execution_count": 92,
   "id": "f69197f4-963b-410b-ad42-67fa0a93fc35",
   "metadata": {},
   "outputs": [
    {
     "data": {
      "text/plain": [
       "2"
      ]
     },
     "execution_count": 92,
     "metadata": {},
     "output_type": "execute_result"
    }
   ],
   "source": [
    "# restrict the search by setting indices\n",
    "'foo goo moo'.count('oo', 0, 8)"
   ]
  },
  {
   "cell_type": "markdown",
   "id": "7d4dc4ce-a23a-47aa-a602-f6f3e3387982",
   "metadata": {},
   "source": [
    "#### `s.endswith(<suffix>[, <start>[, <end>]])`\n",
    "\n",
    "Determines whether the target string ends with a given substring."
   ]
  },
  {
   "cell_type": "code",
   "execution_count": 93,
   "id": "2786fb02-47d1-4171-8adf-04a7a798bf1f",
   "metadata": {},
   "outputs": [
    {
     "data": {
      "text/plain": [
       "True"
      ]
     },
     "execution_count": 93,
     "metadata": {},
     "output_type": "execute_result"
    }
   ],
   "source": [
    "'foobar'.endswith('bar')"
   ]
  },
  {
   "cell_type": "code",
   "execution_count": 94,
   "id": "727b6dd4-e70f-4a16-910a-e4d97a17a5ef",
   "metadata": {},
   "outputs": [
    {
     "data": {
      "text/plain": [
       "False"
      ]
     },
     "execution_count": 94,
     "metadata": {},
     "output_type": "execute_result"
    }
   ],
   "source": [
    "'foobar'.endswith('baz')"
   ]
  },
  {
   "cell_type": "code",
   "execution_count": 95,
   "id": "d871653d-71f2-488b-8810-2e33a15e2253",
   "metadata": {},
   "outputs": [
    {
     "data": {
      "text/plain": [
       "True"
      ]
     },
     "execution_count": 95,
     "metadata": {},
     "output_type": "execute_result"
    }
   ],
   "source": [
    "'foobar'.endswith('oob', 0, 4)"
   ]
  },
  {
   "cell_type": "code",
   "execution_count": 96,
   "id": "ddf8bea5-7032-4c71-9ed3-163208fe1929",
   "metadata": {},
   "outputs": [
    {
     "data": {
      "text/plain": [
       "False"
      ]
     },
     "execution_count": 96,
     "metadata": {},
     "output_type": "execute_result"
    }
   ],
   "source": [
    "'foobar'.endswith('oob', 2, 4)"
   ]
  },
  {
   "cell_type": "markdown",
   "id": "9b55d03e-bbe8-4288-9563-1bb6987df7fb",
   "metadata": {},
   "source": [
    "#### `s.find(<sub>[, <start>[, <end>]])`\n",
    "\n",
    "Searches the target string for a given substring. It returns the lowest index in s where substring \\<sub\\> is found. And it returns -1 if nothing have been found."
   ]
  },
  {
   "cell_type": "code",
   "execution_count": 97,
   "id": "6a533f7d-cf00-4aaf-9829-5cf537b87b36",
   "metadata": {},
   "outputs": [
    {
     "data": {
      "text/plain": [
       "0"
      ]
     },
     "execution_count": 97,
     "metadata": {},
     "output_type": "execute_result"
    }
   ],
   "source": [
    "'foo bar foo baz foo qux'.find('foo')"
   ]
  },
  {
   "cell_type": "code",
   "execution_count": 98,
   "id": "955eb9fc-1fb3-4ca0-8834-34a002fe4726",
   "metadata": {},
   "outputs": [
    {
     "data": {
      "text/plain": [
       "-1"
      ]
     },
     "execution_count": 98,
     "metadata": {},
     "output_type": "execute_result"
    }
   ],
   "source": [
    "'foo bar foo baz foo qux'.find('grault')"
   ]
  },
  {
   "cell_type": "code",
   "execution_count": 101,
   "id": "d573474a-e4a1-421c-8394-1c1eddb36d78",
   "metadata": {},
   "outputs": [
    {
     "data": {
      "text/plain": [
       "8"
      ]
     },
     "execution_count": 101,
     "metadata": {},
     "output_type": "execute_result"
    }
   ],
   "source": [
    "'foo bar foo baz foo qux'.find('foo', 4)"
   ]
  },
  {
   "cell_type": "code",
   "execution_count": 102,
   "id": "dc53b1db-3419-4fa3-8e85-c859dc2320df",
   "metadata": {},
   "outputs": [
    {
     "data": {
      "text/plain": [
       "-1"
      ]
     },
     "execution_count": 102,
     "metadata": {},
     "output_type": "execute_result"
    }
   ],
   "source": [
    "'foo bar foo baz foo qux'.find('foo', 4, 7)"
   ]
  },
  {
   "cell_type": "markdown",
   "id": "35b4e8e6-b57e-41d3-b6bc-4abb495df150",
   "metadata": {},
   "source": [
    "#### `s.index(<sub>[, <start>[, <end>]])`\n",
    "\n",
    "Searches the target string for a given substring.\n",
    "This method is identical to `.find()`, except that it raises an exception if \\<sub\\> is not found rather than returning -1."
   ]
  },
  {
   "cell_type": "code",
   "execution_count": 103,
   "id": "df270671-b980-4478-9fb6-7499ff1878d3",
   "metadata": {},
   "outputs": [
    {
     "ename": "ValueError",
     "evalue": "substring not found",
     "output_type": "error",
     "traceback": [
      "\u001b[1;31m---------------------------------------------------------------------------\u001b[0m",
      "\u001b[1;31mValueError\u001b[0m                                Traceback (most recent call last)",
      "\u001b[1;32m<ipython-input-103-00d42de8bb3d>\u001b[0m in \u001b[0;36m<module>\u001b[1;34m\u001b[0m\n\u001b[1;32m----> 1\u001b[1;33m \u001b[1;34m'foo bar foo baz foo qux'\u001b[0m\u001b[1;33m.\u001b[0m\u001b[0mindex\u001b[0m\u001b[1;33m(\u001b[0m\u001b[1;34m'grault'\u001b[0m\u001b[1;33m)\u001b[0m\u001b[1;33m\u001b[0m\u001b[1;33m\u001b[0m\u001b[0m\n\u001b[0m",
      "\u001b[1;31mValueError\u001b[0m: substring not found"
     ]
    }
   ],
   "source": [
    "'foo bar foo baz foo qux'.index('grault')"
   ]
  },
  {
   "cell_type": "markdown",
   "id": "ce978b72-0aeb-416c-8cc0-3c2172b0cfca",
   "metadata": {},
   "source": [
    "#### `s.rfind(<sub>[, <start>[, <end>]])`\n",
    "Searches the target string for a given substring starting at the end. It returns the highest index in s where substring \\<sub\\> is found."
   ]
  },
  {
   "cell_type": "code",
   "execution_count": 104,
   "id": "fbda9847-afd9-40c8-a669-e85abac22375",
   "metadata": {},
   "outputs": [
    {
     "data": {
      "text/plain": [
       "16"
      ]
     },
     "execution_count": 104,
     "metadata": {},
     "output_type": "execute_result"
    }
   ],
   "source": [
    "'foo bar foo baz foo qux'.rfind('foo')"
   ]
  },
  {
   "cell_type": "code",
   "execution_count": 105,
   "id": "83492475-681c-483c-934d-76a31f41c574",
   "metadata": {},
   "outputs": [
    {
     "data": {
      "text/plain": [
       "-1"
      ]
     },
     "execution_count": 105,
     "metadata": {},
     "output_type": "execute_result"
    }
   ],
   "source": [
    "'foo bar foo baz foo qux'.rfind('grault')"
   ]
  },
  {
   "cell_type": "code",
   "execution_count": 106,
   "id": "5c1a902b-7023-4e72-8b13-cc9b02cbac83",
   "metadata": {},
   "outputs": [
    {
     "data": {
      "text/plain": [
       "8"
      ]
     },
     "execution_count": 106,
     "metadata": {},
     "output_type": "execute_result"
    }
   ],
   "source": [
    "'foo bar foo baz foo qux'.rfind('foo', 0, 14)"
   ]
  },
  {
   "cell_type": "code",
   "execution_count": 107,
   "id": "0fae27de-8455-4c5e-b480-09079e6e252a",
   "metadata": {},
   "outputs": [
    {
     "data": {
      "text/plain": [
       "-1"
      ]
     },
     "execution_count": 107,
     "metadata": {},
     "output_type": "execute_result"
    }
   ],
   "source": [
    "'foo bar foo baz foo qux'.rfind('foo', 10, 14)"
   ]
  },
  {
   "cell_type": "markdown",
   "id": "82b87b95-b0f6-4df1-88fc-49a18dde5468",
   "metadata": {},
   "source": [
    "#### `s.rindex(<sub>[, <start>[, <end>]])`\n",
    "\n",
    "Searches the target string for a given substring starting at the end.\n",
    "\n",
    "This method is identical to `.rfind()`, except that it raises an exception if \\<sub\\> is not found rather than returning -1."
   ]
  },
  {
   "cell_type": "code",
   "execution_count": 108,
   "id": "f8577074-a37a-47b5-b6e6-bbeeb7fb7a52",
   "metadata": {},
   "outputs": [
    {
     "ename": "ValueError",
     "evalue": "substring not found",
     "output_type": "error",
     "traceback": [
      "\u001b[1;31m---------------------------------------------------------------------------\u001b[0m",
      "\u001b[1;31mValueError\u001b[0m                                Traceback (most recent call last)",
      "\u001b[1;32m<ipython-input-108-7707dea6100b>\u001b[0m in \u001b[0;36m<module>\u001b[1;34m\u001b[0m\n\u001b[1;32m----> 1\u001b[1;33m \u001b[1;34m'foo bar foo baz foo qux'\u001b[0m\u001b[1;33m.\u001b[0m\u001b[0mrindex\u001b[0m\u001b[1;33m(\u001b[0m\u001b[1;34m'grault'\u001b[0m\u001b[1;33m)\u001b[0m\u001b[1;33m\u001b[0m\u001b[1;33m\u001b[0m\u001b[0m\n\u001b[0m",
      "\u001b[1;31mValueError\u001b[0m: substring not found"
     ]
    }
   ],
   "source": [
    "'foo bar foo baz foo qux'.rindex('grault')"
   ]
  },
  {
   "cell_type": "markdown",
   "id": "9ef9a1d1-69cd-478a-9265-e461d324fd5e",
   "metadata": {},
   "source": [
    "#### `s.startswith(<prefix>[, <start>[, <end>]])`\n",
    "\n",
    "Determines whether the target string starts with a given substring."
   ]
  },
  {
   "cell_type": "code",
   "execution_count": 109,
   "id": "f497d3a1-a39a-4637-ba07-c8d4ce26cda4",
   "metadata": {},
   "outputs": [
    {
     "data": {
      "text/plain": [
       "True"
      ]
     },
     "execution_count": 109,
     "metadata": {},
     "output_type": "execute_result"
    }
   ],
   "source": [
    "'foobar'.startswith('foo')"
   ]
  },
  {
   "cell_type": "code",
   "execution_count": 110,
   "id": "d15f5b10-22e8-49b0-9b0a-86aceda30ee0",
   "metadata": {},
   "outputs": [
    {
     "data": {
      "text/plain": [
       "False"
      ]
     },
     "execution_count": 110,
     "metadata": {},
     "output_type": "execute_result"
    }
   ],
   "source": [
    "'foobar'.startswith('bar')"
   ]
  },
  {
   "cell_type": "code",
   "execution_count": 111,
   "id": "82d36758-53f8-4726-8db3-9d66ac915555",
   "metadata": {},
   "outputs": [
    {
     "data": {
      "text/plain": [
       "True"
      ]
     },
     "execution_count": 111,
     "metadata": {},
     "output_type": "execute_result"
    }
   ],
   "source": [
    "'foobar'.startswith('bar', 3)"
   ]
  },
  {
   "cell_type": "code",
   "execution_count": 112,
   "id": "f6823632-e344-4ee3-9aa6-e06fef416930",
   "metadata": {},
   "outputs": [
    {
     "data": {
      "text/plain": [
       "False"
      ]
     },
     "execution_count": 112,
     "metadata": {},
     "output_type": "execute_result"
    }
   ],
   "source": [
    "'foobar'.startswith('bar', 3, 2)"
   ]
  },
  {
   "cell_type": "markdown",
   "id": "1752b11e-413e-4959-93a1-6ed3d7bacff1",
   "metadata": {},
   "source": [
    "### Character Classification\n",
    "Methods in this group classify a string based on the characters it contains.\n",
    "\n"
   ]
  },
  {
   "cell_type": "markdown",
   "id": "f5af6ce4-b9e5-4eea-8571-467584d708e7",
   "metadata": {},
   "source": [
    "#### `s.isalnum()`\n",
    "\n",
    "Determines whether the target string consists of alphanumeric characters."
   ]
  },
  {
   "cell_type": "code",
   "execution_count": 114,
   "id": "2a4ed890-222b-4b12-8b8f-d8cb87622c4d",
   "metadata": {},
   "outputs": [
    {
     "data": {
      "text/plain": [
       "True"
      ]
     },
     "execution_count": 114,
     "metadata": {},
     "output_type": "execute_result"
    }
   ],
   "source": [
    "'abc123'.isalnum()"
   ]
  },
  {
   "cell_type": "code",
   "execution_count": 115,
   "id": "5d4bc708-27b2-4194-a885-d3169caf3602",
   "metadata": {},
   "outputs": [
    {
     "data": {
      "text/plain": [
       "False"
      ]
     },
     "execution_count": 115,
     "metadata": {},
     "output_type": "execute_result"
    }
   ],
   "source": [
    "'abc$123'.isalnum()"
   ]
  },
  {
   "cell_type": "code",
   "execution_count": 116,
   "id": "2ce1e179-58b9-4dbb-9009-7015c2b9b3d0",
   "metadata": {},
   "outputs": [
    {
     "data": {
      "text/plain": [
       "False"
      ]
     },
     "execution_count": 116,
     "metadata": {},
     "output_type": "execute_result"
    }
   ],
   "source": [
    "''.isalnum()"
   ]
  },
  {
   "cell_type": "markdown",
   "id": "ec772b16-e44a-4575-9e3d-d90490675b24",
   "metadata": {},
   "source": [
    "#### `s.isalpha()`\n",
    "\n",
    "Determines whether the target string consists of alphabetic characters."
   ]
  },
  {
   "cell_type": "code",
   "execution_count": 117,
   "id": "bbe828f3-d836-4499-a1d0-d30ec65851ce",
   "metadata": {},
   "outputs": [
    {
     "data": {
      "text/plain": [
       "True"
      ]
     },
     "execution_count": 117,
     "metadata": {},
     "output_type": "execute_result"
    }
   ],
   "source": [
    "'ABCabc'.isalpha()"
   ]
  },
  {
   "cell_type": "code",
   "execution_count": 118,
   "id": "15146396-c90f-4400-bbb8-b87614434e6e",
   "metadata": {},
   "outputs": [
    {
     "data": {
      "text/plain": [
       "False"
      ]
     },
     "execution_count": 118,
     "metadata": {},
     "output_type": "execute_result"
    }
   ],
   "source": [
    "'abc123'.isalpha()"
   ]
  },
  {
   "cell_type": "markdown",
   "id": "cbe23fb7-23f4-496d-b90f-e5ce893fb8e7",
   "metadata": {},
   "source": [
    "#### `s.isdigit()`\n",
    "\n",
    "Determines whether the target string consists of digit characters."
   ]
  },
  {
   "cell_type": "code",
   "execution_count": 119,
   "id": "1f4abc1b-c5fb-41eb-a842-3b2614c7b879",
   "metadata": {},
   "outputs": [
    {
     "data": {
      "text/plain": [
       "True"
      ]
     },
     "execution_count": 119,
     "metadata": {},
     "output_type": "execute_result"
    }
   ],
   "source": [
    "'123'.isdigit()"
   ]
  },
  {
   "cell_type": "code",
   "execution_count": 120,
   "id": "13a19768-cdc9-4c8c-88a1-380096478ea8",
   "metadata": {},
   "outputs": [
    {
     "data": {
      "text/plain": [
       "False"
      ]
     },
     "execution_count": 120,
     "metadata": {},
     "output_type": "execute_result"
    }
   ],
   "source": [
    "'123abc'.isdigit()"
   ]
  },
  {
   "cell_type": "markdown",
   "id": "4b5149bc-0601-430d-924e-eddcba20dacb",
   "metadata": {},
   "source": [
    "#### `s.isidentifier()`\n",
    "\n",
    "Determines whether the target string is a valid Python identifier."
   ]
  },
  {
   "cell_type": "code",
   "execution_count": 121,
   "id": "03e61b63-c710-4389-b035-6301b87e2151",
   "metadata": {},
   "outputs": [
    {
     "data": {
      "text/plain": [
       "True"
      ]
     },
     "execution_count": 121,
     "metadata": {},
     "output_type": "execute_result"
    }
   ],
   "source": [
    "'foo32'.isidentifier()"
   ]
  },
  {
   "cell_type": "code",
   "execution_count": 122,
   "id": "c0dd2bad-5c0a-4dce-820f-d5c2b6e0888f",
   "metadata": {},
   "outputs": [
    {
     "data": {
      "text/plain": [
       "False"
      ]
     },
     "execution_count": 122,
     "metadata": {},
     "output_type": "execute_result"
    }
   ],
   "source": [
    "'32foo'.isidentifier()"
   ]
  },
  {
   "cell_type": "code",
   "execution_count": 123,
   "id": "f36a0e61-3acb-416e-8aeb-92f25d248260",
   "metadata": {},
   "outputs": [
    {
     "data": {
      "text/plain": [
       "False"
      ]
     },
     "execution_count": 123,
     "metadata": {},
     "output_type": "execute_result"
    }
   ],
   "source": [
    "'foo$32'.isidentifier()"
   ]
  },
  {
   "cell_type": "code",
   "execution_count": 124,
   "id": "f794a67f-4484-4619-87c0-60a267391d13",
   "metadata": {},
   "outputs": [
    {
     "data": {
      "text/plain": [
       "True"
      ]
     },
     "execution_count": 124,
     "metadata": {},
     "output_type": "execute_result"
    }
   ],
   "source": [
    "# it returns True even thought that would not actually be a valid identifier\n",
    "'and'.isidentifier()"
   ]
  },
  {
   "cell_type": "code",
   "execution_count": 125,
   "id": "b9fe8f14-6b63-49c5-842b-5d013e282893",
   "metadata": {},
   "outputs": [
    {
     "data": {
      "text/plain": [
       "True"
      ]
     },
     "execution_count": 125,
     "metadata": {},
     "output_type": "execute_result"
    }
   ],
   "source": [
    "# You can test if a string matches a Python keyword using iskeyword() function\n",
    "from keyword import iskeyword\n",
    "iskeyword('and')"
   ]
  },
  {
   "cell_type": "markdown",
   "id": "a45b9037-268a-4289-8d48-aba6e9ee2d82",
   "metadata": {},
   "source": [
    "You can use `isidentifier()` and `iskeyword()` to verify if a string could serve as a valid Python identifier."
   ]
  },
  {
   "cell_type": "markdown",
   "id": "f9b6b517-4c30-46f9-b1dc-456e082a5a86",
   "metadata": {},
   "source": [
    "#### `s.islower()`\n",
    "\n",
    "Determines whether the target string’s alphabetic characters are lowercase."
   ]
  },
  {
   "cell_type": "code",
   "execution_count": 126,
   "id": "4a40a5f9-f0f9-4b77-9534-54af07222333",
   "metadata": {},
   "outputs": [
    {
     "data": {
      "text/plain": [
       "True"
      ]
     },
     "execution_count": 126,
     "metadata": {},
     "output_type": "execute_result"
    }
   ],
   "source": [
    "'abc'.islower()"
   ]
  },
  {
   "cell_type": "code",
   "execution_count": 127,
   "id": "e70747de-5de8-47dd-aeaf-bdac445b8398",
   "metadata": {},
   "outputs": [
    {
     "data": {
      "text/plain": [
       "True"
      ]
     },
     "execution_count": 127,
     "metadata": {},
     "output_type": "execute_result"
    }
   ],
   "source": [
    "'abc1$d'.islower()"
   ]
  },
  {
   "cell_type": "code",
   "execution_count": 128,
   "id": "1a46a044-b9a3-4ed2-aa6e-6f0ca63065a7",
   "metadata": {},
   "outputs": [
    {
     "data": {
      "text/plain": [
       "False"
      ]
     },
     "execution_count": 128,
     "metadata": {},
     "output_type": "execute_result"
    }
   ],
   "source": [
    "'Abc1$D'.islower()"
   ]
  },
  {
   "cell_type": "markdown",
   "id": "53898e7d-1cb1-47c5-8869-6c86ac153717",
   "metadata": {},
   "source": [
    "#### `s.isprintable()`\n",
    "\n",
    "Determines whether the target string consists entirely of printable characters."
   ]
  },
  {
   "cell_type": "code",
   "execution_count": 130,
   "id": "7a35778a-69e9-414d-9381-c4baa796a506",
   "metadata": {},
   "outputs": [
    {
     "data": {
      "text/plain": [
       "False"
      ]
     },
     "execution_count": 130,
     "metadata": {},
     "output_type": "execute_result"
    }
   ],
   "source": [
    "'a\\tb'.isprintable()"
   ]
  },
  {
   "cell_type": "code",
   "execution_count": 131,
   "id": "76d643f3-234e-444b-99be-45f0ec246f83",
   "metadata": {},
   "outputs": [
    {
     "data": {
      "text/plain": [
       "True"
      ]
     },
     "execution_count": 131,
     "metadata": {},
     "output_type": "execute_result"
    }
   ],
   "source": [
    "'a b'.isprintable()"
   ]
  },
  {
   "cell_type": "code",
   "execution_count": 132,
   "id": "a7737fad-6155-450f-88e8-31ebfc08aba1",
   "metadata": {},
   "outputs": [
    {
     "data": {
      "text/plain": [
       "True"
      ]
     },
     "execution_count": 132,
     "metadata": {},
     "output_type": "execute_result"
    }
   ],
   "source": [
    "# this is the only .isxxx() method that return True for an empty string\n",
    "''.isprintable()"
   ]
  },
  {
   "cell_type": "code",
   "execution_count": 133,
   "id": "1cbaffc6-78aa-43b0-95eb-86bf0a8219ac",
   "metadata": {},
   "outputs": [
    {
     "data": {
      "text/plain": [
       "False"
      ]
     },
     "execution_count": 133,
     "metadata": {},
     "output_type": "execute_result"
    }
   ],
   "source": [
    "'a\\nb'.isprintable()"
   ]
  },
  {
   "cell_type": "markdown",
   "id": "1e66d696-9d6f-4528-8e0f-3d4845900c49",
   "metadata": {},
   "source": [
    "#### `s.isspace()`\n",
    "\n",
    "Determines whether the target string consists of whitespace characters. It returns True is s is nonempty and all characters are whitespace characters.\n",
    "\n",
    "The most commonly encountered whitespace characters are space ' ', tab '\\t', and newline '\\n'."
   ]
  },
  {
   "cell_type": "code",
   "execution_count": 134,
   "id": "6abdb550-4a6d-436b-949f-5324f283b4ef",
   "metadata": {},
   "outputs": [
    {
     "data": {
      "text/plain": [
       "True"
      ]
     },
     "execution_count": 134,
     "metadata": {},
     "output_type": "execute_result"
    }
   ],
   "source": [
    "' \\t \\n '.isspace()"
   ]
  },
  {
   "cell_type": "code",
   "execution_count": 135,
   "id": "a7b16e90-5f3e-4e86-af10-3a8cb5a44d76",
   "metadata": {},
   "outputs": [
    {
     "data": {
      "text/plain": [
       "False"
      ]
     },
     "execution_count": 135,
     "metadata": {},
     "output_type": "execute_result"
    }
   ],
   "source": [
    "'   a   '.isspace()"
   ]
  },
  {
   "cell_type": "markdown",
   "id": "7b68273e-a64d-4887-8bed-6668f4f1d562",
   "metadata": {},
   "source": [
    "A few other ASCII characters also qualify as whitespace. '\\f' and '\\r' are the escape sequences for the ASCII Form Feed and Carriage Return characters; '\\u2005' is the escape sequence for the Unicode Four-Per-Em Space."
   ]
  },
  {
   "cell_type": "code",
   "execution_count": 136,
   "id": "8ca87edd-36eb-40bd-9eaf-d2b437baec4d",
   "metadata": {},
   "outputs": [
    {
     "data": {
      "text/plain": [
       "True"
      ]
     },
     "execution_count": 136,
     "metadata": {},
     "output_type": "execute_result"
    }
   ],
   "source": [
    "\n",
    "'\\f\\u2005\\r'.isspace()"
   ]
  },
  {
   "cell_type": "markdown",
   "id": "305de2f0-0687-471a-91ca-7b3276dddd6c",
   "metadata": {},
   "source": [
    "#### `s.istitle()`\n",
    "\n",
    "Determines whether the target string is title cased."
   ]
  },
  {
   "cell_type": "code",
   "execution_count": 137,
   "id": "0f5106f6-aaed-4659-89ba-6bbb4c9f064a",
   "metadata": {},
   "outputs": [
    {
     "data": {
      "text/plain": [
       "True"
      ]
     },
     "execution_count": 137,
     "metadata": {},
     "output_type": "execute_result"
    }
   ],
   "source": [
    "'This Is A Title'.istitle()"
   ]
  },
  {
   "cell_type": "code",
   "execution_count": 138,
   "id": "b6c851e9-c5e2-4ba2-bfc9-9be88036a597",
   "metadata": {},
   "outputs": [
    {
     "data": {
      "text/plain": [
       "False"
      ]
     },
     "execution_count": 138,
     "metadata": {},
     "output_type": "execute_result"
    }
   ],
   "source": [
    "'This is a title'.istitle()"
   ]
  },
  {
   "cell_type": "code",
   "execution_count": 139,
   "id": "a3b53a24-0f4e-4d06-b6df-6928ba516447",
   "metadata": {},
   "outputs": [
    {
     "data": {
      "text/plain": [
       "True"
      ]
     },
     "execution_count": 139,
     "metadata": {},
     "output_type": "execute_result"
    }
   ],
   "source": [
    "# non-alphabetical characters will be ignored\n",
    "'Give Me The #$#@ Ball!'.istitle()"
   ]
  },
  {
   "cell_type": "markdown",
   "id": "26d0714a-09b6-431b-baa5-eb4a4a448779",
   "metadata": {},
   "source": [
    "#### `s.isupper()`\n",
    "\n",
    "Determines whether the target string’s alphabetic characters are uppercase."
   ]
  },
  {
   "cell_type": "code",
   "execution_count": 140,
   "id": "f0a62c02-1da7-4cf6-b881-f79096838bca",
   "metadata": {},
   "outputs": [
    {
     "data": {
      "text/plain": [
       "True"
      ]
     },
     "execution_count": 140,
     "metadata": {},
     "output_type": "execute_result"
    }
   ],
   "source": [
    "'ABC'.isupper()"
   ]
  },
  {
   "cell_type": "code",
   "execution_count": 141,
   "id": "e7f86d86-794f-4339-af97-c077328906b9",
   "metadata": {},
   "outputs": [
    {
     "data": {
      "text/plain": [
       "True"
      ]
     },
     "execution_count": 141,
     "metadata": {},
     "output_type": "execute_result"
    }
   ],
   "source": [
    "'ABC1$D'.isupper()"
   ]
  },
  {
   "cell_type": "code",
   "execution_count": 142,
   "id": "8774f358-3d67-41b6-828c-6fd6b2e8b22c",
   "metadata": {},
   "outputs": [
    {
     "data": {
      "text/plain": [
       "False"
      ]
     },
     "execution_count": 142,
     "metadata": {},
     "output_type": "execute_result"
    }
   ],
   "source": [
    "'Abc1$D'.isupper()"
   ]
  },
  {
   "cell_type": "markdown",
   "id": "9bd29081-a110-4b23-b065-799b541ffd13",
   "metadata": {},
   "source": [
    "### String Formatting\n",
    "Methods in this group modify or enhance the format of a string."
   ]
  },
  {
   "cell_type": "markdown",
   "id": "30f809fb-32de-4be9-b885-a1e826f98f7b",
   "metadata": {},
   "source": [
    "#### `s.center(<width>[, <fill>])`\n",
    "\n",
    "Centers a string in a field."
   ]
  },
  {
   "cell_type": "code",
   "execution_count": 143,
   "id": "266fc07c-6ac9-4de0-b7be-31b7dac77b96",
   "metadata": {},
   "outputs": [
    {
     "data": {
      "text/plain": [
       "'   foo    '"
      ]
     },
     "execution_count": 143,
     "metadata": {},
     "output_type": "execute_result"
    }
   ],
   "source": [
    "# by default, padding consists of the ASCII space character\n",
    "'foo'.center(10)"
   ]
  },
  {
   "cell_type": "code",
   "execution_count": 144,
   "id": "39929620-ae80-401f-99be-78f9f17ce3e6",
   "metadata": {},
   "outputs": [
    {
     "data": {
      "text/plain": [
       "'---bar----'"
      ]
     },
     "execution_count": 144,
     "metadata": {},
     "output_type": "execute_result"
    }
   ],
   "source": [
    "# paddign wth '-' characters\n",
    "'bar'.center(10, '-')"
   ]
  },
  {
   "cell_type": "markdown",
   "id": "d95308ba-770e-495c-a677-d3f9265cb12a",
   "metadata": {},
   "source": [
    "#### `s.expandtabs(tabsize=8)`\n",
    "\n",
    "Expands tabs in a string. It replaces each '\\t' with spaces. By default, a tab stops at every 8th column."
   ]
  },
  {
   "cell_type": "code",
   "execution_count": 145,
   "id": "e65616e8-21e9-433a-b5d7-42ff6a120e62",
   "metadata": {},
   "outputs": [
    {
     "data": {
      "text/plain": [
       "'a       b       c'"
      ]
     },
     "execution_count": 145,
     "metadata": {},
     "output_type": "execute_result"
    }
   ],
   "source": [
    "'a\\tb\\tc'.expandtabs()"
   ]
  },
  {
   "cell_type": "code",
   "execution_count": 146,
   "id": "c0a0bfe9-462e-4d97-a246-4f9666f67f9d",
   "metadata": {},
   "outputs": [
    {
     "data": {
      "text/plain": [
       "'aaa     bbb     c'"
      ]
     },
     "execution_count": 146,
     "metadata": {},
     "output_type": "execute_result"
    }
   ],
   "source": [
    "'aaa\\tbbb\\tc'.expandtabs()"
   ]
  },
  {
   "cell_type": "code",
   "execution_count": 147,
   "id": "12e737ed-7d5b-435d-bc13-3b862f143207",
   "metadata": {},
   "outputs": [
    {
     "data": {
      "text/plain": [
       "'a   b   c'"
      ]
     },
     "execution_count": 147,
     "metadata": {},
     "output_type": "execute_result"
    }
   ],
   "source": [
    "# set the tab to stop at 4th column\n",
    "'a\\tb\\tc'.expandtabs(4)"
   ]
  },
  {
   "cell_type": "code",
   "execution_count": 148,
   "id": "ae94cd5e-77f7-4083-ad4a-0a18a077d805",
   "metadata": {},
   "outputs": [
    {
     "data": {
      "text/plain": [
       "'aaa bbb c'"
      ]
     },
     "execution_count": 148,
     "metadata": {},
     "output_type": "execute_result"
    }
   ],
   "source": [
    "'aaa\\tbbb\\tc'.expandtabs(tabsize=4)"
   ]
  },
  {
   "cell_type": "markdown",
   "id": "8c63a925-4e89-49ae-9f37-3fb2a16d12d7",
   "metadata": {},
   "source": [
    "#### `s.ljust(<width>[, <fill>])`\n",
    "\n",
    "Left-justifies a string in field."
   ]
  },
  {
   "cell_type": "code",
   "execution_count": 149,
   "id": "76a62b95-a944-4598-a061-71768f754f3a",
   "metadata": {},
   "outputs": [
    {
     "data": {
      "text/plain": [
       "'foo       '"
      ]
     },
     "execution_count": 149,
     "metadata": {},
     "output_type": "execute_result"
    }
   ],
   "source": [
    "'foo'.ljust(10)"
   ]
  },
  {
   "cell_type": "code",
   "execution_count": 150,
   "id": "d7c45c6d-d8c2-4ac0-87aa-9d2e4834e78d",
   "metadata": {},
   "outputs": [
    {
     "data": {
      "text/plain": [
       "'foo-------'"
      ]
     },
     "execution_count": 150,
     "metadata": {},
     "output_type": "execute_result"
    }
   ],
   "source": [
    "'foo'.ljust(10, '-')"
   ]
  },
  {
   "cell_type": "markdown",
   "id": "8385814e-5af7-43df-a175-df3649dfedc0",
   "metadata": {},
   "source": [
    "#### `s.lstrip([<chars>])`\n",
    "\n",
    "Trims leading characters from a string, with any whitespace characters removed from the left end.    "
   ]
  },
  {
   "cell_type": "code",
   "execution_count": 151,
   "id": "5f99e6e5-b788-4f23-854c-7ab8fb21bd53",
   "metadata": {},
   "outputs": [
    {
     "data": {
      "text/plain": [
       "'foo bar baz   '"
      ]
     },
     "execution_count": 151,
     "metadata": {},
     "output_type": "execute_result"
    }
   ],
   "source": [
    "'   foo bar baz   '.lstrip()"
   ]
  },
  {
   "cell_type": "code",
   "execution_count": 152,
   "id": "ec927292-0573-4c03-a191-559a06aee7c2",
   "metadata": {},
   "outputs": [
    {
     "data": {
      "text/plain": [
       "'foo\\t\\nbar\\t\\nbaz'"
      ]
     },
     "execution_count": 152,
     "metadata": {},
     "output_type": "execute_result"
    }
   ],
   "source": [
    "'\\t\\nfoo\\t\\nbar\\t\\nbaz'.lstrip()"
   ]
  },
  {
   "cell_type": "code",
   "execution_count": 174,
   "id": "5126eab0-d1d5-4092-9d2b-7ef9c29617d2",
   "metadata": {},
   "outputs": [
    {
     "data": {
      "text/plain": [
       "'www.realpython.com'"
      ]
     },
     "execution_count": 174,
     "metadata": {},
     "output_type": "execute_result"
    }
   ],
   "source": [
    "# If the optional <chars> argument is specified, \n",
    "# it is a string that specifies the set of characters at the left side of s \n",
    "# to be removed \n",
    "'http://www.realpython.com'.lstrip('/:pth')"
   ]
  },
  {
   "cell_type": "markdown",
   "id": "9d3f2d19-f376-4072-8dfc-138235c4444c",
   "metadata": {},
   "source": [
    "#### `s.replace(<old>, <new>[, <count>])`\n",
    "\n",
    "Replaces occurrences of a substring within a string."
   ]
  },
  {
   "cell_type": "code",
   "execution_count": 155,
   "id": "1cc5e4ae-191c-4518-85a6-0f4131fd23ed",
   "metadata": {},
   "outputs": [
    {
     "data": {
      "text/plain": [
       "'grault bar grault baz grault qux'"
      ]
     },
     "execution_count": 155,
     "metadata": {},
     "output_type": "execute_result"
    }
   ],
   "source": [
    "'foo bar foo baz foo qux'.replace('foo', 'grault')"
   ]
  },
  {
   "cell_type": "code",
   "execution_count": 156,
   "id": "ca51b75d-5321-449d-bd7b-9fd0261251e4",
   "metadata": {},
   "outputs": [
    {
     "data": {
      "text/plain": [
       "'grault bar grault baz foo qux'"
      ]
     },
     "execution_count": 156,
     "metadata": {},
     "output_type": "execute_result"
    }
   ],
   "source": [
    "'foo bar foo baz foo qux'.replace('foo', 'grault', 2)"
   ]
  },
  {
   "cell_type": "markdown",
   "id": "4eccd5ab-64e2-487c-8c2b-e450b8457472",
   "metadata": {},
   "source": [
    "#### `s.rjust(<width>[, <fill>])`\n",
    "\n",
    "Right-justifies a string in a field."
   ]
  },
  {
   "cell_type": "code",
   "execution_count": 157,
   "id": "8e42fa8f-4726-4fc9-8d7f-2a01141fb66e",
   "metadata": {},
   "outputs": [
    {
     "data": {
      "text/plain": [
       "'       foo'"
      ]
     },
     "execution_count": 157,
     "metadata": {},
     "output_type": "execute_result"
    }
   ],
   "source": [
    "'foo'.rjust(10)"
   ]
  },
  {
   "cell_type": "code",
   "execution_count": 158,
   "id": "b27b26cb-9799-4b9c-9469-101d2fb99ea4",
   "metadata": {},
   "outputs": [
    {
     "data": {
      "text/plain": [
       "'-------foo'"
      ]
     },
     "execution_count": 158,
     "metadata": {},
     "output_type": "execute_result"
    }
   ],
   "source": [
    "'foo'.rjust(10, '-')"
   ]
  },
  {
   "cell_type": "markdown",
   "id": "c08c826c-58bd-4a91-a6f3-4ad3912558ea",
   "metadata": {},
   "source": [
    "#### `s.rstrip([<chars>])`\n",
    "\n",
    "Trims trailing characters from a string."
   ]
  },
  {
   "cell_type": "code",
   "execution_count": 160,
   "id": "c433ba3b-3d00-4dd9-9033-c4ba3c68d47c",
   "metadata": {},
   "outputs": [
    {
     "data": {
      "text/plain": [
       "'   foo bar baz'"
      ]
     },
     "execution_count": 160,
     "metadata": {},
     "output_type": "execute_result"
    }
   ],
   "source": [
    "'   foo bar baz   '.rstrip()"
   ]
  },
  {
   "cell_type": "code",
   "execution_count": 161,
   "id": "4d11240d-881c-4fb4-bfb1-17bd60677139",
   "metadata": {},
   "outputs": [
    {
     "data": {
      "text/plain": [
       "'foo\\t\\nbar\\t\\nbaz'"
      ]
     },
     "execution_count": 161,
     "metadata": {},
     "output_type": "execute_result"
    }
   ],
   "source": [
    "'foo\\t\\nbar\\t\\nbaz\\t\\n'.rstrip()"
   ]
  },
  {
   "cell_type": "code",
   "execution_count": 162,
   "id": "789e9749-4fdd-4e2d-b047-f18ee87dead4",
   "metadata": {},
   "outputs": [
    {
     "data": {
      "text/plain": [
       "'foo'"
      ]
     },
     "execution_count": 162,
     "metadata": {},
     "output_type": "execute_result"
    }
   ],
   "source": [
    "'foo.$$$;'.rstrip(';$.')"
   ]
  },
  {
   "cell_type": "markdown",
   "id": "77107990-38a9-41cf-b499-c212df5f7ad3",
   "metadata": {},
   "source": [
    "#### `s.strip([<chars>])`\n",
    "\n",
    "Strips characters from the left and right ends of a string."
   ]
  },
  {
   "cell_type": "code",
   "execution_count": 163,
   "id": "4e400564-25b6-4bde-81a6-c717ab3ea141",
   "metadata": {},
   "outputs": [],
   "source": [
    "s = '   foo bar baz\\t\\t\\t'"
   ]
  },
  {
   "cell_type": "code",
   "execution_count": 167,
   "id": "250f16f8-d846-4fc5-a57c-6c280ad1ddde",
   "metadata": {},
   "outputs": [
    {
     "data": {
      "text/plain": [
       "'foo bar baz'"
      ]
     },
     "execution_count": 167,
     "metadata": {},
     "output_type": "execute_result"
    }
   ],
   "source": [
    "s = s.lstrip()\n",
    "s = s.rstrip()\n",
    "s"
   ]
  },
  {
   "cell_type": "code",
   "execution_count": 168,
   "id": "52de5592-9cc0-4605-a895-83db6d0defe5",
   "metadata": {},
   "outputs": [
    {
     "data": {
      "text/plain": [
       "'realpython'"
      ]
     },
     "execution_count": 168,
     "metadata": {},
     "output_type": "execute_result"
    }
   ],
   "source": [
    "'www.realpython.com'.strip('w.moc')"
   ]
  },
  {
   "cell_type": "code",
   "execution_count": 169,
   "id": "32e37112-3d71-4959-8ee4-77806ae4ef13",
   "metadata": {},
   "outputs": [
    {
     "data": {
      "text/plain": [
       "'foo bar baz'"
      ]
     },
     "execution_count": 169,
     "metadata": {},
     "output_type": "execute_result"
    }
   ],
   "source": [
    "'   foo bar baz\\t\\t\\t'.lstrip().rstrip()"
   ]
  },
  {
   "cell_type": "code",
   "execution_count": 170,
   "id": "8e638584-461b-46b9-a7bc-81db80227f0f",
   "metadata": {},
   "outputs": [
    {
     "data": {
      "text/plain": [
       "'foo bar baz'"
      ]
     },
     "execution_count": 170,
     "metadata": {},
     "output_type": "execute_result"
    }
   ],
   "source": [
    "'   foo bar baz\\t\\t\\t'.strip()"
   ]
  },
  {
   "cell_type": "code",
   "execution_count": 171,
   "id": "093589f6-6ccd-4bec-be86-d90f44b4c1f5",
   "metadata": {},
   "outputs": [
    {
     "data": {
      "text/plain": [
       "'realpython'"
      ]
     },
     "execution_count": 171,
     "metadata": {},
     "output_type": "execute_result"
    }
   ],
   "source": [
    "'www.realpython.com'.lstrip('w.moc').rstrip('w.moc')"
   ]
  },
  {
   "cell_type": "code",
   "execution_count": 172,
   "id": "54341901-379f-4f52-a903-460d8813dd23",
   "metadata": {},
   "outputs": [
    {
     "data": {
      "text/plain": [
       "'realpython'"
      ]
     },
     "execution_count": 172,
     "metadata": {},
     "output_type": "execute_result"
    }
   ],
   "source": [
    "'www.realpython.com'.strip('w.moc')"
   ]
  },
  {
   "cell_type": "markdown",
   "id": "c00d821d-a313-4f67-8c89-60c15f30ed73",
   "metadata": {},
   "source": [
    "#### `s.zfill(<width>)`\n",
    "\n",
    "Pads a string on the left with zeros."
   ]
  },
  {
   "cell_type": "code",
   "execution_count": 177,
   "id": "66eb6b06-4f2a-41e1-a8c0-4ee969384978",
   "metadata": {},
   "outputs": [
    {
     "data": {
      "text/plain": [
       "'00042'"
      ]
     },
     "execution_count": 177,
     "metadata": {},
     "output_type": "execute_result"
    }
   ],
   "source": [
    "'42'.zfill(5)"
   ]
  },
  {
   "cell_type": "code",
   "execution_count": 175,
   "id": "c46ef110-72eb-46d1-a7e6-dce16e9be8be",
   "metadata": {},
   "outputs": [
    {
     "data": {
      "text/plain": [
       "'+0000042'"
      ]
     },
     "execution_count": 175,
     "metadata": {},
     "output_type": "execute_result"
    }
   ],
   "source": [
    "'+42'.zfill(8)"
   ]
  },
  {
   "cell_type": "code",
   "execution_count": 176,
   "id": "482e47bb-2f49-4fc6-8f66-a297b8bdc55c",
   "metadata": {},
   "outputs": [
    {
     "data": {
      "text/plain": [
       "'-0000042'"
      ]
     },
     "execution_count": 176,
     "metadata": {},
     "output_type": "execute_result"
    }
   ],
   "source": [
    "'-42'.zfill(8)"
   ]
  },
  {
   "cell_type": "code",
   "execution_count": 178,
   "id": "8139f98b-2277-4848-ab6f-6e1ec169f1e8",
   "metadata": {},
   "outputs": [
    {
     "data": {
      "text/plain": [
       "'-42'"
      ]
     },
     "execution_count": 178,
     "metadata": {},
     "output_type": "execute_result"
    }
   ],
   "source": [
    "# returns unchanged if s is already at least width 3\n",
    "'-42'.zfill(3)"
   ]
  },
  {
   "cell_type": "code",
   "execution_count": 179,
   "id": "05b4cc58-9130-4a84-aad1-aaac245dbe5d",
   "metadata": {},
   "outputs": [
    {
     "data": {
      "text/plain": [
       "'000foo'"
      ]
     },
     "execution_count": 179,
     "metadata": {},
     "output_type": "execute_result"
    }
   ],
   "source": [
    "# also pads non-numeric characters\n",
    "'foo'.zfill(6)"
   ]
  },
  {
   "cell_type": "code",
   "execution_count": null,
   "id": "6927768c-b7a5-487c-9374-e02142da6fb2",
   "metadata": {},
   "outputs": [],
   "source": []
  }
 ],
 "metadata": {
  "kernelspec": {
   "display_name": "Python 3",
   "language": "python",
   "name": "python3"
  },
  "language_info": {
   "codemirror_mode": {
    "name": "ipython",
    "version": 3
   },
   "file_extension": ".py",
   "mimetype": "text/x-python",
   "name": "python",
   "nbconvert_exporter": "python",
   "pygments_lexer": "ipython3",
   "version": "3.8.10"
  }
 },
 "nbformat": 4,
 "nbformat_minor": 5
}
